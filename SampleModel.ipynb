{
  "nbformat": 4,
  "nbformat_minor": 0,
  "metadata": {
    "colab": {
      "name": "SampleModel.ipynb",
      "provenance": [],
      "collapsed_sections": [],
      "include_colab_link": true
    },
    "kernelspec": {
      "name": "python3",
      "display_name": "Python 3"
    }
  },
  "cells": [
    {
      "cell_type": "markdown",
      "metadata": {
        "id": "view-in-github",
        "colab_type": "text"
      },
      "source": [
        "<a href=\"https://colab.research.google.com/github/kregier/AudioLanguageClassifer/blob/main/SampleModel.ipynb\" target=\"_parent\"><img src=\"https://colab.research.google.com/assets/colab-badge.svg\" alt=\"Open In Colab\"/></a>"
      ]
    },
    {
      "cell_type": "markdown",
      "metadata": {
        "id": "JVT8XsCv32cB"
      },
      "source": [
        "# What is this notebook?\n",
        "This is a notebook to load a few audio files and load the VGGish model. The idea is to make sure the model loads and runs before moving it to the larger notebook."
      ]
    },
    {
      "cell_type": "code",
      "metadata": {
        "id": "l8zGos0v4UR6",
        "outputId": "4c0beb95-bf30-4576-c56e-3b3e58662054",
        "colab": {
          "base_uri": "https://localhost:8080/"
        }
      },
      "source": [
        "# Set up the environment\n",
        "import pandas as pd\n",
        "import numpy as np\n",
        "import matplotlib.pylab as plt\n",
        "import seaborn as sns\n",
        "import IPython.display as ipd\n",
        "import librosa\n",
        "import librosa.display\n",
        "\n",
        "import os\n",
        "import random\n",
        "\n",
        "import tensorflow as tf\n",
        "import tensorflow_hub as hub\n",
        "\n",
        "from tensorflow.keras.layers import Dense\n",
        "from tensorflow.keras.models import Sequential\n",
        "\n",
        "from sklearn.metrics import classification_report, confusion_matrix\n",
        "\n",
        "print(\"All set up!\")"
      ],
      "execution_count": 1,
      "outputs": [
        {
          "output_type": "stream",
          "text": [
            "All set up!\n"
          ],
          "name": "stdout"
        }
      ]
    },
    {
      "cell_type": "markdown",
      "metadata": {
        "id": "_dGOQZjp4nJo"
      },
      "source": [
        "# Load the data\n",
        "- Connect to google drive\n",
        "- Load a few sample audio files\n"
      ]
    },
    {
      "cell_type": "code",
      "metadata": {
        "id": "4ApAHR9O3vWT",
        "outputId": "0121a7a3-3c72-426a-be3c-2816ae376c78",
        "colab": {
          "base_uri": "https://localhost:8080/"
        }
      },
      "source": [
        "# Set up the data import using Google Drive\n",
        "from google.colab import drive\n",
        "drive.mount('/content/gdrive')"
      ],
      "execution_count": 2,
      "outputs": [
        {
          "output_type": "stream",
          "text": [
            "Mounted at /content/gdrive\n"
          ],
          "name": "stdout"
        }
      ]
    },
    {
      "cell_type": "code",
      "metadata": {
        "id": "Qb8okVM44xzn",
        "outputId": "59209113-7e52-4c6d-8b68-056d61d9f027",
        "colab": {
          "base_uri": "https://localhost:8080/"
        }
      },
      "source": [
        "os.environ['KAGGLE_CONFIG_DIR'] = \"/content/gdrive/My Drive/Kaggle\"\n",
        "\n",
        "# Change working directory\n",
        "%cd /content/gdrive/My Drive/Kaggle\n",
        "!ls"
      ],
      "execution_count": 3,
      "outputs": [
        {
          "output_type": "stream",
          "text": [
            "/content/gdrive/My Drive/Kaggle\n",
            "data  kaggle.json  reading-passage.txt\trecordings  speakers_all.csv\n"
          ],
          "name": "stdout"
        }
      ]
    },
    {
      "cell_type": "code",
      "metadata": {
        "id": "Ogn8m4vzIizc",
        "outputId": "5db214cf-59ef-4bb4-d13a-65f8c7618439",
        "colab": {
          "base_uri": "https://localhost:8080/",
          "height": 235
        }
      },
      "source": [
        "meta = pd.read_csv('speakers_all.csv')\n",
        "# Prepare the data based on previous exploration\n",
        "# Drop 3 end columns with NaN values\n",
        "meta.drop(['Unnamed: 9', 'Unnamed: 10', 'Unnamed: 11'], axis=1, inplace=True)\n",
        "\n",
        "# Set speakerid as index\n",
        "meta.set_index('speakerid', inplace=True)\n",
        "meta.sort_index(inplace=True)\n",
        "\n",
        "# Replace missing values and typos\n",
        "meta.loc[meta.country.isnull(), 'country'] = 'laos'\n",
        "type_idx = meta[meta.sex =='famale'].index\n",
        "meta.loc[type_idx, 'sex'] = 'female'\n",
        "\n",
        "# Delete records with missing audio files\n",
        "missingIdx = meta[meta['file_missing?']==True].index\n",
        "meta.drop(missingIdx, inplace=True )\n",
        "\n",
        "# Delete records with no birthplace - synthesized files\n",
        "meta.dropna(subset=['birthplace'], inplace=True)\n",
        "\n",
        "# Delete files not present in audiofiles database\n",
        "nica_index = meta[meta.filename == 'nicaragua'].index\n",
        "sinhalese_index = meta[meta.filename=='sinhalese1'].index\n",
        "meta.drop(nica_index, inplace=True, axis=0)\n",
        "meta.drop(sinhalese_index, inplace=True, axis=0)\n",
        "\n",
        "meta.head()"
      ],
      "execution_count": 16,
      "outputs": [
        {
          "output_type": "execute_result",
          "data": {
            "text/html": [
              "<div>\n",
              "<style scoped>\n",
              "    .dataframe tbody tr th:only-of-type {\n",
              "        vertical-align: middle;\n",
              "    }\n",
              "\n",
              "    .dataframe tbody tr th {\n",
              "        vertical-align: top;\n",
              "    }\n",
              "\n",
              "    .dataframe thead th {\n",
              "        text-align: right;\n",
              "    }\n",
              "</style>\n",
              "<table border=\"1\" class=\"dataframe\">\n",
              "  <thead>\n",
              "    <tr style=\"text-align: right;\">\n",
              "      <th></th>\n",
              "      <th>age</th>\n",
              "      <th>age_onset</th>\n",
              "      <th>birthplace</th>\n",
              "      <th>filename</th>\n",
              "      <th>native_language</th>\n",
              "      <th>sex</th>\n",
              "      <th>country</th>\n",
              "      <th>file_missing?</th>\n",
              "    </tr>\n",
              "    <tr>\n",
              "      <th>speakerid</th>\n",
              "      <th></th>\n",
              "      <th></th>\n",
              "      <th></th>\n",
              "      <th></th>\n",
              "      <th></th>\n",
              "      <th></th>\n",
              "      <th></th>\n",
              "      <th></th>\n",
              "    </tr>\n",
              "  </thead>\n",
              "  <tbody>\n",
              "    <tr>\n",
              "      <th>1</th>\n",
              "      <td>27.0</td>\n",
              "      <td>9.0</td>\n",
              "      <td>virginia, south africa</td>\n",
              "      <td>afrikaans1</td>\n",
              "      <td>afrikaans</td>\n",
              "      <td>female</td>\n",
              "      <td>south africa</td>\n",
              "      <td>False</td>\n",
              "    </tr>\n",
              "    <tr>\n",
              "      <th>2</th>\n",
              "      <td>40.0</td>\n",
              "      <td>5.0</td>\n",
              "      <td>pretoria, south africa</td>\n",
              "      <td>afrikaans2</td>\n",
              "      <td>afrikaans</td>\n",
              "      <td>male</td>\n",
              "      <td>south africa</td>\n",
              "      <td>False</td>\n",
              "    </tr>\n",
              "    <tr>\n",
              "      <th>3</th>\n",
              "      <td>25.0</td>\n",
              "      <td>15.0</td>\n",
              "      <td>diekabo, ivory coast</td>\n",
              "      <td>agni1</td>\n",
              "      <td>agni</td>\n",
              "      <td>male</td>\n",
              "      <td>ivory coast</td>\n",
              "      <td>False</td>\n",
              "    </tr>\n",
              "    <tr>\n",
              "      <th>4</th>\n",
              "      <td>19.0</td>\n",
              "      <td>6.0</td>\n",
              "      <td>prishtina, kosovo</td>\n",
              "      <td>albanian1</td>\n",
              "      <td>albanian</td>\n",
              "      <td>male</td>\n",
              "      <td>kosovo</td>\n",
              "      <td>False</td>\n",
              "    </tr>\n",
              "    <tr>\n",
              "      <th>5</th>\n",
              "      <td>33.0</td>\n",
              "      <td>15.0</td>\n",
              "      <td>tirana, albania</td>\n",
              "      <td>albanian2</td>\n",
              "      <td>albanian</td>\n",
              "      <td>male</td>\n",
              "      <td>albania</td>\n",
              "      <td>False</td>\n",
              "    </tr>\n",
              "  </tbody>\n",
              "</table>\n",
              "</div>"
            ],
            "text/plain": [
              "            age  age_onset  ...       country file_missing?\n",
              "speakerid                   ...                            \n",
              "1          27.0        9.0  ...  south africa         False\n",
              "2          40.0        5.0  ...  south africa         False\n",
              "3          25.0       15.0  ...   ivory coast         False\n",
              "4          19.0        6.0  ...        kosovo         False\n",
              "5          33.0       15.0  ...       albania         False\n",
              "\n",
              "[5 rows x 8 columns]"
            ]
          },
          "metadata": {
            "tags": []
          },
          "execution_count": 16
        }
      ]
    },
    {
      "cell_type": "code",
      "metadata": {
        "id": "CaypXpze5ScJ"
      },
      "source": [
        "#Filenames\n",
        "x_train_name = ['afrikaans1', 'mandarin3','french38']\n",
        "x_test_name = ['spanish94', 'lao2']"
      ],
      "execution_count": 4,
      "outputs": []
    },
    {
      "cell_type": "markdown",
      "metadata": {
        "id": "Rh4pd8L1yAzU"
      },
      "source": [
        "### Format features for testing and training sets"
      ]
    },
    {
      "cell_type": "code",
      "metadata": {
        "id": "KU4ef8HOZHvi"
      },
      "source": [
        "SAMP_RATE = 16000"
      ],
      "execution_count": 5,
      "outputs": []
    },
    {
      "cell_type": "code",
      "metadata": {
        "id": "o1etFje8TIrc"
      },
      "source": [
        "# Segment the files into 10s arrays to have consistent input dimensions\n",
        "def get_10s(audio, sr):\n",
        "  \"\"\" Load an audio file and get the first 10 seconds.\n",
        "  Arguments: audio - the audio file; sr = sampling rate of the file\n",
        "  Returns: first 10s of audio file.\n",
        "  \"\"\"\n",
        "  beginning = audio[0:10*sr]\n",
        "  return beginning"
      ],
      "execution_count": 6,
      "outputs": []
    },
    {
      "cell_type": "code",
      "metadata": {
        "id": "GDcrk9a1Lq1s"
      },
      "source": [
        "# Scale audio to fall between [-1, 1]\n",
        "def normalize(audio):\n",
        "  norm = audio/max(audio)\n",
        "  return norm"
      ],
      "execution_count": 7,
      "outputs": []
    },
    {
      "cell_type": "code",
      "metadata": {
        "id": "Cx0kRPasN_EX"
      },
      "source": [
        "# Sample audio files\n",
        "def load_data(series,  sr):\n",
        "  output = []\n",
        "  for i in range(len(series)):\n",
        "#    filename = series.iloc[i]  #For an input series\n",
        "    filename = series[i]    # For an input list\n",
        "    filepath = 'recordings/recordings/' + filename + '.mp3'\n",
        "    soundfile, sr = librosa.load(filepath, sr=SAMP_RATE)\n",
        "    output.append(normalize(get_10s(soundfile, sr)))\n",
        "  return np.asarray(output)"
      ],
      "execution_count": 8,
      "outputs": []
    },
    {
      "cell_type": "code",
      "metadata": {
        "id": "TKFuMRgjSNGY",
        "outputId": "6a505b11-760f-4000-ccaa-9496e5b0b621",
        "colab": {
          "base_uri": "https://localhost:8080/"
        }
      },
      "source": [
        "x_train = load_data(x_train_name, SAMP_RATE)\n",
        "x_train = x_train[None, :, :]\n",
        "print(x_train.shape)\n",
        "print(type(x_train))"
      ],
      "execution_count": 41,
      "outputs": [
        {
          "output_type": "stream",
          "text": [
            "(1, 3, 160000)\n",
            "<class 'numpy.ndarray'>\n"
          ],
          "name": "stdout"
        }
      ]
    },
    {
      "cell_type": "code",
      "metadata": {
        "id": "VRXPTC36ST8e",
        "outputId": "66e99de8-3989-4e29-a9f2-786d777e780c",
        "colab": {
          "base_uri": "https://localhost:8080/"
        }
      },
      "source": [
        "x_test = load_data(x_test_name, SAMP_RATE)\n",
        "x_test = x_test[None, :, :]\n",
        "print(x_test.shape)\n",
        "print(type(x_test))"
      ],
      "execution_count": 42,
      "outputs": [
        {
          "output_type": "stream",
          "text": [
            "(1, 2, 160000)\n",
            "<class 'numpy.ndarray'>\n"
          ],
          "name": "stdout"
        }
      ]
    },
    {
      "cell_type": "code",
      "metadata": {
        "id": "aZoarEYCH_51"
      },
      "source": [
        "# Format label arrays\n",
        "def gender_str_to_int(labels):\n",
        "  y_label = []\n",
        "  for i in range(len(labels)):\n",
        "    # gender = labels.iloc[i] # for input Series\n",
        "    gender = labels[i]  # for input list\n",
        "    if gender == 'male':\n",
        "      y_label.append(1)\n",
        "    else: y_label.append(0)\n",
        "  return np.asarray(y_label)"
      ],
      "execution_count": 17,
      "outputs": []
    },
    {
      "cell_type": "code",
      "metadata": {
        "id": "Eptv8L48Sv4h"
      },
      "source": [
        "# Format label arrays\n",
        "def gender_int(labels):\n",
        "  y_label = []\n",
        "  for name in labels:\n",
        "    idx = meta[meta.filename == name].index\n",
        "    gender = meta.loc[idx, 'sex'].values[0]\n",
        "    if gender == 'male':\n",
        "      y_label.append(1)\n",
        "    else: y_label.append(0)\n",
        "    print(name, gender)\n",
        "  return np.asarray(y_label)"
      ],
      "execution_count": 18,
      "outputs": []
    },
    {
      "cell_type": "code",
      "metadata": {
        "id": "R4BZ8Myx__wc",
        "outputId": "f147f303-a97b-4981-91e3-578ee47e2677",
        "colab": {
          "base_uri": "https://localhost:8080/"
        }
      },
      "source": [
        "#print(x_train_name)"
      ],
      "execution_count": null,
      "outputs": [
        {
          "output_type": "stream",
          "text": [
            "['afrikaans1', 'mandarin3', 'french38']\n"
          ],
          "name": "stdout"
        }
      ]
    },
    {
      "cell_type": "code",
      "metadata": {
        "id": "S0EAQRT-17hi",
        "outputId": "c5c35fdc-83ab-41a1-819b-a2cb68478f56",
        "colab": {
          "base_uri": "https://localhost:8080/"
        }
      },
      "source": [
        "#y_train_label = gender_str_to_int(y_train)\n",
        "y_train_label = gender_int(x_train_name)\n",
        "print(type(y_train_label))\n",
        "print(y_train_label.shape)"
      ],
      "execution_count": 19,
      "outputs": [
        {
          "output_type": "stream",
          "text": [
            "<class 'numpy.ndarray'>\n",
            "(3,)\n"
          ],
          "name": "stdout"
        }
      ]
    },
    {
      "cell_type": "code",
      "metadata": {
        "id": "1aE0VMyPBstI",
        "outputId": "050d3cbf-b526-4f4b-a50f-6e71e9be7fbd",
        "colab": {
          "base_uri": "https://localhost:8080/"
        }
      },
      "source": [
        "y_train_label= y_train_label[None, :]\n",
        "print(y_train_label)"
      ],
      "execution_count": 43,
      "outputs": [
        {
          "output_type": "stream",
          "text": [
            "[[0 1 1]]\n"
          ],
          "name": "stdout"
        }
      ]
    },
    {
      "cell_type": "code",
      "metadata": {
        "id": "w56obK0M2I8R",
        "outputId": "5287202b-e1da-466f-869b-f192eff05010",
        "colab": {
          "base_uri": "https://localhost:8080/"
        }
      },
      "source": [
        "#y_test_label = gender_str_to_int(x_test_name)\n",
        "y_test_label = gender_int(x_test_name)\n",
        "print(type(y_test_label))\n",
        "print(y_test_label.shape)"
      ],
      "execution_count": 23,
      "outputs": [
        {
          "output_type": "stream",
          "text": [
            "<class 'numpy.ndarray'>\n",
            "(2,)\n"
          ],
          "name": "stdout"
        }
      ]
    },
    {
      "cell_type": "code",
      "metadata": {
        "id": "NJVjDLxOByW9",
        "outputId": "0f9ffcd1-7980-48bd-f005-6b066abfd52f",
        "colab": {
          "base_uri": "https://localhost:8080/"
        }
      },
      "source": [
        "y_test_label = y_test_label[None, :]\n",
        "# print(y_test_label.shape)\n",
        "print(y_test_label)"
      ],
      "execution_count": 44,
      "outputs": [
        {
          "output_type": "stream",
          "text": [
            "[[1 0]]\n"
          ],
          "name": "stdout"
        }
      ]
    },
    {
      "cell_type": "markdown",
      "metadata": {
        "id": "CuqNdJEs6iqK"
      },
      "source": [
        "# Load the pre-trained VGGish model from Tensorflow Hub"
      ]
    },
    {
      "cell_type": "code",
      "metadata": {
        "id": "-o4kgOsG6pol"
      },
      "source": [
        "# Link to the model on TFHub\n",
        "hub_url = 'https://tfhub.dev/google/vggish/1'\n",
        "\n",
        "# Load the model as a Keras model\n",
        "vggish_model = hub.KerasLayer(hub_url)\n",
        "vggish_model.trainable = False"
      ],
      "execution_count": 25,
      "outputs": []
    },
    {
      "cell_type": "markdown",
      "metadata": {
        "id": "HY0DWhij7fSF"
      },
      "source": [
        "## Run sample audio through the model and examine the embedding"
      ]
    },
    {
      "cell_type": "code",
      "metadata": {
        "id": "eV5_LmZG7YFD",
        "outputId": "24f2f128-1ed8-4707-c24a-1c924d4abf97",
        "colab": {
          "base_uri": "https://localhost:8080/"
        }
      },
      "source": [
        "for i in range(len(x_train_name)):\n",
        "  vggish_embed = vggish_model(x_train[0][i])  #x_train[i] for shape (3, 160000)\n",
        "  print(vggish_embed.shape, vggish_embed.dtype)"
      ],
      "execution_count": 47,
      "outputs": [
        {
          "output_type": "stream",
          "text": [
            "(10, 128) <dtype: 'float32'>\n",
            "(10, 128) <dtype: 'float32'>\n",
            "(10, 128) <dtype: 'float32'>\n"
          ],
          "name": "stdout"
        }
      ]
    },
    {
      "cell_type": "markdown",
      "metadata": {
        "id": "_syJHwc07xBt"
      },
      "source": [
        "# Embed the vggish model/embeddings into a binary gender classifier."
      ]
    },
    {
      "cell_type": "code",
      "metadata": {
        "id": "Oq6I8CyR8fyM"
      },
      "source": [
        "genderClf = tf.keras.models.Sequential([#vggish_model,\n",
        "                                        #tf.keras.layers.InputLayer(input_shape=10*SAMP_RATE),\n",
        "                                        #hub.KerasLayer(hub_url, trainable = False),\n",
        "                              tf.keras.layers.Dense(128, activation = 'relu', input_shape = (None,160000)),\n",
        "                              tf.keras.layers.Dense(64, activation = 'relu'),\n",
        "                              tf.keras.layers.Dense(1, activation='sigmoid')\n",
        "                              ])\n",
        "genderClf.compile(optimizer='adam', loss='binary_crossentropy',  metrics=['accuracy'])"
      ],
      "execution_count": 48,
      "outputs": []
    },
    {
      "cell_type": "code",
      "metadata": {
        "id": "OQzj_Td_GmbS"
      },
      "source": [
        "# Add early stopping to train classifier model\n",
        "# default is 10 epochs\n",
        "from tensorflow.keras.callbacks import EarlyStopping\n",
        "early_stopping_monitor = EarlyStopping(patience=2)\n",
        "\n",
        "#genderClf.fit(x_train_norm[0], y_train_label[0], epochs=10) #, callbacks=[early_stopping_monitor]) #validation_split=0.25,"
      ],
      "execution_count": 39,
      "outputs": []
    },
    {
      "cell_type": "code",
      "metadata": {
        "id": "OFD-emztWrH_",
        "outputId": "b8075444-dcf8-476d-9785-ddbf7cb7e50f",
        "colab": {
          "base_uri": "https://localhost:8080/"
        }
      },
      "source": [
        "genderClf.fit(x_train, y_train_label, epochs=10) #, callbacks=[early_stopping_monitor]) #, \n",
        "              #validation_split=0.25, batch_size=32)"
      ],
      "execution_count": 49,
      "outputs": [
        {
          "output_type": "stream",
          "text": [
            "Epoch 1/10\n",
            "1/1 [==============================] - 0s 2ms/step - loss: 0.7054 - accuracy: 0.6667\n",
            "Epoch 2/10\n",
            "1/1 [==============================] - 0s 1ms/step - loss: 1.6292e-06 - accuracy: 1.0000\n",
            "Epoch 3/10\n",
            "1/1 [==============================] - 0s 1ms/step - loss: 0.0000e+00 - accuracy: 1.0000\n",
            "Epoch 4/10\n",
            "1/1 [==============================] - 0s 1ms/step - loss: 0.0000e+00 - accuracy: 1.0000\n",
            "Epoch 5/10\n",
            "1/1 [==============================] - 0s 1ms/step - loss: 0.0000e+00 - accuracy: 1.0000\n",
            "Epoch 6/10\n",
            "1/1 [==============================] - 0s 2ms/step - loss: 0.0000e+00 - accuracy: 1.0000\n",
            "Epoch 7/10\n",
            "1/1 [==============================] - 0s 1ms/step - loss: 0.0000e+00 - accuracy: 1.0000\n",
            "Epoch 8/10\n",
            "1/1 [==============================] - 0s 1ms/step - loss: 0.0000e+00 - accuracy: 1.0000\n",
            "Epoch 9/10\n",
            "1/1 [==============================] - 0s 1ms/step - loss: 0.0000e+00 - accuracy: 1.0000\n",
            "Epoch 10/10\n",
            "1/1 [==============================] - 0s 1ms/step - loss: 0.0000e+00 - accuracy: 1.0000\n"
          ],
          "name": "stdout"
        },
        {
          "output_type": "execute_result",
          "data": {
            "text/plain": [
              "<tensorflow.python.keras.callbacks.History at 0x7fb8415ea550>"
            ]
          },
          "metadata": {
            "tags": []
          },
          "execution_count": 49
        }
      ]
    },
    {
      "cell_type": "code",
      "metadata": {
        "id": "BFdxsZ7TqHzs"
      },
      "source": [
        "#genderClf.fit(train_dataset, epochs=10, callbacks=[early_stopping_monitor], \n",
        "#              validation_split=0.25, batch_size=BATCH_SIZE)"
      ],
      "execution_count": null,
      "outputs": []
    },
    {
      "cell_type": "code",
      "metadata": {
        "id": "1_6hlUyS8pdN",
        "outputId": "af1f6613-7435-4420-ed12-1c65d7c91325",
        "colab": {
          "base_uri": "https://localhost:8080/"
        }
      },
      "source": [
        "genderClf.summary()"
      ],
      "execution_count": 50,
      "outputs": [
        {
          "output_type": "stream",
          "text": [
            "Model: \"sequential_2\"\n",
            "_________________________________________________________________\n",
            "Layer (type)                 Output Shape              Param #   \n",
            "=================================================================\n",
            "dense_7 (Dense)              (None, None, 128)         20480128  \n",
            "_________________________________________________________________\n",
            "dense_8 (Dense)              (None, None, 64)          8256      \n",
            "_________________________________________________________________\n",
            "dense_9 (Dense)              (None, None, 1)           65        \n",
            "=================================================================\n",
            "Total params: 20,488,449\n",
            "Trainable params: 20,488,449\n",
            "Non-trainable params: 0\n",
            "_________________________________________________________________\n"
          ],
          "name": "stdout"
        }
      ]
    },
    {
      "cell_type": "code",
      "metadata": {
        "id": "6U66xnpdmbOk"
      },
      "source": [
        "y_pred = genderClf.predict(x_test)\n",
        "#y_pred = genderClf.evaluate(test_dataset)\n",
        "#y_pred = genderClf.predict(normalize(get_10s(spanish_raw, SAMP_RATE)))"
      ],
      "execution_count": 51,
      "outputs": []
    },
    {
      "cell_type": "code",
      "metadata": {
        "id": "CS_twBdT7zkn",
        "outputId": "7279b829-3514-4796-90dc-23268c460542",
        "colab": {
          "base_uri": "https://localhost:8080/"
        }
      },
      "source": [
        "#confusion_matrix(y_test_label, y_pred)\n",
        "print(y_pred)"
      ],
      "execution_count": 52,
      "outputs": [
        {
          "output_type": "stream",
          "text": [
            "[[[0.94193304]\n",
            "  [0.32831752]]]\n"
          ],
          "name": "stdout"
        }
      ]
    },
    {
      "cell_type": "markdown",
      "metadata": {
        "id": "NLkHhbEl78Ug"
      },
      "source": [
        "# Next steps:\n",
        "Embed the vggish model into a trainable binary classifier."
      ]
    },
    {
      "cell_type": "code",
      "metadata": {
        "id": "i4WS8YRw7vtY"
      },
      "source": [
        "# enable fine-tuning with trainable argument\n",
        "#layer = hub.KerasLayer(..., trainable=True)\n",
        "\n",
        "# Reexport the fine-tuned model\n",
        "\n",
        "#loaded_obj = hub.load(\"https://tfhub.dev/...\")\n",
        "#hub_layer = hub.KerasLayer(loaded_obj, trainable=True, ...)\n",
        "\n",
        "#model = keras.Sequential([..., hub_layer, ...])\n",
        "#model.compile(...)\n",
        "#model.fit(...)\n",
        "\n",
        "#export_module_dir = os.path.join(os.getcwd(), \"finetuned_model_export\")\n",
        "#tf.saved_model.save(loaded_obj, export_module_dir)"
      ],
      "execution_count": null,
      "outputs": []
    },
    {
      "cell_type": "markdown",
      "metadata": {
        "id": "nIcT-AjI-URx"
      },
      "source": [
        "Epoch - on complete pass through the dataset\n",
        "\n",
        "Batch size = divide dataset into smaller parts/sets\n",
        "\n",
        "Iterations - number of batches to complete one epoch"
      ]
    },
    {
      "cell_type": "code",
      "metadata": {
        "id": "JbVXZm8R_WmN"
      },
      "source": [
        "#model.fit(x, y, batch_size=n, epochs=n) # Batch size default is 32\n",
        "# Do not use batch size if the data is in the form of dataset, generators, or keras.utils.Sequence instances"
      ],
      "execution_count": null,
      "outputs": []
    },
    {
      "cell_type": "markdown",
      "metadata": {
        "id": "QkVMjj-9MZTB"
      },
      "source": [
        "# Don't run this - sample code for later\n",
        "## Import larger sample set\n",
        "- at least two batches, to see how model fits\n",
        "- a least one batch of testing data"
      ]
    },
    {
      "cell_type": "markdown",
      "metadata": {
        "id": "5VhXxIXqVjX7"
      },
      "source": [
        "## Original (small samples)"
      ]
    },
    {
      "cell_type": "markdown",
      "metadata": {
        "id": "_r82d0Me88r9"
      },
      "source": [
        "## Attempt to expand model"
      ]
    },
    {
      "cell_type": "code",
      "metadata": {
        "id": "IXP_iw2KbPFG",
        "outputId": "85b54373-d10d-4faf-d676-27a1f0d01375",
        "colab": {
          "base_uri": "https://localhost:8080/"
        }
      },
      "source": [
        "meta.shape"
      ],
      "execution_count": null,
      "outputs": [
        {
          "output_type": "execute_result",
          "data": {
            "text/plain": [
              "(2134, 8)"
            ]
          },
          "metadata": {
            "tags": []
          },
          "execution_count": 91
        }
      ]
    },
    {
      "cell_type": "code",
      "metadata": {
        "id": "liE9qM3oMnhg",
        "outputId": "d335f587-2b39-4a02-8386-470e30b2434a",
        "colab": {
          "base_uri": "https://localhost:8080/",
          "height": 235
        }
      },
      "source": [
        "# Select 96 files at random from meta.filename\n",
        "data = np.random.choice(meta.filename, size=96, replace=False)\n",
        "\n",
        "idx = meta[meta.filename.isin(data)].index\n",
        "df = meta.loc[idx, ['filename', 'sex']]\n",
        "\n",
        "df.head()"
      ],
      "execution_count": null,
      "outputs": [
        {
          "output_type": "execute_result",
          "data": {
            "text/html": [
              "<div>\n",
              "<style scoped>\n",
              "    .dataframe tbody tr th:only-of-type {\n",
              "        vertical-align: middle;\n",
              "    }\n",
              "\n",
              "    .dataframe tbody tr th {\n",
              "        vertical-align: top;\n",
              "    }\n",
              "\n",
              "    .dataframe thead th {\n",
              "        text-align: right;\n",
              "    }\n",
              "</style>\n",
              "<table border=\"1\" class=\"dataframe\">\n",
              "  <thead>\n",
              "    <tr style=\"text-align: right;\">\n",
              "      <th></th>\n",
              "      <th>filename</th>\n",
              "      <th>sex</th>\n",
              "    </tr>\n",
              "    <tr>\n",
              "      <th>speakerid</th>\n",
              "      <th></th>\n",
              "      <th></th>\n",
              "    </tr>\n",
              "  </thead>\n",
              "  <tbody>\n",
              "    <tr>\n",
              "      <th>1</th>\n",
              "      <td>afrikaans1</td>\n",
              "      <td>female</td>\n",
              "    </tr>\n",
              "    <tr>\n",
              "      <th>35</th>\n",
              "      <td>bengali2</td>\n",
              "      <td>female</td>\n",
              "    </tr>\n",
              "    <tr>\n",
              "      <th>54</th>\n",
              "      <td>danish1</td>\n",
              "      <td>female</td>\n",
              "    </tr>\n",
              "    <tr>\n",
              "      <th>86</th>\n",
              "      <td>english28</td>\n",
              "      <td>male</td>\n",
              "    </tr>\n",
              "    <tr>\n",
              "      <th>91</th>\n",
              "      <td>english32</td>\n",
              "      <td>female</td>\n",
              "    </tr>\n",
              "  </tbody>\n",
              "</table>\n",
              "</div>"
            ],
            "text/plain": [
              "             filename     sex\n",
              "speakerid                    \n",
              "1          afrikaans1  female\n",
              "35           bengali2  female\n",
              "54            danish1  female\n",
              "86          english28    male\n",
              "91          english32  female"
            ]
          },
          "metadata": {
            "tags": []
          },
          "execution_count": 92
        }
      ]
    },
    {
      "cell_type": "code",
      "metadata": {
        "id": "nFOMQw3LNk_q"
      },
      "source": [
        "from sklearn.model_selection import train_test_split\n",
        "x_train, x_test, y_train, y_test = train_test_split(df['filename'], df['sex'], random_state=38, test_size=0.33)"
      ],
      "execution_count": null,
      "outputs": []
    },
    {
      "cell_type": "code",
      "metadata": {
        "id": "S30BTYaXo4Qh"
      },
      "source": [
        "train_dataset =  tf.data.Dataset.from_tensor_slices( (x_train, y_train_labels))\n",
        "test_dataset = tf.data.Dataset.from_tensor_slices( (x_test, y_test_labels))"
      ],
      "execution_count": null,
      "outputs": []
    },
    {
      "cell_type": "code",
      "metadata": {
        "id": "gdLj5PuQplTH"
      },
      "source": [
        "BATCH_SIZE=32\n",
        "SHUFFLE_BUFFER_SIZE=100\n",
        "\n",
        "train_dataset = train_dataset.shuffle(SHUFFLE_BUFFER_SIZE).batch(BATCH_SIZE)\n",
        "test_dataset = test_dataset.batch(BATCH_SIZE)"
      ],
      "execution_count": null,
      "outputs": []
    },
    {
      "cell_type": "markdown",
      "metadata": {
        "id": "JKKdEYUto5Sw"
      },
      "source": [
        "## Convert data (np. arrays) to a TF Dataset"
      ]
    }
  ]
}