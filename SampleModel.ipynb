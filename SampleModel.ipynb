{
  "nbformat": 4,
  "nbformat_minor": 0,
  "metadata": {
    "colab": {
      "name": "SampleModel.ipynb",
      "provenance": [],
      "collapsed_sections": [],
      "include_colab_link": true
    },
    "kernelspec": {
      "name": "python3",
      "display_name": "Python 3"
    }
  },
  "cells": [
    {
      "cell_type": "markdown",
      "metadata": {
        "id": "view-in-github",
        "colab_type": "text"
      },
      "source": [
        "<a href=\"https://colab.research.google.com/github/kregier/AudioLanguageClassifer/blob/main/SampleModel.ipynb\" target=\"_parent\"><img src=\"https://colab.research.google.com/assets/colab-badge.svg\" alt=\"Open In Colab\"/></a>"
      ]
    },
    {
      "cell_type": "markdown",
      "metadata": {
        "id": "JVT8XsCv32cB"
      },
      "source": [
        "# What is this notebook?\n",
        "This is a notebook to load a few audio files and load the VGGish model. The idea is to make sure the model loads and runs before moving it to the larger notebook."
      ]
    },
    {
      "cell_type": "code",
      "metadata": {
        "id": "l8zGos0v4UR6",
        "outputId": "c356145e-1e63-4728-e51f-9b10829ba32c",
        "colab": {
          "base_uri": "https://localhost:8080/"
        }
      },
      "source": [
        "# Set up the environment\n",
        "import pandas as pd\n",
        "import numpy as np\n",
        "import matplotlib.pylab as plt\n",
        "import seaborn as sns\n",
        "import IPython.display as ipd\n",
        "import librosa\n",
        "import librosa.display\n",
        "\n",
        "import os\n",
        "import random\n",
        "\n",
        "import tensorflow as tf\n",
        "import tensorflow_hub as hub\n",
        "\n",
        "from tensorflow.keras.layers import Dense\n",
        "from tensorflow.keras.models import Sequential\n",
        "\n",
        "from sklearn.metrics import classification_report, confusion_matrix\n",
        "\n",
        "print(\"All set up!\")"
      ],
      "execution_count": 188,
      "outputs": [
        {
          "output_type": "stream",
          "text": [
            "All set up!\n"
          ],
          "name": "stdout"
        }
      ]
    },
    {
      "cell_type": "markdown",
      "metadata": {
        "id": "_dGOQZjp4nJo"
      },
      "source": [
        "# Load the data\n",
        "- Connect to google drive\n",
        "- Load a few sample audio files\n"
      ]
    },
    {
      "cell_type": "code",
      "metadata": {
        "id": "4ApAHR9O3vWT",
        "outputId": "463e60d3-577d-4d97-ad38-d2faf46f69ca",
        "colab": {
          "base_uri": "https://localhost:8080/"
        }
      },
      "source": [
        "# Set up the data import using Google Drive\n",
        "from google.colab import drive\n",
        "drive.mount('/content/gdrive')"
      ],
      "execution_count": 189,
      "outputs": [
        {
          "output_type": "stream",
          "text": [
            "Drive already mounted at /content/gdrive; to attempt to forcibly remount, call drive.mount(\"/content/gdrive\", force_remount=True).\n"
          ],
          "name": "stdout"
        }
      ]
    },
    {
      "cell_type": "code",
      "metadata": {
        "id": "Qb8okVM44xzn",
        "outputId": "b4ae1e69-3409-443f-b3a0-c5b0cc34163a",
        "colab": {
          "base_uri": "https://localhost:8080/"
        }
      },
      "source": [
        "os.environ['KAGGLE_CONFIG_DIR'] = \"/content/gdrive/My Drive/Kaggle\"\n",
        "\n",
        "# Change working directory\n",
        "%cd /content/gdrive/My Drive/Kaggle\n",
        "!ls"
      ],
      "execution_count": 190,
      "outputs": [
        {
          "output_type": "stream",
          "text": [
            "/content/gdrive/My Drive/Kaggle\n",
            "data  kaggle.json  reading-passage.txt\trecordings  speakers_all.csv\n"
          ],
          "name": "stdout"
        }
      ]
    },
    {
      "cell_type": "code",
      "metadata": {
        "id": "Ogn8m4vzIizc",
        "outputId": "ff25b055-f12a-4b70-a675-3bbb46442191",
        "colab": {
          "base_uri": "https://localhost:8080/",
          "height": 235
        }
      },
      "source": [
        "meta = pd.read_csv('speakers_all.csv')\n",
        "# Prepare the data based on previous exploration\n",
        "# Drop 3 end columns with NaN values\n",
        "meta.drop(['Unnamed: 9', 'Unnamed: 10', 'Unnamed: 11'], axis=1, inplace=True)\n",
        "\n",
        "# Set speakerid as index\n",
        "meta.set_index('speakerid', inplace=True)\n",
        "meta.sort_index(inplace=True)\n",
        "\n",
        "# Replace missing values and typos\n",
        "meta.loc[meta.country.isnull(), 'country'] = 'laos'\n",
        "type_idx = meta[meta.sex =='famale'].index\n",
        "meta.loc[type_idx, 'sex'] = 'female'\n",
        "\n",
        "# Delete records with missing audio files\n",
        "missingIdx = meta[meta['file_missing?']==True].index\n",
        "meta.drop(missingIdx, inplace=True )\n",
        "\n",
        "# Delete records with no birthplace - synthesized files\n",
        "meta.dropna(subset=['birthplace'], inplace=True)\n",
        "\n",
        "# Delete files not present in audiofiles database\n",
        "nica_index = meta[meta.filename == 'nicaragua'].index\n",
        "sinhalese_index = meta[meta.filename=='sinhalese1'].index\n",
        "meta.drop(nica_index, inplace=True, axis=0)\n",
        "meta.drop(sinhalese_index, inplace=True, axis=0)\n",
        "\n",
        "meta.head()"
      ],
      "execution_count": 191,
      "outputs": [
        {
          "output_type": "execute_result",
          "data": {
            "text/html": [
              "<div>\n",
              "<style scoped>\n",
              "    .dataframe tbody tr th:only-of-type {\n",
              "        vertical-align: middle;\n",
              "    }\n",
              "\n",
              "    .dataframe tbody tr th {\n",
              "        vertical-align: top;\n",
              "    }\n",
              "\n",
              "    .dataframe thead th {\n",
              "        text-align: right;\n",
              "    }\n",
              "</style>\n",
              "<table border=\"1\" class=\"dataframe\">\n",
              "  <thead>\n",
              "    <tr style=\"text-align: right;\">\n",
              "      <th></th>\n",
              "      <th>age</th>\n",
              "      <th>age_onset</th>\n",
              "      <th>birthplace</th>\n",
              "      <th>filename</th>\n",
              "      <th>native_language</th>\n",
              "      <th>sex</th>\n",
              "      <th>country</th>\n",
              "      <th>file_missing?</th>\n",
              "    </tr>\n",
              "    <tr>\n",
              "      <th>speakerid</th>\n",
              "      <th></th>\n",
              "      <th></th>\n",
              "      <th></th>\n",
              "      <th></th>\n",
              "      <th></th>\n",
              "      <th></th>\n",
              "      <th></th>\n",
              "      <th></th>\n",
              "    </tr>\n",
              "  </thead>\n",
              "  <tbody>\n",
              "    <tr>\n",
              "      <th>1</th>\n",
              "      <td>27.0</td>\n",
              "      <td>9.0</td>\n",
              "      <td>virginia, south africa</td>\n",
              "      <td>afrikaans1</td>\n",
              "      <td>afrikaans</td>\n",
              "      <td>female</td>\n",
              "      <td>south africa</td>\n",
              "      <td>False</td>\n",
              "    </tr>\n",
              "    <tr>\n",
              "      <th>2</th>\n",
              "      <td>40.0</td>\n",
              "      <td>5.0</td>\n",
              "      <td>pretoria, south africa</td>\n",
              "      <td>afrikaans2</td>\n",
              "      <td>afrikaans</td>\n",
              "      <td>male</td>\n",
              "      <td>south africa</td>\n",
              "      <td>False</td>\n",
              "    </tr>\n",
              "    <tr>\n",
              "      <th>3</th>\n",
              "      <td>25.0</td>\n",
              "      <td>15.0</td>\n",
              "      <td>diekabo, ivory coast</td>\n",
              "      <td>agni1</td>\n",
              "      <td>agni</td>\n",
              "      <td>male</td>\n",
              "      <td>ivory coast</td>\n",
              "      <td>False</td>\n",
              "    </tr>\n",
              "    <tr>\n",
              "      <th>4</th>\n",
              "      <td>19.0</td>\n",
              "      <td>6.0</td>\n",
              "      <td>prishtina, kosovo</td>\n",
              "      <td>albanian1</td>\n",
              "      <td>albanian</td>\n",
              "      <td>male</td>\n",
              "      <td>kosovo</td>\n",
              "      <td>False</td>\n",
              "    </tr>\n",
              "    <tr>\n",
              "      <th>5</th>\n",
              "      <td>33.0</td>\n",
              "      <td>15.0</td>\n",
              "      <td>tirana, albania</td>\n",
              "      <td>albanian2</td>\n",
              "      <td>albanian</td>\n",
              "      <td>male</td>\n",
              "      <td>albania</td>\n",
              "      <td>False</td>\n",
              "    </tr>\n",
              "  </tbody>\n",
              "</table>\n",
              "</div>"
            ],
            "text/plain": [
              "            age  age_onset  ...       country file_missing?\n",
              "speakerid                   ...                            \n",
              "1          27.0        9.0  ...  south africa         False\n",
              "2          40.0        5.0  ...  south africa         False\n",
              "3          25.0       15.0  ...   ivory coast         False\n",
              "4          19.0        6.0  ...        kosovo         False\n",
              "5          33.0       15.0  ...       albania         False\n",
              "\n",
              "[5 rows x 8 columns]"
            ]
          },
          "metadata": {
            "tags": []
          },
          "execution_count": 191
        }
      ]
    },
    {
      "cell_type": "code",
      "metadata": {
        "id": "IXP_iw2KbPFG",
        "outputId": "17039416-1a01-4cf5-b6e0-cb099034162e",
        "colab": {
          "base_uri": "https://localhost:8080/"
        }
      },
      "source": [
        "meta.shape"
      ],
      "execution_count": 192,
      "outputs": [
        {
          "output_type": "execute_result",
          "data": {
            "text/plain": [
              "(2134, 8)"
            ]
          },
          "metadata": {
            "tags": []
          },
          "execution_count": 192
        }
      ]
    },
    {
      "cell_type": "code",
      "metadata": {
        "id": "liE9qM3oMnhg",
        "outputId": "3519f5a3-3d32-4513-d4c8-40a30b3fae61",
        "colab": {
          "base_uri": "https://localhost:8080/",
          "height": 235
        }
      },
      "source": [
        "# Select 96 files at random from meta.filename\n",
        "data = np.random.choice(meta.filename, size=96, replace=False)\n",
        "\n",
        "idx = meta[meta.filename.isin(data)].index\n",
        "df = meta.loc[idx, ['filename', 'sex']]\n",
        "\n",
        "df.head()"
      ],
      "execution_count": 193,
      "outputs": [
        {
          "output_type": "execute_result",
          "data": {
            "text/html": [
              "<div>\n",
              "<style scoped>\n",
              "    .dataframe tbody tr th:only-of-type {\n",
              "        vertical-align: middle;\n",
              "    }\n",
              "\n",
              "    .dataframe tbody tr th {\n",
              "        vertical-align: top;\n",
              "    }\n",
              "\n",
              "    .dataframe thead th {\n",
              "        text-align: right;\n",
              "    }\n",
              "</style>\n",
              "<table border=\"1\" class=\"dataframe\">\n",
              "  <thead>\n",
              "    <tr style=\"text-align: right;\">\n",
              "      <th></th>\n",
              "      <th>filename</th>\n",
              "      <th>sex</th>\n",
              "    </tr>\n",
              "    <tr>\n",
              "      <th>speakerid</th>\n",
              "      <th></th>\n",
              "      <th></th>\n",
              "    </tr>\n",
              "  </thead>\n",
              "  <tbody>\n",
              "    <tr>\n",
              "      <th>39</th>\n",
              "      <td>bosnian2</td>\n",
              "      <td>male</td>\n",
              "    </tr>\n",
              "    <tr>\n",
              "      <th>47</th>\n",
              "      <td>cantonese3</td>\n",
              "      <td>male</td>\n",
              "    </tr>\n",
              "    <tr>\n",
              "      <th>64</th>\n",
              "      <td>english101</td>\n",
              "      <td>female</td>\n",
              "    </tr>\n",
              "    <tr>\n",
              "      <th>76</th>\n",
              "      <td>english19</td>\n",
              "      <td>male</td>\n",
              "    </tr>\n",
              "    <tr>\n",
              "      <th>92</th>\n",
              "      <td>english33</td>\n",
              "      <td>male</td>\n",
              "    </tr>\n",
              "  </tbody>\n",
              "</table>\n",
              "</div>"
            ],
            "text/plain": [
              "             filename     sex\n",
              "speakerid                    \n",
              "39           bosnian2    male\n",
              "47         cantonese3    male\n",
              "64         english101  female\n",
              "76          english19    male\n",
              "92          english33    male"
            ]
          },
          "metadata": {
            "tags": []
          },
          "execution_count": 193
        }
      ]
    },
    {
      "cell_type": "code",
      "metadata": {
        "id": "nFOMQw3LNk_q"
      },
      "source": [
        "from sklearn.model_selection import train_test_split\n",
        "x_train, x_test, y_train, y_test = train_test_split(df['filename'], df['sex'], random_state=38, test_size=0.33)"
      ],
      "execution_count": 194,
      "outputs": []
    },
    {
      "cell_type": "code",
      "metadata": {
        "id": "CaypXpze5ScJ"
      },
      "source": [
        "#Filenames for initial sample set\n",
        "#x_train_name = ['afrikaans1', 'mandarin3','french38']\n",
        "#x_test_name = ['spanish94', 'lao2']"
      ],
      "execution_count": 195,
      "outputs": []
    },
    {
      "cell_type": "markdown",
      "metadata": {
        "id": "Rh4pd8L1yAzU"
      },
      "source": [
        "### Format features for testing and training sets"
      ]
    },
    {
      "cell_type": "code",
      "metadata": {
        "id": "KU4ef8HOZHvi"
      },
      "source": [
        "SAMP_RATE = 16000"
      ],
      "execution_count": 196,
      "outputs": []
    },
    {
      "cell_type": "code",
      "metadata": {
        "id": "o1etFje8TIrc"
      },
      "source": [
        "# Segment the files into 10s arrays to have consistent input dimensions\n",
        "def get_10s(audio, sr):\n",
        "  \"\"\" Load an audio file and get the first 10 seconds.\n",
        "  Arguments: audio - the audio file; sr = sampling rate of the file\n",
        "  Returns: first 10s of audio file.\n",
        "  \"\"\"\n",
        "  beginning = audio[0:10*sr]\n",
        "  return beginning"
      ],
      "execution_count": 197,
      "outputs": []
    },
    {
      "cell_type": "code",
      "metadata": {
        "id": "GDcrk9a1Lq1s"
      },
      "source": [
        "# Scale audio to fall between [-1, 1]\n",
        "def normalize(audio):\n",
        "  norm = audio/max(audio)\n",
        "  return norm"
      ],
      "execution_count": 198,
      "outputs": []
    },
    {
      "cell_type": "code",
      "metadata": {
        "id": "Cx0kRPasN_EX"
      },
      "source": [
        "# Sample audio files\n",
        "def load_data(series,  sr):\n",
        "  output = []\n",
        "  for i in range(len(series)):\n",
        "    filename = series.iloc[i]  #For an input series\n",
        "    #filename = series[i]    # For an input list\n",
        "    filepath = 'recordings/recordings/' + filename + '.mp3'\n",
        "    soundfile, sr = librosa.load(filepath, sr=SAMP_RATE)\n",
        "    output.append(normalize(get_10s(soundfile, sr)))\n",
        "  return np.asarray(output)"
      ],
      "execution_count": 203,
      "outputs": []
    },
    {
      "cell_type": "code",
      "metadata": {
        "id": "TKFuMRgjSNGY",
        "outputId": "324231c0-3aa1-400c-cc60-3f25ae512cab",
        "colab": {
          "base_uri": "https://localhost:8080/"
        }
      },
      "source": [
        "#x_train = load_data(x_train_name, SAMP_RATE) #For Initial small sample\n",
        "x_train = load_data(x_train, SAMP_RATE)\n",
        "print(x_train.shape)\n",
        "print(type(x_train))"
      ],
      "execution_count": 204,
      "outputs": [
        {
          "output_type": "stream",
          "text": [
            "(64, 160000)\n",
            "<class 'numpy.ndarray'>\n"
          ],
          "name": "stdout"
        }
      ]
    },
    {
      "cell_type": "code",
      "metadata": {
        "id": "VRXPTC36ST8e",
        "outputId": "0517094c-7967-4d98-f4f8-c70e80d3ec3e",
        "colab": {
          "base_uri": "https://localhost:8080/"
        }
      },
      "source": [
        "#x_test = load_data(x_test_name, SAMP_RATE) #For Initial small sample\n",
        "x_test = load_data(x_test, SAMP_RATE)\n",
        "print(x_test.shape)\n",
        "print(type(x_test))"
      ],
      "execution_count": 205,
      "outputs": [
        {
          "output_type": "stream",
          "text": [
            "(32, 160000)\n",
            "<class 'numpy.ndarray'>\n"
          ],
          "name": "stdout"
        }
      ]
    },
    {
      "cell_type": "code",
      "metadata": {
        "id": "aZoarEYCH_51"
      },
      "source": [
        "# Format label arrays\n",
        "def gender_str_to_int(labels):\n",
        "  y_label = []\n",
        "  for i in range(len(labels)):\n",
        "    gender = labels.iloc[i] # for input Series\n",
        "    #gender = labels[i]  # for input list\n",
        "    if gender == 'male':\n",
        "      y_label.append(1)\n",
        "    else: y_label.append(0)\n",
        "  return np.asarray(y_label)"
      ],
      "execution_count": 206,
      "outputs": []
    },
    {
      "cell_type": "code",
      "metadata": {
        "id": "Eptv8L48Sv4h"
      },
      "source": [
        "# Format label arrays\n",
        "def gender_int(labels):\n",
        "  y_label = []\n",
        "  for name in labels:\n",
        "    idx = meta[meta.filename == name].index\n",
        "    gender = meta.loc[idx, 'sex'].values[0]\n",
        "    if gender == 'male':\n",
        "      y_label.append(1)\n",
        "    else: y_label.append(0)\n",
        "    print(name, gender)\n",
        "  return np.asarray(y_label)"
      ],
      "execution_count": 207,
      "outputs": []
    },
    {
      "cell_type": "code",
      "metadata": {
        "id": "S0EAQRT-17hi",
        "outputId": "2b9db4ff-fc01-4f6d-8980-1c05d07fba0c",
        "colab": {
          "base_uri": "https://localhost:8080/"
        }
      },
      "source": [
        "y_train_label = gender_str_to_int(y_train)  # For pd.DF\n",
        "#y_train_label = gender_int(x_train_name) # For intial sample list\n",
        "print(type(y_train_label))\n",
        "print(y_train_label.shape)"
      ],
      "execution_count": 208,
      "outputs": [
        {
          "output_type": "stream",
          "text": [
            "<class 'numpy.ndarray'>\n",
            "(64,)\n"
          ],
          "name": "stdout"
        }
      ]
    },
    {
      "cell_type": "code",
      "metadata": {
        "id": "1aE0VMyPBstI",
        "outputId": "314fbc0f-8546-43cd-d470-1eae21efb63f",
        "colab": {
          "base_uri": "https://localhost:8080/"
        }
      },
      "source": [
        "#y_train_label= y_train_label[None, :]\n",
        "print(y_train_label)"
      ],
      "execution_count": 209,
      "outputs": [
        {
          "output_type": "stream",
          "text": [
            "[0 1 1 1 0 1 1 0 0 1 0 1 0 0 0 1 0 0 1 0 1 0 1 0 1 0 1 1 1 1 0 1 0 1 0 1 0\n",
            " 1 0 1 0 1 1 1 1 1 1 0 0 0 1 1 0 0 1 0 1 0 1 0 0 0 0 1]\n"
          ],
          "name": "stdout"
        }
      ]
    },
    {
      "cell_type": "code",
      "metadata": {
        "id": "w56obK0M2I8R",
        "outputId": "cbc07b11-901d-4f01-acba-64ce4e2186c3",
        "colab": {
          "base_uri": "https://localhost:8080/"
        }
      },
      "source": [
        "y_test_label = gender_str_to_int(y_test)  # For pd.DF\n",
        "#y_test_label = gender_int(x_test_name) # For initial sample list\n",
        "print(type(y_test_label))\n",
        "print(y_test_label.shape)"
      ],
      "execution_count": 211,
      "outputs": [
        {
          "output_type": "stream",
          "text": [
            "<class 'numpy.ndarray'>\n",
            "(32,)\n"
          ],
          "name": "stdout"
        }
      ]
    },
    {
      "cell_type": "code",
      "metadata": {
        "id": "NJVjDLxOByW9",
        "outputId": "08be76ba-c670-4ab2-89a0-2b4e2abeba5a",
        "colab": {
          "base_uri": "https://localhost:8080/"
        }
      },
      "source": [
        "#y_test_label = y_test_label[None, :]\n",
        "# print(y_test_label.shape)\n",
        "print(y_test_label)"
      ],
      "execution_count": 212,
      "outputs": [
        {
          "output_type": "stream",
          "text": [
            "[0 1 1 0 0 0 1 1 0 1 0 0 0 0 1 1 0 1 0 1 1 0 1 1 1 1 0 1 1 1 1 1]\n"
          ],
          "name": "stdout"
        }
      ]
    },
    {
      "cell_type": "markdown",
      "metadata": {
        "id": "CuqNdJEs6iqK"
      },
      "source": [
        "# Load the pre-trained VGGish model from Tensorflow Hub"
      ]
    },
    {
      "cell_type": "code",
      "metadata": {
        "id": "-o4kgOsG6pol"
      },
      "source": [
        "# Link to the model on TFHub\n",
        "hub_url = 'https://tfhub.dev/google/vggish/1'\n",
        "\n",
        "# Load the model as a Keras model\n",
        "vggish_model = hub.KerasLayer(hub_url)\n",
        "vggish_model.trainable = False"
      ],
      "execution_count": 213,
      "outputs": []
    },
    {
      "cell_type": "markdown",
      "metadata": {
        "id": "HY0DWhij7fSF"
      },
      "source": [
        "## Use VGGish model to extract feature embeddings"
      ]
    },
    {
      "cell_type": "code",
      "metadata": {
        "id": "HM41FqAsmjKA"
      },
      "source": [
        "def extract_embeddings(data):\n",
        "  embedding = []\n",
        "  for i in range(len(data)):\n",
        "    vggish_embed = vggish_model(data[i])\n",
        "    embedding.append(vggish_embed)\n",
        "  return np.asarray(embedding)"
      ],
      "execution_count": 214,
      "outputs": []
    },
    {
      "cell_type": "code",
      "metadata": {
        "id": "wIjXZVYk-zZ5"
      },
      "source": [
        "x_train_embed = extract_embeddings(x_train)"
      ],
      "execution_count": 215,
      "outputs": []
    },
    {
      "cell_type": "code",
      "metadata": {
        "id": "OsBaoT2_AYI3"
      },
      "source": [
        "x_test_embed = extract_embeddings(x_test)"
      ],
      "execution_count": 216,
      "outputs": []
    },
    {
      "cell_type": "markdown",
      "metadata": {
        "id": "_syJHwc07xBt"
      },
      "source": [
        "# Create a binary gender classifier.\n",
        "The classifier takes the vggish embeddings (extracted features) as input and predicts the gender of the speaker. "
      ]
    },
    {
      "cell_type": "code",
      "metadata": {
        "id": "Oq6I8CyR8fyM"
      },
      "source": [
        "genderClf = tf.keras.models.Sequential([#vggish_model,\n",
        "                                        #tf.keras.layers.InputLayer(input_shape=10*SAMP_RATE),\n",
        "                                        #hub.KerasLayer(hub_url, trainable = False),\n",
        "                              #tf.keras.layers.Dense(128*3, activation = 'relu'),# input_shape = (None,160000)),\n",
        "                              tf.keras.layers.Dense(128, activation = 'relu'),\n",
        "                              tf.keras.layers.Dense(64, activation = 'relu'),\n",
        "                              tf.keras.layers.Dense(1, activation='sigmoid'),\n",
        "                              tf.keras.layers.AveragePooling1D(pool_size=10, strides=None, padding=\"valid\", data_format=\"channels_last\")\n",
        "                              ])\n",
        "genderClf.compile(optimizer='adam', loss='binary_crossentropy',  metrics=['accuracy'])"
      ],
      "execution_count": 217,
      "outputs": []
    },
    {
      "cell_type": "code",
      "metadata": {
        "id": "OQzj_Td_GmbS"
      },
      "source": [
        "# Add early stopping to train classifier model\n",
        "# default is 10 epochs\n",
        "from tensorflow.keras.callbacks import EarlyStopping\n",
        "early_stopping_monitor = EarlyStopping(patience=2)\n",
        "\n",
        "#genderClf.fit(x_train_norm[0], y_train_label[0], epochs=10) #, callbacks=[early_stopping_monitor]) #validation_split=0.25,"
      ],
      "execution_count": 218,
      "outputs": []
    },
    {
      "cell_type": "code",
      "metadata": {
        "id": "OFD-emztWrH_",
        "outputId": "60cff5ab-c3fb-45fe-cc36-589614ec182e",
        "colab": {
          "base_uri": "https://localhost:8080/"
        }
      },
      "source": [
        "history = genderClf.fit(vggish_embedding, y_train_label, epochs=10, callbacks=[early_stopping_monitor], \n",
        "              validation_split=0.25, batch_size=32)"
      ],
      "execution_count": 219,
      "outputs": [
        {
          "output_type": "stream",
          "text": [
            "Epoch 1/10\n",
            "1/1 [==============================] - 0s 242ms/step - loss: 0.6874 - accuracy: 0.5000 - val_loss: 0.5032 - val_accuracy: 1.0000\n",
            "Epoch 2/10\n",
            "1/1 [==============================] - 0s 21ms/step - loss: 0.6110 - accuracy: 0.5000 - val_loss: 0.4855 - val_accuracy: 1.0000\n",
            "Epoch 3/10\n",
            "1/1 [==============================] - 0s 19ms/step - loss: 0.5423 - accuracy: 1.0000 - val_loss: 0.4694 - val_accuracy: 1.0000\n",
            "Epoch 4/10\n",
            "1/1 [==============================] - 0s 19ms/step - loss: 0.4820 - accuracy: 1.0000 - val_loss: 0.4525 - val_accuracy: 1.0000\n",
            "Epoch 5/10\n",
            "1/1 [==============================] - 0s 19ms/step - loss: 0.4310 - accuracy: 1.0000 - val_loss: 0.4327 - val_accuracy: 1.0000\n",
            "Epoch 6/10\n",
            "1/1 [==============================] - 0s 18ms/step - loss: 0.3871 - accuracy: 1.0000 - val_loss: 0.4090 - val_accuracy: 1.0000\n",
            "Epoch 7/10\n",
            "1/1 [==============================] - 0s 18ms/step - loss: 0.3475 - accuracy: 1.0000 - val_loss: 0.3814 - val_accuracy: 1.0000\n",
            "Epoch 8/10\n",
            "1/1 [==============================] - 0s 18ms/step - loss: 0.3100 - accuracy: 1.0000 - val_loss: 0.3516 - val_accuracy: 1.0000\n",
            "Epoch 9/10\n",
            "1/1 [==============================] - 0s 18ms/step - loss: 0.2747 - accuracy: 1.0000 - val_loss: 0.3200 - val_accuracy: 1.0000\n",
            "Epoch 10/10\n",
            "1/1 [==============================] - 0s 17ms/step - loss: 0.2413 - accuracy: 1.0000 - val_loss: 0.2878 - val_accuracy: 1.0000\n"
          ],
          "name": "stdout"
        }
      ]
    },
    {
      "cell_type": "code",
      "metadata": {
        "id": "EBP2KTXFGMPy",
        "outputId": "48271e0e-3a48-455f-d602-e9fd93c3e42f",
        "colab": {
          "base_uri": "https://localhost:8080/",
          "height": 295
        }
      },
      "source": [
        "plt.plot(history.history['accuracy'])\n",
        "#plt.plot(history.history['val_acc'])\n",
        "plt.title('model accuracy')\n",
        "plt.ylabel('accuracy')\n",
        "plt.xlabel('epoch')\n",
        "plt.legend(['train', 'val'], loc='upper left')\n",
        "plt.show()"
      ],
      "execution_count": 220,
      "outputs": [
        {
          "output_type": "display_data",
          "data": {
            "image/png": "[encoded data removed]",
            "text/plain": [
              "<Figure size 432x288 with 1 Axes>"
            ]
          },
          "metadata": {
            "tags": [],
            "needs_background": "light"
          }
        }
      ]
    },
    {
      "cell_type": "code",
      "metadata": {
        "id": "-Ghs8SW-G4Gq",
        "outputId": "486f538b-db95-4f96-8372-038e019000ab",
        "colab": {
          "base_uri": "https://localhost:8080/",
          "height": 295
        }
      },
      "source": [
        "plt.plot(history.history['loss'])\n",
        "#plt.plot(history.history['val_loss'])\n",
        "plt.title('model loss')\n",
        "plt.ylabel('loss')\n",
        "plt.xlabel('epoch')\n",
        "plt.legend(['train', 'val'], loc='upper left')\n",
        "plt.show()"
      ],
      "execution_count": 221,
      "outputs": [
        {
          "output_type": "display_data",
          "data": {
            "image/png": "[encoded data removed]",
            "text/plain": [
              "<Figure size 432x288 with 1 Axes>"
            ]
          },
          "metadata": {
            "tags": [],
            "needs_background": "light"
          }
        }
      ]
    },
    {
      "cell_type": "code",
      "metadata": {
        "id": "BFdxsZ7TqHzs"
      },
      "source": [
        "#genderClf.fit(train_dataset, epochs=10, callbacks=[early_stopping_monitor], \n",
        "#              validation_split=0.25, batch_size=BATCH_SIZE)"
      ],
      "execution_count": null,
      "outputs": []
    },
    {
      "cell_type": "code",
      "metadata": {
        "id": "1_6hlUyS8pdN",
        "outputId": "e00e1f33-175e-4e59-c689-4f65684f868e",
        "colab": {
          "base_uri": "https://localhost:8080/"
        }
      },
      "source": [
        "genderClf.summary()"
      ],
      "execution_count": 222,
      "outputs": [
        {
          "output_type": "stream",
          "text": [
            "Model: \"sequential_12\"\n",
            "_________________________________________________________________\n",
            "Layer (type)                 Output Shape              Param #   \n",
            "=================================================================\n",
            "dense_39 (Dense)             (None, 10, 128)           16512     \n",
            "_________________________________________________________________\n",
            "dense_40 (Dense)             (None, 10, 64)            8256      \n",
            "_________________________________________________________________\n",
            "dense_41 (Dense)             (None, 10, 1)             65        \n",
            "_________________________________________________________________\n",
            "average_pooling1d_3 (Average (None, 1, 1)              0         \n",
            "=================================================================\n",
            "Total params: 24,833\n",
            "Trainable params: 24,833\n",
            "Non-trainable params: 0\n",
            "_________________________________________________________________\n"
          ],
          "name": "stdout"
        }
      ]
    },
    {
      "cell_type": "code",
      "metadata": {
        "id": "6U66xnpdmbOk",
        "outputId": "84e61819-afea-4086-a0aa-6b40f1ef86d0",
        "colab": {
          "base_uri": "https://localhost:8080/"
        }
      },
      "source": [
        "y_pred = genderClf.predict(x_test_embed)\n",
        "print(y_pred.shape)"
      ],
      "execution_count": 223,
      "outputs": [
        {
          "output_type": "stream",
          "text": [
            "WARNING:tensorflow:7 out of the last 11 calls to <function Model.make_predict_function.<locals>.predict_function at 0x7fb83672d378> triggered tf.function retracing. Tracing is expensive and the excessive number of tracings could be due to (1) creating @tf.function repeatedly in a loop, (2) passing tensors with different shapes, (3) passing Python objects instead of tensors. For (1), please define your @tf.function outside of the loop. For (2), @tf.function has experimental_relax_shapes=True option that relaxes argument shapes that can avoid unnecessary retracing. For (3), please refer to https://www.tensorflow.org/tutorials/customization/performance#python_or_tensor_args and https://www.tensorflow.org/api_docs/python/tf/function for  more details.\n"
          ],
          "name": "stdout"
        },
        {
          "output_type": "stream",
          "text": [
            "WARNING:tensorflow:7 out of the last 11 calls to <function Model.make_predict_function.<locals>.predict_function at 0x7fb83672d378> triggered tf.function retracing. Tracing is expensive and the excessive number of tracings could be due to (1) creating @tf.function repeatedly in a loop, (2) passing tensors with different shapes, (3) passing Python objects instead of tensors. For (1), please define your @tf.function outside of the loop. For (2), @tf.function has experimental_relax_shapes=True option that relaxes argument shapes that can avoid unnecessary retracing. For (3), please refer to https://www.tensorflow.org/tutorials/customization/performance#python_or_tensor_args and https://www.tensorflow.org/api_docs/python/tf/function for  more details.\n"
          ],
          "name": "stderr"
        },
        {
          "output_type": "stream",
          "text": [
            "(32, 1, 1)\n"
          ],
          "name": "stdout"
        }
      ]
    },
    {
      "cell_type": "code",
      "metadata": {
        "id": "ykSC2rumhJUW"
      },
      "source": [
        "def predict_to_int(array, threshold):\n",
        "  labels = []\n",
        "  for i in range(len(array)):\n",
        "    if array[i] > threshold:\n",
        "      labels.append(1)  #'male'\n",
        "    else: labels.append(0)  #'female'\n",
        "  return labels"
      ],
      "execution_count": 224,
      "outputs": []
    },
    {
      "cell_type": "code",
      "metadata": {
        "id": "PK-Ta-zShyvY",
        "outputId": "5dc30b79-5145-4edc-d08c-e97b95353fec",
        "colab": {
          "base_uri": "https://localhost:8080/"
        }
      },
      "source": [
        "gen_pred = predict_to_int(y_pred, 0.5)\n",
        "print(gen_pred)"
      ],
      "execution_count": 225,
      "outputs": [
        {
          "output_type": "stream",
          "text": [
            "[0, 1, 1, 0, 0, 0, 1, 1, 0, 1, 0, 0, 0, 0, 1, 1, 0, 1, 1, 1, 1, 0, 1, 1, 1, 1, 0, 1, 1, 1, 1, 1]\n"
          ],
          "name": "stdout"
        }
      ]
    },
    {
      "cell_type": "code",
      "metadata": {
        "id": "CS_twBdT7zkn",
        "outputId": "75fa24f9-8a36-43f9-b02e-21ff39ec1ca8",
        "colab": {
          "base_uri": "https://localhost:8080/"
        }
      },
      "source": [
        "confusion_matrix(y_test_label, gen_pred)\n",
        "#print(y_pred)"
      ],
      "execution_count": 226,
      "outputs": [
        {
          "output_type": "execute_result",
          "data": {
            "text/plain": [
              "array([[12,  1],\n",
              "       [ 0, 19]])"
            ]
          },
          "metadata": {
            "tags": []
          },
          "execution_count": 226
        }
      ]
    },
    {
      "cell_type": "markdown",
      "metadata": {
        "id": "NLkHhbEl78Ug"
      },
      "source": [
        "# Next steps:\n",
        "Embed the vggish model into a trainable binary classifier."
      ]
    },
    {
      "cell_type": "code",
      "metadata": {
        "id": "i4WS8YRw7vtY"
      },
      "source": [
        "# enable fine-tuning with trainable argument\n",
        "#layer = hub.KerasLayer(..., trainable=True)\n",
        "\n",
        "# Reexport the fine-tuned model\n",
        "\n",
        "#loaded_obj = hub.load(\"https://tfhub.dev/...\")\n",
        "#hub_layer = hub.KerasLayer(loaded_obj, trainable=True, ...)\n",
        "\n",
        "#model = keras.Sequential([..., hub_layer, ...])\n",
        "#model.compile(...)\n",
        "#model.fit(...)\n",
        "\n",
        "#export_module_dir = os.path.join(os.getcwd(), \"finetuned_model_export\")\n",
        "#tf.saved_model.save(loaded_obj, export_module_dir)"
      ],
      "execution_count": null,
      "outputs": []
    },
    {
      "cell_type": "markdown",
      "metadata": {
        "id": "nIcT-AjI-URx"
      },
      "source": [
        "Epoch - on complete pass through the dataset\n",
        "\n",
        "Batch size = divide dataset into smaller parts/sets\n",
        "\n",
        "Iterations - number of batches to complete one epoch"
      ]
    },
    {
      "cell_type": "code",
      "metadata": {
        "id": "JbVXZm8R_WmN"
      },
      "source": [
        "#model.fit(x, y, batch_size=n, epochs=n) # Batch size default is 32\n",
        "# Do not use batch size if the data is in the form of dataset, generators, or keras.utils.Sequence instances"
      ],
      "execution_count": null,
      "outputs": []
    },
    {
      "cell_type": "markdown",
      "metadata": {
        "id": "QkVMjj-9MZTB"
      },
      "source": [
        "# Don't run this - sample code for later\n",
        "## Import larger sample set\n",
        "- at least two batches, to see how model fits\n",
        "- a least one batch of testing data"
      ]
    },
    {
      "cell_type": "markdown",
      "metadata": {
        "id": "5VhXxIXqVjX7"
      },
      "source": [
        "## Original (small samples)"
      ]
    },
    {
      "cell_type": "markdown",
      "metadata": {
        "id": "_r82d0Me88r9"
      },
      "source": [
        "## Attempt to expand model"
      ]
    },
    {
      "cell_type": "code",
      "metadata": {
        "id": "S30BTYaXo4Qh"
      },
      "source": [
        "#train_dataset =  tf.data.Dataset.from_tensor_slices( (x_train, y_train_labels))\n",
        "#test_dataset = tf.data.Dataset.from_tensor_slices( (x_test, y_test_labels))"
      ],
      "execution_count": null,
      "outputs": []
    },
    {
      "cell_type": "code",
      "metadata": {
        "id": "gdLj5PuQplTH"
      },
      "source": [
        "#BATCH_SIZE=32\n",
        "#SHUFFLE_BUFFER_SIZE=100\n",
        "\n",
        "#train_dataset = train_dataset.shuffle(SHUFFLE_BUFFER_SIZE).batch(BATCH_SIZE)\n",
        "#test_dataset = test_dataset.batch(BATCH_SIZE)"
      ],
      "execution_count": null,
      "outputs": []
    },
    {
      "cell_type": "markdown",
      "metadata": {
        "id": "JKKdEYUto5Sw"
      },
      "source": [
        "## Convert data (np. arrays) to a TF Dataset"
      ]
    }
  ]
}