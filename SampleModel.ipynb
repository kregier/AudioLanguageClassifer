{
  "nbformat": 4,
  "nbformat_minor": 0,
  "metadata": {
    "colab": {
      "name": "SampleModel.ipynb",
      "provenance": [],
      "collapsed_sections": [],
      "authorship_tag": "ABX9TyP7FEornQh18hYs5sadDqXP",
      "include_colab_link": true
    },
    "kernelspec": {
      "name": "python3",
      "display_name": "Python 3"
    }
  },
  "cells": [
    {
      "cell_type": "markdown",
      "metadata": {
        "id": "view-in-github",
        "colab_type": "text"
      },
      "source": [
        "<a href=\"https://colab.research.google.com/github/kregier/AudioLanguageClassifer/blob/main/SampleModel.ipynb\" target=\"_parent\"><img src=\"https://colab.research.google.com/assets/colab-badge.svg\" alt=\"Open In Colab\"/></a>"
      ]
    },
    {
      "cell_type": "markdown",
      "metadata": {
        "id": "JVT8XsCv32cB"
      },
      "source": [
        "# What is this notebook?\n",
        "This is a notebook to load a few audio files and load the VGGish model. The idea is to make sure the model loads and runs before moving it to the larger notebook."
      ]
    },
    {
      "cell_type": "code",
      "metadata": {
        "id": "l8zGos0v4UR6",
        "outputId": "b52a4480-9093-4400-f88f-45b693769474",
        "colab": {
          "base_uri": "https://localhost:8080/"
        }
      },
      "source": [
        "# Set up the environment\n",
        "import pandas as pd\n",
        "import numpy as np\n",
        "import matplotlib.pylab as plt\n",
        "import seaborn as sns\n",
        "import IPython.display as ipd\n",
        "import librosa\n",
        "import librosa.display\n",
        "\n",
        "import os\n",
        "import random\n",
        "\n",
        "import tensorflow as tf\n",
        "import tensorflow_hub as hub\n",
        "\n",
        "from tensorflow.keras.layers import Dense\n",
        "from tensorflow.keras.models import Sequential\n",
        "\n",
        "print(\"All set up!\")"
      ],
      "execution_count": 1,
      "outputs": [
        {
          "output_type": "stream",
          "text": [
            "All set up!\n"
          ],
          "name": "stdout"
        }
      ]
    },
    {
      "cell_type": "markdown",
      "metadata": {
        "id": "_dGOQZjp4nJo"
      },
      "source": [
        "# Load the data\n",
        "- Connect to google drive\n",
        "- Load a few sample audio files\n"
      ]
    },
    {
      "cell_type": "code",
      "metadata": {
        "id": "4ApAHR9O3vWT",
        "outputId": "4f7ea08a-2499-4afb-db51-6a00da736802",
        "colab": {
          "base_uri": "https://localhost:8080/"
        }
      },
      "source": [
        "# Set up the data import using Google Drive\n",
        "from google.colab import drive\n",
        "drive.mount('/content/gdrive')"
      ],
      "execution_count": 2,
      "outputs": [
        {
          "output_type": "stream",
          "text": [
            "Mounted at /content/gdrive\n"
          ],
          "name": "stdout"
        }
      ]
    },
    {
      "cell_type": "code",
      "metadata": {
        "id": "Qb8okVM44xzn",
        "outputId": "fd7851f6-35ee-431b-e65c-56b69b14c406",
        "colab": {
          "base_uri": "https://localhost:8080/"
        }
      },
      "source": [
        "os.environ['KAGGLE_CONFIG_DIR'] = \"/content/gdrive/My Drive/Kaggle\"\n",
        "\n",
        "# Change working directory\n",
        "%cd /content/gdrive/My Drive/Kaggle\n",
        "!ls"
      ],
      "execution_count": 3,
      "outputs": [
        {
          "output_type": "stream",
          "text": [
            "/content/gdrive/My Drive/Kaggle\n",
            "data  kaggle.json  reading-passage.txt\trecordings  speakers_all.csv\n"
          ],
          "name": "stdout"
        }
      ]
    },
    {
      "cell_type": "code",
      "metadata": {
        "id": "Ogn8m4vzIizc"
      },
      "source": [
        "meta = pd.read_csv('speakers_all.csv')\n",
        "\n",
        "#Filenames\n",
        "x_train = ['afrikaans1', 'mandarin3','french38', 'lao2']\n",
        "x_test = ['spanish94']"
      ],
      "execution_count": 4,
      "outputs": []
    },
    {
      "cell_type": "code",
      "metadata": {
        "id": "CaypXpze5ScJ"
      },
      "source": [
        "# Sample audio files\n",
        "afrikaans = 'recordings/recordings/afrikaans1.mp3'\n",
        "mandarin = 'recordings/recordings/mandarin3.mp3'\n",
        "spanish = 'recordings/recordings/spanish94.mp3'\n",
        "french = 'recordings/recordings/french38.mp3'\n",
        "lao = 'recordings/recordings/lao2.mp3'\n",
        "\n",
        "SAMP_RATE = 16000\n",
        "\n",
        "afrikaans_raw, sr = librosa.load(afrikaans, sr=SAMP_RATE)\n",
        "mandarin_raw, sr = librosa.load(mandarin, sr=SAMP_RATE)\n",
        "spanish_raw, sr = librosa.load(spanish, sr=SAMP_RATE)\n",
        "french_raw, sr = librosa.load(french, sr=SAMP_RATE)\n",
        "lao_raw, sr = librosa.load(lao, sr=SAMP_RATE)"
      ],
      "execution_count": 5,
      "outputs": []
    },
    {
      "cell_type": "code",
      "metadata": {
        "id": "-glpT5G3HRcN",
        "outputId": "939e8a86-1a03-4b0a-fa54-b2617c569927",
        "colab": {
          "base_uri": "https://localhost:8080/"
        }
      },
      "source": [
        "# Results in np arrays of different lengths, since the audio files are different lengths\n",
        "x_train_features = np.asarray([afrikaans_raw, mandarin_raw, french_raw, lao_raw])\n",
        "print(x_train_features.shape)\n",
        "print(type(x_train_features))"
      ],
      "execution_count": 6,
      "outputs": [
        {
          "output_type": "stream",
          "text": [
            "(4,)\n",
            "<class 'numpy.ndarray'>\n"
          ],
          "name": "stdout"
        }
      ]
    },
    {
      "cell_type": "code",
      "metadata": {
        "id": "o1etFje8TIrc"
      },
      "source": [
        "# Segment the files into 10s arrays to have consistent input dimensions\n",
        "def get_10s(audio, sr):\n",
        "  \"\"\" Load an audio file and get the first 10 seconds.\n",
        "  Arguments: audio - the audio file; sr = sampling rate of the file\n",
        "  Returns: first 10s of audio file.\n",
        "  \"\"\"\n",
        "  beginning = audio[0:10*sr]\n",
        "  return beginning"
      ],
      "execution_count": 7,
      "outputs": []
    },
    {
      "cell_type": "code",
      "metadata": {
        "id": "AYXp5DQmTIgx",
        "outputId": "28ad1501-7a04-497b-d1cd-3e152b607c67",
        "colab": {
          "base_uri": "https://localhost:8080/"
        }
      },
      "source": [
        "x_train_beg = np.asarray([get_10s(i, SAMP_RATE) for i in x_train_features])\n",
        "print(x_train_beg.shape)\n",
        "print(type(x_train_beg))"
      ],
      "execution_count": 8,
      "outputs": [
        {
          "output_type": "stream",
          "text": [
            "(4, 160000)\n",
            "<class 'numpy.ndarray'>\n"
          ],
          "name": "stdout"
        }
      ]
    },
    {
      "cell_type": "code",
      "metadata": {
        "id": "GDcrk9a1Lq1s"
      },
      "source": [
        "def normalize(audio):\n",
        "  norm = audio/max(audio)\n",
        "  return norm"
      ],
      "execution_count": 9,
      "outputs": []
    },
    {
      "cell_type": "code",
      "metadata": {
        "id": "0hizagOhMx4o",
        "outputId": "5f0892ad-3674-4c40-fcd8-d42c41c9c63c",
        "colab": {
          "base_uri": "https://localhost:8080/"
        }
      },
      "source": [
        "x_train_norm = np.asarray([normalize(i) for i in x_train_beg])\n",
        "print(x_train_norm.shape)\n",
        "print(type(x_train_norm))\n",
        "print(type(x_train_norm[0]))\n",
        "print(type(x_train_norm[0][0]))\n",
        "\n",
        "# Reshape x_train_norm to have shape (None, 4, 16000)\n",
        "# x_train_norm = np.expand_dims(x_train_norm, axis=0)  # didn't work\n",
        "# x_train_norm = x_train_norm[np.newaxis] # also doesn't work\n",
        "# x_train_norm = x_train_norm[None, :] # also doesn't work\n",
        "#x_train_norm.reshape(-1, 4, 16000) # doesn't work\n",
        "x_train_norm = x_train_norm[None, :,:]\n",
        "\n",
        "print(x_train_norm.shape)\n",
        "print(type(x_train_norm))\n",
        "print(type(x_train_norm[0]))\n",
        "print(type(x_train_norm[0][0]))\n",
        "print(type(x_train_norm[0][0][0]))"
      ],
      "execution_count": 34,
      "outputs": [
        {
          "output_type": "stream",
          "text": [
            "(4, 160000)\n",
            "<class 'numpy.ndarray'>\n",
            "<class 'numpy.ndarray'>\n",
            "<class 'numpy.float32'>\n",
            "(1, 4, 160000)\n",
            "<class 'numpy.ndarray'>\n",
            "<class 'numpy.ndarray'>\n",
            "<class 'numpy.ndarray'>\n",
            "<class 'numpy.float32'>\n"
          ],
          "name": "stdout"
        }
      ]
    },
    {
      "cell_type": "code",
      "metadata": {
        "id": "VCqusdCvTmXU",
        "outputId": "68db965b-c121-4f43-b823-e410261f133c",
        "colab": {
          "base_uri": "https://localhost:8080/"
        }
      },
      "source": [
        "x_test_features = normalize(get_10s(spanish_raw, SAMP_RATE))\n",
        "x_test_features = x_test_features[None, :]\n",
        "print(x_test_features.shape)\n",
        "print(type(x_test_features))\n",
        "print(type(x_test_features[0]))\n",
        "print(type(x_test_features[0][0]))\n",
        "# Need to reshape  this array!"
      ],
      "execution_count": 39,
      "outputs": [
        {
          "output_type": "stream",
          "text": [
            "(1, 160000)\n",
            "<class 'numpy.ndarray'>\n",
            "<class 'numpy.ndarray'>\n",
            "<class 'numpy.float32'>\n"
          ],
          "name": "stdout"
        }
      ]
    },
    {
      "cell_type": "code",
      "metadata": {
        "id": "aZoarEYCH_51",
        "outputId": "70f1f2f6-5747-497a-cc0e-f10a3406dc04",
        "colab": {
          "base_uri": "https://localhost:8080/"
        }
      },
      "source": [
        "y_label = []\n",
        "for name in x_train:\n",
        "  idx = meta[meta.filename == name].index\n",
        "  gender = meta.loc[idx, 'sex'].values[0]\n",
        "  if gender == 'male':\n",
        "    y_label.append(1)\n",
        "  else: y_label.append(0)\n",
        "\n",
        "y_train_label = np.asarray(y_label)\n",
        "print(y_train_label)\n",
        "print(y_train_label.shape)\n",
        "y_train_label = y_train_label[None, :]\n",
        "print(y_train_label.shape)\n",
        "print(type(y_train_label))\n",
        "\n",
        "y_test_label = np.asarray([1])\n",
        "print(type(y_test_label))"
      ],
      "execution_count": 44,
      "outputs": [
        {
          "output_type": "stream",
          "text": [
            "[0 1 1 0]\n",
            "(4,)\n",
            "(1, 4)\n",
            "<class 'numpy.ndarray'>\n",
            "<class 'numpy.ndarray'>\n"
          ],
          "name": "stdout"
        }
      ]
    },
    {
      "cell_type": "markdown",
      "metadata": {
        "id": "CuqNdJEs6iqK"
      },
      "source": [
        "# Load the pre-trained VGGish model from Tensorflow Hub"
      ]
    },
    {
      "cell_type": "code",
      "metadata": {
        "id": "-o4kgOsG6pol"
      },
      "source": [
        "# Link to the model on TFHub\n",
        "hub_url = 'https://tfhub.dev/google/vggish/1'\n",
        "\n",
        "# Load the model as a Keras model\n",
        "vggish_model = hub.KerasLayer(hub_url)\n",
        "#vggish_model.summary()"
      ],
      "execution_count": 13,
      "outputs": []
    },
    {
      "cell_type": "markdown",
      "metadata": {
        "id": "HY0DWhij7fSF"
      },
      "source": [
        "## Run sample audio through the model and examine the embedding"
      ]
    },
    {
      "cell_type": "code",
      "metadata": {
        "id": "eV5_LmZG7YFD",
        "outputId": "10293414-5dd7-45ce-c39f-a1728ec99b12",
        "colab": {
          "base_uri": "https://localhost:8080/"
        }
      },
      "source": [
        "for i in range(len(x_train_norm)):\n",
        "  vggish_embed = vggish_model(x_train_norm[i])\n",
        "  print(vggish_embed.shape, vggish_embed.dtype)"
      ],
      "execution_count": 14,
      "outputs": [
        {
          "output_type": "stream",
          "text": [
            "(10, 128) <dtype: 'float32'>\n",
            "(10, 128) <dtype: 'float32'>\n",
            "(10, 128) <dtype: 'float32'>\n",
            "(10, 128) <dtype: 'float32'>\n"
          ],
          "name": "stdout"
        }
      ]
    },
    {
      "cell_type": "markdown",
      "metadata": {
        "id": "_syJHwc07xBt"
      },
      "source": [
        "# Embed the vggish model/embeddings into a binary gender classifier."
      ]
    },
    {
      "cell_type": "code",
      "metadata": {
        "id": "Oq6I8CyR8fyM"
      },
      "source": [
        "#classifier = tf.keras.Sequential([\n",
        "#    hub.KerasLayer(classifier_model, input_shape=IMAGE_SHAPE+(3,))\n",
        "#])\n",
        "\n",
        "genderClf = tf.keras.models.Sequential([ #vggish_model,\n",
        "                              tf.keras.layers.Dense(128, activation = 'relu', input_shape = (4, 160000)),\n",
        "                              tf.keras.layers.Dense(64, activation = 'relu'),\n",
        "                              tf.keras.layers.Dense(1, activation='sigmoid')\n",
        "                              ])\n",
        "genderClf.compile(optimizer='adam', loss='binary_crossentropy',  metrics=['accuracy'])"
      ],
      "execution_count": 22,
      "outputs": []
    },
    {
      "cell_type": "code",
      "metadata": {
        "id": "OQzj_Td_GmbS"
      },
      "source": [
        "# Add early stopping to train classifier model\n",
        "# default is 10 epochs\n",
        "from tensorflow.keras.callbacks import EarlyStopping\n",
        "early_stopping_monitor = EarlyStopping(patience=2)\n",
        "\n",
        "#genderClf.fit(x_train_norm[0], y_train_label[0], epochs=10) #, callbacks=[early_stopping_monitor]) #validation_split=0.25,"
      ],
      "execution_count": 43,
      "outputs": []
    },
    {
      "cell_type": "code",
      "metadata": {
        "id": "OFD-emztWrH_",
        "outputId": "72969ca4-5e70-42e8-b24f-4d3020d89049",
        "colab": {
          "base_uri": "https://localhost:8080/"
        }
      },
      "source": [
        "genderClf.fit(x_train_norm, y_train_label, epochs=10) #, callbacks=[early_stopping_monitor]) #validation_split=0.25,"
      ],
      "execution_count": 45,
      "outputs": [
        {
          "output_type": "stream",
          "text": [
            "Epoch 1/10\n",
            "1/1 [==============================] - 0s 6ms/step - loss: 0.0000e+00 - accuracy: 1.0000\n",
            "Epoch 2/10\n",
            "1/1 [==============================] - 0s 1ms/step - loss: 0.0000e+00 - accuracy: 1.0000\n",
            "Epoch 3/10\n",
            "1/1 [==============================] - 0s 1ms/step - loss: 0.0000e+00 - accuracy: 1.0000\n",
            "Epoch 4/10\n",
            "1/1 [==============================] - 0s 1ms/step - loss: 0.0000e+00 - accuracy: 1.0000\n",
            "Epoch 5/10\n",
            "1/1 [==============================] - 0s 1ms/step - loss: 0.0000e+00 - accuracy: 1.0000\n",
            "Epoch 6/10\n",
            "1/1 [==============================] - 0s 1ms/step - loss: 0.0000e+00 - accuracy: 1.0000\n",
            "Epoch 7/10\n",
            "1/1 [==============================] - 0s 1ms/step - loss: 0.0000e+00 - accuracy: 1.0000\n",
            "Epoch 8/10\n",
            "1/1 [==============================] - 0s 1ms/step - loss: 0.0000e+00 - accuracy: 1.0000\n",
            "Epoch 9/10\n",
            "1/1 [==============================] - 0s 1ms/step - loss: 0.0000e+00 - accuracy: 1.0000\n",
            "Epoch 10/10\n",
            "1/1 [==============================] - 0s 2ms/step - loss: 0.0000e+00 - accuracy: 1.0000\n"
          ],
          "name": "stdout"
        },
        {
          "output_type": "execute_result",
          "data": {
            "text/plain": [
              "<tensorflow.python.keras.callbacks.History at 0x7f341e24d828>"
            ]
          },
          "metadata": {
            "tags": []
          },
          "execution_count": 45
        }
      ]
    },
    {
      "cell_type": "markdown",
      "metadata": {
        "id": "I3HdnaMMVqB3"
      },
      "source": [
        "## Confirm the types and shapes of the input vectors"
      ]
    },
    {
      "cell_type": "code",
      "metadata": {
        "id": "cYEAV2O4-vUT",
        "outputId": "d396f7c5-2aa5-4a5e-b273-72f9a435bb15",
        "colab": {
          "base_uri": "https://localhost:8080/"
        }
      },
      "source": [
        "print(type(x_train_norm))\n",
        "print(x_train_norm.shape)\n",
        "\n",
        "print(type(y_train_label))\n",
        "print(y_train_label.shape)"
      ],
      "execution_count": 18,
      "outputs": [
        {
          "output_type": "stream",
          "text": [
            "<class 'numpy.ndarray'>\n",
            "(4, 160000)\n",
            "<class 'numpy.ndarray'>\n",
            "(4,)\n"
          ],
          "name": "stdout"
        }
      ]
    },
    {
      "cell_type": "code",
      "metadata": {
        "id": "d4SiUrhV-06C",
        "outputId": "afca7080-1f1c-4ad2-d8a5-3d799bb83066",
        "colab": {
          "base_uri": "https://localhost:8080/"
        }
      },
      "source": [
        "for i in range(len(x_train_norm)):\n",
        "  print(type(x_train_norm[i]))\n",
        "  print(x_train_norm[i].shape)\n",
        "  print(type(x_train_norm[i][0]))\n",
        "  print(\"- - - - - - - - -\")"
      ],
      "execution_count": 19,
      "outputs": [
        {
          "output_type": "stream",
          "text": [
            "<class 'numpy.ndarray'>\n",
            "(160000,)\n",
            "<class 'numpy.float32'>\n",
            "- - - - - - - - -\n",
            "<class 'numpy.ndarray'>\n",
            "(160000,)\n",
            "<class 'numpy.float32'>\n",
            "- - - - - - - - -\n",
            "<class 'numpy.ndarray'>\n",
            "(160000,)\n",
            "<class 'numpy.float32'>\n",
            "- - - - - - - - -\n",
            "<class 'numpy.ndarray'>\n",
            "(160000,)\n",
            "<class 'numpy.float32'>\n",
            "- - - - - - - - -\n"
          ],
          "name": "stdout"
        }
      ]
    },
    {
      "cell_type": "markdown",
      "metadata": {
        "id": "NLkHhbEl78Ug"
      },
      "source": [
        "# Next steps:\n",
        "Embed the vggish model into a trainable binary classifier."
      ]
    },
    {
      "cell_type": "code",
      "metadata": {
        "id": "i4WS8YRw7vtY"
      },
      "source": [
        "# enable fine-tuning with trainable argument\n",
        "#layer = hub.KerasLayer(..., trainable=True)\n",
        "\n",
        "# Reexport the fine-tuned model\n",
        "\n",
        "#loaded_obj = hub.load(\"https://tfhub.dev/...\")\n",
        "#hub_layer = hub.KerasLayer(loaded_obj, trainable=True, ...)\n",
        "\n",
        "#model = keras.Sequential([..., hub_layer, ...])\n",
        "#model.compile(...)\n",
        "#model.fit(...)\n",
        "\n",
        "#export_module_dir = os.path.join(os.getcwd(), \"finetuned_model_export\")\n",
        "#tf.saved_model.save(loaded_obj, export_module_dir)"
      ],
      "execution_count": null,
      "outputs": []
    }
  ]
}