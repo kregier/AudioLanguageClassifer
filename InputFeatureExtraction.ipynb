{
 "cells": [
  {
   "cell_type": "markdown",
   "metadata": {},
   "source": [
    "# Input feature extraction (?)\n",
    "1. Set environment\n",
    "1. Set constants\n",
    "1. Convert time to sample and sample to time\n",
    "\n",
    "1. Load an audio file\n",
    "1. Extract the mel spectrogram"
   ]
  },
  {
   "cell_type": "code",
   "execution_count": 1,
   "metadata": {},
   "outputs": [
    {
     "name": "stderr",
     "output_type": "stream",
     "text": [
      "/opt/anaconda3/lib/python3.7/site-packages/pydub/utils.py:170: RuntimeWarning: Couldn't find ffmpeg or avconv - defaulting to ffmpeg, but may not work\n",
      "  warn(\"Couldn't find ffmpeg or avconv - defaulting to ffmpeg, but may not work\", RuntimeWarning)\n"
     ]
    }
   ],
   "source": [
    "# Set environment\n",
    "# Set up the environment\n",
    "import pandas as pd\n",
    "import numpy as np\n",
    "import matplotlib.pylab as plt\n",
    "import seaborn as sns\n",
    "import IPython.display as ipd\n",
    "import librosa\n",
    "import librosa.display\n",
    "\n",
    "from pyAudioAnalysis import audioSegmentation as aS\n",
    "\n",
    "import os\n",
    "import random"
   ]
  },
  {
   "cell_type": "code",
   "execution_count": 2,
   "metadata": {},
   "outputs": [],
   "source": [
    "# Calculate window size and hop length for 16kHz sample rate to get correct output size"
   ]
  },
  {
   "cell_type": "code",
   "execution_count": 3,
   "metadata": {},
   "outputs": [
    {
     "ename": "NameError",
     "evalue": "name 'SAMP_RATE' is not defined",
     "output_type": "error",
     "traceback": [
      "\u001b[0;31m---------------------------------------------------------------------------\u001b[0m",
      "\u001b[0;31mNameError\u001b[0m                                 Traceback (most recent call last)",
      "\u001b[0;32m<ipython-input-3-de2c15726bd0>\u001b[0m in \u001b[0;36m<module>\u001b[0;34m\u001b[0m\n\u001b[0;32m----> 1\u001b[0;31m \u001b[0mhop_len\u001b[0m \u001b[0;34m=\u001b[0m \u001b[0;36m10\u001b[0m \u001b[0;34m*\u001b[0m \u001b[0mSAMP_RATE\u001b[0m \u001b[0;34m/\u001b[0m \u001b[0;36m96\u001b[0m\u001b[0;34m\u001b[0m\u001b[0;34m\u001b[0m\u001b[0m\n\u001b[0m\u001b[1;32m      2\u001b[0m \u001b[0mprint\u001b[0m\u001b[0;34m(\u001b[0m\u001b[0mhop_len\u001b[0m\u001b[0;34m)\u001b[0m\u001b[0;34m\u001b[0m\u001b[0;34m\u001b[0m\u001b[0m\n\u001b[1;32m      3\u001b[0m \u001b[0mhop_len\u001b[0m\u001b[0;34m=\u001b[0m\u001b[0;36m1667\u001b[0m\u001b[0;34m\u001b[0m\u001b[0;34m\u001b[0m\u001b[0m\n",
      "\u001b[0;31mNameError\u001b[0m: name 'SAMP_RATE' is not defined"
     ]
    }
   ],
   "source": [
    "hop_len = 10 * SAMP_RATE / 96\n",
    "print(hop_len)\n",
    "hop_len=1667"
   ]
  },
  {
   "cell_type": "code",
   "execution_count": null,
   "metadata": {},
   "outputs": [],
   "source": [
    "win_size = int(.025 * SAMP_RATE)\n",
    "print(win_size)"
   ]
  },
  {
   "cell_type": "code",
   "execution_count": null,
   "metadata": {},
   "outputs": [],
   "source": [
    "# Audio features\n",
    "SAMP_RATE = 16000\n",
    "\n",
    "# Spectrogram parameters\n",
    "WIN_SIZE_S = 0.025\n",
    "WIN_HOP_S = 0.01\n",
    "N_FRAMES = 96       # over 10s audio\n",
    "FRAME_SIZE_S = 0.96\n",
    "\n",
    "# Mel spectrogram parameters\n",
    "N_MEL_BANDS = 64\n",
    "FREQ_MIN = 125\n",
    "FREQ_MAX = 7500\n",
    "\n",
    "# Result size\n",
    "RESULT_SIZE = (96, 64)\n",
    "\n",
    "HOP = 1667\n",
    "WIN = 400"
   ]
  },
  {
   "cell_type": "code",
   "execution_count": null,
   "metadata": {},
   "outputs": [],
   "source": [
    "# frame = short window of signal, separated by hop_length=512 samples\n",
    "# centered frames"
   ]
  },
  {
   "cell_type": "code",
   "execution_count": null,
   "metadata": {},
   "outputs": [],
   "source": [
    "# librosa functions I might want to use\n",
    "# amplitude_to_db( spec )  # convert amplitude spec to dB spec\n",
    "# db_to_amplitude( spec )  # convert db spect to amplitude spec\n",
    "# power_to_db( spec )  # convert power spec to amplitude spec\n",
    "# db_to_power( spec )  # convert dB spec to power spec\n",
    "\n",
    "# convert frame index to audio sample index\n",
    "# frames_to_samples( frames[, hop_len, n_fft]) \n",
    "\n",
    "# convert frame count to time(seconds)\n",
    "# frames_to_time( frames[, sr, hop_len, n_fft])\n",
    "\n",
    "# convert sample indices to STFT frames\n",
    "# samples_to_frames(samples[, hop_len, n_fft])\n",
    "\n",
    "# convert sample indices to time (seconds)\n",
    "# samples_to_time(samples[, sr])"
   ]
  },
  {
   "cell_type": "code",
   "execution_count": null,
   "metadata": {},
   "outputs": [],
   "source": [
    "y, sr = librosa.load('spanish94.mp3', sr=SAMP_RATE)\n",
    "y = y[0:10*SAMP_RATE]\n",
    "\n",
    "mel = librosa.feature.melspectrogram(y, sr, n_mels=N_MEL_BANDS, \n",
    "                                     fmin=FREQ_MIN, fmax=FREQ_MAX,\n",
    "                                     hop_length=HOP, \n",
    "                                     win_length=WIN, n_fft=512)"
   ]
  },
  {
   "cell_type": "code",
   "execution_count": null,
   "metadata": {},
   "outputs": [],
   "source": [
    "mel.T.shape"
   ]
  },
  {
   "cell_type": "code",
   "execution_count": null,
   "metadata": {},
   "outputs": [],
   "source": [
    "# Plot mel spectrogram\n",
    "fig, axn = plt.subplots(2, 1)\n",
    "\n",
    "librosa.display.waveplot(y, sr=SAMP_RATE, ax=axn[0], color='k')\n",
    "axn[0].set(title='Waveform')\n",
    " \n",
    "mel_db = librosa.power_to_db(mel, ref=np.max)\n",
    "img = librosa.display.specshow(mel_db, x_axis='s', y_axis='mel', \n",
    "                               ax=axn[1], fmin=FREQ_MIN, fmax=FREQ_MAX,\n",
    "                               cmap='gray_r', hop_length=HOP )#,\n",
    "                               # n_fft=512) #win_length=win_size,\n",
    "fig.colorbar(img, ax=axn[1], format='%+2.0f dB')\n",
    "axn[1].set(title=\"Mel-frequency spectrogram\")\n",
    "plt.tight_layout()"
   ]
  },
  {
   "cell_type": "code",
   "execution_count": null,
   "metadata": {},
   "outputs": [],
   "source": [
    "mel_db.T.shape"
   ]
  },
  {
   "cell_type": "code",
   "execution_count": null,
   "metadata": {},
   "outputs": [],
   "source": []
  }
 ],
 "metadata": {
  "kernelspec": {
   "display_name": "Python 3",
   "language": "python",
   "name": "python3"
  },
  "language_info": {
   "codemirror_mode": {
    "name": "ipython",
    "version": 3
   },
   "file_extension": ".py",
   "mimetype": "text/x-python",
   "name": "python",
   "nbconvert_exporter": "python",
   "pygments_lexer": "ipython3",
   "version": "3.7.7"
  }
 },
 "nbformat": 4,
 "nbformat_minor": 4
}
