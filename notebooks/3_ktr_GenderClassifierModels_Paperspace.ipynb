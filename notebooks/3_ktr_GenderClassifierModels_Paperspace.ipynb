{
 "cells": [
  {
   "cell_type": "markdown",
   "metadata": {},
   "source": [
    "# Gender Classifiers\n",
    "Given an audio file as input, classifiy the speaker as either male or female.\n",
    "\n",
    "This notebook creates dataset generators, and builds, trains and evaluates Gender Classifier models.\n",
    "\n",
    "It is meant to be run on the Paperspace platform, with access to GPUs for the training of the models."
   ]
  },
  {
   "cell_type": "code",
   "execution_count": 33,
   "metadata": {},
   "outputs": [
    {
     "name": "stdout",
     "output_type": "stream",
     "text": [
      "All set up!\n"
     ]
    }
   ],
   "source": [
    "# Set up the environment\n",
    "#!pip install soundfile\n",
    "\n",
    "import pandas as pd\n",
    "import numpy as np\n",
    "import matplotlib.pylab as plt\n",
    "import seaborn as sns\n",
    "import IPython.display as ipd\n",
    "import librosa\n",
    "import soundfile as sf\n",
    "\n",
    "import os\n",
    "import random\n",
    "import re\n",
    "\n",
    "import tensorflow as tf\n",
    "import tensorflow_hub as hub\n",
    "from tensorflow.keras.callbacks import EarlyStopping, ModelCheckpoint\n",
    "\n",
    "from keras.layers import Dense, Input, Flatten, Dropout\n",
    "from keras.models import Sequential, load_model\n",
    "\n",
    "from sklearn.metrics import classification_report, confusion_matrix\n",
    "from sklearn.model_selection import train_test_split\n",
    "\n",
    "print(\"All set up!\")"
   ]
  },
  {
   "cell_type": "code",
   "execution_count": 34,
   "metadata": {},
   "outputs": [],
   "source": [
    "# Set constants\n",
    "SAMP_RATE = 16000\n",
    "BATCH_SIZE=32\n",
    "CLF='gender'"
   ]
  },
  {
   "cell_type": "code",
   "execution_count": 35,
   "metadata": {},
   "outputs": [
    {
     "data": {
      "text/html": [
       "<div>\n",
       "<style scoped>\n",
       "    .dataframe tbody tr th:only-of-type {\n",
       "        vertical-align: middle;\n",
       "    }\n",
       "\n",
       "    .dataframe tbody tr th {\n",
       "        vertical-align: top;\n",
       "    }\n",
       "\n",
       "    .dataframe thead th {\n",
       "        text-align: right;\n",
       "    }\n",
       "</style>\n",
       "<table border=\"1\" class=\"dataframe\">\n",
       "  <thead>\n",
       "    <tr style=\"text-align: right;\">\n",
       "      <th></th>\n",
       "      <th>age</th>\n",
       "      <th>age_onset</th>\n",
       "      <th>birthplace</th>\n",
       "      <th>filename</th>\n",
       "      <th>native_language</th>\n",
       "      <th>sex</th>\n",
       "      <th>country</th>\n",
       "      <th>file_missing?</th>\n",
       "    </tr>\n",
       "    <tr>\n",
       "      <th>speakerid</th>\n",
       "      <th></th>\n",
       "      <th></th>\n",
       "      <th></th>\n",
       "      <th></th>\n",
       "      <th></th>\n",
       "      <th></th>\n",
       "      <th></th>\n",
       "      <th></th>\n",
       "    </tr>\n",
       "  </thead>\n",
       "  <tbody>\n",
       "    <tr>\n",
       "      <th>1</th>\n",
       "      <td>27.0</td>\n",
       "      <td>9.0</td>\n",
       "      <td>virginia, south africa</td>\n",
       "      <td>afrikaans1</td>\n",
       "      <td>afrikaans</td>\n",
       "      <td>female</td>\n",
       "      <td>south africa</td>\n",
       "      <td>False</td>\n",
       "    </tr>\n",
       "    <tr>\n",
       "      <th>2</th>\n",
       "      <td>40.0</td>\n",
       "      <td>5.0</td>\n",
       "      <td>pretoria, south africa</td>\n",
       "      <td>afrikaans2</td>\n",
       "      <td>afrikaans</td>\n",
       "      <td>male</td>\n",
       "      <td>south africa</td>\n",
       "      <td>False</td>\n",
       "    </tr>\n",
       "    <tr>\n",
       "      <th>3</th>\n",
       "      <td>25.0</td>\n",
       "      <td>15.0</td>\n",
       "      <td>diekabo, ivory coast</td>\n",
       "      <td>agni1</td>\n",
       "      <td>agni</td>\n",
       "      <td>male</td>\n",
       "      <td>ivory coast</td>\n",
       "      <td>False</td>\n",
       "    </tr>\n",
       "    <tr>\n",
       "      <th>4</th>\n",
       "      <td>19.0</td>\n",
       "      <td>6.0</td>\n",
       "      <td>prishtina, kosovo</td>\n",
       "      <td>albanian1</td>\n",
       "      <td>albanian</td>\n",
       "      <td>male</td>\n",
       "      <td>kosovo</td>\n",
       "      <td>False</td>\n",
       "    </tr>\n",
       "    <tr>\n",
       "      <th>5</th>\n",
       "      <td>33.0</td>\n",
       "      <td>15.0</td>\n",
       "      <td>tirana, albania</td>\n",
       "      <td>albanian2</td>\n",
       "      <td>albanian</td>\n",
       "      <td>male</td>\n",
       "      <td>albania</td>\n",
       "      <td>False</td>\n",
       "    </tr>\n",
       "  </tbody>\n",
       "</table>\n",
       "</div>"
      ],
      "text/plain": [
       "            age  age_onset              birthplace    filename  \\\n",
       "speakerid                                                        \n",
       "1          27.0        9.0  virginia, south africa  afrikaans1   \n",
       "2          40.0        5.0  pretoria, south africa  afrikaans2   \n",
       "3          25.0       15.0    diekabo, ivory coast       agni1   \n",
       "4          19.0        6.0       prishtina, kosovo   albanian1   \n",
       "5          33.0       15.0         tirana, albania   albanian2   \n",
       "\n",
       "          native_language     sex       country  file_missing?  \n",
       "speakerid                                                       \n",
       "1               afrikaans  female  south africa          False  \n",
       "2               afrikaans    male  south africa          False  \n",
       "3                    agni    male   ivory coast          False  \n",
       "4                albanian    male        kosovo          False  \n",
       "5                albanian    male       albania          False  "
      ]
     },
     "execution_count": 35,
     "metadata": {},
     "output_type": "execute_result"
    }
   ],
   "source": [
    "# Load the data\n",
    "meta = pd.read_csv('processed.csv', index_col='speakerid')\n",
    "meta.head()"
   ]
  },
  {
   "cell_type": "markdown",
   "metadata": {},
   "source": [
    "# Create data generators"
   ]
  },
  {
   "cell_type": "markdown",
   "metadata": {},
   "source": [
    "## Load the VGGish model\n",
    "The model needs to be instantiated before the dataset generator is called."
   ]
  },
  {
   "cell_type": "code",
   "execution_count": 4,
   "metadata": {},
   "outputs": [],
   "source": [
    "# Using a SavedModel from the TFHub in Keras\n",
    "# https://www.tensorflow.org/hub/tf2_saved_model\n",
    "# VGGish model, from https://tfhub.dev/google/vggish/1\n",
    "\n",
    "# Link to the model on TFHub\n",
    "hub_url = 'https://tfhub.dev/google/vggish/1'\n",
    "\n",
    "# Load the model as a Keras model\n",
    "vggish_model = hub.KerasLayer(hub_url)\n",
    "vggish_model.trainable = False"
   ]
  },
  {
   "cell_type": "markdown",
   "metadata": {},
   "source": [
    "## Create lists of the files to feed the generator"
   ]
  },
  {
   "cell_type": "code",
   "execution_count": 5,
   "metadata": {},
   "outputs": [
    {
     "name": "stdout",
     "output_type": "stream",
     "text": [
      "['storage/data/gender/train/english329.F.1o.wav', 'storage/data/gender/train/ngemba2.F.1n.wav', 'storage/data/gender/train/portuguese14.M.0o.wav', 'storage/data/gender/train/english27.F.0o.wav', 'storage/data/gender/train/ukrainian4.M.0n.wav']\n",
      "5562\n"
     ]
    }
   ],
   "source": [
    "train_names = os.listdir('storage/data/gender/train')\n",
    "train_paths = ['storage/data/gender/train/{}'.format(i) for i in train_names]\n",
    "print(train_paths[:5])\n",
    "print(len(train_paths))"
   ]
  },
  {
   "cell_type": "code",
   "execution_count": 6,
   "metadata": {},
   "outputs": [
    {
     "name": "stdout",
     "output_type": "stream",
     "text": [
      "['storage/data/gender/validation/french60.F.0n.wav', 'storage/data/gender/validation/bai1.F.0o.wav', 'storage/data/gender/validation/gedeo1.M.0n.wav', 'storage/data/gender/validation/lao2.F.2o.wav', 'storage/data/gender/validation/english416.M.0n.wav']\n",
      "1852\n"
     ]
    }
   ],
   "source": [
    "val_names = os.listdir('storage/data/gender/validation')\n",
    "val_paths = ['storage/data/gender/validation/{}'.format(i) for i in val_names]\n",
    "print(val_paths[:5])\n",
    "print(len(val_paths))"
   ]
  },
  {
   "cell_type": "code",
   "execution_count": 7,
   "metadata": {},
   "outputs": [
    {
     "name": "stdout",
     "output_type": "stream",
     "text": [
      "['storage/data/gender/test/macedonian21.F.0o.wav', 'storage/data/gender/test/english391.F.1o.wav', 'storage/data/gender/test/taiwanese6.F.2o.wav', 'storage/data/gender/test/english194.M.0o.wav', 'storage/data/gender/test/dutch4.M.1o.wav']\n",
      "1206\n"
     ]
    }
   ],
   "source": [
    "test_names = os.listdir('storage/data/gender/test')\n",
    "test_paths = ['storage/data/gender/test/{}'.format(i) for i in test_names]\n",
    "print(test_paths[:5])\n",
    "print(len(test_paths))"
   ]
  },
  {
   "cell_type": "markdown",
   "metadata": {},
   "source": [
    "## Get sample sizes and number of batches for each dataset"
   ]
  },
  {
   "cell_type": "code",
   "execution_count": 8,
   "metadata": {},
   "outputs": [
    {
     "name": "stdout",
     "output_type": "stream",
     "text": [
      "Number of training samples:  5562\n",
      "Number of validation samples:  1852\n",
      "Number of testing samples:  1206\n"
     ]
    }
   ],
   "source": [
    "# Print sizes of data splits\n",
    "print(\"Number of training samples: \", len(train_paths))\n",
    "print(\"Number of validation samples: \", len(val_paths))\n",
    "print(\"Number of testing samples: \", len(test_paths))"
   ]
  },
  {
   "cell_type": "code",
   "execution_count": 9,
   "metadata": {},
   "outputs": [
    {
     "name": "stdout",
     "output_type": "stream",
     "text": [
      "training_steps_per_epoch =  173\n",
      "validation_steps =  57\n",
      "evaluation_steps =  37\n"
     ]
    }
   ],
   "source": [
    "# Calculate how many dataset batches to generate\n",
    "train_steps = np.int(np.ceil(len(train_paths)/BATCH_SIZE)) -1\n",
    "val_steps = np.int(np.ceil(len(val_paths)/BATCH_SIZE))-1\n",
    "eval_steps = np.int(np.ceil(len(test_paths)/BATCH_SIZE))-1\n",
    "\n",
    "print(\"training_steps_per_epoch = \", train_steps)\n",
    "print(\"validation_steps = \", val_steps)\n",
    "print(\"evaluation_steps = \", eval_steps)"
   ]
  },
  {
   "cell_type": "markdown",
   "metadata": {},
   "source": [
    "## Define the generator and generate a dataset to check it works correctly"
   ]
  },
  {
   "cell_type": "code",
   "execution_count": 10,
   "metadata": {},
   "outputs": [],
   "source": [
    "def tf_data_generator(file_list, batch_size=32):\n",
    "    '''Create a dataset generator. \n",
    "    Iterate through a list of filenames and process in batches.\n",
    "    Extract audio features from vggish model.\n",
    "    WARNING: This generator forms an infinite loop, \n",
    "    so you need to specify how long to run the generator \n",
    "    before fitting and evaluating a model.\n",
    "\n",
    "    Arguments:\n",
    "    file_list - list of filenames to iterate\n",
    "    vggish_model  - pass the instantiated model to the function\n",
    "    batch_size - how many files to process at a time'''\n",
    "    \n",
    "    i = 1\n",
    "    while True: #infinite loop\n",
    "        if i*batch_size >= len(file_list):\n",
    "            i=1\n",
    "            np.random.shuffle(file_list)\n",
    "        else:\n",
    "            file_chunk = file_list[(i-1)*batch_size:i*batch_size]\n",
    "            data = []\n",
    "            labels = []\n",
    "            label_classes = tf.constant(['M', 'F'])\n",
    "            for file in file_chunk:\n",
    "                # Read data\n",
    "                audio, sr = librosa.load(file, sr=16000)\n",
    "                # Apply transformations\n",
    "                embed = vggish_model(audio)\n",
    "                data.append(embed)\n",
    "                # Extract labels from filename\n",
    "                bytes_string = file\n",
    "                string_name = str(bytes_string, 'utf-8')\n",
    "                split_str = string_name.split('.')\n",
    "                #print(split_str)\n",
    "                pattern = tf.constant(split_str[1])\n",
    "                #print(pattern)\n",
    "                for j in range(len(label_classes)):\n",
    "                    if re.match(pattern.numpy(), label_classes[j].numpy()):\n",
    "                        labels.append(j)\n",
    "\n",
    "            data = np.asarray(data)\n",
    "            labels = np.asarray(labels)\n",
    "\n",
    "            yield data, labels\n",
    "            i += 1"
   ]
  },
  {
   "cell_type": "code",
   "execution_count": 11,
   "metadata": {},
   "outputs": [],
   "source": [
    "dataset_check = tf.data.Dataset.from_generator(tf_data_generator,\n",
    "                                         args = [train_paths[:2*BATCH_SIZE], BATCH_SIZE],\n",
    "                                         output_types=(tf.float32, tf.float32),\n",
    "                                         output_shapes= ((None, 10, 128),(None,)) )"
   ]
  },
  {
   "cell_type": "code",
   "execution_count": 12,
   "metadata": {},
   "outputs": [
    {
     "name": "stdout",
     "output_type": "stream",
     "text": [
      "(32, 10, 128)\n",
      "tf.Tensor(\n",
      "[1. 1. 0. 1. 0. 1. 1. 0. 1. 1. 1. 0. 1. 1. 1. 0. 0. 1. 0. 0. 0. 0. 0. 0.\n",
      " 0. 0. 1. 0. 1. 1. 0. 1.], shape=(32,), dtype=float32)\n",
      "(32, 10, 128)\n",
      "tf.Tensor(\n",
      "[1. 0. 1. 1. 1. 1. 1. 0. 1. 0. 0. 1. 0. 0. 0. 0. 0. 1. 0. 0. 1. 1. 0. 1.\n",
      " 0. 0. 0. 1. 1. 1. 1. 1.], shape=(32,), dtype=float32)\n"
     ]
    }
   ],
   "source": [
    "# Check shape and size of dataset batches\n",
    "for data, labels in dataset_check.take(2):\n",
    "    print(data.shape)\n",
    "    print(labels)"
   ]
  },
  {
   "cell_type": "markdown",
   "metadata": {},
   "source": [
    "## Generate the datasets to feed the model."
   ]
  },
  {
   "cell_type": "code",
   "execution_count": 13,
   "metadata": {},
   "outputs": [],
   "source": [
    "train_dataset = tf.data.Dataset.from_generator(tf_data_generator, \n",
    "                                         args = [train_paths, BATCH_SIZE],\n",
    "                                         output_types=(tf.float32, tf.float32),\n",
    "                                         output_shapes= ((None, 10, 128),(None,)) ) \n",
    "validation_dataset = tf.data.Dataset.from_generator(tf_data_generator, \n",
    "                                         args = [val_paths, BATCH_SIZE],\n",
    "                                         output_types=(tf.float32, tf.float32),\n",
    "                                         output_shapes= ((None, 10, 128),(None,)) )\n",
    "test_dataset = tf.data.Dataset.from_generator(tf_data_generator, \n",
    "                                         args = [test_paths, BATCH_SIZE],\n",
    "                                         output_types=(tf.float32, tf.float32),\n",
    "                                         output_shapes= ((None, 10, 128),(None,)) ) "
   ]
  },
  {
   "cell_type": "markdown",
   "metadata": {},
   "source": [
    "# Build the model(s)"
   ]
  },
  {
   "cell_type": "code",
   "execution_count": 14,
   "metadata": {},
   "outputs": [],
   "source": [
    "# Modified from https://console.paperspace.com/gcn-team/notebook/prcnk5wzd\n",
    "# Set constants\n",
    "DROPOUT = 0.5\n",
    "DENSE_ACTIVATION = 'relu'\n",
    "FINAL_ACTIVATION  = 'sigmoid'\n",
    "LOSS = 'binary_crossentropy'\n",
    "\n",
    "NUM_EPOCHS=100\n",
    "EARLY_STOP_AFTER = 5\n",
    "\n",
    "TRAIN_STEPS = train_steps\n",
    "VAL_STEPS = val_steps\n",
    "EVAL_STEPS = eval_steps"
   ]
  },
  {
   "cell_type": "code",
   "execution_count": 15,
   "metadata": {},
   "outputs": [],
   "source": [
    "def create_gender_model(n_layers, n_nodes):\n",
    "    model = Sequential()\n",
    "    #Input shape (None, 10, 128)\n",
    "    model.add(Input(shape=(10, 128), batch_size=BATCH_SIZE ))\n",
    "    \n",
    "    for i in range(n_layers):\n",
    "        model.add(Dense(n_nodes/(i+1), activation=DENSE_ACTIVATION))\n",
    "        model.add(Dropout(DROPOUT))\n",
    "\n",
    "    model.add(Flatten())\n",
    "    # Output\n",
    "    model.add(Dense(1, activation=FINAL_ACTIVATION) )\n",
    "\n",
    "    model.compile(loss=LOSS, optimizer='adam', metrics=['accuracy', 'Precision', 'Recall'])\n",
    "    return model"
   ]
  },
  {
   "cell_type": "code",
   "execution_count": 16,
   "metadata": {},
   "outputs": [],
   "source": [
    "def plot_accuracy(model_name, hist_df, fig_path):\n",
    "    plt.plot(hist_df['accuracy'])\n",
    "    plt.plot(hist_df['val_accuracy'])\n",
    "    plt.title('Accuracy: {}'.format(model_name))\n",
    "    plt.ylabel('Accuracy')\n",
    "    plt.xlabel('Epoch')\n",
    "    plt.legend(['train', 'val'], loc='upper left')\n",
    "    plt.show()\n",
    "    plt.savefig('{}.Accuracy.png'.format(fig_path))\n",
    "\n",
    "def plot_loss(model_name, hist_df, fig_path):\n",
    "    plt.plot(hist_df['loss'])\n",
    "    plt.plot(hist_df['val_loss'])\n",
    "    plt.title('Loss: {}'.format(model_name))\n",
    "    plt.ylabel('Loss')\n",
    "    plt.xlabel('Epoch')\n",
    "    plt.legend(['train', 'val'], loc='upper left')\n",
    "    plt.show()\n",
    "    plt.savefig('{}.Loss.png'.format(fig_path))"
   ]
  },
  {
   "cell_type": "code",
   "execution_count": 17,
   "metadata": {},
   "outputs": [],
   "source": [
    "def evaluate_model(model, model_name, test_ds):\n",
    "    # Evaluate the model\n",
    "    #val_loss, val_acc, val_prec, val_recall = model.evaluate(val_ds, steps=VAL_STEPS)\n",
    "    #test_loss, test_acc, test_prec, test_recall = model.evaluate(test_ds, steps=EVAL_STEPS)\n",
    "    \n",
    "    y_pred = model.predict(test_ds, steps=EVAL_STEPS)\n",
    "    y_pred_int  = []\n",
    "    for i in y_pred:\n",
    "        if i < 0.5:\n",
    "            y_pred_int.append(0)\n",
    "        else: y_pred_int.append(1)\n",
    "            \n",
    "    # Get 1D array of labels from test_dataset\n",
    "    y_lab = np.concatenate([y for x, y in test_ds.take(EVAL_STEPS)], axis=0)\n",
    "    \n",
    "    fig_path = ('storage/figures/gender/{}'.format(model_name))\n",
    "\n",
    "    conf_mat = tf.math.confusion_matrix(y_lab, y_pred_int)\n",
    "    print(conf_mat)\n",
    "    sns.heatmap(conf_mat, annot = True, cmap='YlGnBu')\n",
    "    plt.title(\"Confusion matrix: {}\".format(model_name))\n",
    "    plt.savefig('{}.ConfusionMatrix.png'.format(fig_path))\n",
    "\n",
    "    return y_lab, y_pred_int"
   ]
  },
  {
   "cell_type": "code",
   "execution_count": 18,
   "metadata": {},
   "outputs": [],
   "source": [
    "def run_model(n_layers, n_nodes, train_ds, val_ds, test_ds):\n",
    "    \n",
    "    # Create and compile the model\n",
    "    model = create_gender_model(n_layers, n_nodes)\n",
    "    \n",
    "    model_name = 'Gender.Dense.nLay{}.nNodes{}.dropout{}'.format(n_layers, n_nodes, DROPOUT)\n",
    "    \n",
    "    # Set up callbacks\n",
    "    ckpt_name = '{}.ckpt'.format(model_name)\n",
    "    ckpt_path = 'storage/models/gender/{}'.format(ckpt_name)\n",
    "    ckpt_dir = os.path.dirname(ckpt_path)\n",
    "\n",
    "    ckpt = ModelCheckpoint(filepath=ckpt_path,\n",
    "                           monitor='val_loss',\n",
    "                           save_weights_only=True,\n",
    "                           mode='auto',\n",
    "                           save_best_only=True)\n",
    "    \n",
    "    early_stopping = EarlyStopping(patience=EARLY_STOP_AFTER)\n",
    "    \n",
    "    # Train the model\n",
    "    hist = model.fit(train_ds, steps_per_epoch = TRAIN_STEPS, epochs=NUM_EPOCHS, \n",
    "                     validation_data=val_ds, validation_steps=VAL_STEPS,\n",
    "                    callbacks=[early_stopping, ckpt])\n",
    "    \n",
    "    # Plot training history and save figures\n",
    "    hist_df = pd.DataFrame(hist.history)\n",
    "    fig_path = ('storage/figures/gender/{}'.format(model_name))\n",
    "    plot_accuracy(model_name, hist_df, fig_path)\n",
    "    plot_loss(model_name, hist_df, fig_path)\n",
    "\n",
    "    # Save the model\n",
    "    model.save('storage/models/gender/{}'.format(model_name))\n",
    "    hist_csv_file = 'storage/models/gender/{}.csv'.format(model_name)\n",
    "\n",
    "    with open(hist_csv_file, mode='w') as f:\n",
    "        hist_df.to_csv(f)\n",
    "    \n",
    "    # Evaluate the model\n",
    "    print(model.metrics_names)\n",
    "    val_loss, val_acc, val_prec, val_recall = model.evaluate(val_ds, steps=VAL_STEPS)\n",
    "    test_loss, test_acc, test_prec, test_recall = model.evaluate(test_ds, steps=EVAL_STEPS)\n",
    "    \n",
    "    y_lab, y_pred = evaluate_model(model, model_name, test_ds)\n",
    "    \n",
    "    print('{} complete'.format(model_name))\n",
    "    \n",
    "    return model, hist_df, y_lab, y_pred"
   ]
  },
  {
   "cell_type": "markdown",
   "metadata": {},
   "source": [
    "## Model 1\n",
    "This model will have one hidden layer with 128 nodes."
   ]
  },
  {
   "cell_type": "code",
   "execution_count": 19,
   "metadata": {},
   "outputs": [],
   "source": [
    "# Set model parameters\n",
    "n_layers = 1\n",
    "n_nodes = 128\n",
    "\n",
    "model1_name = 'Gender.Dense.nLay{}.nNodes{}.dropout{}'.format(n_layers, n_nodes, DROPOUT)\n",
    "model1_path = 'storage/models/gender/{}'.format(model1_name)\n",
    "ckpt1_name = '{}.ckpt'.format(model1_name)\n",
    "ckpt1_path = 'storage/models/gender/{}'.format(ckpt1_name)\n",
    "ckpt1_dir = os.path.dirname(ckpt1_path)"
   ]
  },
  {
   "cell_type": "code",
   "execution_count": 20,
   "metadata": {},
   "outputs": [
    {
     "name": "stdout",
     "output_type": "stream",
     "text": [
      "Gender.Dense.nLay1.nNodes128.dropout0.5\n",
      "storage/models/gender/Gender.Dense.nLay1.nNodes128.dropout0.5\n",
      "storage/models/gender/Gender.Dense.nLay1.nNodes128.dropout0.5.ckpt\n",
      "storage/models/gender\n"
     ]
    }
   ],
   "source": [
    "print(model1_name)\n",
    "print(model1_path)\n",
    "print(ckpt1_path)\n",
    "print(ckpt1_dir)"
   ]
  },
  {
   "cell_type": "code",
   "execution_count": 22,
   "metadata": {},
   "outputs": [
    {
     "name": "stdout",
     "output_type": "stream",
     "text": [
      "Model weights loaded\n",
      "Model: \"sequential\"\n",
      "_________________________________________________________________\n",
      "Layer (type)                 Output Shape              Param #   \n",
      "=================================================================\n",
      "dense (Dense)                (32, 10, 128)             16512     \n",
      "_________________________________________________________________\n",
      "dropout (Dropout)            (32, 10, 128)             0         \n",
      "_________________________________________________________________\n",
      "flatten (Flatten)            (32, 1280)                0         \n",
      "_________________________________________________________________\n",
      "dense_1 (Dense)              (32, 1)                   1281      \n",
      "=================================================================\n",
      "Total params: 17,793\n",
      "Trainable params: 17,793\n",
      "Non-trainable params: 0\n",
      "_________________________________________________________________\n"
     ]
    }
   ],
   "source": [
    "if os.path.isdir(model1_path):\n",
    "    model1 = tf.keras.models.load_model(model1_path)\n",
    "    print(\"Saved model loaded\")\n",
    "    model1.summary()\n",
    "elif os.path.isdir(ckpt1_path):\n",
    "    model1 = create_gender_model(n_layers, n_nodes)\n",
    "    model1.load_weights(ckpt1_path)\n",
    "    print(\"Model weights loaded\")\n",
    "    model1.summary()\n",
    "else:\n",
    "    print(\"Create a new model\")\n",
    "    model1, hist1, y1_lab, y1_pred = run_model(n_layers, n_nodes, train_dataset, validation_dataset, test_dataset)"
   ]
  },
  {
   "cell_type": "code",
   "execution_count": 22,
   "metadata": {},
   "outputs": [
    {
     "name": "stdout",
     "output_type": "stream",
     "text": [
      "Epoch 1/100\n",
      "173/173 [==============================] - 1882s 11s/step - loss: 0.0948 - accuracy: 0.9648 - precision: 0.9638 - recall: 0.9649 - val_loss: 0.0699 - val_accuracy: 0.9836 - val_precision: 0.9766 - val_recall: 0.9898\n",
      "Epoch 2/100\n",
      "173/173 [==============================] - 1649s 10s/step - loss: 0.0367 - accuracy: 0.9883 - precision: 0.9894 - recall: 0.9868 - val_loss: 0.0738 - val_accuracy: 0.9814 - val_precision: 0.9722 - val_recall: 0.9898\n",
      "Epoch 3/100\n",
      "173/173 [==============================] - 1636s 9s/step - loss: 0.0307 - accuracy: 0.9899 - precision: 0.9905 - recall: 0.9890 - val_loss: 0.0685 - val_accuracy: 0.9857 - val_precision: 0.9842 - val_recall: 0.9864\n",
      "Epoch 4/100\n",
      "173/173 [==============================] - 1631s 9s/step - loss: 0.0289 - accuracy: 0.9904 - precision: 0.9916 - recall: 0.9890 - val_loss: 0.0745 - val_accuracy: 0.9825 - val_precision: 0.9754 - val_recall: 0.9887\n",
      "Epoch 5/100\n",
      "173/173 [==============================] - 1676s 10s/step - loss: 0.0263 - accuracy: 0.9921 - precision: 0.9920 - recall: 0.9920 - val_loss: 0.0760 - val_accuracy: 0.9830 - val_precision: 0.9755 - val_recall: 0.9898\n",
      "Epoch 6/100\n",
      "173/173 [==============================] - 1628s 9s/step - loss: 0.0247 - accuracy: 0.9917 - precision: 0.9916 - recall: 0.9916 - val_loss: 0.0753 - val_accuracy: 0.9830 - val_precision: 0.9798 - val_recall: 0.9853\n",
      "Epoch 7/100\n",
      "173/173 [==============================] - 1632s 9s/step - loss: 0.0219 - accuracy: 0.9917 - precision: 0.9912 - recall: 0.9920 - val_loss: 0.0769 - val_accuracy: 0.9830 - val_precision: 0.9798 - val_recall: 0.9853\n",
      "Epoch 8/100\n",
      "173/173 [==============================] - 1624s 9s/step - loss: 0.0176 - accuracy: 0.9933 - precision: 0.9930 - recall: 0.9934 - val_loss: 0.0803 - val_accuracy: 0.9841 - val_precision: 0.9798 - val_recall: 0.9876\n"
     ]
    },
    {
     "data": {
      "image/png": "[encoded data removed]",
      "text/plain": [
       "<Figure size 432x288 with 1 Axes>"
      ]
     },
     "metadata": {
      "needs_background": "light"
     },
     "output_type": "display_data"
    },
    {
     "data": {
      "image/png": "[encoded data removed]",
      "text/plain": [
       "<Figure size 432x288 with 1 Axes>"
      ]
     },
     "metadata": {
      "needs_background": "light"
     },
     "output_type": "display_data"
    },
    {
     "name": "stdout",
     "output_type": "stream",
     "text": [
      "57/57 [==============================] - 396s 7s/step - loss: 0.0803 - accuracy: 0.9841 - precision: 0.9798 - recall: 0.9876\n"
     ]
    },
    {
     "ename": "ValueError",
     "evalue": "too many values to unpack (expected 2)",
     "output_type": "error",
     "traceback": [
      "\u001b[0;31m---------------------------------------------------------------------------\u001b[0m",
      "\u001b[0;31mValueError\u001b[0m                                Traceback (most recent call last)",
      "\u001b[0;32m<ipython-input-22-ceecbbf0275d>\u001b[0m in \u001b[0;36m<module>\u001b[0;34m\u001b[0m\n\u001b[0;32m----> 1\u001b[0;31m \u001b[0mmodel1\u001b[0m\u001b[0;34m,\u001b[0m \u001b[0mhist1\u001b[0m \u001b[0;34m=\u001b[0m \u001b[0mrun_model\u001b[0m\u001b[0;34m(\u001b[0m\u001b[0mn_layers\u001b[0m\u001b[0;34m=\u001b[0m\u001b[0;36m1\u001b[0m\u001b[0;34m,\u001b[0m \u001b[0mn_nodes\u001b[0m\u001b[0;34m=\u001b[0m\u001b[0;36m128\u001b[0m\u001b[0;34m,\u001b[0m \u001b[0mtrain_ds\u001b[0m\u001b[0;34m=\u001b[0m\u001b[0mtrain_dataset\u001b[0m\u001b[0;34m,\u001b[0m \u001b[0mval_ds\u001b[0m\u001b[0;34m=\u001b[0m\u001b[0mvalidation_dataset\u001b[0m\u001b[0;34m,\u001b[0m \u001b[0mtest_ds\u001b[0m\u001b[0;34m=\u001b[0m\u001b[0mtest_dataset\u001b[0m\u001b[0;34m)\u001b[0m\u001b[0;34m\u001b[0m\u001b[0;34m\u001b[0m\u001b[0m\n\u001b[0m\u001b[1;32m      2\u001b[0m \u001b[0mmodel1\u001b[0m\u001b[0;34m.\u001b[0m\u001b[0msummary\u001b[0m\u001b[0;34m(\u001b[0m\u001b[0;34m)\u001b[0m\u001b[0;34m\u001b[0m\u001b[0;34m\u001b[0m\u001b[0m\n",
      "\u001b[0;32m<ipython-input-17-3ee8ff26b7e6>\u001b[0m in \u001b[0;36mrun_model\u001b[0;34m(n_layers, n_nodes, train_ds, val_ds, test_ds)\u001b[0m\n\u001b[1;32m     31\u001b[0m \u001b[0;34m\u001b[0m\u001b[0m\n\u001b[1;32m     32\u001b[0m     \u001b[0;31m# Evaluate the model\u001b[0m\u001b[0;34m\u001b[0m\u001b[0;34m\u001b[0m\u001b[0;34m\u001b[0m\u001b[0m\n\u001b[0;32m---> 33\u001b[0;31m     \u001b[0mval_loss\u001b[0m\u001b[0;34m,\u001b[0m \u001b[0mval_acc\u001b[0m \u001b[0;34m=\u001b[0m \u001b[0mmodel\u001b[0m\u001b[0;34m.\u001b[0m\u001b[0mevaluate\u001b[0m\u001b[0;34m(\u001b[0m\u001b[0mval_ds\u001b[0m\u001b[0;34m,\u001b[0m \u001b[0msteps\u001b[0m\u001b[0;34m=\u001b[0m\u001b[0mVAL_STEPS\u001b[0m\u001b[0;34m)\u001b[0m\u001b[0;34m\u001b[0m\u001b[0;34m\u001b[0m\u001b[0m\n\u001b[0m\u001b[1;32m     34\u001b[0m     \u001b[0mtest_loss\u001b[0m\u001b[0;34m,\u001b[0m \u001b[0mtest_acc\u001b[0m \u001b[0;34m=\u001b[0m \u001b[0mmodel\u001b[0m\u001b[0;34m.\u001b[0m\u001b[0mevaluate\u001b[0m\u001b[0;34m(\u001b[0m\u001b[0mtest_ds\u001b[0m\u001b[0;34m,\u001b[0m \u001b[0msteps\u001b[0m\u001b[0;34m=\u001b[0m\u001b[0mEVAL_STEPS\u001b[0m\u001b[0;34m)\u001b[0m\u001b[0;34m\u001b[0m\u001b[0;34m\u001b[0m\u001b[0m\n\u001b[1;32m     35\u001b[0m \u001b[0;34m\u001b[0m\u001b[0m\n",
      "\u001b[0;31mValueError\u001b[0m: too many values to unpack (expected 2)"
     ]
    },
    {
     "data": {
      "text/plain": [
       "<Figure size 432x288 with 0 Axes>"
      ]
     },
     "metadata": {},
     "output_type": "display_data"
    }
   ],
   "source": [
    "#model1, hist1 = run_model(n_layers=1, n_nodes=128, train_ds=train_dataset, val_ds=validation_dataset, test_ds=test_dataset)\n",
    "#model1.summary()\n",
    "# Original training history"
   ]
  },
  {
   "cell_type": "markdown",
   "metadata": {},
   "source": [
    "## Comments\n",
    "The model trained for 8 epochs, with the patience set to 5. This means the best val_loss value was in the 3rd epoch. Even with a 50% dropout layer, it seems difficult to avoid overfitting.\n",
    "\n",
    "The validation data contains audio files that have been augmented with noise, as well as the original files.\n",
    "The testing data only contains original audio files. Will there be a different in how well the model performs between these two datasets?\n",
    "\n",
    "Something went wrong with the Evaluation part of the model - in the original code, which is now fixed. However, I am going to load the model from the last checkpoint and run the model evaluation manually."
   ]
  },
  {
   "cell_type": "code",
   "execution_count": 29,
   "metadata": {},
   "outputs": [
    {
     "data": {
      "text/plain": [
       "['loss', 'accuracy', 'precision', 'recall']"
      ]
     },
     "execution_count": 29,
     "metadata": {},
     "output_type": "execute_result"
    }
   ],
   "source": [
    "model1.metrics_names\n",
    "# Expect loss, accuracy, precision and recall"
   ]
  },
  {
   "cell_type": "code",
   "execution_count": 27,
   "metadata": {},
   "outputs": [
    {
     "name": "stdout",
     "output_type": "stream",
     "text": [
      "57/57 [==============================] - 456s 8s/step - loss: 0.0685 - accuracy: 0.9857 - precision: 0.9842 - recall: 0.9864\n"
     ]
    }
   ],
   "source": [
    "val_loss, val_acc, val_prec, val_recall = model1.evaluate(validation_dataset, steps=VAL_STEPS)"
   ]
  },
  {
   "cell_type": "code",
   "execution_count": 30,
   "metadata": {},
   "outputs": [
    {
     "name": "stdout",
     "output_type": "stream",
     "text": [
      "37/37 [==============================] - 299s 8s/step - loss: 0.0616 - accuracy: 0.9814 - precision: 0.9828 - recall: 0.9795\n"
     ]
    }
   ],
   "source": [
    "test_loss, test_acc, test_prec, test_recall = model1.evaluate(test_dataset, steps=EVAL_STEPS)"
   ]
  },
  {
   "cell_type": "code",
   "execution_count": 32,
   "metadata": {},
   "outputs": [
    {
     "name": "stdout",
     "output_type": "stream",
     "text": [
      "tf.Tensor(\n",
      "[[590  10]\n",
      " [ 12 572]], shape=(2, 2), dtype=int32)\n"
     ]
    },
    {
     "data": {
      "image/png": "[encoded data removed]",
      "text/plain": [
       "<Figure size 432x288 with 2 Axes>"
      ]
     },
     "metadata": {
      "needs_background": "light"
     },
     "output_type": "display_data"
    }
   ],
   "source": [
    "y1_lab, y1_pred = evaluate_model(model1, model1_name, test_dataset)"
   ]
  },
  {
   "cell_type": "markdown",
   "metadata": {},
   "source": [
    "## Model 2\n",
    "This model will have two hidden layers. The first has 128 nodes, the second has 64 nodes."
   ]
  },
  {
   "cell_type": "code",
   "execution_count": 36,
   "metadata": {},
   "outputs": [],
   "source": [
    "# Set model parameters\n",
    "n_layers = 2\n",
    "\n",
    "# First layer will have 128 nodes, second layer will have 128/2 = 64 nodes\n",
    "n_nodes = 128\n",
    "\n",
    "model2_name = 'Gender.Dense.nLay{}.nNodes{}.dropout{}'.format(n_layers, n_nodes, DROPOUT)\n",
    "model2_path = 'storage/models/gender/{}'.format(model2_name)\n",
    "ckpt2_name = '{}.ckpt'.format(model2_name)\n",
    "ckpt2_path = 'storage/models/gender/{}'.format(ckpt2_name)\n",
    "ckpt2_dir = os.path.dirname(ckpt2_path)"
   ]
  },
  {
   "cell_type": "code",
   "execution_count": 37,
   "metadata": {},
   "outputs": [
    {
     "name": "stdout",
     "output_type": "stream",
     "text": [
      "Create a new model\n",
      "Epoch 1/100\n",
      "173/173 [==============================] - 2088s 12s/step - loss: 0.1105 - accuracy: 0.9608 - precision: 0.9601 - recall: 0.9605 - val_loss: 0.0733 - val_accuracy: 0.9836 - val_precision: 0.9787 - val_recall: 0.9876\n",
      "Epoch 2/100\n",
      "173/173 [==============================] - 1885s 11s/step - loss: 0.0427 - accuracy: 0.9881 - precision: 0.9894 - recall: 0.9865 - val_loss: 0.0688 - val_accuracy: 0.9868 - val_precision: 0.9842 - val_recall: 0.9887\n",
      "Epoch 3/100\n",
      "173/173 [==============================] - 1846s 11s/step - loss: 0.0345 - accuracy: 0.9886 - precision: 0.9897 - recall: 0.9872 - val_loss: 0.0760 - val_accuracy: 0.9825 - val_precision: 0.9754 - val_recall: 0.9887\n",
      "Epoch 4/100\n",
      "173/173 [==============================] - 1811s 10s/step - loss: 0.0334 - accuracy: 0.9892 - precision: 0.9897 - recall: 0.9883 - val_loss: 0.0704 - val_accuracy: 0.9846 - val_precision: 0.9809 - val_recall: 0.9876\n",
      "Epoch 5/100\n",
      "173/173 [==============================] - 1836s 11s/step - loss: 0.0298 - accuracy: 0.9911 - precision: 0.9927 - recall: 0.9894 - val_loss: 0.0770 - val_accuracy: 0.9792 - val_precision: 0.9700 - val_recall: 0.9876\n",
      "Epoch 6/100\n",
      "173/173 [==============================] - 1834s 11s/step - loss: 0.0249 - accuracy: 0.9915 - precision: 0.9905 - recall: 0.9923 - val_loss: 0.0806 - val_accuracy: 0.9836 - val_precision: 0.9787 - val_recall: 0.9876\n",
      "Epoch 7/100\n",
      "173/173 [==============================] - 1637s 9s/step - loss: 0.0268 - accuracy: 0.9906 - precision: 0.9909 - recall: 0.9901 - val_loss: 0.0851 - val_accuracy: 0.9792 - val_precision: 0.9669 - val_recall: 0.9910\n"
     ]
    },
    {
     "data": {
      "image/png": "[encoded data removed]",
      "text/plain": [
       "<Figure size 432x288 with 1 Axes>"
      ]
     },
     "metadata": {
      "needs_background": "light"
     },
     "output_type": "display_data"
    },
    {
     "data": {
      "image/png": "[encoded data removed]",
      "text/plain": [
       "<Figure size 432x288 with 1 Axes>"
      ]
     },
     "metadata": {
      "needs_background": "light"
     },
     "output_type": "display_data"
    },
    {
     "name": "stdout",
     "output_type": "stream",
     "text": [
      "WARNING:tensorflow:From /usr/local/lib/python3.6/dist-packages/tensorflow/python/training/tracking/tracking.py:111: Model.state_updates (from tensorflow.python.keras.engine.training) is deprecated and will be removed in a future version.\n",
      "Instructions for updating:\n",
      "This property should not be used in TensorFlow 2.0, as updates are applied automatically.\n"
     ]
    },
    {
     "name": "stderr",
     "output_type": "stream",
     "text": [
      "WARNING:tensorflow:From /usr/local/lib/python3.6/dist-packages/tensorflow/python/training/tracking/tracking.py:111: Model.state_updates (from tensorflow.python.keras.engine.training) is deprecated and will be removed in a future version.\n",
      "Instructions for updating:\n",
      "This property should not be used in TensorFlow 2.0, as updates are applied automatically.\n"
     ]
    },
    {
     "name": "stdout",
     "output_type": "stream",
     "text": [
      "WARNING:tensorflow:From /usr/local/lib/python3.6/dist-packages/tensorflow/python/training/tracking/tracking.py:111: Layer.updates (from tensorflow.python.keras.engine.base_layer) is deprecated and will be removed in a future version.\n",
      "Instructions for updating:\n",
      "This property should not be used in TensorFlow 2.0, as updates are applied automatically.\n"
     ]
    },
    {
     "name": "stderr",
     "output_type": "stream",
     "text": [
      "WARNING:tensorflow:From /usr/local/lib/python3.6/dist-packages/tensorflow/python/training/tracking/tracking.py:111: Layer.updates (from tensorflow.python.keras.engine.base_layer) is deprecated and will be removed in a future version.\n",
      "Instructions for updating:\n",
      "This property should not be used in TensorFlow 2.0, as updates are applied automatically.\n"
     ]
    },
    {
     "name": "stdout",
     "output_type": "stream",
     "text": [
      "INFO:tensorflow:Assets written to: storage/models/gender/Gender.Dense.nLay2.nNodes128.dropout0.5/assets\n"
     ]
    },
    {
     "name": "stderr",
     "output_type": "stream",
     "text": [
      "INFO:tensorflow:Assets written to: storage/models/gender/Gender.Dense.nLay2.nNodes128.dropout0.5/assets\n"
     ]
    },
    {
     "name": "stdout",
     "output_type": "stream",
     "text": [
      "['loss', 'accuracy', 'precision', 'recall']\n",
      "57/57 [==============================] - 391s 7s/step - loss: 0.0851 - accuracy: 0.9792 - precision: 0.9669 - recall: 0.9910\n",
      "37/37 [==============================] - 253s 7s/step - loss: 0.0770 - accuracy: 0.9755 - precision: 0.9602 - recall: 0.9914\n",
      "tf.Tensor(\n",
      "[[576  24]\n",
      " [  5 579]], shape=(2, 2), dtype=int32)\n",
      "Gender.Dense.nLay2.nNodes128.dropout0.5 complete\n"
     ]
    },
    {
     "ename": "ValueError",
     "evalue": "too many values to unpack (expected 2)",
     "output_type": "error",
     "traceback": [
      "\u001b[0;31m---------------------------------------------------------------------------\u001b[0m",
      "\u001b[0;31mValueError\u001b[0m                                Traceback (most recent call last)",
      "\u001b[0;32m<ipython-input-37-167d70e93260>\u001b[0m in \u001b[0;36m<module>\u001b[0;34m\u001b[0m\n\u001b[1;32m     10\u001b[0m \u001b[0;32melse\u001b[0m\u001b[0;34m:\u001b[0m\u001b[0;34m\u001b[0m\u001b[0;34m\u001b[0m\u001b[0m\n\u001b[1;32m     11\u001b[0m     \u001b[0mprint\u001b[0m\u001b[0;34m(\u001b[0m\u001b[0;34m\"Create a new model\"\u001b[0m\u001b[0;34m)\u001b[0m\u001b[0;34m\u001b[0m\u001b[0;34m\u001b[0m\u001b[0m\n\u001b[0;32m---> 12\u001b[0;31m     \u001b[0mmodel2\u001b[0m\u001b[0;34m,\u001b[0m \u001b[0mhist2\u001b[0m \u001b[0;34m=\u001b[0m \u001b[0mrun_model\u001b[0m\u001b[0;34m(\u001b[0m\u001b[0mn_layers\u001b[0m\u001b[0;34m,\u001b[0m \u001b[0mn_nodes\u001b[0m\u001b[0;34m,\u001b[0m \u001b[0mtrain_dataset\u001b[0m\u001b[0;34m,\u001b[0m \u001b[0mvalidation_dataset\u001b[0m\u001b[0;34m,\u001b[0m \u001b[0mtest_dataset\u001b[0m\u001b[0;34m)\u001b[0m\u001b[0;34m\u001b[0m\u001b[0;34m\u001b[0m\u001b[0m\n\u001b[0m",
      "\u001b[0;31mValueError\u001b[0m: too many values to unpack (expected 2)"
     ]
    },
    {
     "data": {
      "image/png": "[encoded data removed]",
      "text/plain": [
       "<Figure size 432x288 with 2 Axes>"
      ]
     },
     "metadata": {
      "needs_background": "light"
     },
     "output_type": "display_data"
    }
   ],
   "source": [
    "if os.path.isdir(model2_path):\n",
    "    model2 = tf.keras.models.load_model(model2_path)\n",
    "    print(\"Saved model loaded\")\n",
    "    model2.summary()\n",
    "elif os.path.isdir(ckpt2_path):\n",
    "    model2 = create_gender_model(n_layers, n_nodes)\n",
    "    model2.load_weights(ckpt2_path)\n",
    "    print(\"Model weights loaded\")\n",
    "    model2.summary()\n",
    "else:\n",
    "    print(\"Create a new model\")\n",
    "    model2, hist2 , y2_lab, y2_pred = run_model(n_layers, n_nodes, train_dataset, validation_dataset, test_dataset)"
   ]
  },
  {
   "cell_type": "code",
   "execution_count": null,
   "metadata": {},
   "outputs": [],
   "source": [
    "y2_lab, y2_pred = evaluate_model(model2, model2_name, test_dataset)"
   ]
  },
  {
   "cell_type": "code",
   "execution_count": null,
   "metadata": {},
   "outputs": [],
   "source": [
    "model2.summary()"
   ]
  },
  {
   "cell_type": "markdown",
   "metadata": {},
   "source": [
    "# Comments\n",
    "\n",
    "This model shows the steps in the training of both of the models. There were some errors in the original code to evaluate the models when the notebook was originally run. These errors have been fixed, but the code has not be rerun, to avoid losing the original training history.\n",
    "\n",
    "The final evaluation of the models will be run in a separate notebook (4_ktr_GenderEval)."
   ]
  }
 ],
 "metadata": {
  "kernelspec": {
   "display_name": "Python 3",
   "language": "python",
   "name": "python3"
  },
  "language_info": {
   "codemirror_mode": {
    "name": "ipython",
    "version": 3
   },
   "file_extension": ".py",
   "mimetype": "text/x-python",
   "name": "python",
   "nbconvert_exporter": "python",
   "pygments_lexer": "ipython3",
   "version": "3.7.7"
  }
 },
 "nbformat": 4,
 "nbformat_minor": 4
}
