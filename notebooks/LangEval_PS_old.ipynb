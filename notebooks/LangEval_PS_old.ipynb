{
 "cells": [
  {
   "cell_type": "markdown",
   "metadata": {},
   "source": [
    "# Model Evaluation\n",
    "\n",
    "This notebook loads the saved models and generates predictions from test dataset. The predictions and model metrics are evaluated, compared, and saved for future examination.\n",
    "\n",
    "- Generate the test dataset.\n",
    "- Load the saved models.\n",
    "- Run the test dataset through the models to generate predictions.\n",
    "- Evaluate the predictions based on the actual labels.\n",
    "- Calculate model metrics - Accuracy, Recall, Precision\n",
    "- Compare the models"
   ]
  },
  {
   "cell_type": "code",
   "execution_count": 1,
   "metadata": {},
   "outputs": [
    {
     "name": "stdout",
     "output_type": "stream",
     "text": [
      "All set up!\n"
     ]
    }
   ],
   "source": [
    "# Set up the environment\n",
    "#!pip install soundfile\n",
    "\n",
    "import pandas as pd\n",
    "import numpy as np\n",
    "import matplotlib.pylab as plt\n",
    "import seaborn as sns\n",
    "import IPython.display as ipd\n",
    "import librosa\n",
    "import soundfile as sf\n",
    "\n",
    "import os\n",
    "import random\n",
    "import re\n",
    "\n",
    "import tensorflow as tf\n",
    "import tensorflow_hub as hub\n",
    "from tensorflow.keras.callbacks import EarlyStopping, ModelCheckpoint\n",
    "\n",
    "from keras.layers import Dense, Input, Flatten, Dropout\n",
    "from keras.models import Sequential, load_model\n",
    "\n",
    "from sklearn.metrics import classification_report, confusion_matrix, f1_score\n",
    "from sklearn.model_selection import train_test_split\n",
    "\n",
    "print(\"All set up!\")"
   ]
  },
  {
   "cell_type": "code",
   "execution_count": 2,
   "metadata": {},
   "outputs": [
    {
     "name": "stdout",
     "output_type": "stream",
     "text": [
      "Our class names: ['russian', 'arabic', 'turkish', 'korean', 'german', 'dutch', 'spanish', 'french', 'english', 'portuguese', 'mandarin']\n"
     ]
    }
   ],
   "source": [
    "# Set constants\n",
    "SAMP_RATE = 16000\n",
    "BATCH_SIZE = 32\n",
    "CLF='lang10'\n",
    "SHUFFLE_SEED = 38\n",
    "\n",
    "# Modified from https://console.paperspace.com/gcn-team/notebook/prcnk5wzd\n",
    "# Set model constants\n",
    "BATCH_SIZE = 32\n",
    "NUM_EPOCHS=100\n",
    "DROPOUT = 0.5\n",
    "EARLY_STOP_AFTER = 5\n",
    "\n",
    "LOSS = 'categorical_crossentropy'\n",
    "DENSE_ACTIVATION = 'relu'\n",
    "FINAL_ACTIVATION = 'softmax'\n",
    "\n",
    "class_names = os.listdir('storage/data/lang10/train')\n",
    "class_names.remove('.ipynb_checkpoints')\n",
    "print(\"Our class names: {}\".format(class_names,))"
   ]
  },
  {
   "cell_type": "markdown",
   "metadata": {},
   "source": [
    "## Generate Test Dataset"
   ]
  },
  {
   "cell_type": "code",
   "execution_count": 3,
   "metadata": {},
   "outputs": [],
   "source": [
    "# Using a SavedModel from the TFHub in Keras\n",
    "# https://www.tensorflow.org/hub/tf2_saved_model\n",
    "# VGGish model, from https://tfhub.dev/google/vggish/1\n",
    "\n",
    "# Link to the model on TFHub\n",
    "hub_url = 'https://tfhub.dev/google/vggish/1'\n",
    "\n",
    "# Load the model as a Keras model\n",
    "vggish_model = hub.KerasLayer(hub_url)\n",
    "vggish_model.trainable = False"
   ]
  },
  {
   "cell_type": "code",
   "execution_count": 4,
   "metadata": {},
   "outputs": [],
   "source": [
    "# Process testing data\n",
    "DATASET_TEST_PATH = 'storage/data/lang10/test/test_data'\n",
    "\n",
    "test_names = os.listdir(DATASET_TEST_PATH)\n",
    "test_paths = []\n",
    "test_labels = []\n",
    "\n",
    "label_dict = {}\n",
    "for label, name in enumerate(class_names):\n",
    "    label_dict[name] = label\n",
    "\n",
    "for filename in test_names:\n",
    "    filepath =  os.path.join(DATASET_TEST_PATH, filename)\n",
    "    test_paths.append(filepath)\n",
    "    fname = filename.split('.')[0].rstrip('0123456789')\n",
    "    test_labels.append(label_dict[fname])"
   ]
  },
  {
   "cell_type": "code",
   "execution_count": 5,
   "metadata": {},
   "outputs": [],
   "source": [
    "rng = np.random.RandomState(SHUFFLE_SEED)\n",
    "rng.shuffle(test_paths)\n",
    "rng = np.random.RandomState(SHUFFLE_SEED)\n",
    "rng.shuffle(test_labels)"
   ]
  },
  {
   "cell_type": "code",
   "execution_count": 6,
   "metadata": {},
   "outputs": [],
   "source": [
    "test_onehot = tf.keras.backend.one_hot(test_labels, num_classes = len(class_names))"
   ]
  },
  {
   "cell_type": "code",
   "execution_count": 7,
   "metadata": {},
   "outputs": [
    {
     "name": "stdout",
     "output_type": "stream",
     "text": [
      "<class 'tensorflow.python.framework.ops.EagerTensor'>\n",
      "(373, 11)\n",
      "tf.Tensor([0. 0. 0. 1. 0. 0. 0. 0. 0. 0. 0.], shape=(11,), dtype=float32)\n"
     ]
    }
   ],
   "source": [
    "print(type(test_onehot) )\n",
    "print(test_onehot.shape)\n",
    "print(test_onehot[0])"
   ]
  },
  {
   "cell_type": "code",
   "execution_count": 8,
   "metadata": {},
   "outputs": [
    {
     "name": "stdout",
     "output_type": "stream",
     "text": [
      "Number of testing samples:  373\n",
      "evaluation_steps =  11\n"
     ]
    }
   ],
   "source": [
    "print(\"Number of testing samples: \", len(test_paths))\n",
    "\n",
    "EVAL_STEPS = np.int(np.ceil(len(test_paths)/BATCH_SIZE))-1\n",
    "print(\"evaluation_steps = \", EVAL_STEPS)"
   ]
  },
  {
   "cell_type": "code",
   "execution_count": 9,
   "metadata": {},
   "outputs": [],
   "source": [
    "def tf_data_generator(file_list, label_list, batch_size=32):\n",
    "    '''\n",
    "    Create a dataset generator. \n",
    "    Iterate through a list of filenames and process in batches.\n",
    "    Extract audio features from vggish model.\n",
    "    WARNING: This generator forms an infinite loop, \n",
    "    so you need to specify how long to run the generator \n",
    "    before fitting and evaluating a model.\n",
    "\n",
    "    Arguments:\n",
    "    file_list - list of filenames to iterate\n",
    "    label_list - list of the labels associated with the files\n",
    "    batch_size - how many files to process at a time\n",
    "    '''\n",
    "    i = 1\n",
    "    shuff_seed = 42\n",
    "    while True: #infinite loop\n",
    "        if i*batch_size >= len(file_list):\n",
    "            i=1\n",
    "            rng = np.random.RandomState(shuff_seed)\n",
    "            rng.shuffle(file_list)\n",
    "            rng = np.random.RandomState(shuff_seed)\n",
    "            rng.shuffle(label_list)\n",
    "            shuff_seed += 1\n",
    "        else:\n",
    "            file_chunk = file_list[(i-1)*batch_size:i*batch_size]\n",
    "            labels = label_list[(i-1)*batch_size:i*batch_size, :]\n",
    "            data = []\n",
    "\n",
    "            for file in file_chunk:\n",
    "                # Read data\n",
    "                audio, sr = librosa.load(file, sr=16000)\n",
    "                # Apply transformations\n",
    "                embed = vggish_model(audio)\n",
    "                data.append(embed)\n",
    "                # Extract labels from filename\n",
    "\n",
    "            data = np.asarray(data)\n",
    "            labels = np.asarray(labels)\n",
    "\n",
    "            yield data, labels\n",
    "            i += 1"
   ]
  },
  {
   "cell_type": "code",
   "execution_count": 10,
   "metadata": {},
   "outputs": [],
   "source": [
    "test_dataset = tf.data.Dataset.from_generator(tf_data_generator, \n",
    "                                         args = [test_paths, test_onehot, BATCH_SIZE],\n",
    "                                         output_types=(tf.float32, tf.float32),\n",
    "                                         output_shapes= ((None, 10, 128),(None,11)) ) "
   ]
  },
  {
   "cell_type": "code",
   "execution_count": 11,
   "metadata": {},
   "outputs": [],
   "source": [
    "def create_lang_model(n_layers, n_nodes):\n",
    "    model = Sequential()\n",
    "    model.add(Input(shape=(10, 128), batch_size=BATCH_SIZE ))\n",
    "    \n",
    "    for i in range(n_layers):\n",
    "        model.add(Dense(n_nodes/(2**i), activation=DENSE_ACTIVATION))\n",
    "        model.add(Dropout(DROPOUT))\n",
    "\n",
    "    model.add(Flatten())\n",
    "    # Output\n",
    "    model.add(Dense(11, activation=FINAL_ACTIVATION) )\n",
    "\n",
    "    model.compile(loss=LOSS, optimizer='adam', metrics=['accuracy', 'Precision', 'Recall'])\n",
    "    return model"
   ]
  },
  {
   "cell_type": "code",
   "execution_count": 12,
   "metadata": {},
   "outputs": [],
   "source": [
    "def evaluate_model(model, model_name, test_ds):\n",
    "    # Evaluate the model\n",
    "    #val_loss, val_acc, val_prec, val_recall = model.evaluate(val_ds, steps=VAL_STEPS)\n",
    "    #test_loss, test_acc, test_prec, test_recall = model.evaluate(test_ds, steps=EVAL_STEPS)\n",
    "    \n",
    "    y_pred = model.predict(test_ds, steps=EVAL_STEPS)\n",
    "    y_pred_ind = np.argmax(y_pred, axis=1)\n",
    "    \n",
    "    # Get 1D array of labels from test_dataset\n",
    "    y_lab = np.concatenate([y for x, y in test_ds.take(EVAL_STEPS)], axis=0)\n",
    "    y_lab_ind = np.argmax(y_lab, axis=1)\n",
    "\n",
    "    fig_path = ('storage/figures/lang10/{}'.format(model_name))\n",
    "\n",
    "    conf_mat = tf.math.confusion_matrix(y_lab_ind, y_pred_ind)\n",
    "    print(conf_mat)\n",
    "    sns.heatmap(conf_mat, annot = True, cmap='YlGnBu')\n",
    "    plt.title(\"Confusion matrix: {}\".format(model_name))\n",
    "    plt.savefig('{}.ConfusionMatrix.png'.format(fig_path))\n",
    "\n",
    "    return y_lab, y_pred_ind"
   ]
  },
  {
   "cell_type": "markdown",
   "metadata": {},
   "source": [
    "# Model 1\n",
    "Nodes equal to 1% the size of the input: \n",
    "0.01 * 10 x 128 = 12"
   ]
  },
  {
   "cell_type": "code",
   "execution_count": 13,
   "metadata": {},
   "outputs": [
    {
     "name": "stdout",
     "output_type": "stream",
     "text": [
      "12\n"
     ]
    }
   ],
   "source": [
    "# Set model constants\n",
    "n_layers = 1\n",
    "n_nodes = int(10 * 128 * 0.01)\n",
    "print(n_nodes)\n",
    "\n",
    "model1_name = 'Lang.Dense.nLay{}.nNodes{}.dropout{}'.format(n_layers, n_nodes, DROPOUT)\n",
    "model1_path = 'storage/models/lang10/{}'.format(model1_name)\n",
    "ckpt1_name = '{}.ckpt'.format(model1_name)\n",
    "ckpt1_path = 'storage/models/lang10/{}'.format(ckpt1_name)\n",
    "ckpt1_dir = os.path.dirname(ckpt1_path)"
   ]
  },
  {
   "cell_type": "code",
   "execution_count": 14,
   "metadata": {},
   "outputs": [
    {
     "name": "stdout",
     "output_type": "stream",
     "text": [
      "Saved model loaded\n",
      "Model: \"sequential\"\n",
      "_________________________________________________________________\n",
      "Layer (type)                 Output Shape              Param #   \n",
      "=================================================================\n",
      "dense (Dense)                (32, 10, 12)              1548      \n",
      "_________________________________________________________________\n",
      "dropout (Dropout)            (32, 10, 12)              0         \n",
      "_________________________________________________________________\n",
      "flatten (Flatten)            (32, 120)                 0         \n",
      "_________________________________________________________________\n",
      "dense_1 (Dense)              (32, 11)                  1331      \n",
      "=================================================================\n",
      "Total params: 2,879\n",
      "Trainable params: 2,879\n",
      "Non-trainable params: 0\n",
      "_________________________________________________________________\n"
     ]
    }
   ],
   "source": [
    "if os.path.isdir(model1_path):\n",
    "    model1 = tf.keras.models.load_model(model1_path)\n",
    "    print(\"Saved model loaded\")\n",
    "    model1.summary()\n",
    "elif os.path.isdir(ckpt1_path):\n",
    "    model1 = create_lang_model(n_layers, n_nodes)\n",
    "    model1.load_weights(ckpt1_path)\n",
    "    print(\"Model weights loaded\")\n",
    "    model1.summary()"
   ]
  },
  {
   "cell_type": "code",
   "execution_count": 15,
   "metadata": {},
   "outputs": [
    {
     "name": "stdout",
     "output_type": "stream",
     "text": [
      "11/11 [==============================] - 71s 6s/step - loss: 2.2549 - accuracy: 0.2330 - precision: 0.6250 - recall: 0.0142\n"
     ]
    }
   ],
   "source": [
    "test1_loss, test1_acc, test1_prec, test1_recall = model1.evaluate(test_dataset, steps=EVAL_STEPS)"
   ]
  },
  {
   "cell_type": "code",
   "execution_count": 16,
   "metadata": {},
   "outputs": [
    {
     "name": "stdout",
     "output_type": "stream",
     "text": [
      "tf.Tensor(\n",
      "[[ 1  9  0  0  0  0  4  1  2  4  7]\n",
      " [ 0 27  0  2  0  4  3  0  2  0 17]\n",
      " [ 1  2  2  3  1  2  4  1  1  2  2]\n",
      " [ 2 10  1  0  0  0  4  1  2  1 10]\n",
      " [ 0  0  1  2  0  0  2  0  5  2  3]\n",
      " [ 0  4  1  0  1  3  5  0  5  0  6]\n",
      " [ 1  8  5  0  2  0 10  1  8  2  5]\n",
      " [ 0  8  0  1  0  0  6  4  2  2  9]\n",
      " [ 0  2  0  4  0  0  1  1 19  2  1]\n",
      " [ 1  7  1  3  0  0  2  5  2  1  6]\n",
      " [ 0  2  4  3  0  1  8  5  3  4 15]], shape=(11, 11), dtype=int32)\n"
     ]
    },
    {
     "data": {
      "image/png": "[encoded data removed]",
      "text/plain": [
       "<Figure size 432x288 with 2 Axes>"
      ]
     },
     "metadata": {
      "needs_background": "light"
     },
     "output_type": "display_data"
    }
   ],
   "source": [
    "y1_lab, y1_pred_ind = evaluate_model(model1, model1_name, test_dataset)"
   ]
  },
  {
   "cell_type": "markdown",
   "metadata": {},
   "source": [
    "# Model 2\n",
    "Nodes equal to 10% the size of the (2D) input: \n",
    "0.1 * 10 x 128 = 128"
   ]
  },
  {
   "cell_type": "code",
   "execution_count": 17,
   "metadata": {},
   "outputs": [
    {
     "name": "stdout",
     "output_type": "stream",
     "text": [
      "128\n"
     ]
    }
   ],
   "source": [
    "# Set model constants\n",
    "n_layers = 1\n",
    "n_nodes = int(10 * 128 * 0.1)\n",
    "print(n_nodes)\n",
    "\n",
    "model2_name = 'Lang.Dense.nLay{}.nNodes{}.dropout{}'.format(n_layers, n_nodes, DROPOUT)\n",
    "model2_path = 'storage/models/lang10/{}'.format(model2_name)\n",
    "ckpt2_name = '{}.ckpt'.format(model2_name)\n",
    "ckpt2_path = 'storage/models/lang10/{}'.format(ckpt2_name)\n",
    "ckpt2_dir = os.path.dirname(ckpt2_path)"
   ]
  },
  {
   "cell_type": "code",
   "execution_count": 18,
   "metadata": {},
   "outputs": [
    {
     "name": "stdout",
     "output_type": "stream",
     "text": [
      "Saved model loaded\n",
      "Model: \"sequential_1\"\n",
      "_________________________________________________________________\n",
      "Layer (type)                 Output Shape              Param #   \n",
      "=================================================================\n",
      "dense_2 (Dense)              (32, 10, 128)             16512     \n",
      "_________________________________________________________________\n",
      "dropout_1 (Dropout)          (32, 10, 128)             0         \n",
      "_________________________________________________________________\n",
      "flatten_1 (Flatten)          (32, 1280)                0         \n",
      "_________________________________________________________________\n",
      "dense_3 (Dense)              (32, 11)                  14091     \n",
      "=================================================================\n",
      "Total params: 30,603\n",
      "Trainable params: 30,603\n",
      "Non-trainable params: 0\n",
      "_________________________________________________________________\n"
     ]
    }
   ],
   "source": [
    "if os.path.isdir(model2_path):\n",
    "    model2 = tf.keras.models.load_model(model2_path)\n",
    "    print(\"Saved model loaded\")\n",
    "    model2.summary()\n",
    "elif os.path.isdir(ckpt2_path):\n",
    "    model2 = create_lang_model(n_layers, n_nodes)\n",
    "    model2.load_weights(ckpt2_path)\n",
    "    print(\"Model weights loaded\")\n",
    "    model2.summary()"
   ]
  },
  {
   "cell_type": "code",
   "execution_count": 19,
   "metadata": {},
   "outputs": [
    {
     "name": "stdout",
     "output_type": "stream",
     "text": [
      "11/11 [==============================] - 70s 6s/step - loss: 2.3230 - accuracy: 0.2386 - precision_1: 0.5000 - recall_1: 0.0739\n"
     ]
    }
   ],
   "source": [
    "test2_loss, test2_acc, test2_prec, test2_recall = model2.evaluate(test_dataset, steps=EVAL_STEPS)"
   ]
  },
  {
   "cell_type": "code",
   "execution_count": 20,
   "metadata": {},
   "outputs": [
    {
     "name": "stdout",
     "output_type": "stream",
     "text": [
      "tf.Tensor(\n",
      "[[ 1  2  2  0  3  0  4  4  1  3  8]\n",
      " [ 0 26  0  0  2  6  4  0  3  1 13]\n",
      " [ 1  2  2  2  1  4  4  1  1  1  2]\n",
      " [ 5  4  2  4  0  3  4  1  1  3  4]\n",
      " [ 1  0  0  0  0  1  3  2  4  3  1]\n",
      " [ 1  1  1  0  1 12  1  1  3  2  2]\n",
      " [ 3  1  3  0  4  2  6  2 10  2  9]\n",
      " [ 2  4  1  2  1  1  9  3  3  2  4]\n",
      " [ 1  1  0  1  0  3  2  0 15  0  7]\n",
      " [ 7  3  1  3  1  1  1  2  4  1  4]\n",
      " [ 1  0  3  5  1  5  9  3  3  1 14]], shape=(11, 11), dtype=int32)\n"
     ]
    },
    {
     "data": {
      "image/png": "[encoded data removed]",
      "text/plain": [
       "<Figure size 432x288 with 2 Axes>"
      ]
     },
     "metadata": {
      "needs_background": "light"
     },
     "output_type": "display_data"
    }
   ],
   "source": [
    "y2_lab, y2_pred_ind = evaluate_model(model2, model2_name, test_dataset)"
   ]
  },
  {
   "cell_type": "markdown",
   "metadata": {},
   "source": [
    "# Model 3\n",
    "2 layers, first with 128, second with 64"
   ]
  },
  {
   "cell_type": "code",
   "execution_count": 21,
   "metadata": {},
   "outputs": [
    {
     "name": "stdout",
     "output_type": "stream",
     "text": [
      "128\n"
     ]
    }
   ],
   "source": [
    "# Set model constants\n",
    "n_layers = 2\n",
    "n_nodes = int(10 * 128 * 0.1)\n",
    "print(n_nodes)\n",
    "\n",
    "model3_name = 'Lang.Dense.nLay{}.nNodes{}.dropout{}'.format(n_layers, n_nodes, DROPOUT)\n",
    "model3_path = 'storage/models/lang10/{}'.format(model3_name)\n",
    "ckpt3_name = '{}.ckpt'.format(model3_name)\n",
    "ckpt3_path = 'storage/models/lang10/{}'.format(ckpt3_name)\n",
    "ckpt3_dir = os.path.dirname(ckpt3_path)"
   ]
  },
  {
   "cell_type": "code",
   "execution_count": 22,
   "metadata": {},
   "outputs": [
    {
     "name": "stdout",
     "output_type": "stream",
     "text": [
      "Saved model loaded\n",
      "Model: \"sequential_2\"\n",
      "_________________________________________________________________\n",
      "Layer (type)                 Output Shape              Param #   \n",
      "=================================================================\n",
      "dense_4 (Dense)              (32, 10, 128)             16512     \n",
      "_________________________________________________________________\n",
      "dropout_2 (Dropout)          (32, 10, 128)             0         \n",
      "_________________________________________________________________\n",
      "dense_5 (Dense)              (32, 10, 64)              8256      \n",
      "_________________________________________________________________\n",
      "dropout_3 (Dropout)          (32, 10, 64)              0         \n",
      "_________________________________________________________________\n",
      "flatten_2 (Flatten)          (32, 640)                 0         \n",
      "_________________________________________________________________\n",
      "dense_6 (Dense)              (32, 11)                  7051      \n",
      "=================================================================\n",
      "Total params: 31,819\n",
      "Trainable params: 31,819\n",
      "Non-trainable params: 0\n",
      "_________________________________________________________________\n"
     ]
    }
   ],
   "source": [
    "if os.path.isdir(model3_path):\n",
    "    model3 = tf.keras.models.load_model(model3_path)\n",
    "    print(\"Saved model loaded\")\n",
    "    model3.summary()\n",
    "elif os.path.isdir(ckpt3_path):\n",
    "    model3 = create_lang_model(n_layers, n_nodes)\n",
    "    model3.load_weights(ckpt3_path)\n",
    "    print(\"Model weights loaded\")\n",
    "    model3.summary()"
   ]
  },
  {
   "cell_type": "code",
   "execution_count": 23,
   "metadata": {},
   "outputs": [
    {
     "name": "stdout",
     "output_type": "stream",
     "text": [
      "11/11 [==============================] - 68s 6s/step - loss: 2.2068 - accuracy: 0.2500 - precision_2: 0.6053 - recall_2: 0.0653\n"
     ]
    }
   ],
   "source": [
    "test3_loss, test3_acc, test3_prec, test3_recall = model3.evaluate(test_dataset, steps=EVAL_STEPS)"
   ]
  },
  {
   "cell_type": "code",
   "execution_count": 24,
   "metadata": {},
   "outputs": [
    {
     "name": "stdout",
     "output_type": "stream",
     "text": [
      "tf.Tensor(\n",
      "[[ 0  2  1  4  0  1  7  4  1  1  7]\n",
      " [ 0 24  0  4  1  7  2  2  4  0 11]\n",
      " [ 0  1  1  4  0  3  4  0  2  1  5]\n",
      " [ 1 10  0  6  0  3  2  2  4  2  1]\n",
      " [ 0  0  0  1  0  0  5  1  5  2  1]\n",
      " [ 0  4  0  0  0 12  3  1  3  1  1]\n",
      " [ 1  2  0  6  2  1 12  3  8  0  7]\n",
      " [ 1  3  0  4  1  2 10  5  1  1  4]\n",
      " [ 0  1  0  3  0  5  2  2 13  0  4]\n",
      " [ 0  3  0  3  1  0  7  5  3  0  6]\n",
      " [ 0  2  0  8  2  4  9  1  2  2 15]], shape=(11, 11), dtype=int32)\n"
     ]
    },
    {
     "data": {
      "image/png": "[encoded data removed]",
      "text/plain": [
       "<Figure size 432x288 with 2 Axes>"
      ]
     },
     "metadata": {
      "needs_background": "light"
     },
     "output_type": "display_data"
    }
   ],
   "source": [
    "y3_lab, y3_pred_ind = evaluate_model(model3, model3_name, test_dataset)"
   ]
  },
  {
   "cell_type": "markdown",
   "metadata": {},
   "source": [
    "# Examine labels and predictions lists\n",
    "## Model 1 predictions"
   ]
  },
  {
   "cell_type": "code",
   "execution_count": 25,
   "metadata": {},
   "outputs": [
    {
     "name": "stdout",
     "output_type": "stream",
     "text": [
      "[ 3 10  6 10  6  7  9  2  1  9]\n",
      "352\n"
     ]
    }
   ],
   "source": [
    "y1_lab_ind = np.argmax(y1_lab, axis=1)\n",
    "print(y1_lab_ind[:10])\n",
    "print(len(y1_lab_ind))"
   ]
  },
  {
   "cell_type": "code",
   "execution_count": 28,
   "metadata": {},
   "outputs": [
    {
     "name": "stdout",
     "output_type": "stream",
     "text": [
      "[ 1 10  1 10  6  6  1  6  1  8]\n",
      "352\n"
     ]
    }
   ],
   "source": [
    "print(y1_pred_ind[:10])\n",
    "print(len(y1_pred_ind))"
   ]
  },
  {
   "cell_type": "code",
   "execution_count": 29,
   "metadata": {},
   "outputs": [
    {
     "name": "stdout",
     "output_type": "stream",
     "text": [
      "dict_items([(1, 79), (10, 81), (6, 49), (8, 51), (4, 4), (3, 18), (5, 10), (2, 15), (7, 19), (9, 20), (0, 6)])\n"
     ]
    }
   ],
   "source": [
    "# Number of time each label was predicted\n",
    "y1_pred_count = {}\n",
    "for lab in y1_pred_ind:\n",
    "    if lab in y1_pred_count.keys():\n",
    "        y1_pred_count[lab] += 1\n",
    "    else: y1_pred_count[lab] = 1\n",
    "\n",
    "print(y1_pred_count.items())"
   ]
  },
  {
   "cell_type": "markdown",
   "metadata": {},
   "source": [
    "## Model 2 predictions"
   ]
  },
  {
   "cell_type": "code",
   "execution_count": 26,
   "metadata": {},
   "outputs": [
    {
     "name": "stdout",
     "output_type": "stream",
     "text": [
      "[ 3 10  6 10  6  7  9  2  1  9]\n"
     ]
    }
   ],
   "source": [
    "y2_lab_ind = np.argmax(y2_lab, axis=1)\n",
    "print(y2_lab_ind[:10])"
   ]
  },
  {
   "cell_type": "code",
   "execution_count": 30,
   "metadata": {},
   "outputs": [
    {
     "name": "stdout",
     "output_type": "stream",
     "text": [
      "[ 3 10  2 10 10  6  8  6  1  0]\n"
     ]
    }
   ],
   "source": [
    "print(y2_pred_ind[:10])"
   ]
  },
  {
   "cell_type": "code",
   "execution_count": null,
   "metadata": {},
   "outputs": [],
   "source": [
    "# Number of time each label was predicted\n",
    "y2_pred_count = {}\n",
    "for lab in y2_pred_ind:\n",
    "    if lab in y2_pred_count.keys():\n",
    "        y2_pred_count[lab] += 1\n",
    "    else: y2_pred_count[lab] = 1\n",
    "\n",
    "print(y2_pred_count.items())"
   ]
  },
  {
   "cell_type": "markdown",
   "metadata": {},
   "source": [
    "## Model 3 predictions"
   ]
  },
  {
   "cell_type": "code",
   "execution_count": 27,
   "metadata": {},
   "outputs": [
    {
     "name": "stdout",
     "output_type": "stream",
     "text": [
      "[ 3 10  6 10  6  7  9  2  1  9]\n"
     ]
    }
   ],
   "source": [
    "y3_lab_ind = np.argmax(y3_lab, axis=1)\n",
    "print(y3_lab_ind[:10])"
   ]
  },
  {
   "cell_type": "code",
   "execution_count": 31,
   "metadata": {},
   "outputs": [
    {
     "name": "stdout",
     "output_type": "stream",
     "text": [
      "[ 3 10  3 10 10  6  8  6  1  8]\n"
     ]
    }
   ],
   "source": [
    "print(y3_pred_ind[:10])"
   ]
  },
  {
   "cell_type": "code",
   "execution_count": null,
   "metadata": {},
   "outputs": [],
   "source": [
    "# Number of time each label was predicted\n",
    "y3_pred_count = {}\n",
    "for lab in y3_pred_ind:\n",
    "    if lab in y3_pred_count.keys():\n",
    "        y3_pred_count[lab] += 1\n",
    "    else: y3_pred_count[lab] = 1\n",
    "\n",
    "print(y3_pred_count.items())"
   ]
  },
  {
   "cell_type": "markdown",
   "metadata": {},
   "source": [
    "# Calculate F1 scores"
   ]
  },
  {
   "cell_type": "code",
   "execution_count": 32,
   "metadata": {},
   "outputs": [
    {
     "name": "stdout",
     "output_type": "stream",
     "text": [
      "0.23295454545454544\n",
      "0.1699899053352375\n",
      "0.20066957123860105\n"
     ]
    }
   ],
   "source": [
    "m1_f1_micro = f1_score(y1_lab_ind, y1_pred_ind, labels = [0,1,2,3,4,5,6,7,8,9,10], average='micro')\n",
    "m1_f1_macro = f1_score(y1_lab_ind, y1_pred_ind, labels = [0,1,2,3,4,5,6,7,8,9,10], average='macro')\n",
    "m1_f1_weight = f1_score(y1_lab_ind, y1_pred_ind, labels = [0,1,2,3,4,5,6,7,8,9,10], average='weighted')\n",
    "print(m1_f1_micro)\n",
    "print(m1_f1_macro)\n",
    "print(m1_f1_weight)"
   ]
  },
  {
   "cell_type": "code",
   "execution_count": 33,
   "metadata": {},
   "outputs": [
    {
     "name": "stdout",
     "output_type": "stream",
     "text": [
      "0.23863636363636365\n",
      "0.19551209786173598\n",
      "0.2281782904462841\n"
     ]
    }
   ],
   "source": [
    "m2_f1_micro = f1_score(y2_lab_ind, y2_pred_ind, labels = [0,1,2,3,4,5,6,7,8,9,10], average='micro')\n",
    "m2_f1_macro = f1_score(y2_lab_ind, y2_pred_ind, labels = [0,1,2,3,4,5,6,7,8,9,10], average='macro')\n",
    "m2_f1_weight = f1_score(y2_lab_ind, y2_pred_ind, labels = [0,1,2,3,4,5,6,7,8,9,10], average='weighted')\n",
    "print(m2_f1_micro)\n",
    "print(m2_f1_macro)\n",
    "print(m2_f1_weight)"
   ]
  },
  {
   "cell_type": "code",
   "execution_count": 34,
   "metadata": {},
   "outputs": [
    {
     "name": "stdout",
     "output_type": "stream",
     "text": [
      "0.25\n",
      "0.19110304657302432\n",
      "0.22456546138515254\n"
     ]
    }
   ],
   "source": [
    "m3_f1_micro = f1_score(y3_lab_ind, y3_pred_ind, labels = [0,1,2,3,4,5,6,7,8,9,10], average='micro')\n",
    "m3_f1_macro = f1_score(y3_lab_ind, y3_pred_ind, labels = [0,1,2,3,4,5,6,7,8,9,10], average='macro')\n",
    "m3_f1_weight = f1_score(y3_lab_ind, y3_pred_ind, labels = [0,1,2,3,4,5,6,7,8,9,10], average='weighted')\n",
    "print(m3_f1_micro)\n",
    "print(m3_f1_macro)\n",
    "print(m3_f1_weight)"
   ]
  },
  {
   "cell_type": "markdown",
   "metadata": {},
   "source": [
    "# Classification Reports"
   ]
  },
  {
   "cell_type": "code",
   "execution_count": 35,
   "metadata": {},
   "outputs": [
    {
     "data": {
      "text/plain": [
       "'              precision    recall  f1-score   support\\n\\n     russian       0.17      0.04      0.06        28\\n      arabic       0.34      0.49      0.40        55\\n     turkish       0.13      0.10      0.11        21\\n      korean       0.00      0.00      0.00        31\\n      german       0.00      0.00      0.00        15\\n       dutch       0.30      0.12      0.17        25\\n     spanish       0.20      0.24      0.22        42\\n      french       0.21      0.12      0.16        32\\n     english       0.37      0.63      0.47        30\\n  portuguese       0.05      0.04      0.04        28\\n    mandarin       0.19      0.33      0.24        45\\n\\n    accuracy                           0.23       352\\n   macro avg       0.18      0.19      0.17       352\\nweighted avg       0.20      0.23      0.20       352\\n'"
      ]
     },
     "execution_count": 35,
     "metadata": {},
     "output_type": "execute_result"
    }
   ],
   "source": [
    "y1_report = classification_report(y1_lab_ind, y1_pred_ind, labels = [0,1,2,3,4,5,6,7,8,9,10], target_names = class_names)\n",
    "classification_report(y1_lab_ind, y1_pred_ind, labels = [0,1,2,3,4,5,6,7,8,9,10], target_names = class_names)"
   ]
  },
  {
   "cell_type": "code",
   "execution_count": 36,
   "metadata": {},
   "outputs": [
    {
     "data": {
      "text/plain": [
       "'              precision    recall  f1-score   support\\n\\n     russian       0.04      0.04      0.04        28\\n      arabic       0.59      0.47      0.53        55\\n     turkish       0.13      0.10      0.11        21\\n      korean       0.24      0.13      0.17        31\\n      german       0.00      0.00      0.00        15\\n       dutch       0.32      0.48      0.38        25\\n     spanish       0.13      0.14      0.13        42\\n      french       0.16      0.09      0.12        32\\n     english       0.31      0.50      0.38        30\\n  portuguese       0.05      0.04      0.04        28\\n    mandarin       0.21      0.31      0.25        45\\n\\n    accuracy                           0.24       352\\n   macro avg       0.20      0.21      0.20       352\\nweighted avg       0.23      0.24      0.23       352\\n'"
      ]
     },
     "execution_count": 36,
     "metadata": {},
     "output_type": "execute_result"
    }
   ],
   "source": [
    "y2_report = classification_report(y2_lab_ind, y2_pred_ind, labels = [0,1,2,3,4,5,6,7,8,9,10], target_names = class_names)\n",
    "classification_report(y2_lab_ind, y2_pred_ind, labels = [0,1,2,3,4,5,6,7,8,9,10], target_names = class_names)"
   ]
  },
  {
   "cell_type": "code",
   "execution_count": 37,
   "metadata": {},
   "outputs": [
    {
     "data": {
      "text/plain": [
       "'              precision    recall  f1-score   support\\n\\n     russian       0.00      0.00      0.00        28\\n      arabic       0.46      0.44      0.45        55\\n     turkish       0.50      0.05      0.09        21\\n      korean       0.14      0.19      0.16        31\\n      german       0.00      0.00      0.00        15\\n       dutch       0.32      0.48      0.38        25\\n     spanish       0.19      0.29      0.23        42\\n      french       0.19      0.16      0.17        32\\n     english       0.28      0.43      0.34        30\\n  portuguese       0.00      0.00      0.00        28\\n    mandarin       0.24      0.33      0.28        45\\n\\n    accuracy                           0.25       352\\n   macro avg       0.21      0.22      0.19       352\\nweighted avg       0.23      0.25      0.22       352\\n'"
      ]
     },
     "execution_count": 37,
     "metadata": {},
     "output_type": "execute_result"
    }
   ],
   "source": [
    "y3_report = classification_report(y3_lab_ind, y3_pred_ind, labels = [0,1,2,3,4,5,6,7,8,9,10], target_names = class_names)\n",
    "classification_report(y3_lab_ind, y3_pred_ind, labels = [0,1,2,3,4,5,6,7,8,9,10], target_names = class_names)"
   ]
  },
  {
   "cell_type": "markdown",
   "metadata": {},
   "source": [
    "# Put Results in a dataframe"
   ]
  },
  {
   "cell_type": "code",
   "execution_count": 38,
   "metadata": {},
   "outputs": [],
   "source": [
    "compare = pd.DataFrame({'layers': [1, 1, 2],\n",
    "                        'nodes':[12, 128, (128, 64)],\n",
    "                        'loss': [test1_loss, test2_loss, test3_loss], \n",
    "                        'accuracy': [test1_acc, test2_acc, test3_acc], \n",
    "                        'precision': [test1_prec, test2_prec, test3_prec], \n",
    "                        'recall': [test1_recall, test2_recall, test3_recall],\n",
    "                       'f1 micro': [m1_f1_micro, m2_f1_micro, m3_f1_micro],\n",
    "                        'f1 macro': [m1_f1_macro, m2_f1_macro, m3_f1_macro],\n",
    "                        'f1 weighted': [m1_f1_weight, m2_f1_weight, m3_f1_weight],\n",
    "                       },\n",
    "                      index = ['model 1', 'model 2', 'model 3'])"
   ]
  },
  {
   "cell_type": "code",
   "execution_count": 39,
   "metadata": {},
   "outputs": [
    {
     "data": {
      "text/html": [
       "<div>\n",
       "<style scoped>\n",
       "    .dataframe tbody tr th:only-of-type {\n",
       "        vertical-align: middle;\n",
       "    }\n",
       "\n",
       "    .dataframe tbody tr th {\n",
       "        vertical-align: top;\n",
       "    }\n",
       "\n",
       "    .dataframe thead th {\n",
       "        text-align: right;\n",
       "    }\n",
       "</style>\n",
       "<table border=\"1\" class=\"dataframe\">\n",
       "  <thead>\n",
       "    <tr style=\"text-align: right;\">\n",
       "      <th></th>\n",
       "      <th>loss</th>\n",
       "      <th>accuracy</th>\n",
       "      <th>precision</th>\n",
       "      <th>recall</th>\n",
       "      <th>layers</th>\n",
       "      <th>nodes</th>\n",
       "      <th>f1 micro</th>\n",
       "      <th>f1 macro</th>\n",
       "      <th>f1 weighted</th>\n",
       "    </tr>\n",
       "  </thead>\n",
       "  <tbody>\n",
       "    <tr>\n",
       "      <th>model 1</th>\n",
       "      <td>2.254851</td>\n",
       "      <td>0.232955</td>\n",
       "      <td>0.625000</td>\n",
       "      <td>0.014205</td>\n",
       "      <td>1</td>\n",
       "      <td>12</td>\n",
       "      <td>0.232955</td>\n",
       "      <td>0.169990</td>\n",
       "      <td>0.200670</td>\n",
       "    </tr>\n",
       "    <tr>\n",
       "      <th>model 2</th>\n",
       "      <td>2.322996</td>\n",
       "      <td>0.238636</td>\n",
       "      <td>0.500000</td>\n",
       "      <td>0.073864</td>\n",
       "      <td>1</td>\n",
       "      <td>128</td>\n",
       "      <td>0.238636</td>\n",
       "      <td>0.195512</td>\n",
       "      <td>0.228178</td>\n",
       "    </tr>\n",
       "    <tr>\n",
       "      <th>model 3</th>\n",
       "      <td>2.206843</td>\n",
       "      <td>0.250000</td>\n",
       "      <td>0.605263</td>\n",
       "      <td>0.073864</td>\n",
       "      <td>2</td>\n",
       "      <td>(128, 64)</td>\n",
       "      <td>0.250000</td>\n",
       "      <td>0.191103</td>\n",
       "      <td>0.224565</td>\n",
       "    </tr>\n",
       "  </tbody>\n",
       "</table>\n",
       "</div>"
      ],
      "text/plain": [
       "             loss  accuracy  precision    recall  layers      nodes  f1 micro  \\\n",
       "model 1  2.254851  0.232955   0.625000  0.014205       1         12  0.232955   \n",
       "model 2  2.322996  0.238636   0.500000  0.073864       1        128  0.238636   \n",
       "model 3  2.206843  0.250000   0.605263  0.073864       2  (128, 64)  0.250000   \n",
       "\n",
       "         f1 macro  f1 weighted  \n",
       "model 1  0.169990     0.200670  \n",
       "model 2  0.195512     0.228178  \n",
       "model 3  0.191103     0.224565  "
      ]
     },
     "execution_count": 39,
     "metadata": {},
     "output_type": "execute_result"
    }
   ],
   "source": [
    "compare.head()"
   ]
  },
  {
   "cell_type": "code",
   "execution_count": 40,
   "metadata": {},
   "outputs": [],
   "source": [
    "compare.to_csv('storage/models/lang10/model_comparison.csv')"
   ]
  },
  {
   "cell_type": "code",
   "execution_count": 41,
   "metadata": {},
   "outputs": [
    {
     "data": {
      "text/html": [
       "<div>\n",
       "<style scoped>\n",
       "    .dataframe tbody tr th:only-of-type {\n",
       "        vertical-align: middle;\n",
       "    }\n",
       "\n",
       "    .dataframe tbody tr th {\n",
       "        vertical-align: top;\n",
       "    }\n",
       "\n",
       "    .dataframe thead th {\n",
       "        text-align: right;\n",
       "    }\n",
       "</style>\n",
       "<table border=\"1\" class=\"dataframe\">\n",
       "  <thead>\n",
       "    <tr style=\"text-align: right;\">\n",
       "      <th></th>\n",
       "      <th>model 1</th>\n",
       "      <th>model 2</th>\n",
       "      <th>model 3</th>\n",
       "    </tr>\n",
       "  </thead>\n",
       "  <tbody>\n",
       "    <tr>\n",
       "      <th>loss</th>\n",
       "      <td>2.25485</td>\n",
       "      <td>2.323</td>\n",
       "      <td>2.20684</td>\n",
       "    </tr>\n",
       "    <tr>\n",
       "      <th>accuracy</th>\n",
       "      <td>0.232955</td>\n",
       "      <td>0.238636</td>\n",
       "      <td>0.25</td>\n",
       "    </tr>\n",
       "    <tr>\n",
       "      <th>precision</th>\n",
       "      <td>0.625</td>\n",
       "      <td>0.5</td>\n",
       "      <td>0.605263</td>\n",
       "    </tr>\n",
       "    <tr>\n",
       "      <th>recall</th>\n",
       "      <td>0.0142045</td>\n",
       "      <td>0.0738636</td>\n",
       "      <td>0.0738636</td>\n",
       "    </tr>\n",
       "    <tr>\n",
       "      <th>layers</th>\n",
       "      <td>1</td>\n",
       "      <td>1</td>\n",
       "      <td>2</td>\n",
       "    </tr>\n",
       "    <tr>\n",
       "      <th>nodes</th>\n",
       "      <td>12</td>\n",
       "      <td>128</td>\n",
       "      <td>(128, 64)</td>\n",
       "    </tr>\n",
       "    <tr>\n",
       "      <th>f1 micro</th>\n",
       "      <td>0.232955</td>\n",
       "      <td>0.238636</td>\n",
       "      <td>0.25</td>\n",
       "    </tr>\n",
       "    <tr>\n",
       "      <th>f1 macro</th>\n",
       "      <td>0.16999</td>\n",
       "      <td>0.195512</td>\n",
       "      <td>0.191103</td>\n",
       "    </tr>\n",
       "    <tr>\n",
       "      <th>f1 weighted</th>\n",
       "      <td>0.20067</td>\n",
       "      <td>0.228178</td>\n",
       "      <td>0.224565</td>\n",
       "    </tr>\n",
       "  </tbody>\n",
       "</table>\n",
       "</div>"
      ],
      "text/plain": [
       "               model 1    model 2    model 3\n",
       "loss           2.25485      2.323    2.20684\n",
       "accuracy      0.232955   0.238636       0.25\n",
       "precision        0.625        0.5   0.605263\n",
       "recall       0.0142045  0.0738636  0.0738636\n",
       "layers               1          1          2\n",
       "nodes               12        128  (128, 64)\n",
       "f1 micro      0.232955   0.238636       0.25\n",
       "f1 macro       0.16999   0.195512   0.191103\n",
       "f1 weighted    0.20067   0.228178   0.224565"
      ]
     },
     "execution_count": 41,
     "metadata": {},
     "output_type": "execute_result"
    }
   ],
   "source": [
    "compare.T"
   ]
  },
  {
   "cell_type": "code",
   "execution_count": null,
   "metadata": {},
   "outputs": [],
   "source": []
  }
 ],
 "metadata": {
  "kernelspec": {
   "display_name": "Python 3",
   "language": "python",
   "name": "python3"
  },
  "language_info": {
   "codemirror_mode": {
    "name": "ipython",
    "version": 3
   },
   "file_extension": ".py",
   "mimetype": "text/x-python",
   "name": "python",
   "nbconvert_exporter": "python",
   "pygments_lexer": "ipython3",
   "version": "3.7.7"
  }
 },
 "nbformat": 4,
 "nbformat_minor": 4
}
