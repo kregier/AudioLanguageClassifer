{
 "cells": [
  {
   "cell_type": "markdown",
   "metadata": {},
   "source": [
    "# Gender Classifier Evaluation\n",
    "\n",
    "This notebook loads the saved models and generates predictions from test dataset. The predictions and model metrics are evaluated, compared, and saved for future examination.\n",
    "\n",
    "While the original notebook was created and run in Paperspace, this version has been formated to run on the local machine, once the saved models have been downloaded."
   ]
  },
  {
   "cell_type": "code",
   "execution_count": 1,
   "metadata": {},
   "outputs": [
    {
     "name": "stdout",
     "output_type": "stream",
     "text": [
      "All set up!\n"
     ]
    }
   ],
   "source": [
    "# Set up the environment\n",
    "#!pip install soundfile\n",
    "\n",
    "import pandas as pd\n",
    "import numpy as np\n",
    "import matplotlib.pylab as plt\n",
    "import seaborn as sns\n",
    "import IPython.display as ipd\n",
    "import librosa\n",
    "import soundfile as sf\n",
    "\n",
    "import os\n",
    "import random\n",
    "import re\n",
    "\n",
    "import tensorflow as tf\n",
    "import tensorflow_hub as hub\n",
    "from tensorflow.keras.callbacks import EarlyStopping, ModelCheckpoint\n",
    "\n",
    "from keras.layers import Dense, Input, Flatten, Dropout\n",
    "from keras.models import Sequential, load_model\n",
    "\n",
    "from sklearn.metrics import classification_report, confusion_matrix, f1_score\n",
    "from sklearn.model_selection import train_test_split\n",
    "\n",
    "print(\"All set up!\")"
   ]
  },
  {
   "cell_type": "code",
   "execution_count": 2,
   "metadata": {},
   "outputs": [],
   "source": [
    "# Set constants\n",
    "SAMP_RATE = 16000\n",
    "BATCH_SIZE=32\n",
    "CLF='gender'\n",
    "\n",
    "# Modified from https://console.paperspace.com/gcn-team/notebook/prcnk5wzd\n",
    "# Set model constants\n",
    "DROPOUT = 0.5\n",
    "DENSE_ACTIVATION = 'relu'\n",
    "FINAL_ACTIVATION  = 'sigmoid'\n",
    "LOSS = 'binary_crossentropy'\n",
    "\n",
    "NUM_EPOCHS=100\n",
    "EARLY_STOP_AFTER = 5"
   ]
  },
  {
   "cell_type": "markdown",
   "metadata": {},
   "source": [
    "## Generate testing dataset\n",
    "- Load the VGGish model\n",
    "- Regenerate the Testing dataset"
   ]
  },
  {
   "cell_type": "code",
   "execution_count": 3,
   "metadata": {},
   "outputs": [],
   "source": [
    "# Using a SavedModel from the TFHub in Keras\n",
    "# https://www.tensorflow.org/hub/tf2_saved_model\n",
    "# VGGish model, from https://tfhub.dev/google/vggish/1\n",
    "\n",
    "# Link to the model on TFHub\n",
    "hub_url = 'https://tfhub.dev/google/vggish/1'\n",
    "\n",
    "# Load the model as a Keras model\n",
    "vggish_model = hub.KerasLayer(hub_url)\n",
    "vggish_model.trainable = False"
   ]
  },
  {
   "cell_type": "code",
   "execution_count": 4,
   "metadata": {},
   "outputs": [
    {
     "name": "stdout",
     "output_type": "stream",
     "text": [
      "['storage/data/gender/test/macedonian21.F.0o.wav', 'storage/data/gender/test/english391.F.1o.wav', 'storage/data/gender/test/taiwanese6.F.2o.wav', 'storage/data/gender/test/english194.M.0o.wav', 'storage/data/gender/test/dutch4.M.1o.wav']\n",
      "1206\n"
     ]
    }
   ],
   "source": [
    "test_names = os.listdir('../data/gender/test')\n",
    "test_paths = ['../data/gender/test/{}'.format(i) for i in test_names]\n",
    "print(test_paths[:5])\n",
    "print(len(test_paths))"
   ]
  },
  {
   "cell_type": "code",
   "execution_count": 5,
   "metadata": {},
   "outputs": [
    {
     "name": "stdout",
     "output_type": "stream",
     "text": [
      "Number of testing samples:  1206\n",
      "evaluation_steps =  37\n"
     ]
    }
   ],
   "source": [
    "print(\"Number of testing samples: \", len(test_paths))\n",
    "\n",
    "EVAL_STEPS = np.int(np.ceil(len(test_paths)/BATCH_SIZE))-1\n",
    "print(\"evaluation_steps = \", EVAL_STEPS)"
   ]
  },
  {
   "cell_type": "code",
   "execution_count": 6,
   "metadata": {},
   "outputs": [],
   "source": [
    "def tf_data_generator(file_list, batch_size=32):\n",
    "    '''Create a dataset generator. \n",
    "    Iterate through a list of filenames and process in batches.\n",
    "    Extract audio features from vggish model.\n",
    "    WARNING: This generator forms an infinite loop, \n",
    "    so you need to specify how long to run the generator \n",
    "    before fitting and evaluating a model.\n",
    "\n",
    "    Arguments:\n",
    "    file_list - list of filenames to iterate\n",
    "    vggish_model  - pass the instantiated model to the function\n",
    "    batch_size - how many files to process at a time'''\n",
    "    \n",
    "    i = 1\n",
    "    while True: #infinite loop\n",
    "        if i*batch_size >= len(file_list):\n",
    "            i=1\n",
    "            np.random.shuffle(file_list)\n",
    "        else:\n",
    "            file_chunk = file_list[(i-1)*batch_size:i*batch_size]\n",
    "            data = []\n",
    "            labels = []\n",
    "            label_classes = tf.constant(['M', 'F'])\n",
    "            for file in file_chunk:\n",
    "                # Read data\n",
    "                audio, sr = librosa.load(file, sr=16000)\n",
    "                # Apply transformations\n",
    "                embed = vggish_model(audio)\n",
    "                data.append(embed)\n",
    "                # Extract labels from filename\n",
    "                bytes_string = file\n",
    "                string_name = str(bytes_string, 'utf-8')\n",
    "                split_str = string_name.split('.')\n",
    "                #print(split_str)\n",
    "                pattern = tf.constant(split_str[1])\n",
    "                #print(pattern)\n",
    "                for j in range(len(label_classes)):\n",
    "                    if re.match(pattern.numpy(), label_classes[j].numpy()):\n",
    "                        labels.append(j)\n",
    "\n",
    "            data = np.asarray(data)\n",
    "            labels = np.asarray(labels)\n",
    "\n",
    "            yield data, labels\n",
    "            i += 1"
   ]
  },
  {
   "cell_type": "code",
   "execution_count": 7,
   "metadata": {},
   "outputs": [],
   "source": [
    "test_dataset = tf.data.Dataset.from_generator(tf_data_generator, \n",
    "                                         args = [test_paths, BATCH_SIZE],\n",
    "                                         output_types=(tf.float32, tf.float32),\n",
    "                                         output_shapes= ((None, 10, 128),(None,)) ) "
   ]
  },
  {
   "cell_type": "markdown",
   "metadata": {},
   "source": [
    "## Functions to build model architecture\n",
    "Needed to load the saved models."
   ]
  },
  {
   "cell_type": "code",
   "execution_count": 8,
   "metadata": {},
   "outputs": [],
   "source": [
    "def create_gender_model(n_layers, n_nodes):\n",
    "    model = Sequential()\n",
    "    model.add(Input(shape=(10, 128), batch_size=BATCH_SIZE ))\n",
    "    \n",
    "    for i in range(n_layers):\n",
    "        model.add(Dense(n_nodes/(i+1), activation=DENSE_ACTIVATION))\n",
    "        model.add(Dropout(DROPOUT))\n",
    "\n",
    "    model.add(Flatten())\n",
    "    # Output\n",
    "    model.add(Dense(1, activation=FINAL_ACTIVATION) )\n",
    "\n",
    "    model.compile(loss=LOSS, optimizer='adam', metrics=['accuracy', 'Precision', 'Recall'])\n",
    "    return model"
   ]
  },
  {
   "cell_type": "code",
   "execution_count": 9,
   "metadata": {},
   "outputs": [],
   "source": [
    "def evaluate_model(model, model_name, test_ds):\n",
    "    # Evaluate the model\n",
    "    \n",
    "    y_pred = model.predict(test_ds, steps=EVAL_STEPS)\n",
    "    y_pred_int  = []\n",
    "    for i in y_pred:\n",
    "        if i < 0.5:\n",
    "            y_pred_int.append(0)\n",
    "        else: y_pred_int.append(1)\n",
    "            \n",
    "    # Get 1D array of labels from test_dataset\n",
    "    y_lab = np.concatenate([y for x, y in test_ds.take(EVAL_STEPS)], axis=0)\n",
    "    \n",
    "    fig_path = ('../reports/figures/gender/{}'.format(model_name))\n",
    "\n",
    "    conf_mat = tf.math.confusion_matrix(y_lab, y_pred_int)\n",
    "    print(conf_mat)\n",
    "    sns.heatmap(conf_mat, annot = True, cmap='YlGnBu')\n",
    "    plt.title(\"Confusion matrix: {}\".format(model_name))\n",
    "    plt.savefig('{}.ConfusionMatrix.png'.format(fig_path))\n",
    "\n",
    "    return y_lab, y_pred_int"
   ]
  },
  {
   "cell_type": "markdown",
   "metadata": {},
   "source": [
    "# Model 1"
   ]
  },
  {
   "cell_type": "code",
   "execution_count": 10,
   "metadata": {},
   "outputs": [],
   "source": [
    "# Set model parameters\n",
    "n_layers = 1\n",
    "n_nodes = 128\n",
    "\n",
    "model1_name = 'Gender.Dense.nLay{}.nNodes{}.dropout{}'.format(n_layers, n_nodes, DROPOUT)\n",
    "model1_path = '../models/gender/{}'.format(model1_name)\n",
    "ckpt1_name = '{}.ckpt'.format(model1_name)\n",
    "ckpt1_path = '../models/gender/{}'.format(ckpt1_name)\n",
    "ckpt1_dir = os.path.dirname(ckpt1_path)"
   ]
  },
  {
   "cell_type": "code",
   "execution_count": 11,
   "metadata": {},
   "outputs": [
    {
     "name": "stdout",
     "output_type": "stream",
     "text": [
      "Model weights loaded\n",
      "Model: \"sequential\"\n",
      "_________________________________________________________________\n",
      "Layer (type)                 Output Shape              Param #   \n",
      "=================================================================\n",
      "dense (Dense)                (32, 10, 128)             16512     \n",
      "_________________________________________________________________\n",
      "dropout (Dropout)            (32, 10, 128)             0         \n",
      "_________________________________________________________________\n",
      "flatten (Flatten)            (32, 1280)                0         \n",
      "_________________________________________________________________\n",
      "dense_1 (Dense)              (32, 1)                   1281      \n",
      "=================================================================\n",
      "Total params: 17,793\n",
      "Trainable params: 17,793\n",
      "Non-trainable params: 0\n",
      "_________________________________________________________________\n"
     ]
    }
   ],
   "source": [
    "if os.path.isdir(model1_path):\n",
    "    model1 = tf.keras.models.load_model(model1_path)\n",
    "    print(\"Saved model loaded\")\n",
    "    model1.summary()\n",
    "elif os.path.isdir(ckpt1_path):\n",
    "    model1 = create_gender_model(n_layers, n_nodes)\n",
    "    model1.load_weights(ckpt1_path)\n",
    "    print(\"Model weights loaded\")\n",
    "    model1.summary()"
   ]
  },
  {
   "cell_type": "code",
   "execution_count": 12,
   "metadata": {},
   "outputs": [
    {
     "name": "stdout",
     "output_type": "stream",
     "text": [
      "37/37 [==============================] - 334s 9s/step - loss: 0.0616 - accuracy: 0.9814 - precision: 0.9828 - recall: 0.9795\n"
     ]
    }
   ],
   "source": [
    "test1_loss, test1_acc, test1_prec, test1_recall = model1.evaluate(test_dataset, steps=EVAL_STEPS)"
   ]
  },
  {
   "cell_type": "code",
   "execution_count": 13,
   "metadata": {},
   "outputs": [
    {
     "name": "stdout",
     "output_type": "stream",
     "text": [
      "tf.Tensor(\n",
      "[[590  10]\n",
      " [ 12 572]], shape=(2, 2), dtype=int32)\n"
     ]
    },
    {
     "data": {
      "image/png": "[encoded data removed]",
      "text/plain": [
       "<Figure size 432x288 with 2 Axes>"
      ]
     },
     "metadata": {
      "needs_background": "light"
     },
     "output_type": "display_data"
    }
   ],
   "source": [
    "y1_lab, y1_pred = evaluate_model(model1, model1_name, test_dataset)"
   ]
  },
  {
   "cell_type": "markdown",
   "metadata": {},
   "source": [
    "# Model 2\n",
    "2 hidden layers, 128 and 64 nodes, respectively"
   ]
  },
  {
   "cell_type": "code",
   "execution_count": 14,
   "metadata": {},
   "outputs": [],
   "source": [
    "# Set model parameters\n",
    "n_layers = 2\n",
    "\n",
    "# First layer will have 128 nodes, second layer will have 128/2 = 64 nodes\n",
    "n_nodes = 128\n",
    "\n",
    "model2_name = 'Gender.Dense.nLay{}.nNodes{}.dropout{}'.format(n_layers, n_nodes, DROPOUT)\n",
    "model2_path = '../models/gender/{}'.format(model2_name)\n",
    "ckpt2_name = '{}.ckpt'.format(model2_name)\n",
    "ckpt2_path = '../models/gender/{}'.format(ckpt2_name)\n",
    "ckpt2_dir = os.path.dirname(ckpt2_path)"
   ]
  },
  {
   "cell_type": "code",
   "execution_count": 15,
   "metadata": {},
   "outputs": [
    {
     "name": "stdout",
     "output_type": "stream",
     "text": [
      "Saved model loaded\n",
      "Model: \"sequential_2\"\n",
      "_________________________________________________________________\n",
      "Layer (type)                 Output Shape              Param #   \n",
      "=================================================================\n",
      "dense_4 (Dense)              (32, 10, 128)             16512     \n",
      "_________________________________________________________________\n",
      "dropout_2 (Dropout)          (32, 10, 128)             0         \n",
      "_________________________________________________________________\n",
      "dense_5 (Dense)              (32, 10, 64)              8256      \n",
      "_________________________________________________________________\n",
      "dropout_3 (Dropout)          (32, 10, 64)              0         \n",
      "_________________________________________________________________\n",
      "flatten_2 (Flatten)          (32, 640)                 0         \n",
      "_________________________________________________________________\n",
      "dense_6 (Dense)              (32, 1)                   641       \n",
      "=================================================================\n",
      "Total params: 25,409\n",
      "Trainable params: 25,409\n",
      "Non-trainable params: 0\n",
      "_________________________________________________________________\n"
     ]
    }
   ],
   "source": [
    "if os.path.isdir(model2_path):\n",
    "    model2 = tf.keras.models.load_model(model2_path)\n",
    "    print(\"Saved model loaded\")\n",
    "    model2.summary()\n",
    "elif os.path.isdir(ckpt2_path):\n",
    "    model2 = create_gender_model(n_layers, n_nodes)\n",
    "    model2.load_weights(ckpt2_path)\n",
    "    print(\"Model weights loaded\")\n",
    "    model2.summary()"
   ]
  },
  {
   "cell_type": "code",
   "execution_count": 16,
   "metadata": {},
   "outputs": [
    {
     "name": "stdout",
     "output_type": "stream",
     "text": [
      "37/37 [==============================] - 332s 9s/step - loss: 0.0770 - accuracy: 0.9755 - precision: 0.9602 - recall: 0.9914\n"
     ]
    }
   ],
   "source": [
    "test2_loss, test2_acc, test2_prec, test2_recall = model2.evaluate(test_dataset, steps=EVAL_STEPS)"
   ]
  },
  {
   "cell_type": "code",
   "execution_count": 17,
   "metadata": {},
   "outputs": [
    {
     "name": "stdout",
     "output_type": "stream",
     "text": [
      "tf.Tensor(\n",
      "[[576  24]\n",
      " [  5 579]], shape=(2, 2), dtype=int32)\n"
     ]
    },
    {
     "data": {
      "image/png": "[encoded data removed]",
      "text/plain": [
       "<Figure size 432x288 with 2 Axes>"
      ]
     },
     "metadata": {
      "needs_background": "light"
     },
     "output_type": "display_data"
    }
   ],
   "source": [
    "y2_lab, y2_pred = evaluate_model(model2, model2_name, test_dataset)"
   ]
  },
  {
   "cell_type": "markdown",
   "metadata": {},
   "source": [
    "## Calculate F1 scores"
   ]
  },
  {
   "cell_type": "code",
   "execution_count": 20,
   "metadata": {},
   "outputs": [],
   "source": [
    "m1_f1_micro = f1_score(y1_lab, y1_pred, labels = [0,1], average='micro')\n",
    "m1_f1_macro = f1_score(y1_lab, y1_pred, labels = [0,1], average='macro')\n",
    "m1_f1_weight = f1_score(y1_lab, y1_pred, labels = [0,1], average='weighted')"
   ]
  },
  {
   "cell_type": "code",
   "execution_count": 21,
   "metadata": {},
   "outputs": [],
   "source": [
    "m2_f1_micro = f1_score(y2_lab, y2_pred, labels = [0,1], average='micro')\n",
    "m2_f1_macro = f1_score(y2_lab, y2_pred, labels = [0,1], average='macro')\n",
    "m2_f1_weight = f1_score(y2_lab, y2_pred, labels = [0,1], average='weighted')"
   ]
  },
  {
   "cell_type": "markdown",
   "metadata": {},
   "source": [
    "# Store results in a dataframe"
   ]
  },
  {
   "cell_type": "code",
   "execution_count": 22,
   "metadata": {},
   "outputs": [
    {
     "data": {
      "text/html": [
       "<div>\n",
       "<style scoped>\n",
       "    .dataframe tbody tr th:only-of-type {\n",
       "        vertical-align: middle;\n",
       "    }\n",
       "\n",
       "    .dataframe tbody tr th {\n",
       "        vertical-align: top;\n",
       "    }\n",
       "\n",
       "    .dataframe thead th {\n",
       "        text-align: right;\n",
       "    }\n",
       "</style>\n",
       "<table border=\"1\" class=\"dataframe\">\n",
       "  <thead>\n",
       "    <tr style=\"text-align: right;\">\n",
       "      <th></th>\n",
       "      <th>loss</th>\n",
       "      <th>accuracy</th>\n",
       "      <th>precision</th>\n",
       "      <th>recall</th>\n",
       "      <th>layers</th>\n",
       "      <th>nodes</th>\n",
       "      <th>F1 micro</th>\n",
       "      <th>F1 macro</th>\n",
       "      <th>F1 weighted</th>\n",
       "    </tr>\n",
       "  </thead>\n",
       "  <tbody>\n",
       "    <tr>\n",
       "      <th>model 1</th>\n",
       "      <td>0.061640</td>\n",
       "      <td>0.981419</td>\n",
       "      <td>0.982818</td>\n",
       "      <td>0.979452</td>\n",
       "      <td>1</td>\n",
       "      <td>128</td>\n",
       "      <td>0.981419</td>\n",
       "      <td>0.981415</td>\n",
       "      <td>0.981418</td>\n",
       "    </tr>\n",
       "    <tr>\n",
       "      <th>model 2</th>\n",
       "      <td>0.076962</td>\n",
       "      <td>0.975507</td>\n",
       "      <td>0.960199</td>\n",
       "      <td>0.991438</td>\n",
       "      <td>2</td>\n",
       "      <td>(128, 64)</td>\n",
       "      <td>0.975507</td>\n",
       "      <td>0.975507</td>\n",
       "      <td>0.975506</td>\n",
       "    </tr>\n",
       "  </tbody>\n",
       "</table>\n",
       "</div>"
      ],
      "text/plain": [
       "             loss  accuracy  precision    recall  layers      nodes  F1 micro  \\\n",
       "model 1  0.061640  0.981419   0.982818  0.979452       1        128  0.981419   \n",
       "model 2  0.076962  0.975507   0.960199  0.991438       2  (128, 64)  0.975507   \n",
       "\n",
       "         F1 macro  F1 weighted  \n",
       "model 1  0.981415     0.981418  \n",
       "model 2  0.975507     0.975506  "
      ]
     },
     "execution_count": 22,
     "metadata": {},
     "output_type": "execute_result"
    }
   ],
   "source": [
    "compare = pd.DataFrame({'loss': [test1_loss, test2_loss], 'accuracy': [test1_acc, test2_acc], \n",
    "                        'precision': [test1_prec, test2_prec], 'recall': [test1_recall, test2_recall],\n",
    "                       'layers':[1, 2], 'nodes':[128, (128, 64)],\n",
    "                       'F1 micro': [m1_f1_micro, m2_f1_micro], 'F1 macro': [m1_f1_macro, m2_f1_macro],\n",
    "                       'F1 weighted': [m1_f1_weight, m2_f1_weight]},\n",
    "                      index = ['model 1', 'model 2'])\n",
    "compare.head()"
   ]
  },
  {
   "cell_type": "code",
   "execution_count": 23,
   "metadata": {},
   "outputs": [],
   "source": [
    "compare.to_csv('../models/gender/model_comparison.csv')"
   ]
  }
 ],
 "metadata": {
  "kernelspec": {
   "display_name": "Python 3",
   "language": "python",
   "name": "python3"
  },
  "language_info": {
   "codemirror_mode": {
    "name": "ipython",
    "version": 3
   },
   "file_extension": ".py",
   "mimetype": "text/x-python",
   "name": "python",
   "nbconvert_exporter": "python",
   "pygments_lexer": "ipython3",
   "version": "3.7.7"
  }
 },
 "nbformat": 4,
 "nbformat_minor": 4
}
