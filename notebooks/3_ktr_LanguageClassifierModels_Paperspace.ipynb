{
 "cells": [
  {
   "cell_type": "markdown",
   "metadata": {},
   "source": [
    "# Language Classifier\n",
    "## Set up the environment"
   ]
  },
  {
   "cell_type": "code",
   "execution_count": 1,
   "metadata": {},
   "outputs": [
    {
     "name": "stdout",
     "output_type": "stream",
     "text": [
      "Requirement already satisfied: soundfile in /usr/local/lib/python3.6/dist-packages (0.10.3.post1)\n",
      "Requirement already satisfied: cffi>=1.0 in /usr/local/lib/python3.6/dist-packages (from soundfile) (1.14.4)\n",
      "Requirement already satisfied: pycparser in /usr/local/lib/python3.6/dist-packages (from cffi>=1.0->soundfile) (2.20)\n",
      "\u001b[33mWARNING: You are using pip version 19.2.3, however version 20.3.3 is available.\n",
      "You should consider upgrading via the 'pip install --upgrade pip' command.\u001b[0m\n",
      "All set up!\n"
     ]
    }
   ],
   "source": [
    "# Set up the environment\n",
    "!pip install soundfile\n",
    "\n",
    "import pandas as pd\n",
    "import numpy as np\n",
    "import matplotlib.pylab as plt\n",
    "import seaborn as sns\n",
    "import IPython.display as ipd\n",
    "import librosa\n",
    "import soundfile as sf\n",
    "\n",
    "import os\n",
    "import random\n",
    "import re\n",
    "\n",
    "import tensorflow as tf\n",
    "import tensorflow_hub as hub\n",
    "from tensorflow.keras.callbacks import EarlyStopping, ModelCheckpoint\n",
    "\n",
    "from keras.layers import Dense, Input, Flatten, Dropout\n",
    "from keras.models import Sequential\n",
    "\n",
    "from sklearn.metrics import classification_report, confusion_matrix\n",
    "from sklearn.model_selection import train_test_split\n",
    "\n",
    "print(\"All set up!\")"
   ]
  },
  {
   "cell_type": "code",
   "execution_count": 2,
   "metadata": {},
   "outputs": [],
   "source": [
    "# Set constants\n",
    "SAMP_RATE = 16000  #Defined in augment package\n",
    "BATCH_SIZE = 32  #Defined in augment package\n",
    "CLF = 'lang10'"
   ]
  },
  {
   "cell_type": "code",
   "execution_count": 3,
   "metadata": {},
   "outputs": [
    {
     "data": {
      "text/html": [
       "<div>\n",
       "<style scoped>\n",
       "    .dataframe tbody tr th:only-of-type {\n",
       "        vertical-align: middle;\n",
       "    }\n",
       "\n",
       "    .dataframe tbody tr th {\n",
       "        vertical-align: top;\n",
       "    }\n",
       "\n",
       "    .dataframe thead th {\n",
       "        text-align: right;\n",
       "    }\n",
       "</style>\n",
       "<table border=\"1\" class=\"dataframe\">\n",
       "  <thead>\n",
       "    <tr style=\"text-align: right;\">\n",
       "      <th></th>\n",
       "      <th>age</th>\n",
       "      <th>age_onset</th>\n",
       "      <th>birthplace</th>\n",
       "      <th>filename</th>\n",
       "      <th>native_language</th>\n",
       "      <th>sex</th>\n",
       "      <th>country</th>\n",
       "      <th>file_missing?</th>\n",
       "    </tr>\n",
       "    <tr>\n",
       "      <th>speakerid</th>\n",
       "      <th></th>\n",
       "      <th></th>\n",
       "      <th></th>\n",
       "      <th></th>\n",
       "      <th></th>\n",
       "      <th></th>\n",
       "      <th></th>\n",
       "      <th></th>\n",
       "    </tr>\n",
       "  </thead>\n",
       "  <tbody>\n",
       "    <tr>\n",
       "      <th>1</th>\n",
       "      <td>27.0</td>\n",
       "      <td>9.0</td>\n",
       "      <td>virginia, south africa</td>\n",
       "      <td>afrikaans1</td>\n",
       "      <td>afrikaans</td>\n",
       "      <td>female</td>\n",
       "      <td>south africa</td>\n",
       "      <td>False</td>\n",
       "    </tr>\n",
       "    <tr>\n",
       "      <th>2</th>\n",
       "      <td>40.0</td>\n",
       "      <td>5.0</td>\n",
       "      <td>pretoria, south africa</td>\n",
       "      <td>afrikaans2</td>\n",
       "      <td>afrikaans</td>\n",
       "      <td>male</td>\n",
       "      <td>south africa</td>\n",
       "      <td>False</td>\n",
       "    </tr>\n",
       "    <tr>\n",
       "      <th>3</th>\n",
       "      <td>25.0</td>\n",
       "      <td>15.0</td>\n",
       "      <td>diekabo, ivory coast</td>\n",
       "      <td>agni1</td>\n",
       "      <td>agni</td>\n",
       "      <td>male</td>\n",
       "      <td>ivory coast</td>\n",
       "      <td>False</td>\n",
       "    </tr>\n",
       "    <tr>\n",
       "      <th>4</th>\n",
       "      <td>19.0</td>\n",
       "      <td>6.0</td>\n",
       "      <td>prishtina, kosovo</td>\n",
       "      <td>albanian1</td>\n",
       "      <td>albanian</td>\n",
       "      <td>male</td>\n",
       "      <td>kosovo</td>\n",
       "      <td>False</td>\n",
       "    </tr>\n",
       "    <tr>\n",
       "      <th>5</th>\n",
       "      <td>33.0</td>\n",
       "      <td>15.0</td>\n",
       "      <td>tirana, albania</td>\n",
       "      <td>albanian2</td>\n",
       "      <td>albanian</td>\n",
       "      <td>male</td>\n",
       "      <td>albania</td>\n",
       "      <td>False</td>\n",
       "    </tr>\n",
       "  </tbody>\n",
       "</table>\n",
       "</div>"
      ],
      "text/plain": [
       "            age  age_onset              birthplace    filename  \\\n",
       "speakerid                                                        \n",
       "1          27.0        9.0  virginia, south africa  afrikaans1   \n",
       "2          40.0        5.0  pretoria, south africa  afrikaans2   \n",
       "3          25.0       15.0    diekabo, ivory coast       agni1   \n",
       "4          19.0        6.0       prishtina, kosovo   albanian1   \n",
       "5          33.0       15.0         tirana, albania   albanian2   \n",
       "\n",
       "          native_language     sex       country  file_missing?  \n",
       "speakerid                                                       \n",
       "1               afrikaans  female  south africa          False  \n",
       "2               afrikaans    male  south africa          False  \n",
       "3                    agni    male   ivory coast          False  \n",
       "4                albanian    male        kosovo          False  \n",
       "5                albanian    male       albania          False  "
      ]
     },
     "execution_count": 3,
     "metadata": {},
     "output_type": "execute_result"
    }
   ],
   "source": [
    "meta = pd.read_csv('processed.csv', index_col='speakerid')\n",
    "meta.head()"
   ]
  },
  {
   "cell_type": "markdown",
   "metadata": {},
   "source": [
    "# Create data generators"
   ]
  },
  {
   "cell_type": "markdown",
   "metadata": {},
   "source": [
    "## Load the VGGish model\n",
    "The model needs to be instantiated before the dataset generator is called."
   ]
  },
  {
   "cell_type": "code",
   "execution_count": 4,
   "metadata": {},
   "outputs": [],
   "source": [
    "# Using a SavedModel from the TFHub in Keras\n",
    "# https://www.tensorflow.org/hub/tf2_saved_model\n",
    "# VGGish model, from https://tfhub.dev/google/vggish/1\n",
    "\n",
    "# Link to the model on TFHub\n",
    "hub_url = 'https://tfhub.dev/google/vggish/1'\n",
    "\n",
    "# Load the model as a Keras model\n",
    "vggish_model = hub.KerasLayer(hub_url)\n",
    "vggish_model.trainable = False"
   ]
  },
  {
   "cell_type": "markdown",
   "metadata": {},
   "source": [
    "## Create lists of filenames and paths to feed the generators.\n",
    "\n",
    "Since the audio files are divided into folders, we can just generate lists of the contents of the folders.\n",
    "\n",
    "Following the example from https://keras.io/examples/audio/speaker_recognition_using_cnn/"
   ]
  },
  {
   "cell_type": "code",
   "execution_count": 5,
   "metadata": {},
   "outputs": [
    {
     "name": "stdout",
     "output_type": "stream",
     "text": [
      "Our class names: ['russian', 'arabic', 'turkish', 'korean', 'german', 'dutch', 'spanish', 'french', 'english', 'portuguese', 'mandarin']\n"
     ]
    }
   ],
   "source": [
    "# Dataset generation from Keras.IO example\n",
    "# https://keras.io/examples/audio/speaker_recognition_using_cnn/\n",
    "\n",
    "from pathlib import Path\n",
    "# Get the list of audio file paths along with their corresponding labels\n",
    "DATASET_ROOT = \"storage/data/lang10\"\n",
    "TRAIN_SUBFOLDER = \"train\"\n",
    "VAL_SUBFOLDER = \"validation\"\n",
    "TEST_SUBFOLDER = \"test/test_data\"\n",
    "\n",
    "DATASET_TRAIN_PATH = os.path.join(DATASET_ROOT, TRAIN_SUBFOLDER)\n",
    "DATASET_VAL_PATH = os.path.join(DATASET_ROOT, VAL_SUBFOLDER)\n",
    "DATASET_TEST_PATH = os.path.join(DATASET_ROOT, TEST_SUBFOLDER)\n",
    "\n",
    "SHUFFLE_SEED = 38\n",
    "SAMP_RATE = 16000\n",
    "\n",
    "class_names = os.listdir(DATASET_TRAIN_PATH)\n",
    "class_names.remove('.ipynb_checkpoints')\n",
    "print(\"Our class names: {}\".format(class_names,))"
   ]
  },
  {
   "cell_type": "code",
   "execution_count": 6,
   "metadata": {},
   "outputs": [
    {
     "name": "stdout",
     "output_type": "stream",
     "text": [
      "11\n"
     ]
    }
   ],
   "source": [
    "num_class = len(class_names)\n",
    "print(num_class)"
   ]
  },
  {
   "cell_type": "code",
   "execution_count": 7,
   "metadata": {},
   "outputs": [
    {
     "name": "stdout",
     "output_type": "stream",
     "text": [
      "Processing language russian\n",
      "Processing language arabic\n",
      "Processing language turkish\n",
      "Processing language korean\n",
      "Processing language german\n",
      "Processing language dutch\n",
      "Processing language spanish\n",
      "Processing language french\n",
      "Processing language english\n",
      "Processing language portuguese\n",
      "Processing language mandarin\n",
      "Found 1606 files belonging to 11 classes.\n"
     ]
    }
   ],
   "source": [
    "# Process training data\n",
    "train_paths = []\n",
    "train_labels = []\n",
    "for label, name in enumerate(class_names):\n",
    "    print(\"Processing language {}\".format(name,))\n",
    "    dir_path = Path(DATASET_TRAIN_PATH) / name\n",
    "    language_sample_paths = [\n",
    "        os.path.join(dir_path, filepath)\n",
    "        for filepath in os.listdir(dir_path)\n",
    "        if filepath.endswith(\".wav\")\n",
    "    ]\n",
    "    train_paths += language_sample_paths\n",
    "    train_labels += [label] * len(language_sample_paths)\n",
    "\n",
    "print(\n",
    "    \"Found {} files belonging to {} classes.\".format(len(train_paths), len(class_names))\n",
    ")"
   ]
  },
  {
   "cell_type": "code",
   "execution_count": 8,
   "metadata": {},
   "outputs": [
    {
     "name": "stdout",
     "output_type": "stream",
     "text": [
      "Processing language russian\n",
      "Processing language arabic\n",
      "Processing language turkish\n",
      "Processing language korean\n",
      "Processing language german\n",
      "Processing language dutch\n",
      "Processing language spanish\n",
      "Processing language french\n",
      "Processing language english\n",
      "Processing language portuguese\n",
      "Processing language mandarin\n",
      "Found 536 files belonging to 11 classes.\n"
     ]
    }
   ],
   "source": [
    "# Process validation data\n",
    "validation_paths = []\n",
    "val_labels = []\n",
    "for label, name in enumerate(class_names):\n",
    "    print(\"Processing language {}\".format(name,))\n",
    "    dir_path = Path(DATASET_VAL_PATH) / name\n",
    "    language_sample_paths = [\n",
    "        os.path.join(dir_path, filepath)\n",
    "        for filepath in os.listdir(dir_path)\n",
    "        if filepath.endswith(\".wav\")\n",
    "    ]\n",
    "    validation_paths += language_sample_paths\n",
    "    val_labels += [label] * len(language_sample_paths)\n",
    "\n",
    "print(\n",
    "    \"Found {} files belonging to {} classes.\".format(len(validation_paths), len(class_names))\n",
    ")"
   ]
  },
  {
   "cell_type": "code",
   "execution_count": 9,
   "metadata": {},
   "outputs": [],
   "source": [
    "# Process testing data\n",
    "testing_filenames = os.listdir(DATASET_TEST_PATH)\n",
    "testing_paths = []\n",
    "test_labels = []\n",
    "\n",
    "label_dict = {}\n",
    "for label, name in enumerate(class_names):\n",
    "    label_dict[name] = label\n",
    "\n",
    "for filename in testing_filenames:\n",
    "    filepath =  os.path.join(DATASET_TEST_PATH, filename)\n",
    "    testing_paths.append(filepath)\n",
    "    fname = filename.split('.')[0].rstrip('0123456789')\n",
    "    test_labels.append(label_dict[fname])"
   ]
  },
  {
   "cell_type": "code",
   "execution_count": 10,
   "metadata": {},
   "outputs": [],
   "source": [
    "# Shuffle the order of the traning and validation datasets and labels\n",
    "rng = np.random.RandomState(SHUFFLE_SEED)\n",
    "rng.shuffle(train_paths)\n",
    "rng = np.random.RandomState(SHUFFLE_SEED)\n",
    "rng.shuffle(train_labels)\n",
    "\n",
    "rng = np.random.RandomState(SHUFFLE_SEED)\n",
    "rng.shuffle(validation_paths)\n",
    "rng = np.random.RandomState(SHUFFLE_SEED)\n",
    "rng.shuffle(val_labels)\n",
    "\n",
    "rng = np.random.RandomState(SHUFFLE_SEED)\n",
    "rng.shuffle(testing_paths)\n",
    "rng = np.random.RandomState(SHUFFLE_SEED)\n",
    "rng.shuffle(test_labels)"
   ]
  },
  {
   "cell_type": "markdown",
   "metadata": {},
   "source": [
    "## One-hot encode the labels"
   ]
  },
  {
   "cell_type": "code",
   "execution_count": 11,
   "metadata": {},
   "outputs": [
    {
     "name": "stdout",
     "output_type": "stream",
     "text": [
      "<class 'tensorflow.python.framework.ops.EagerTensor'>\n",
      "(1606, 11)\n",
      "tf.Tensor([0. 0. 0. 0. 0. 0. 0. 1. 0. 0. 0.], shape=(11,), dtype=float32)\n"
     ]
    }
   ],
   "source": [
    "train_onehot = tf.keras.backend.one_hot(train_labels, num_classes = len(class_names))\n",
    "val_onehot = tf.keras.backend.one_hot(val_labels, num_classes = len(class_names))\n",
    "test_onehot = tf.keras.backend.one_hot(test_labels, num_classes = len(class_names))\n",
    "\n",
    "print(type(train_onehot) )\n",
    "print(train_onehot.shape)\n",
    "print(train_onehot[0])"
   ]
  },
  {
   "cell_type": "markdown",
   "metadata": {},
   "source": [
    "## Get sample sizes and number of batches for each dataset"
   ]
  },
  {
   "cell_type": "code",
   "execution_count": 12,
   "metadata": {},
   "outputs": [
    {
     "name": "stdout",
     "output_type": "stream",
     "text": [
      "Number of training samples:  1606\n",
      "Number of validation samples:  536\n",
      "Number of testing samples:  373\n"
     ]
    }
   ],
   "source": [
    "# Print sizes of data splits\n",
    "print(\"Number of training samples: \", len(train_paths))\n",
    "print(\"Number of validation samples: \", len(validation_paths))\n",
    "print(\"Number of testing samples: \", len(testing_paths))"
   ]
  },
  {
   "cell_type": "code",
   "execution_count": 13,
   "metadata": {},
   "outputs": [
    {
     "name": "stdout",
     "output_type": "stream",
     "text": [
      "training_steps_per_epoch =  50\n",
      "validation_steps =  16\n",
      "evaluation_steps =  11\n"
     ]
    }
   ],
   "source": [
    "# Calculate how many dataset batches to generate\n",
    "train_steps = np.int(np.ceil(len(train_paths)/BATCH_SIZE)) -1\n",
    "val_steps = np.int(np.ceil(len(validation_paths)/BATCH_SIZE))-1\n",
    "eval_steps = np.int(np.ceil(len(testing_paths)/BATCH_SIZE))-1\n",
    "\n",
    "print(\"training_steps_per_epoch = \", train_steps)\n",
    "print(\"validation_steps = \", val_steps)\n",
    "print(\"evaluation_steps = \", eval_steps)"
   ]
  },
  {
   "cell_type": "markdown",
   "metadata": {},
   "source": [
    "## Define the data generator\n",
    "Run a test batch to make sure the generator produces the right shapes."
   ]
  },
  {
   "cell_type": "code",
   "execution_count": 14,
   "metadata": {},
   "outputs": [],
   "source": [
    "def tf_data_generator(file_list, label_list, batch_size=32):\n",
    "    '''\n",
    "    Create a dataset generator. \n",
    "    Iterate through a list of filenames and process in batches.\n",
    "    Extract audio features from vggish model.\n",
    "    WARNING: This generator forms an infinite loop, \n",
    "    so you need to specify how long to run the generator \n",
    "    before fitting and evaluating a model.\n",
    "\n",
    "    Arguments:\n",
    "    file_list - list of filenames to iterate\n",
    "    label_list - list of the labels associated with the files\n",
    "    batch_size - how many files to process at a time\n",
    "    '''\n",
    "    i = 1\n",
    "    shuff_seed = 42\n",
    "    while True: #infinite loop\n",
    "        if i*batch_size >= len(file_list):\n",
    "            i=1\n",
    "            rng = np.random.RandomState(shuff_seed)\n",
    "            rng.shuffle(file_list)\n",
    "            rng = np.random.RandomState(shuff_seed)\n",
    "            rng.shuffle(label_list)\n",
    "            shuff_seed += 1\n",
    "        else:\n",
    "            file_chunk = file_list[(i-1)*batch_size:i*batch_size]\n",
    "            labels = label_list[(i-1)*batch_size:i*batch_size, :]\n",
    "            data = []\n",
    "\n",
    "            for file in file_chunk:\n",
    "                # Read data\n",
    "                audio, sr = librosa.load(file, sr=16000)\n",
    "                # Apply transformations\n",
    "                embed = vggish_model(audio)\n",
    "                data.append(embed)\n",
    "                # Extract labels from filename\n",
    "\n",
    "            data = np.asarray(data)\n",
    "            labels = np.asarray(labels)\n",
    "\n",
    "            yield data, labels\n",
    "            i += 1"
   ]
  },
  {
   "cell_type": "code",
   "execution_count": 15,
   "metadata": {},
   "outputs": [],
   "source": [
    "dataset_check = tf.data.Dataset.from_generator(tf_data_generator,\n",
    "                                         args = [train_paths[:2*BATCH_SIZE], train_onehot[:2*BATCH_SIZE], BATCH_SIZE],\n",
    "                                         output_types=(tf.float32, tf.float32),\n",
    "                                         output_shapes= ((None, 10, 128),(None,11)) )"
   ]
  },
  {
   "cell_type": "code",
   "execution_count": 16,
   "metadata": {},
   "outputs": [
    {
     "name": "stdout",
     "output_type": "stream",
     "text": [
      "(32, 10, 128)\n",
      "(32, 11)\n",
      "(32, 10, 128)\n",
      "(32, 11)\n"
     ]
    }
   ],
   "source": [
    "# Check shape and size of dataset batches\n",
    "for data, labels in dataset_check.take(2):\n",
    "    print(data.shape)\n",
    "    print(labels.shape)"
   ]
  },
  {
   "cell_type": "markdown",
   "metadata": {},
   "source": [
    "## Generate the datasets"
   ]
  },
  {
   "cell_type": "code",
   "execution_count": 17,
   "metadata": {},
   "outputs": [],
   "source": [
    "train_dataset = tf.data.Dataset.from_generator(tf_data_generator, \n",
    "                                         args = [train_paths, train_onehot, BATCH_SIZE],\n",
    "                                         output_types=(tf.float32, tf.float32),\n",
    "                                         output_shapes= ((None, 10, 128),(None,11)) ) \n",
    "validation_dataset = tf.data.Dataset.from_generator(tf_data_generator, \n",
    "                                         args = [validation_paths, val_onehot, BATCH_SIZE],\n",
    "                                         output_types=(tf.float32, tf.float32),\n",
    "                                         output_shapes= ((None, 10, 128),(None,11)) )\n",
    "test_dataset = tf.data.Dataset.from_generator(tf_data_generator, \n",
    "                                         args = [testing_paths, test_onehot, BATCH_SIZE],\n",
    "                                         output_types=(tf.float32, tf.float32),\n",
    "                                         output_shapes= ((None, 10, 128),(None,11)) ) "
   ]
  },
  {
   "cell_type": "markdown",
   "metadata": {},
   "source": [
    "# Set model constants\n",
    "\n",
    "These models will all have one hidden, dense layer, with various number of nodes in the hidden layer.  After the hidden layer, the data will pass through a dropout layer and a flatten layer before being passed to the output layer.\n",
    "\n",
    "The activiation function for all models with be \"relu.\"\n",
    "\n",
    "INPUT layer\n",
    "Dense layer - variable number of nuerons/nodes\n",
    "DROPOUT layer = 0.5\n",
    "FLATTEN layer\n",
    "OUTPUT layer = 11 nodes, (number of classes), softmax activation."
   ]
  },
  {
   "cell_type": "code",
   "execution_count": 18,
   "metadata": {},
   "outputs": [],
   "source": [
    "# Modified from https://console.paperspace.com/gcn-team/notebook/prcnk5wzd\n",
    "# Set constants\n",
    "BATCH_SIZE = 32\n",
    "NUM_EPOCHS=100\n",
    "DROPOUT = 0.5\n",
    "EARLY_STOP_AFTER = 5\n",
    "\n",
    "LOSS = 'categorical_crossentropy'\n",
    "DENSE_ACTIVATION = 'relu'\n",
    "FINAL_ACTIVATION = 'softmax'\n",
    "\n",
    "TRAIN_STEPS = train_steps\n",
    "VAL_STEPS = val_steps\n",
    "EVAL_STEPS = eval_steps"
   ]
  },
  {
   "cell_type": "code",
   "execution_count": 19,
   "metadata": {},
   "outputs": [],
   "source": [
    "def create_lang_model(n_layers, n_nodes):\n",
    "    model = Sequential()\n",
    "    model.add(Input(shape=(10, 128), batch_size=BATCH_SIZE ))\n",
    "    \n",
    "    for i in range(n_layers):\n",
    "        model.add(Dense(n_nodes/(2**i), activation=DENSE_ACTIVATION))\n",
    "        model.add(Dropout(DROPOUT))\n",
    "\n",
    "    model.add(Flatten())\n",
    "    # Output\n",
    "    model.add(Dense(11, activation=FINAL_ACTIVATION) )\n",
    "\n",
    "    model.compile(loss=LOSS, optimizer='adam', metrics=['accuracy', 'Precision', 'Recall'])\n",
    "    return model"
   ]
  },
  {
   "cell_type": "code",
   "execution_count": 20,
   "metadata": {},
   "outputs": [],
   "source": [
    "def plot_accuracy(model_name, hist_df, fig_path):\n",
    "    plt.plot(hist_df['accuracy'])\n",
    "    plt.plot(hist_df['val_accuracy'])\n",
    "    plt.title('Accuracy: {}'.format(model_name))\n",
    "    plt.ylabel('Accuracy')\n",
    "    plt.xlabel('Epoch')\n",
    "    plt.legend(['train', 'val'], loc='upper left')\n",
    "    plt.show()\n",
    "    plt.savefig('{}.Accuracy.png'.format(fig_path))\n",
    "\n",
    "def plot_loss(model_name, hist_df, fig_path):\n",
    "    plt.plot(hist_df['loss'])\n",
    "    plt.plot(hist_df['val_loss'])\n",
    "    plt.title('Loss: {}'.format(model_name))\n",
    "    plt.ylabel('Loss')\n",
    "    plt.xlabel('Epoch')\n",
    "    plt.legend(['train', 'val'], loc='upper left')\n",
    "    plt.show()\n",
    "    plt.savefig('{}.Loss.png'.format(fig_path))"
   ]
  },
  {
   "cell_type": "code",
   "execution_count": 21,
   "metadata": {},
   "outputs": [],
   "source": [
    "def evaluate_model(model, model_name, test_ds):\n",
    "    # Evaluate the model\n",
    "    #val_loss, val_acc, val_prec, val_recall = model.evaluate(val_ds, steps=VAL_STEPS)\n",
    "    #test_loss, test_acc, test_prec, test_recall = model.evaluate(test_ds, steps=EVAL_STEPS)\n",
    "    \n",
    "    y_pred = model.predict(test_ds, steps=EVAL_STEPS)\n",
    "    y_pred_ind = np.argmax(y_pred, axis=1)\n",
    "    \n",
    "    # Get 1D array of labels from test_dataset\n",
    "    y_lab = np.concatenate([y for x, y in test_ds.take(EVAL_STEPS)], axis=0)\n",
    "    y_lab_ind = np.argmax(y_lab, axis=1)\n",
    "\n",
    "    fig_path = ('storage/figures/gender/{}'.format(model_name))\n",
    "\n",
    "    conf_mat = tf.math.confusion_matrix(y_lab_ind, y_pred_ind)\n",
    "    print(conf_mat)\n",
    "    sns.heatmap(conf_mat, annot = True, cmap='YlGnBu')\n",
    "    plt.title(\"Confusion matrix: {}\".format(model_name))\n",
    "    plt.savefig('{}.ConfusionMatrix.png'.format(fig_path))\n",
    "\n",
    "    return y_lab, y_pred_ind"
   ]
  },
  {
   "cell_type": "code",
   "execution_count": 22,
   "metadata": {},
   "outputs": [],
   "source": [
    "def run_model(n_layers, n_nodes, train_ds, val_ds, test_ds):\n",
    "    \n",
    "    # Create and compile the model\n",
    "    model = create_lang_model(n_layers, n_nodes)\n",
    "    \n",
    "    model_name = 'Lang.Dense.nLay{}.nNodes{}.dropout{}'.format(n_layers, n_nodes, DROPOUT)\n",
    "    \n",
    "    # Set up callbacks\n",
    "    ckpt_name = '{}.ckpt'.format(model_name)\n",
    "    ckpt_path = 'storage/models/lang10/{}'.format(ckpt_name)\n",
    "    ckpt_dir = os.path.dirname(ckpt_path)\n",
    "\n",
    "    ckpt = ModelCheckpoint(filepath=ckpt_path,\n",
    "                           monitor='val_loss',\n",
    "                           save_weights_only=False,\n",
    "                           mode='auto',\n",
    "                           save_best_only=True)\n",
    "    \n",
    "    early_stopping = EarlyStopping(patience=EARLY_STOP_AFTER)\n",
    "    \n",
    "    # Train the model\n",
    "    hist = model.fit(train_ds, steps_per_epoch = TRAIN_STEPS, epochs=NUM_EPOCHS, \n",
    "                     validation_data=val_ds, validation_steps=VAL_STEPS,\n",
    "                     callbacks=[early_stopping, ckpt])\n",
    "    \n",
    "\n",
    "    # Plot training history and save figures\n",
    "    hist_df = pd.DataFrame(hist.history)\n",
    "    \n",
    "    fig_path = ('storage/figures/lang10/{}'.format(model_name))\n",
    "    plot_accuracy(model_name, hist_df, fig_path)\n",
    "    plot_loss(model_name, hist_df, fig_path)\n",
    "\n",
    "    # Save the model\n",
    "    model.save('storage/models/lang10/{}'.format(model_name))\n",
    "    hist_csv_file = 'storage/models/lang10/{}.csv'.format(model_name)\n",
    "\n",
    "    with open(hist_csv_file, mode='w') as f:\n",
    "        hist_df.to_csv(f)\n",
    "\n",
    "    # Evaluate the model\n",
    "    print('Validation dataset results:')\n",
    "    val_loss, val_acc, val_prec, val_recall = model.evaluate(val_ds, steps=VAL_STEPS)\n",
    "    print('Test dataset results:')\n",
    "    test_loss, test_acc, test_prec, test_recall = model.evaluate(test_ds, steps=EVAL_STEPS)\n",
    "    \n",
    "    y_lab, y_pred_ind = evaluate_model(model, model_name, test_ds)\n",
    "        \n",
    "    print('{} complete'.format(model_name))\n",
    "    \n",
    "    return model, hist_df, y_lab, y_pred_ind"
   ]
  },
  {
   "cell_type": "markdown",
   "metadata": {},
   "source": [
    "## Model 1\n",
    "Nodes equal to 1% the size of the input\n",
    "0.01 * 10 x 128 = 12"
   ]
  },
  {
   "cell_type": "code",
   "execution_count": 23,
   "metadata": {},
   "outputs": [
    {
     "name": "stdout",
     "output_type": "stream",
     "text": [
      "12\n"
     ]
    }
   ],
   "source": [
    "# Set model constants\n",
    "n_layers = 1\n",
    "n_nodes = int(10 * 128 * 0.01)\n",
    "print(n_nodes)\n",
    "\n",
    "model1_name = 'Lang.Dense.nLay{}.nNodes{}.dropout{}'.format(n_layers, n_nodes, DROPOUT)\n",
    "model1_path = 'storage/models/lang10/{}'.format(model1_name)\n",
    "ckpt1_name = '{}.ckpt'.format(model1_name)\n",
    "ckpt1_path = 'storage/models/lang10/{}'.format(ckpt1_name)\n",
    "ckpt1_dir = os.path.dirname(ckpt1_path)"
   ]
  },
  {
   "cell_type": "code",
   "execution_count": 24,
   "metadata": {},
   "outputs": [
    {
     "name": "stdout",
     "output_type": "stream",
     "text": [
      "Create a new model\n",
      "Epoch 1/100\n",
      "50/50 [==============================] - ETA: 0s - loss: 2.5716 - accuracy: 0.0956 - precision: 0.0800 - recall: 0.0012WARNING:tensorflow:From /usr/local/lib/python3.6/dist-packages/tensorflow/python/training/tracking/tracking.py:111: Model.state_updates (from tensorflow.python.keras.engine.training) is deprecated and will be removed in a future version.\n",
      "Instructions for updating:\n",
      "This property should not be used in TensorFlow 2.0, as updates are applied automatically.\n"
     ]
    },
    {
     "name": "stderr",
     "output_type": "stream",
     "text": [
      "WARNING:tensorflow:From /usr/local/lib/python3.6/dist-packages/tensorflow/python/training/tracking/tracking.py:111: Model.state_updates (from tensorflow.python.keras.engine.training) is deprecated and will be removed in a future version.\n",
      "Instructions for updating:\n",
      "This property should not be used in TensorFlow 2.0, as updates are applied automatically.\n"
     ]
    },
    {
     "name": "stdout",
     "output_type": "stream",
     "text": [
      "WARNING:tensorflow:From /usr/local/lib/python3.6/dist-packages/tensorflow/python/training/tracking/tracking.py:111: Layer.updates (from tensorflow.python.keras.engine.base_layer) is deprecated and will be removed in a future version.\n",
      "Instructions for updating:\n",
      "This property should not be used in TensorFlow 2.0, as updates are applied automatically.\n"
     ]
    },
    {
     "name": "stderr",
     "output_type": "stream",
     "text": [
      "WARNING:tensorflow:From /usr/local/lib/python3.6/dist-packages/tensorflow/python/training/tracking/tracking.py:111: Layer.updates (from tensorflow.python.keras.engine.base_layer) is deprecated and will be removed in a future version.\n",
      "Instructions for updating:\n",
      "This property should not be used in TensorFlow 2.0, as updates are applied automatically.\n"
     ]
    },
    {
     "name": "stdout",
     "output_type": "stream",
     "text": [
      "INFO:tensorflow:Assets written to: storage/models/lang10/Lang.Dense.nLay1.nNodes12.dropout0.5.ckpt/assets\n"
     ]
    },
    {
     "name": "stderr",
     "output_type": "stream",
     "text": [
      "INFO:tensorflow:Assets written to: storage/models/lang10/Lang.Dense.nLay1.nNodes12.dropout0.5.ckpt/assets\n"
     ]
    },
    {
     "name": "stdout",
     "output_type": "stream",
     "text": [
      "50/50 [==============================] - 567s 11s/step - loss: 2.5716 - accuracy: 0.0956 - precision: 0.0800 - recall: 0.0012 - val_loss: 2.3968 - val_accuracy: 0.1113 - val_precision: 0.0000e+00 - val_recall: 0.0000e+00\n",
      "Epoch 2/100\n",
      "50/50 [==============================] - ETA: 0s - loss: 2.3834 - accuracy: 0.1275 - precision: 0.0000e+00 - recall: 0.0000e+00INFO:tensorflow:Assets written to: storage/models/lang10/Lang.Dense.nLay1.nNodes12.dropout0.5.ckpt/assets\n"
     ]
    },
    {
     "name": "stderr",
     "output_type": "stream",
     "text": [
      "INFO:tensorflow:Assets written to: storage/models/lang10/Lang.Dense.nLay1.nNodes12.dropout0.5.ckpt/assets\n"
     ]
    },
    {
     "name": "stdout",
     "output_type": "stream",
     "text": [
      "50/50 [==============================] - 542s 11s/step - loss: 2.3834 - accuracy: 0.1275 - precision: 0.0000e+00 - recall: 0.0000e+00 - val_loss: 2.3845 - val_accuracy: 0.1230 - val_precision: 0.0000e+00 - val_recall: 0.0000e+00\n",
      "Epoch 3/100\n",
      "50/50 [==============================] - ETA: 0s - loss: 2.3612 - accuracy: 0.1394 - precision: 0.0000e+00 - recall: 0.0000e+00INFO:tensorflow:Assets written to: storage/models/lang10/Lang.Dense.nLay1.nNodes12.dropout0.5.ckpt/assets\n"
     ]
    },
    {
     "name": "stderr",
     "output_type": "stream",
     "text": [
      "INFO:tensorflow:Assets written to: storage/models/lang10/Lang.Dense.nLay1.nNodes12.dropout0.5.ckpt/assets\n"
     ]
    },
    {
     "name": "stdout",
     "output_type": "stream",
     "text": [
      "50/50 [==============================] - 545s 11s/step - loss: 2.3612 - accuracy: 0.1394 - precision: 0.0000e+00 - recall: 0.0000e+00 - val_loss: 2.3716 - val_accuracy: 0.1270 - val_precision: 0.0000e+00 - val_recall: 0.0000e+00\n",
      "Epoch 4/100\n",
      "50/50 [==============================] - ETA: 0s - loss: 2.3440 - accuracy: 0.1238 - precision: 0.0000e+00 - recall: 0.0000e+00INFO:tensorflow:Assets written to: storage/models/lang10/Lang.Dense.nLay1.nNodes12.dropout0.5.ckpt/assets\n"
     ]
    },
    {
     "name": "stderr",
     "output_type": "stream",
     "text": [
      "INFO:tensorflow:Assets written to: storage/models/lang10/Lang.Dense.nLay1.nNodes12.dropout0.5.ckpt/assets\n"
     ]
    },
    {
     "name": "stdout",
     "output_type": "stream",
     "text": [
      "50/50 [==============================] - 546s 11s/step - loss: 2.3440 - accuracy: 0.1238 - precision: 0.0000e+00 - recall: 0.0000e+00 - val_loss: 2.3668 - val_accuracy: 0.1289 - val_precision: 0.0000e+00 - val_recall: 0.0000e+00\n",
      "Epoch 5/100\n",
      "50/50 [==============================] - ETA: 0s - loss: 2.3257 - accuracy: 0.1631 - precision: 0.0000e+00 - recall: 0.0000e+00INFO:tensorflow:Assets written to: storage/models/lang10/Lang.Dense.nLay1.nNodes12.dropout0.5.ckpt/assets\n"
     ]
    },
    {
     "name": "stderr",
     "output_type": "stream",
     "text": [
      "INFO:tensorflow:Assets written to: storage/models/lang10/Lang.Dense.nLay1.nNodes12.dropout0.5.ckpt/assets\n"
     ]
    },
    {
     "name": "stdout",
     "output_type": "stream",
     "text": [
      "50/50 [==============================] - 552s 11s/step - loss: 2.3257 - accuracy: 0.1631 - precision: 0.0000e+00 - recall: 0.0000e+00 - val_loss: 2.3641 - val_accuracy: 0.1543 - val_precision: 0.0000e+00 - val_recall: 0.0000e+00\n",
      "Epoch 6/100\n",
      "50/50 [==============================] - ETA: 0s - loss: 2.2984 - accuracy: 0.1756 - precision: 0.0000e+00 - recall: 0.0000e+00INFO:tensorflow:Assets written to: storage/models/lang10/Lang.Dense.nLay1.nNodes12.dropout0.5.ckpt/assets\n"
     ]
    },
    {
     "name": "stderr",
     "output_type": "stream",
     "text": [
      "INFO:tensorflow:Assets written to: storage/models/lang10/Lang.Dense.nLay1.nNodes12.dropout0.5.ckpt/assets\n"
     ]
    },
    {
     "name": "stdout",
     "output_type": "stream",
     "text": [
      "50/50 [==============================] - 548s 11s/step - loss: 2.2984 - accuracy: 0.1756 - precision: 0.0000e+00 - recall: 0.0000e+00 - val_loss: 2.3381 - val_accuracy: 0.1641 - val_precision: 0.0000e+00 - val_recall: 0.0000e+00\n",
      "Epoch 7/100\n",
      "50/50 [==============================] - ETA: 0s - loss: 2.2791 - accuracy: 0.1800 - precision: 0.7143 - recall: 0.0031INFO:tensorflow:Assets written to: storage/models/lang10/Lang.Dense.nLay1.nNodes12.dropout0.5.ckpt/assets\n"
     ]
    },
    {
     "name": "stderr",
     "output_type": "stream",
     "text": [
      "INFO:tensorflow:Assets written to: storage/models/lang10/Lang.Dense.nLay1.nNodes12.dropout0.5.ckpt/assets\n"
     ]
    },
    {
     "name": "stdout",
     "output_type": "stream",
     "text": [
      "50/50 [==============================] - 552s 11s/step - loss: 2.2791 - accuracy: 0.1800 - precision: 0.7143 - recall: 0.0031 - val_loss: 2.3325 - val_accuracy: 0.2090 - val_precision: 0.0000e+00 - val_recall: 0.0000e+00\n",
      "Epoch 8/100\n",
      "50/50 [==============================] - ETA: 0s - loss: 2.2608 - accuracy: 0.1956 - precision: 0.5714 - recall: 0.0025INFO:tensorflow:Assets written to: storage/models/lang10/Lang.Dense.nLay1.nNodes12.dropout0.5.ckpt/assets\n"
     ]
    },
    {
     "name": "stderr",
     "output_type": "stream",
     "text": [
      "INFO:tensorflow:Assets written to: storage/models/lang10/Lang.Dense.nLay1.nNodes12.dropout0.5.ckpt/assets\n"
     ]
    },
    {
     "name": "stdout",
     "output_type": "stream",
     "text": [
      "50/50 [==============================] - 587s 12s/step - loss: 2.2608 - accuracy: 0.1956 - precision: 0.5714 - recall: 0.0025 - val_loss: 2.3187 - val_accuracy: 0.2051 - val_precision: 0.0000e+00 - val_recall: 0.0000e+00\n",
      "Epoch 9/100\n",
      "50/50 [==============================] - ETA: 0s - loss: 2.2288 - accuracy: 0.2031 - precision: 0.6364 - recall: 0.0088INFO:tensorflow:Assets written to: storage/models/lang10/Lang.Dense.nLay1.nNodes12.dropout0.5.ckpt/assets\n"
     ]
    },
    {
     "name": "stderr",
     "output_type": "stream",
     "text": [
      "INFO:tensorflow:Assets written to: storage/models/lang10/Lang.Dense.nLay1.nNodes12.dropout0.5.ckpt/assets\n"
     ]
    },
    {
     "name": "stdout",
     "output_type": "stream",
     "text": [
      "50/50 [==============================] - 587s 12s/step - loss: 2.2288 - accuracy: 0.2031 - precision: 0.6364 - recall: 0.0088 - val_loss: 2.2906 - val_accuracy: 0.1953 - val_precision: 1.0000 - val_recall: 0.0039\n",
      "Epoch 10/100\n",
      "50/50 [==============================] - ETA: 0s - loss: 2.2099 - accuracy: 0.2150 - precision: 0.5862 - recall: 0.0106INFO:tensorflow:Assets written to: storage/models/lang10/Lang.Dense.nLay1.nNodes12.dropout0.5.ckpt/assets\n"
     ]
    },
    {
     "name": "stderr",
     "output_type": "stream",
     "text": [
      "INFO:tensorflow:Assets written to: storage/models/lang10/Lang.Dense.nLay1.nNodes12.dropout0.5.ckpt/assets\n"
     ]
    },
    {
     "name": "stdout",
     "output_type": "stream",
     "text": [
      "50/50 [==============================] - 563s 11s/step - loss: 2.2099 - accuracy: 0.2150 - precision: 0.5862 - recall: 0.0106 - val_loss: 2.2743 - val_accuracy: 0.2129 - val_precision: 0.5000 - val_recall: 0.0020\n",
      "Epoch 11/100\n",
      "50/50 [==============================] - 563s 11s/step - loss: 2.1776 - accuracy: 0.2225 - precision: 0.6286 - recall: 0.0137 - val_loss: 2.2770 - val_accuracy: 0.2168 - val_precision: 0.7500 - val_recall: 0.0059\n",
      "Epoch 12/100\n",
      "50/50 [==============================] - ETA: 0s - loss: 2.1584 - accuracy: 0.2331 - precision: 0.7647 - recall: 0.0244INFO:tensorflow:Assets written to: storage/models/lang10/Lang.Dense.nLay1.nNodes12.dropout0.5.ckpt/assets\n"
     ]
    },
    {
     "name": "stderr",
     "output_type": "stream",
     "text": [
      "INFO:tensorflow:Assets written to: storage/models/lang10/Lang.Dense.nLay1.nNodes12.dropout0.5.ckpt/assets\n"
     ]
    },
    {
     "name": "stdout",
     "output_type": "stream",
     "text": [
      "50/50 [==============================] - 563s 11s/step - loss: 2.1584 - accuracy: 0.2331 - precision: 0.7647 - recall: 0.0244 - val_loss: 2.2707 - val_accuracy: 0.2090 - val_precision: 0.6667 - val_recall: 0.0117\n",
      "Epoch 13/100\n",
      "50/50 [==============================] - ETA: 0s - loss: 2.1275 - accuracy: 0.2475 - precision: 0.7037 - recall: 0.0237INFO:tensorflow:Assets written to: storage/models/lang10/Lang.Dense.nLay1.nNodes12.dropout0.5.ckpt/assets\n"
     ]
    },
    {
     "name": "stderr",
     "output_type": "stream",
     "text": [
      "INFO:tensorflow:Assets written to: storage/models/lang10/Lang.Dense.nLay1.nNodes12.dropout0.5.ckpt/assets\n"
     ]
    },
    {
     "name": "stdout",
     "output_type": "stream",
     "text": [
      "50/50 [==============================] - 558s 11s/step - loss: 2.1275 - accuracy: 0.2475 - precision: 0.7037 - recall: 0.0237 - val_loss: 2.2676 - val_accuracy: 0.2266 - val_precision: 0.8889 - val_recall: 0.0156\n",
      "Epoch 14/100\n",
      "50/50 [==============================] - ETA: 0s - loss: 2.0826 - accuracy: 0.2637 - precision: 0.7742 - recall: 0.0300INFO:tensorflow:Assets written to: storage/models/lang10/Lang.Dense.nLay1.nNodes12.dropout0.5.ckpt/assets\n"
     ]
    },
    {
     "name": "stderr",
     "output_type": "stream",
     "text": [
      "INFO:tensorflow:Assets written to: storage/models/lang10/Lang.Dense.nLay1.nNodes12.dropout0.5.ckpt/assets\n"
     ]
    },
    {
     "name": "stdout",
     "output_type": "stream",
     "text": [
      "50/50 [==============================] - 543s 11s/step - loss: 2.0826 - accuracy: 0.2637 - precision: 0.7742 - recall: 0.0300 - val_loss: 2.2658 - val_accuracy: 0.2266 - val_precision: 0.7143 - val_recall: 0.0195\n",
      "Epoch 15/100\n",
      "50/50 [==============================] - 535s 11s/step - loss: 2.0820 - accuracy: 0.2713 - precision: 0.6667 - recall: 0.0338 - val_loss: 2.2705 - val_accuracy: 0.2285 - val_precision: 0.6667 - val_recall: 0.0078\n",
      "Epoch 16/100\n",
      "50/50 [==============================] - 517s 10s/step - loss: 2.0470 - accuracy: 0.2688 - precision: 0.6892 - recall: 0.0319 - val_loss: 2.2667 - val_accuracy: 0.2363 - val_precision: 0.5385 - val_recall: 0.0137\n",
      "Epoch 17/100\n",
      "50/50 [==============================] - 531s 11s/step - loss: 2.0278 - accuracy: 0.2831 - precision: 0.7158 - recall: 0.0425 - val_loss: 2.2753 - val_accuracy: 0.2168 - val_precision: 0.6250 - val_recall: 0.0098\n",
      "Epoch 18/100\n",
      "50/50 [==============================] - 600s 12s/step - loss: 2.0114 - accuracy: 0.2862 - precision: 0.7143 - recall: 0.0406 - val_loss: 2.2782 - val_accuracy: 0.2324 - val_precision: 0.5000 - val_recall: 0.0117\n",
      "Epoch 19/100\n",
      "50/50 [==============================] - 669s 13s/step - loss: 1.9920 - accuracy: 0.3050 - precision: 0.6847 - recall: 0.0475 - val_loss: 2.2791 - val_accuracy: 0.2324 - val_precision: 0.5000 - val_recall: 0.0117\n"
     ]
    },
    {
     "data": {
      "image/png": "[encoded data removed]",
      "text/plain": [
       "<Figure size 432x288 with 1 Axes>"
      ]
     },
     "metadata": {
      "needs_background": "light"
     },
     "output_type": "display_data"
    },
    {
     "data": {
      "image/png": "[encoded data removed]",
      "text/plain": [
       "<Figure size 432x288 with 1 Axes>"
      ]
     },
     "metadata": {
      "needs_background": "light"
     },
     "output_type": "display_data"
    },
    {
     "name": "stdout",
     "output_type": "stream",
     "text": [
      "INFO:tensorflow:Assets written to: storage/models/lang10/Lang.Dense.nLay1.nNodes12.dropout0.5/assets\n"
     ]
    },
    {
     "name": "stderr",
     "output_type": "stream",
     "text": [
      "INFO:tensorflow:Assets written to: storage/models/lang10/Lang.Dense.nLay1.nNodes12.dropout0.5/assets\n"
     ]
    },
    {
     "name": "stdout",
     "output_type": "stream",
     "text": [
      "Validation dataset results:\n",
      "16/16 [==============================] - 156s 10s/step - loss: 2.2791 - accuracy: 0.2324 - precision: 0.5000 - recall: 0.0117\n",
      "Test dataset results:\n",
      "11/11 [==============================] - 101s 9s/step - loss: 2.2549 - accuracy: 0.2330 - precision: 0.6250 - recall: 0.0142\n",
      "tf.Tensor(\n",
      "[[ 1  9  0  0  0  0  4  1  2  4  7]\n",
      " [ 0 27  0  2  0  4  3  0  2  0 17]\n",
      " [ 1  2  2  3  1  2  4  1  1  2  2]\n",
      " [ 2 10  1  0  0  0  4  1  2  1 10]\n",
      " [ 0  0  1  2  0  0  2  0  5  2  3]\n",
      " [ 0  4  1  0  1  3  5  0  5  0  6]\n",
      " [ 1  8  5  0  2  0 10  1  8  2  5]\n",
      " [ 0  8  0  1  0  0  6  4  2  2  9]\n",
      " [ 0  2  0  4  0  0  1  1 19  2  1]\n",
      " [ 1  7  1  3  0  0  2  5  2  1  6]\n",
      " [ 0  2  4  3  0  1  8  5  3  4 15]], shape=(11, 11), dtype=int32)\n",
      "Lang.Dense.nLay1.nNodes12.dropout0.5 complete\n"
     ]
    },
    {
     "data": {
      "image/png": "[encoded data removed]",
      "text/plain": [
       "<Figure size 432x288 with 2 Axes>"
      ]
     },
     "metadata": {
      "needs_background": "light"
     },
     "output_type": "display_data"
    }
   ],
   "source": [
    "if os.path.isdir(model1_path):\n",
    "    model1 = tf.keras.models.load_model(model1_path)\n",
    "    print(\"Saved model loaded\")\n",
    "    model1.summary()\n",
    "elif os.path.isdir(ckpt1_path):\n",
    "    model1 = create_lang_model(n_layers, n_nodes)\n",
    "    model1.load_weights(ckpt1_path)\n",
    "    print(\"Model weights loaded\")\n",
    "    model1.summary()\n",
    "else:\n",
    "    print(\"Create a new model\")\n",
    "    model1, hist1, y1_lab, y1_pred = run_model(n_layers, n_nodes, train_dataset, validation_dataset, test_dataset)"
   ]
  },
  {
   "cell_type": "code",
   "execution_count": 34,
   "metadata": {},
   "outputs": [
    {
     "name": "stdout",
     "output_type": "stream",
     "text": [
      "Model: \"sequential\"\n",
      "_________________________________________________________________\n",
      "Layer (type)                 Output Shape              Param #   \n",
      "=================================================================\n",
      "dense (Dense)                (32, 10, 12)              1548      \n",
      "_________________________________________________________________\n",
      "dropout (Dropout)            (32, 10, 12)              0         \n",
      "_________________________________________________________________\n",
      "flatten (Flatten)            (32, 120)                 0         \n",
      "_________________________________________________________________\n",
      "dense_1 (Dense)              (32, 11)                  1331      \n",
      "=================================================================\n",
      "Total params: 2,879\n",
      "Trainable params: 2,879\n",
      "Non-trainable params: 0\n",
      "_________________________________________________________________\n"
     ]
    }
   ],
   "source": [
    "model1.summary()"
   ]
  },
  {
   "cell_type": "markdown",
   "metadata": {},
   "source": [
    "### Notes on Model 1 \n",
    "One dense layer with 12 nodes.\n",
    "\n",
    "Original - Trained for 12 epochs, best values at epoch 7.\n",
    "Corrected - Trained for 19 epochs, best values at epoch 12."
   ]
  },
  {
   "cell_type": "markdown",
   "metadata": {},
   "source": [
    "# Model 2\n",
    "Nodes equal to 10% the size of the (2D) input: \n",
    "0.1 * 10 x 128 = 128"
   ]
  },
  {
   "cell_type": "code",
   "execution_count": 29,
   "metadata": {},
   "outputs": [
    {
     "name": "stdout",
     "output_type": "stream",
     "text": [
      "128\n"
     ]
    }
   ],
   "source": [
    "# Set model constants\n",
    "n_layers = 1\n",
    "n_nodes = int(10 * 128 * 0.1)\n",
    "print(n_nodes)\n",
    "\n",
    "model2_name = 'Lang.Dense.nLay{}.nNodes{}.dropout{}'.format(n_layers, n_nodes, DROPOUT)\n",
    "model2_path = 'storage/models/lang10/{}'.format(model2_name)\n",
    "ckpt2_name = '{}.ckpt'.format(model2_name)\n",
    "ckpt2_path = 'storage/models/lang10/{}'.format(ckpt2_name)\n",
    "ckpt2_dir = os.path.dirname(ckpt2_path)"
   ]
  },
  {
   "cell_type": "code",
   "execution_count": 30,
   "metadata": {},
   "outputs": [
    {
     "name": "stdout",
     "output_type": "stream",
     "text": [
      "Create a new model\n",
      "Epoch 1/100\n",
      "50/50 [==============================] - ETA: 0s - loss: 2.4040 - accuracy: 0.1475 - precision: 0.0000e+00 - recall: 0.0000e+00INFO:tensorflow:Assets written to: storage/models/lang10/Lang.Dense.nLay1.nNodes128.dropout0.5.ckpt/assets\n"
     ]
    },
    {
     "name": "stderr",
     "output_type": "stream",
     "text": [
      "INFO:tensorflow:Assets written to: storage/models/lang10/Lang.Dense.nLay1.nNodes128.dropout0.5.ckpt/assets\n"
     ]
    },
    {
     "name": "stdout",
     "output_type": "stream",
     "text": [
      "50/50 [==============================] - 641s 13s/step - loss: 2.4040 - accuracy: 0.1475 - precision: 0.0000e+00 - recall: 0.0000e+00 - val_loss: 2.2993 - val_accuracy: 0.1797 - val_precision: 0.0000e+00 - val_recall: 0.0000e+00\n",
      "Epoch 2/100\n",
      "50/50 [==============================] - ETA: 0s - loss: 2.1824 - accuracy: 0.2306 - precision: 0.7500 - recall: 0.0037INFO:tensorflow:Assets written to: storage/models/lang10/Lang.Dense.nLay1.nNodes128.dropout0.5.ckpt/assets\n"
     ]
    },
    {
     "name": "stderr",
     "output_type": "stream",
     "text": [
      "INFO:tensorflow:Assets written to: storage/models/lang10/Lang.Dense.nLay1.nNodes128.dropout0.5.ckpt/assets\n"
     ]
    },
    {
     "name": "stdout",
     "output_type": "stream",
     "text": [
      "50/50 [==============================] - 645s 13s/step - loss: 2.1824 - accuracy: 0.2306 - precision: 0.7500 - recall: 0.0037 - val_loss: 2.2779 - val_accuracy: 0.2012 - val_precision: 0.3333 - val_recall: 0.0020\n",
      "Epoch 3/100\n",
      "50/50 [==============================] - ETA: 0s - loss: 2.0535 - accuracy: 0.2900 - precision: 0.7500 - recall: 0.0206INFO:tensorflow:Assets written to: storage/models/lang10/Lang.Dense.nLay1.nNodes128.dropout0.5.ckpt/assets\n"
     ]
    },
    {
     "name": "stderr",
     "output_type": "stream",
     "text": [
      "INFO:tensorflow:Assets written to: storage/models/lang10/Lang.Dense.nLay1.nNodes128.dropout0.5.ckpt/assets\n"
     ]
    },
    {
     "name": "stdout",
     "output_type": "stream",
     "text": [
      "50/50 [==============================] - 634s 13s/step - loss: 2.0535 - accuracy: 0.2900 - precision: 0.7500 - recall: 0.0206 - val_loss: 2.2491 - val_accuracy: 0.2188 - val_precision: 0.7143 - val_recall: 0.0098\n",
      "Epoch 4/100\n",
      "50/50 [==============================] - 607s 12s/step - loss: 1.9409 - accuracy: 0.3256 - precision: 0.8000 - recall: 0.0475 - val_loss: 2.2864 - val_accuracy: 0.1973 - val_precision: 0.8462 - val_recall: 0.0215\n",
      "Epoch 5/100\n",
      "50/50 [==============================] - 607s 12s/step - loss: 1.8283 - accuracy: 0.3837 - precision: 0.7589 - recall: 0.0669 - val_loss: 2.3209 - val_accuracy: 0.1992 - val_precision: 0.6286 - val_recall: 0.0430\n",
      "Epoch 6/100\n",
      "50/50 [==============================] - 607s 12s/step - loss: 1.7511 - accuracy: 0.3906 - precision: 0.7941 - recall: 0.1013 - val_loss: 2.3002 - val_accuracy: 0.2051 - val_precision: 0.6000 - val_recall: 0.0293\n",
      "Epoch 7/100\n",
      "50/50 [==============================] - 557s 11s/step - loss: 1.6786 - accuracy: 0.4375 - precision: 0.7807 - recall: 0.1112 - val_loss: 2.2866 - val_accuracy: 0.2207 - val_precision: 0.6087 - val_recall: 0.0547\n",
      "Epoch 8/100\n",
      "50/50 [==============================] - 541s 11s/step - loss: 1.5726 - accuracy: 0.4700 - precision: 0.8257 - recall: 0.1569 - val_loss: 2.3766 - val_accuracy: 0.2051 - val_precision: 0.5455 - val_recall: 0.0469\n"
     ]
    },
    {
     "data": {
      "image/png": "[encoded data removed]",
      "text/plain": [
       "<Figure size 432x288 with 1 Axes>"
      ]
     },
     "metadata": {
      "needs_background": "light"
     },
     "output_type": "display_data"
    },
    {
     "data": {
      "image/png": "[encoded data removed]",
      "text/plain": [
       "<Figure size 432x288 with 1 Axes>"
      ]
     },
     "metadata": {
      "needs_background": "light"
     },
     "output_type": "display_data"
    },
    {
     "name": "stdout",
     "output_type": "stream",
     "text": [
      "INFO:tensorflow:Assets written to: storage/models/lang10/Lang.Dense.nLay1.nNodes128.dropout0.5/assets\n"
     ]
    },
    {
     "name": "stderr",
     "output_type": "stream",
     "text": [
      "INFO:tensorflow:Assets written to: storage/models/lang10/Lang.Dense.nLay1.nNodes128.dropout0.5/assets\n"
     ]
    },
    {
     "name": "stdout",
     "output_type": "stream",
     "text": [
      "Validation dataset results:\n",
      "16/16 [==============================] - 131s 8s/step - loss: 2.3766 - accuracy: 0.2051 - precision: 0.5455 - recall: 0.0469\n",
      "Test dataset results:\n",
      "11/11 [==============================] - 86s 8s/step - loss: 2.3230 - accuracy: 0.2386 - precision: 0.5000 - recall: 0.0739\n",
      "tf.Tensor(\n",
      "[[ 1  2  2  0  3  0  4  4  1  3  8]\n",
      " [ 0 26  0  0  2  6  4  0  3  1 13]\n",
      " [ 1  2  2  2  1  4  4  1  1  1  2]\n",
      " [ 5  4  2  4  0  3  4  1  1  3  4]\n",
      " [ 1  0  0  0  0  1  3  2  4  3  1]\n",
      " [ 1  1  1  0  1 12  1  1  3  2  2]\n",
      " [ 3  1  3  0  4  2  6  2 10  2  9]\n",
      " [ 2  4  1  2  1  1  9  3  3  2  4]\n",
      " [ 1  1  0  1  0  3  2  0 15  0  7]\n",
      " [ 7  3  1  3  1  1  1  2  4  1  4]\n",
      " [ 1  0  3  5  1  5  9  3  3  1 14]], shape=(11, 11), dtype=int32)\n",
      "Lang.Dense.nLay1.nNodes128.dropout0.5 complete\n"
     ]
    },
    {
     "data": {
      "image/png": "[encoded data removed]",
      "text/plain": [
       "<Figure size 432x288 with 2 Axes>"
      ]
     },
     "metadata": {
      "needs_background": "light"
     },
     "output_type": "display_data"
    }
   ],
   "source": [
    "if os.path.isdir(model2_path):\n",
    "    model2 = tf.keras.models.load_model(model2_path)\n",
    "    print(\"Saved model loaded\")\n",
    "    model2.summary()\n",
    "elif os.path.isdir(ckpt2_path):\n",
    "    model2 = create_lang_model(n_layers, n_nodes)\n",
    "    model2.load_weights(ckpt2_path)\n",
    "    print(\"Model weights loaded\")\n",
    "    model2.summary()\n",
    "else:\n",
    "    print(\"Create a new model\")\n",
    "    model2, hist2, y2_lab, y2_pred = run_model(n_layers, n_nodes, train_dataset, validation_dataset, test_dataset)"
   ]
  },
  {
   "cell_type": "code",
   "execution_count": 35,
   "metadata": {},
   "outputs": [
    {
     "name": "stdout",
     "output_type": "stream",
     "text": [
      "Model: \"sequential_1\"\n",
      "_________________________________________________________________\n",
      "Layer (type)                 Output Shape              Param #   \n",
      "=================================================================\n",
      "dense_2 (Dense)              (32, 10, 128)             16512     \n",
      "_________________________________________________________________\n",
      "dropout_1 (Dropout)          (32, 10, 128)             0         \n",
      "_________________________________________________________________\n",
      "flatten_1 (Flatten)          (32, 1280)                0         \n",
      "_________________________________________________________________\n",
      "dense_3 (Dense)              (32, 11)                  14091     \n",
      "=================================================================\n",
      "Total params: 30,603\n",
      "Trainable params: 30,603\n",
      "Non-trainable params: 0\n",
      "_________________________________________________________________\n"
     ]
    }
   ],
   "source": [
    "model2.summary()"
   ]
  },
  {
   "cell_type": "markdown",
   "metadata": {},
   "source": [
    "### Notes on Model 2 \n",
    "One dense layer with 128 nodes.\n",
    "\n",
    "Original - Trained for 9 epochs, best values at epoch 4.\n",
    "Revised - Trained for 8, best values at epoch 3.\n",
    "\n",
    "Evaluation results below based on final trained model.\n",
    "\n",
    "- validation: loss: 2.3190 - accuracy: 0.1937 - precision: 0.4909 - recall: 0.0562\n",
    "- testing: loss: 2.3532 - accuracy: 0.2301 - precision: 0.4603 - recall: 0.0824"
   ]
  },
  {
   "cell_type": "markdown",
   "metadata": {},
   "source": [
    "# Model 3\n",
    "2 layers, first with 128, second with 64"
   ]
  },
  {
   "cell_type": "code",
   "execution_count": 31,
   "metadata": {},
   "outputs": [
    {
     "name": "stdout",
     "output_type": "stream",
     "text": [
      "128\n"
     ]
    }
   ],
   "source": [
    "# Set model constants\n",
    "n_layers = 2\n",
    "n_nodes = int(10 * 128 * 0.1)\n",
    "print(n_nodes)\n",
    "\n",
    "model3_name = 'Lang.Dense.nLay{}.nNodes{}.dropout{}'.format(n_layers, n_nodes, DROPOUT)\n",
    "model3_path = 'storage/models/lang10/{}'.format(model3_name)\n",
    "ckpt3_name = '{}.ckpt'.format(model3_name)\n",
    "ckpt3_path = 'storage/models/lang10/{}'.format(ckpt3_name)\n",
    "ckpt3_dir = os.path.dirname(ckpt3_path)"
   ]
  },
  {
   "cell_type": "code",
   "execution_count": 32,
   "metadata": {},
   "outputs": [
    {
     "name": "stdout",
     "output_type": "stream",
     "text": [
      "Create a new model\n",
      "Epoch 1/100\n",
      "50/50 [==============================] - ETA: 0s - loss: 2.4349 - accuracy: 0.1219 - precision: 0.0000e+00 - recall: 0.0000e+00INFO:tensorflow:Assets written to: storage/models/lang10/Lang.Dense.nLay2.nNodes128.dropout0.5.ckpt/assets\n"
     ]
    },
    {
     "name": "stderr",
     "output_type": "stream",
     "text": [
      "INFO:tensorflow:Assets written to: storage/models/lang10/Lang.Dense.nLay2.nNodes128.dropout0.5.ckpt/assets\n"
     ]
    },
    {
     "name": "stdout",
     "output_type": "stream",
     "text": [
      "50/50 [==============================] - 595s 12s/step - loss: 2.4349 - accuracy: 0.1219 - precision: 0.0000e+00 - recall: 0.0000e+00 - val_loss: 2.3358 - val_accuracy: 0.1758 - val_precision: 0.0000e+00 - val_recall: 0.0000e+00\n",
      "Epoch 2/100\n",
      "50/50 [==============================] - ETA: 0s - loss: 2.3318 - accuracy: 0.1713 - precision: 0.0000e+00 - recall: 0.0000e+00INFO:tensorflow:Assets written to: storage/models/lang10/Lang.Dense.nLay2.nNodes128.dropout0.5.ckpt/assets\n"
     ]
    },
    {
     "name": "stderr",
     "output_type": "stream",
     "text": [
      "INFO:tensorflow:Assets written to: storage/models/lang10/Lang.Dense.nLay2.nNodes128.dropout0.5.ckpt/assets\n"
     ]
    },
    {
     "name": "stdout",
     "output_type": "stream",
     "text": [
      "50/50 [==============================] - 621s 12s/step - loss: 2.3318 - accuracy: 0.1713 - precision: 0.0000e+00 - recall: 0.0000e+00 - val_loss: 2.3195 - val_accuracy: 0.1895 - val_precision: 0.0000e+00 - val_recall: 0.0000e+00\n",
      "Epoch 3/100\n",
      "50/50 [==============================] - ETA: 0s - loss: 2.2826 - accuracy: 0.1869 - precision: 1.0000 - recall: 0.0012INFO:tensorflow:Assets written to: storage/models/lang10/Lang.Dense.nLay2.nNodes128.dropout0.5.ckpt/assets\n"
     ]
    },
    {
     "name": "stderr",
     "output_type": "stream",
     "text": [
      "INFO:tensorflow:Assets written to: storage/models/lang10/Lang.Dense.nLay2.nNodes128.dropout0.5.ckpt/assets\n"
     ]
    },
    {
     "name": "stdout",
     "output_type": "stream",
     "text": [
      "50/50 [==============================] - 598s 12s/step - loss: 2.2826 - accuracy: 0.1869 - precision: 1.0000 - recall: 0.0012 - val_loss: 2.2827 - val_accuracy: 0.2285 - val_precision: 0.0000e+00 - val_recall: 0.0000e+00\n",
      "Epoch 4/100\n",
      "50/50 [==============================] - ETA: 0s - loss: 2.2356 - accuracy: 0.2250 - precision: 0.6154 - recall: 0.0050INFO:tensorflow:Assets written to: storage/models/lang10/Lang.Dense.nLay2.nNodes128.dropout0.5.ckpt/assets\n"
     ]
    },
    {
     "name": "stderr",
     "output_type": "stream",
     "text": [
      "INFO:tensorflow:Assets written to: storage/models/lang10/Lang.Dense.nLay2.nNodes128.dropout0.5.ckpt/assets\n"
     ]
    },
    {
     "name": "stdout",
     "output_type": "stream",
     "text": [
      "50/50 [==============================] - 608s 12s/step - loss: 2.2356 - accuracy: 0.2250 - precision: 0.6154 - recall: 0.0050 - val_loss: 2.2809 - val_accuracy: 0.2129 - val_precision: 0.2000 - val_recall: 0.0020\n",
      "Epoch 5/100\n",
      "50/50 [==============================] - ETA: 0s - loss: 2.1940 - accuracy: 0.2306 - precision: 0.6750 - recall: 0.0169INFO:tensorflow:Assets written to: storage/models/lang10/Lang.Dense.nLay2.nNodes128.dropout0.5.ckpt/assets\n"
     ]
    },
    {
     "name": "stderr",
     "output_type": "stream",
     "text": [
      "INFO:tensorflow:Assets written to: storage/models/lang10/Lang.Dense.nLay2.nNodes128.dropout0.5.ckpt/assets\n"
     ]
    },
    {
     "name": "stdout",
     "output_type": "stream",
     "text": [
      "50/50 [==============================] - 608s 12s/step - loss: 2.1940 - accuracy: 0.2306 - precision: 0.6750 - recall: 0.0169 - val_loss: 2.2440 - val_accuracy: 0.2246 - val_precision: 0.5556 - val_recall: 0.0098\n",
      "Epoch 6/100\n",
      "50/50 [==============================] - ETA: 0s - loss: 2.1331 - accuracy: 0.2500 - precision: 0.7347 - recall: 0.0225INFO:tensorflow:Assets written to: storage/models/lang10/Lang.Dense.nLay2.nNodes128.dropout0.5.ckpt/assets\n"
     ]
    },
    {
     "name": "stderr",
     "output_type": "stream",
     "text": [
      "INFO:tensorflow:Assets written to: storage/models/lang10/Lang.Dense.nLay2.nNodes128.dropout0.5.ckpt/assets\n"
     ]
    },
    {
     "name": "stdout",
     "output_type": "stream",
     "text": [
      "50/50 [==============================] - 606s 12s/step - loss: 2.1331 - accuracy: 0.2500 - precision: 0.7347 - recall: 0.0225 - val_loss: 2.2128 - val_accuracy: 0.2363 - val_precision: 0.5556 - val_recall: 0.0098\n",
      "Epoch 7/100\n",
      "50/50 [==============================] - 814s 16s/step - loss: 2.0886 - accuracy: 0.2769 - precision: 0.6667 - recall: 0.0288 - val_loss: 2.2163 - val_accuracy: 0.2383 - val_precision: 0.6667 - val_recall: 0.0195\n",
      "Epoch 8/100\n",
      "50/50 [==============================] - 843s 17s/step - loss: 2.0410 - accuracy: 0.2944 - precision: 0.6635 - recall: 0.0431 - val_loss: 2.2323 - val_accuracy: 0.2324 - val_precision: 0.6111 - val_recall: 0.0215\n",
      "Epoch 9/100\n",
      "50/50 [==============================] - 613s 12s/step - loss: 1.9781 - accuracy: 0.3050 - precision: 0.6408 - recall: 0.0569 - val_loss: 2.2339 - val_accuracy: 0.2148 - val_precision: 0.5769 - val_recall: 0.0293\n",
      "Epoch 10/100\n",
      "50/50 [==============================] - 620s 12s/step - loss: 1.9407 - accuracy: 0.3269 - precision: 0.7089 - recall: 0.0700 - val_loss: 2.2470 - val_accuracy: 0.2500 - val_precision: 0.6000 - val_recall: 0.0293\n",
      "Epoch 11/100\n",
      "50/50 [==============================] - 543s 11s/step - loss: 1.8873 - accuracy: 0.3481 - precision: 0.6982 - recall: 0.0737 - val_loss: 2.2535 - val_accuracy: 0.2344 - val_precision: 0.5938 - val_recall: 0.0371\n"
     ]
    },
    {
     "data": {
      "image/png": "[encoded data removed]",
      "text/plain": [
       "<Figure size 432x288 with 1 Axes>"
      ]
     },
     "metadata": {
      "needs_background": "light"
     },
     "output_type": "display_data"
    },
    {
     "data": {
      "image/png": "[encoded data removed]",
      "text/plain": [
       "<Figure size 432x288 with 1 Axes>"
      ]
     },
     "metadata": {
      "needs_background": "light"
     },
     "output_type": "display_data"
    },
    {
     "name": "stdout",
     "output_type": "stream",
     "text": [
      "INFO:tensorflow:Assets written to: storage/models/lang10/Lang.Dense.nLay2.nNodes128.dropout0.5/assets\n"
     ]
    },
    {
     "name": "stderr",
     "output_type": "stream",
     "text": [
      "INFO:tensorflow:Assets written to: storage/models/lang10/Lang.Dense.nLay2.nNodes128.dropout0.5/assets\n"
     ]
    },
    {
     "name": "stdout",
     "output_type": "stream",
     "text": [
      "Validation dataset results:\n",
      "16/16 [==============================] - 123s 8s/step - loss: 2.2535 - accuracy: 0.2344 - precision: 0.5938 - recall: 0.0371\n",
      "Test dataset results:\n",
      "11/11 [==============================] - 87s 8s/step - loss: 2.2068 - accuracy: 0.2500 - precision: 0.6053 - recall: 0.0653\n",
      "tf.Tensor(\n",
      "[[ 0  2  1  4  0  1  7  4  1  1  7]\n",
      " [ 0 24  0  4  1  7  2  2  4  0 11]\n",
      " [ 0  1  1  4  0  3  4  0  2  1  5]\n",
      " [ 1 10  0  6  0  3  2  2  4  2  1]\n",
      " [ 0  0  0  1  0  0  5  1  5  2  1]\n",
      " [ 0  4  0  0  0 12  3  1  3  1  1]\n",
      " [ 1  2  0  6  2  1 12  3  8  0  7]\n",
      " [ 1  3  0  4  1  2 10  5  1  1  4]\n",
      " [ 0  1  0  3  0  5  2  2 13  0  4]\n",
      " [ 0  3  0  3  1  0  7  5  3  0  6]\n",
      " [ 0  2  0  8  2  4  9  1  2  2 15]], shape=(11, 11), dtype=int32)\n",
      "Lang.Dense.nLay2.nNodes128.dropout0.5 complete\n"
     ]
    },
    {
     "data": {
      "image/png": "[encoded data removed]",
      "text/plain": [
       "<Figure size 432x288 with 2 Axes>"
      ]
     },
     "metadata": {
      "needs_background": "light"
     },
     "output_type": "display_data"
    }
   ],
   "source": [
    "if os.path.isdir(model3_path):\n",
    "    model3 = tf.keras.models.load_model(model3_path)\n",
    "    print(\"Saved model loaded\")\n",
    "    model3.summary()\n",
    "elif os.path.isdir(ckpt3_path):\n",
    "    model3 = create_lang_model(n_layers, n_nodes)\n",
    "    model3.load_weights(ckpt3_path)\n",
    "    print(\"Model weights loaded\")\n",
    "    model3.summary()\n",
    "else:\n",
    "    print(\"Create a new model\")\n",
    "    model3, hist3, y3_lab, y3_pred = run_model(n_layers, n_nodes, train_dataset, validation_dataset, test_dataset)"
   ]
  },
  {
   "cell_type": "code",
   "execution_count": 36,
   "metadata": {},
   "outputs": [
    {
     "name": "stdout",
     "output_type": "stream",
     "text": [
      "Model: \"sequential_2\"\n",
      "_________________________________________________________________\n",
      "Layer (type)                 Output Shape              Param #   \n",
      "=================================================================\n",
      "dense_4 (Dense)              (32, 10, 128)             16512     \n",
      "_________________________________________________________________\n",
      "dropout_2 (Dropout)          (32, 10, 128)             0         \n",
      "_________________________________________________________________\n",
      "dense_5 (Dense)              (32, 10, 64)              8256      \n",
      "_________________________________________________________________\n",
      "dropout_3 (Dropout)          (32, 10, 64)              0         \n",
      "_________________________________________________________________\n",
      "flatten_2 (Flatten)          (32, 640)                 0         \n",
      "_________________________________________________________________\n",
      "dense_6 (Dense)              (32, 11)                  7051      \n",
      "=================================================================\n",
      "Total params: 31,819\n",
      "Trainable params: 31,819\n",
      "Non-trainable params: 0\n",
      "_________________________________________________________________\n"
     ]
    }
   ],
   "source": [
    "model3.summary()"
   ]
  },
  {
   "cell_type": "markdown",
   "metadata": {},
   "source": [
    "### Notes on Model 3 \n",
    "Two dense layers with 128 and 64 nodes.\n",
    "\n",
    "Original - Trained for 12 epochs, best values at epoch 7.\n",
    "Revised - Trained for 11, best values at epoch 6."
   ]
  }
 ],
 "metadata": {
  "kernelspec": {
   "display_name": "Python 3",
   "language": "python",
   "name": "python3"
  },
  "language_info": {
   "codemirror_mode": {
    "name": "ipython",
    "version": 3
   },
   "file_extension": ".py",
   "mimetype": "text/x-python",
   "name": "python",
   "nbconvert_exporter": "python",
   "pygments_lexer": "ipython3",
   "version": "3.6.8"
  }
 },
 "nbformat": 4,
 "nbformat_minor": 4
}
