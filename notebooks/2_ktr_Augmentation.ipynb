{
 "cells": [
  {
   "cell_type": "markdown",
   "metadata": {},
   "source": [
    "# Audio Augmentation\n",
    "\n",
    "This notebook splits the speakers into training, validation and testing sets. Then, it processes the audio files by splitting them into 10s segments, and adding random noise.\n",
    "\n",
    "Additionally, the segment filenames are ammended to include the gender of the speaker, the index of the segment, and whether it is 'o'riginal or 'n'oisy. For the language classfier, the segments are placed in a folder with the language name.\n",
    "\n",
    "The filepath for the segmented files depends on the platform on which the notebook is run. This notebook is set up to run on the local machine."
   ]
  },
  {
   "cell_type": "code",
   "execution_count": 1,
   "metadata": {},
   "outputs": [],
   "source": [
    "# Needed for Paperspace\n",
    "#!apt-get update\n",
    "#!apt-get install -y ffmpeg\n",
    "#!apt-get install -y libsndfile-dev"
   ]
  },
  {
   "cell_type": "code",
   "execution_count": 2,
   "metadata": {},
   "outputs": [
    {
     "name": "stdout",
     "output_type": "stream",
     "text": [
      "All set up!\n"
     ]
    }
   ],
   "source": [
    "import pandas as pd\n",
    "import numpy as np\n",
    "import matplotlib.pylab as plt\n",
    "import seaborn as sns\n",
    "import IPython.display as ipd\n",
    "import librosa\n",
    "import librosa.display\n",
    "import soundfile as sf\n",
    "\n",
    "from pyAudioAnalysis import audioSegmentation as aS\n",
    "\n",
    "import os\n",
    "import random\n",
    "import warnings\n",
    "\n",
    "from sklearn.model_selection import train_test_split\n",
    "\n",
    "print(\"All set up!\")"
   ]
  },
  {
   "cell_type": "code",
   "execution_count": 3,
   "metadata": {},
   "outputs": [
    {
     "name": "stdout",
     "output_type": "stream",
     "text": [
      "../data/original/\n"
     ]
    }
   ],
   "source": [
    "# Set constants\n",
    "SAMP_RATE = 16000\n",
    "\n",
    "#platform = 'Paperspace'\n",
    "#platform = 'Google Colab'\n",
    "platform = 'Local'\n",
    "\n",
    "if platform == 'Paperspace':\n",
    "    root_dir = 'storage/'\n",
    "if platform == 'Google Colab':\n",
    "    root_dir = ''\n",
    "if platform == 'Local':\n",
    "    root_dir =  '../'\n",
    "\n",
    "\n",
    "DATA_ORIG_PATH = '{}data/original/'.format(root_dir)\n",
    "DATA_PROCESS_PATH = '{}data/processed/'.format(root_dir)\n",
    "\n",
    "print(DATA_ORIG_PATH)"
   ]
  },
  {
   "cell_type": "code",
   "execution_count": 4,
   "metadata": {},
   "outputs": [
    {
     "data": {
      "text/html": [
       "<div>\n",
       "<style scoped>\n",
       "    .dataframe tbody tr th:only-of-type {\n",
       "        vertical-align: middle;\n",
       "    }\n",
       "\n",
       "    .dataframe tbody tr th {\n",
       "        vertical-align: top;\n",
       "    }\n",
       "\n",
       "    .dataframe thead th {\n",
       "        text-align: right;\n",
       "    }\n",
       "</style>\n",
       "<table border=\"1\" class=\"dataframe\">\n",
       "  <thead>\n",
       "    <tr style=\"text-align: right;\">\n",
       "      <th></th>\n",
       "      <th>age</th>\n",
       "      <th>age_onset</th>\n",
       "      <th>birthplace</th>\n",
       "      <th>filename</th>\n",
       "      <th>native_language</th>\n",
       "      <th>sex</th>\n",
       "      <th>country</th>\n",
       "      <th>file_missing?</th>\n",
       "    </tr>\n",
       "    <tr>\n",
       "      <th>speakerid</th>\n",
       "      <th></th>\n",
       "      <th></th>\n",
       "      <th></th>\n",
       "      <th></th>\n",
       "      <th></th>\n",
       "      <th></th>\n",
       "      <th></th>\n",
       "      <th></th>\n",
       "    </tr>\n",
       "  </thead>\n",
       "  <tbody>\n",
       "    <tr>\n",
       "      <th>1</th>\n",
       "      <td>27.0</td>\n",
       "      <td>9.0</td>\n",
       "      <td>virginia, south africa</td>\n",
       "      <td>afrikaans1</td>\n",
       "      <td>afrikaans</td>\n",
       "      <td>female</td>\n",
       "      <td>south africa</td>\n",
       "      <td>False</td>\n",
       "    </tr>\n",
       "    <tr>\n",
       "      <th>2</th>\n",
       "      <td>40.0</td>\n",
       "      <td>5.0</td>\n",
       "      <td>pretoria, south africa</td>\n",
       "      <td>afrikaans2</td>\n",
       "      <td>afrikaans</td>\n",
       "      <td>male</td>\n",
       "      <td>south africa</td>\n",
       "      <td>False</td>\n",
       "    </tr>\n",
       "    <tr>\n",
       "      <th>3</th>\n",
       "      <td>25.0</td>\n",
       "      <td>15.0</td>\n",
       "      <td>diekabo, ivory coast</td>\n",
       "      <td>agni1</td>\n",
       "      <td>agni</td>\n",
       "      <td>male</td>\n",
       "      <td>ivory coast</td>\n",
       "      <td>False</td>\n",
       "    </tr>\n",
       "    <tr>\n",
       "      <th>4</th>\n",
       "      <td>19.0</td>\n",
       "      <td>6.0</td>\n",
       "      <td>prishtina, kosovo</td>\n",
       "      <td>albanian1</td>\n",
       "      <td>albanian</td>\n",
       "      <td>male</td>\n",
       "      <td>kosovo</td>\n",
       "      <td>False</td>\n",
       "    </tr>\n",
       "    <tr>\n",
       "      <th>5</th>\n",
       "      <td>33.0</td>\n",
       "      <td>15.0</td>\n",
       "      <td>tirana, albania</td>\n",
       "      <td>albanian2</td>\n",
       "      <td>albanian</td>\n",
       "      <td>male</td>\n",
       "      <td>albania</td>\n",
       "      <td>False</td>\n",
       "    </tr>\n",
       "  </tbody>\n",
       "</table>\n",
       "</div>"
      ],
      "text/plain": [
       "            age  age_onset              birthplace    filename  \\\n",
       "speakerid                                                        \n",
       "1          27.0        9.0  virginia, south africa  afrikaans1   \n",
       "2          40.0        5.0  pretoria, south africa  afrikaans2   \n",
       "3          25.0       15.0    diekabo, ivory coast       agni1   \n",
       "4          19.0        6.0       prishtina, kosovo   albanian1   \n",
       "5          33.0       15.0         tirana, albania   albanian2   \n",
       "\n",
       "          native_language     sex       country  file_missing?  \n",
       "speakerid                                                       \n",
       "1               afrikaans  female  south africa          False  \n",
       "2               afrikaans    male  south africa          False  \n",
       "3                    agni    male   ivory coast          False  \n",
       "4                albanian    male        kosovo          False  \n",
       "5                albanian    male       albania          False  "
      ]
     },
     "execution_count": 4,
     "metadata": {},
     "output_type": "execute_result"
    }
   ],
   "source": [
    "processpath = '{}processed.csv'.format(DATA_PROCESS_PATH)\n",
    "meta = pd.read_csv(processpath, index_col='speakerid')\n",
    "meta.head()"
   ]
  },
  {
   "cell_type": "markdown",
   "metadata": {},
   "source": [
    "## Define Augmentation functions"
   ]
  },
  {
   "cell_type": "code",
   "execution_count": 5,
   "metadata": {},
   "outputs": [],
   "source": [
    "# Scale audio to fall between [-1, 1]\n",
    "def normalize(audio):\n",
    "    norm = audio/max(audio)\n",
    "    return norm"
   ]
  },
  {
   "cell_type": "code",
   "execution_count": 6,
   "metadata": {},
   "outputs": [],
   "source": [
    "def segment_10s(audio, sr):\n",
    "    '''\n",
    "    Load an audio file and divide into 10 second segments.\n",
    "    Arguments: \n",
    "        audio - the audio file; \n",
    "        sr = sampling rate of the file\n",
    "    Returns: a dictionary of the audio segments. Key is the index of segment, value is the segment.\n",
    "    '''\n",
    "    seg_files ={}\n",
    "    n_seg = int((len(audio)/sr)/10)\n",
    "    for i in range(n_seg):\n",
    "        segment = audio[10*i*sr:(i+1)*10*sr]\n",
    "        seg_files[i] = segment\n",
    "    return seg_files"
   ]
  },
  {
   "cell_type": "code",
   "execution_count": 7,
   "metadata": {},
   "outputs": [],
   "source": [
    "# Refined function\n",
    "#NOTE - Change filepath at end of function to fit the appropriate platform\n",
    "def segment_audio(filename, y_value, split='train', clf='gender'):\n",
    "    '''\n",
    "    Load an audio file and segment into 10s increments\n",
    "    Save each segment to the target directory.\n",
    "    Append the gender of the speaker and the segment index to the filename.\n",
    "\n",
    "    Arguments:\n",
    "    filename - base name of audio file (without .mp3 extension)\n",
    "    y_value - class label\n",
    "    split - 'train', 'validation', or 'test' data, for filepath\n",
    "    clf - 'gender' or 'lang10' for filepath\n",
    "    '''\n",
    "\n",
    "    filepath = '{}recordings/recordings/{}.mp3'.format(DATA_ORIG_PATH, filename)\n",
    "    with warnings.catch_warnings():\n",
    "        # libsndfile doesn't handle mp3\n",
    "        # see https://github.com/librosa/librosa/issues/1015\n",
    "        warnings.simplefilter(\"ignore\", UserWarning)\n",
    "        audio, sr = librosa.load(filepath, sr=SAMP_RATE)\n",
    "    \n",
    "    audio = normalize(audio)\n",
    "\n",
    "    # Add gender label to filename for later processing\n",
    "    sex = y_value\n",
    "    if sex == 'female':\n",
    "        filename = '{}.F'.format(filename)\n",
    "    else: filename = '{}.M'.format(filename)\n",
    "\n",
    "    # Segment audio file\n",
    "    seg_files = segment_10s(audio, sr)\n",
    "\n",
    "    for key, val in seg_files.items():\n",
    "        new_name = '{}.{}'.format(filename, key)\n",
    "        \n",
    "        sf.write('{}data/{}/{}/{}o.wav'.format(root_dir, clf, split, new_name), val, sr)"
   ]
  },
  {
   "cell_type": "code",
   "execution_count": 8,
   "metadata": {},
   "outputs": [],
   "source": [
    "def add_noise(audio):\n",
    "    '''\n",
    "    Add random noise to an audio file.\n",
    "    Arguments: audio - the audio file\n",
    "    Returns: the noisy audio file\n",
    "    ''' \n",
    "    # Load random number generator\n",
    "    rng = np.random.default_rng()\n",
    "    # Generate random noise\n",
    "    noise = rng.standard_normal(len(audio))\n",
    "    # Add noise to file\n",
    "    noisy_seg = audio + 0.005*noise\n",
    "\n",
    "    return noisy_seg"
   ]
  },
  {
   "cell_type": "code",
   "execution_count": 9,
   "metadata": {},
   "outputs": [],
   "source": [
    "# Revised function\n",
    "# NOTE - Change the filepath at the end for different platforms\n",
    "\n",
    "def noisy_data(filename, split='train', clf='gender'):\n",
    "    '''\n",
    "    Load an audio file (or segment).   \n",
    "    Add random noise to the file and save with new filename.\n",
    "\n",
    "    Arguments:\n",
    "    filename - filename/segment base, without 'o.wav'\n",
    "    split - 'train' or 'test' data, for filepath\n",
    "    clf - 'gender' or 'lang10' for filepath\n",
    "    '''\n",
    "    filepath = '{}data/{}/{}/{}o.wav'.format(root_dir, clf, split, filename)\n",
    "    audio, sr = librosa.load(filepath, sr=16000)\n",
    " \n",
    "    # Add noise\n",
    "    noisy = add_noise(audio)\n",
    "    # Write noise to file\n",
    "    sf.write('{}/data/{}/{}/{}n.wav'.format(root_dir, clf, split, filename), noisy, SAMP_RATE)\n",
    "    #print(\"Noise added to {}\".format(filename))"
   ]
  },
  {
   "cell_type": "markdown",
   "metadata": {},
   "source": [
    "# Gender Classifier\n",
    "\n",
    "Identify the gender of speakers reading a fixed passage in English.\n",
    "\n",
    "Split the speakers into training, validation and testing sets.\n",
    "\n",
    "Segment the audio files into 10 second segments and augment with noise. Ammend the filenames to include the gender of the speaker.\n",
    "\n",
    "Save segmented files in storage/data/gender/train, storage/data/gender/validation and storage/data/gender/test."
   ]
  },
  {
   "cell_type": "code",
   "execution_count": 10,
   "metadata": {},
   "outputs": [],
   "source": [
    "CLF = 'gender'\n",
    "GEN_TRAIN_DIR = '{}data/gender/train'.format(root_dir)\n",
    "GEN_VAL_DIR = '{}data/gender/validation'.format(root_dir)\n",
    "GEN_TEST_DIR = '{}data/gender/test'.format(root_dir)"
   ]
  },
  {
   "cell_type": "markdown",
   "metadata": {},
   "source": [
    "## Split speakers into training, validation and testing sets."
   ]
  },
  {
   "cell_type": "code",
   "execution_count": 11,
   "metadata": {},
   "outputs": [],
   "source": [
    "# Split data into training and testing sets for gender analysis\n",
    "gen_train_names, gen_test_names, gen_y_train, gen_y_test = train_test_split(meta['filename'], \n",
    "                                                                meta['sex'], \n",
    "                                                                test_size=0.25, \n",
    "                                                                random_state=38, \n",
    "                                                                stratify=meta['sex'])\n",
    "gen_train_names, gen_val_names, gen_y_train, gen_y_val = train_test_split(gen_train_names, \n",
    "                                                                          gen_y_train, \n",
    "                                                                test_size=0.25, \n",
    "                                                                random_state=38, \n",
    "                                                                stratify=gen_y_train)"
   ]
  },
  {
   "cell_type": "code",
   "execution_count": 12,
   "metadata": {},
   "outputs": [
    {
     "name": "stdout",
     "output_type": "stream",
     "text": [
      "(1200,)\n",
      "(400,)\n",
      "(534,)\n"
     ]
    }
   ],
   "source": [
    "print(gen_train_names.shape)\n",
    "print(gen_val_names.shape)\n",
    "print(gen_test_names.shape)"
   ]
  },
  {
   "cell_type": "markdown",
   "metadata": {},
   "source": [
    "### Check distribution of speakers in data splits by gender"
   ]
  },
  {
   "cell_type": "code",
   "execution_count": 13,
   "metadata": {},
   "outputs": [
    {
     "name": "stdout",
     "output_type": "stream",
     "text": [
      "Number of males in training set:  619\n",
      "Number of females in training set:  581\n"
     ]
    }
   ],
   "source": [
    "gen_train_Msp = gen_y_train.loc[gen_y_train =='male']\n",
    "n_gen_train_Msp = gen_train_Msp.shape[0]\n",
    "gen_train_Fsp = gen_y_train.loc[gen_y_train =='female']\n",
    "n_gen_train_Fsp = gen_train_Fsp.shape[0]\n",
    "\n",
    "print(\"Number of males in training set: \", n_gen_train_Msp)\n",
    "print(\"Number of females in training set: \", n_gen_train_Fsp)"
   ]
  },
  {
   "cell_type": "code",
   "execution_count": 14,
   "metadata": {},
   "outputs": [
    {
     "name": "stdout",
     "output_type": "stream",
     "text": [
      "Number of males in validation set:  206\n",
      "Number of females in validation set:  194\n"
     ]
    }
   ],
   "source": [
    "gen_val_Msp = gen_y_val.loc[gen_y_val =='male']\n",
    "n_gen_val_Msp = gen_val_Msp.shape[0]\n",
    "gen_val_Fsp = gen_y_val.loc[gen_y_val =='female']\n",
    "n_gen_val_Fsp = gen_val_Fsp.shape[0]\n",
    "\n",
    "print(\"Number of males in validation set: \", n_gen_val_Msp)\n",
    "print(\"Number of females in validation set: \", n_gen_val_Fsp)"
   ]
  },
  {
   "cell_type": "code",
   "execution_count": 15,
   "metadata": {},
   "outputs": [
    {
     "name": "stdout",
     "output_type": "stream",
     "text": [
      "Number of males in training set:  275\n",
      "Number of females in training set:  259\n"
     ]
    }
   ],
   "source": [
    "gen_test_Msp = gen_y_test.loc[gen_y_test =='male']\n",
    "n_gen_test_Msp = gen_test_Msp.shape[0]\n",
    "gen_test_Fsp = gen_y_test.loc[gen_y_test =='female']\n",
    "n_gen_test_Fsp = gen_test_Fsp.shape[0]\n",
    "\n",
    "print(\"Number of males in training set: \", n_gen_test_Msp)\n",
    "print(\"Number of females in training set: \", n_gen_test_Fsp)"
   ]
  },
  {
   "cell_type": "markdown",
   "metadata": {},
   "source": [
    "## Check to see if the files have already been segmented. If not, segment them.\n",
    "### Training data"
   ]
  },
  {
   "cell_type": "code",
   "execution_count": 16,
   "metadata": {},
   "outputs": [
    {
     "name": "stdout",
     "output_type": "stream",
     "text": [
      "Training segmentation complete\n"
     ]
    }
   ],
   "source": [
    "#gen_train_list = os.listdir('storage/data/gender/train') #PAPERSPACE\n",
    "#gen_train_list = os.listdir('data/gender/train') # Google Colab path\n",
    "gen_train_list = os.listdir(GEN_TRAIN_DIR) # Local path\n",
    "\n",
    "for i in range(len(gen_train_names)):\n",
    "    # get a filename\n",
    "    filename = gen_train_names.iloc[i]\n",
    "    # Check to see if the filename has already been segmented\n",
    "    if any(file.startswith(filename) for file in gen_train_list):\n",
    "        pass\n",
    "    else: \n",
    "        segment_audio(gen_train_names.iloc[i], gen_y_train.iloc[i], split='train', clf=CLF)\n",
    "        #print('{} segmented'.format(filename))\n",
    "print(\"Training segmentation complete\")"
   ]
  },
  {
   "cell_type": "code",
   "execution_count": 17,
   "metadata": {},
   "outputs": [
    {
     "name": "stdout",
     "output_type": "stream",
     "text": [
      "2781\n"
     ]
    }
   ],
   "source": [
    "# Check how many segmented files there are (without noise)\n",
    "# Returns a list of the filenames up to '.o.wav', which can be used to append the 'n.wav' later\n",
    "gen_train_seg = [x.split('o.wav')[0] for x in os.listdir(GEN_TRAIN_DIR) if x.endswith('o.wav')]\n",
    "print(len(gen_train_seg))"
   ]
  },
  {
   "cell_type": "markdown",
   "metadata": {},
   "source": [
    "### Validation data"
   ]
  },
  {
   "cell_type": "code",
   "execution_count": 18,
   "metadata": {},
   "outputs": [
    {
     "name": "stdout",
     "output_type": "stream",
     "text": [
      "Validation segmentation complete\n"
     ]
    }
   ],
   "source": [
    "#gen_val_list = os.listdir('storage/data/gender/validation') # Paperspace path\n",
    "#gen_val_list = os.listdir('data/gender/validation') # Google Colab path\n",
    "gen_val_list = os.listdir(GEN_VAL_DIR) # Local path\n",
    "\n",
    "for i in range(len(gen_val_names)):\n",
    "    # get a filename\n",
    "    filename = gen_val_names.iloc[i]\n",
    "    # Check to see if the filename has already been segmented\n",
    "    if any(file.startswith(filename) for file in gen_val_list):\n",
    "        pass\n",
    "    else: \n",
    "        segment_audio(gen_val_names.iloc[i], gen_y_val.iloc[i], split='validation', clf=CLF)\n",
    "        #print('{} segmented'.format(filename))\n",
    "    \n",
    "print(\"Validation segmentation complete\")"
   ]
  },
  {
   "cell_type": "code",
   "execution_count": 19,
   "metadata": {},
   "outputs": [
    {
     "name": "stdout",
     "output_type": "stream",
     "text": [
      "926\n"
     ]
    }
   ],
   "source": [
    "# Check how many segmented files there are (without noise)\n",
    "# Returns a list of the filenames up to '.o.wav', which can be used to append the 'n.wav' later\n",
    "gen_val_seg = [x.split('o.wav')[0] for x in os.listdir(GEN_VAL_DIR) if x.endswith('o.wav')]\n",
    "print(len(gen_val_seg))"
   ]
  },
  {
   "cell_type": "markdown",
   "metadata": {},
   "source": [
    "### Testing data"
   ]
  },
  {
   "cell_type": "code",
   "execution_count": 20,
   "metadata": {},
   "outputs": [
    {
     "name": "stdout",
     "output_type": "stream",
     "text": [
      "Test segmention complete\n"
     ]
    }
   ],
   "source": [
    "#gen_test_list = os.listdir('storage/data/gender/test') # Paperspace path\n",
    "#gen_test_list = os.listdir('data/gender/test') # Google Colab path\n",
    "gen_test_list = os.listdir(GEN_TEST_DIR) # Local path\n",
    "\n",
    "for i in range(len(gen_test_names)):\n",
    "    # get a filename\n",
    "    filename = gen_test_names.iloc[i]\n",
    "    # Check to see if the filename has already been segmented\n",
    "    if any(file.startswith(filename) for file in gen_test_list):\n",
    "        pass\n",
    "    else: \n",
    "        segment_audio(gen_test_names.iloc[i], gen_y_test.iloc[i], split='test', clf=CLF)\n",
    "        #print('{} segmented'.format(filename))\n",
    "print('Test segmention complete')"
   ]
  },
  {
   "cell_type": "code",
   "execution_count": 21,
   "metadata": {},
   "outputs": [
    {
     "name": "stdout",
     "output_type": "stream",
     "text": [
      "1206\n"
     ]
    }
   ],
   "source": [
    "# Check how many segmented files there are (without noise)\n",
    "# Returns a list of the filenames up to '.o.wav', which can be used to append the 'n.wav' later\n",
    "gen_test_seg = [x.split('o.wav')[0] for x in os.listdir(GEN_TEST_DIR) if x.endswith('o.wav')]\n",
    "print(len(gen_test_seg))"
   ]
  },
  {
   "cell_type": "code",
   "execution_count": 22,
   "metadata": {},
   "outputs": [
    {
     "name": "stdout",
     "output_type": "stream",
     "text": [
      "Number of training segments:  2781\n",
      "Number of validation segments:  926\n",
      "Number of testing segments:  1206\n"
     ]
    }
   ],
   "source": [
    "# Print number of segments in each data split\n",
    "print(\"Number of training segments: \",  len(gen_train_seg))\n",
    "print(\"Number of validation segments: \", len(gen_val_seg))\n",
    "print(\"Number of testing segments: \", len(gen_test_seg))"
   ]
  },
  {
   "cell_type": "markdown",
   "metadata": {},
   "source": [
    "# Add noise\n",
    "## Training data"
   ]
  },
  {
   "cell_type": "code",
   "execution_count": 23,
   "metadata": {},
   "outputs": [
    {
     "name": "stdout",
     "output_type": "stream",
     "text": [
      "Training augmentation complete\n"
     ]
    }
   ],
   "source": [
    "# Check if training data has been augmented with noise. If not, add noise to each segment.\n",
    "gen_train = os.listdir(GEN_TRAIN_DIR)\n",
    "\n",
    "for i in range(len(gen_train_seg)):\n",
    "    filename = gen_train_seg[i]\n",
    "    if any((file.startswith(filename)& file.endswith('n.wav')) for file in gen_train):\n",
    "        pass\n",
    "    else: \n",
    "        noisy_data(gen_train_seg[i], split='train', clf=CLF)\n",
    "        #print('{} augmented'.format(filename))\n",
    "print(\"Training augmentation complete\")"
   ]
  },
  {
   "cell_type": "code",
   "execution_count": 24,
   "metadata": {},
   "outputs": [
    {
     "name": "stdout",
     "output_type": "stream",
     "text": [
      "True\n"
     ]
    }
   ],
   "source": [
    "# Verify there are equal numbers for original segments and noisy segments.\n",
    "gen_train_noise = [x.split('n.wav')[0] \n",
    "                   for x in os.listdir(GEN_TRAIN_DIR) \n",
    "                   if x.endswith('n.wav')]\n",
    "print(len(gen_train_seg) == len(gen_train_noise))"
   ]
  },
  {
   "cell_type": "markdown",
   "metadata": {},
   "source": [
    "## Validation data"
   ]
  },
  {
   "cell_type": "code",
   "execution_count": 25,
   "metadata": {},
   "outputs": [
    {
     "name": "stdout",
     "output_type": "stream",
     "text": [
      "Validation augmentation complete\n"
     ]
    }
   ],
   "source": [
    "gen_valid = os.listdir(GEN_VAL_DIR)\n",
    "\n",
    "for i in range(len(gen_val_seg)):\n",
    "    filename = gen_val_seg[i]\n",
    "    if any((file.startswith(filename)& file.endswith('n.wav')) for file in gen_valid):\n",
    "        pass\n",
    "    else: \n",
    "        noisy_data(gen_val_seg[i], split='validation', clf=CLF)\n",
    "        #print('{} augmented'.format(filename))\n",
    "print(\"Validation augmentation complete\")"
   ]
  },
  {
   "cell_type": "code",
   "execution_count": 26,
   "metadata": {},
   "outputs": [
    {
     "name": "stdout",
     "output_type": "stream",
     "text": [
      "True\n"
     ]
    }
   ],
   "source": [
    "# Verify there are equal numbers for original segments and noisy segments.\n",
    "gen_val_noise = [x.split('n.wav')[0] \n",
    "                 for x in os.listdir(GEN_VAL_DIR) \n",
    "                 if x.endswith('n.wav')]\n",
    "print(len(gen_val_seg) == len(gen_val_noise))"
   ]
  },
  {
   "cell_type": "markdown",
   "metadata": {},
   "source": [
    "## Print total number of samples after augmentation"
   ]
  },
  {
   "cell_type": "code",
   "execution_count": 27,
   "metadata": {},
   "outputs": [],
   "source": [
    "gen_train_list = os.listdir(GEN_TRAIN_DIR)\n",
    "gen_val_list = os.listdir(GEN_VAL_DIR)\n",
    "gen_test_list = os.listdir(GEN_TEST_DIR)"
   ]
  },
  {
   "cell_type": "code",
   "execution_count": 28,
   "metadata": {},
   "outputs": [
    {
     "name": "stdout",
     "output_type": "stream",
     "text": [
      "Number of training files:  5563\n",
      "Number of validation files:  1852\n",
      "Number of testing files:  1206\n"
     ]
    }
   ],
   "source": [
    "# Print number of segments in each data split\n",
    "print(\"Number of training files: \",  len(gen_train_list))\n",
    "print(\"Number of validation files: \", len(gen_val_list))\n",
    "print(\"Number of testing files: \", len(gen_test_list))"
   ]
  },
  {
   "cell_type": "code",
   "execution_count": 29,
   "metadata": {},
   "outputs": [
    {
     "name": "stdout",
     "output_type": "stream",
     "text": [
      "Number of training files - M: 2816, F:2746\n",
      "Number of validation files - M: 954, F:898\n",
      "Number of testing files - M: 610, F:596\n"
     ]
    }
   ],
   "source": [
    "# Split number of segments into M/F for each dataset\n",
    "gen_train_M_seg = [x for x in gen_train_list if x.split('.')[1] == 'M' ]\n",
    "gen_train_F_seg = [x for x in gen_train_list if x.split('.')[1] == 'F' ]\n",
    "\n",
    "gen_val_M_seg = [x for x in gen_val_list if x.split('.')[1] == 'M' ]\n",
    "gen_val_F_seg = [x for x in gen_val_list if x.split('.')[1] == 'F' ]\n",
    "\n",
    "gen_test_M_seg = [x for x in gen_test_list if x.split('.')[1] == 'M' ]\n",
    "gen_test_F_seg = [x for x in gen_test_list if x.split('.')[1] == 'F' ]\n",
    "\n",
    "print(\"Number of training files - M: {}, F:{}\".format(len(gen_train_M_seg),len(gen_train_F_seg)))\n",
    "print(\"Number of validation files - M: {}, F:{}\".format(len(gen_val_M_seg),len(gen_val_F_seg)))\n",
    "print(\"Number of testing files - M: {}, F:{}\".format(len(gen_test_M_seg),len(gen_test_F_seg)))"
   ]
  },
  {
   "cell_type": "code",
   "execution_count": 30,
   "metadata": {},
   "outputs": [
    {
     "data": {
      "text/plain": [
       "MultiIndex([('train', 'F'),\n",
       "            ('train', 'M'),\n",
       "            (  'val', 'F'),\n",
       "            (  'val', 'M'),\n",
       "            ( 'test', 'F'),\n",
       "            ( 'test', 'M')],\n",
       "           names=['dataset', 'gender'])"
      ]
     },
     "execution_count": 30,
     "metadata": {},
     "output_type": "execute_result"
    }
   ],
   "source": [
    "# Compile speaker count results in a dataframe\n",
    "\n",
    "# Create multi-index\n",
    "iterables = [ ['train', 'val', 'test'], ['F', 'M'] ]\n",
    "index = pd.MultiIndex.from_product(iterables, names=['dataset', 'gender'] )\n",
    "index"
   ]
  },
  {
   "cell_type": "code",
   "execution_count": 31,
   "metadata": {},
   "outputs": [
    {
     "data": {
      "text/html": [
       "<div>\n",
       "<style scoped>\n",
       "    .dataframe tbody tr th:only-of-type {\n",
       "        vertical-align: middle;\n",
       "    }\n",
       "\n",
       "    .dataframe tbody tr th {\n",
       "        vertical-align: top;\n",
       "    }\n",
       "\n",
       "    .dataframe thead th {\n",
       "        text-align: right;\n",
       "    }\n",
       "</style>\n",
       "<table border=\"1\" class=\"dataframe\">\n",
       "  <thead>\n",
       "    <tr style=\"text-align: right;\">\n",
       "      <th></th>\n",
       "      <th></th>\n",
       "      <th>n_sp</th>\n",
       "      <th>%_sp_split</th>\n",
       "      <th>n_segs</th>\n",
       "      <th>%_segs_split</th>\n",
       "    </tr>\n",
       "    <tr>\n",
       "      <th>dataset</th>\n",
       "      <th>gender</th>\n",
       "      <th></th>\n",
       "      <th></th>\n",
       "      <th></th>\n",
       "      <th></th>\n",
       "    </tr>\n",
       "  </thead>\n",
       "  <tbody>\n",
       "    <tr>\n",
       "      <th rowspan=\"2\" valign=\"top\">train</th>\n",
       "      <th>F</th>\n",
       "      <td>581</td>\n",
       "      <td>0.484167</td>\n",
       "      <td>2746</td>\n",
       "      <td>0.493619</td>\n",
       "    </tr>\n",
       "    <tr>\n",
       "      <th>M</th>\n",
       "      <td>619</td>\n",
       "      <td>0.515833</td>\n",
       "      <td>2816</td>\n",
       "      <td>0.506202</td>\n",
       "    </tr>\n",
       "    <tr>\n",
       "      <th rowspan=\"2\" valign=\"top\">val</th>\n",
       "      <th>F</th>\n",
       "      <td>194</td>\n",
       "      <td>0.485000</td>\n",
       "      <td>898</td>\n",
       "      <td>0.484881</td>\n",
       "    </tr>\n",
       "    <tr>\n",
       "      <th>M</th>\n",
       "      <td>206</td>\n",
       "      <td>0.515000</td>\n",
       "      <td>954</td>\n",
       "      <td>0.515119</td>\n",
       "    </tr>\n",
       "    <tr>\n",
       "      <th rowspan=\"2\" valign=\"top\">test</th>\n",
       "      <th>F</th>\n",
       "      <td>259</td>\n",
       "      <td>0.485019</td>\n",
       "      <td>596</td>\n",
       "      <td>0.494196</td>\n",
       "    </tr>\n",
       "    <tr>\n",
       "      <th>M</th>\n",
       "      <td>275</td>\n",
       "      <td>0.514981</td>\n",
       "      <td>610</td>\n",
       "      <td>0.505804</td>\n",
       "    </tr>\n",
       "  </tbody>\n",
       "</table>\n",
       "</div>"
      ],
      "text/plain": [
       "                n_sp  %_sp_split  n_segs  %_segs_split\n",
       "dataset gender                                        \n",
       "train   F        581    0.484167    2746      0.493619\n",
       "        M        619    0.515833    2816      0.506202\n",
       "val     F        194    0.485000     898      0.484881\n",
       "        M        206    0.515000     954      0.515119\n",
       "test    F        259    0.485019     596      0.494196\n",
       "        M        275    0.514981     610      0.505804"
      ]
     },
     "execution_count": 31,
     "metadata": {},
     "output_type": "execute_result"
    }
   ],
   "source": [
    "gen_data_sum = pd.DataFrame({'n_sp':[n_gen_train_Fsp, n_gen_train_Msp,\n",
    "                                          n_gen_val_Fsp, n_gen_val_Msp,\n",
    "                                          n_gen_test_Fsp, n_gen_test_Msp],\n",
    "                            '%_sp_split':[n_gen_train_Fsp/gen_train_names.shape[0], n_gen_train_Msp/gen_train_names.shape[0],\n",
    "                                          n_gen_val_Fsp/gen_val_names.shape[0], n_gen_val_Msp/gen_val_names.shape[0],\n",
    "                                          n_gen_test_Fsp/gen_test_names.shape[0], n_gen_test_Msp/gen_test_names.shape[0]],\n",
    "                            'n_segs' : [len(gen_train_F_seg), len(gen_train_M_seg),\n",
    "                                        len(gen_val_F_seg), len(gen_val_M_seg),\n",
    "                                        len(gen_test_F_seg),len(gen_test_M_seg)],\n",
    "                            '%_segs_split' : [len(gen_train_F_seg)/len(gen_train_list), len(gen_train_M_seg)/len(gen_train_list),\n",
    "                                        len(gen_val_F_seg)/len(gen_val_list), len(gen_val_M_seg)/len(gen_val_list),\n",
    "                                        len(gen_test_F_seg)/len(gen_test_list),len(gen_test_M_seg)/len(gen_test_list)],\n",
    "                            },\n",
    "                           index = index)\n",
    "\n",
    "gen_data_sum.head(6)"
   ]
  },
  {
   "cell_type": "code",
   "execution_count": 32,
   "metadata": {},
   "outputs": [],
   "source": [
    "gen_data_sum.to_csv('{}data/gender/gen_data_split_summary.csv'.format(root_dir))"
   ]
  },
  {
   "cell_type": "markdown",
   "metadata": {},
   "source": [
    "# Language Classifier\n",
    "Identify the native language of speakers reading a fixed passage in English.\n",
    "\n",
    "- Extract speaker information for top 10 languages (in addition to English)\n",
    "- Downsample the number of English, Spanish and Arabic speakers.\n",
    "- Split the speakers into training, validation and testing sets.\n",
    "- Segment the audio files into 10 second segments \n",
    "- Augment the training validation segments with noise.\n",
    "\n",
    "Save segmented files in storage/data/lang10/test/{lang} and storage/data/lang10/train{name}."
   ]
  },
  {
   "cell_type": "code",
   "execution_count": 33,
   "metadata": {},
   "outputs": [],
   "source": [
    "CLF=\"lang10\"\n",
    "L_TRAIN_DIR = '{}data/lang10/train'.format(root_dir)\n",
    "L_VAL_DIR = '{}data/lang10/validation'.format(root_dir)\n",
    "L_TEST_DIR = '{}data/lang10/test'.format(root_dir)"
   ]
  },
  {
   "cell_type": "markdown",
   "metadata": {},
   "source": [
    "## English speakers\n",
    "### Downsample native English speakers."
   ]
  },
  {
   "cell_type": "code",
   "execution_count": 34,
   "metadata": {},
   "outputs": [
    {
     "data": {
      "text/plain": [
       "usa                     373\n",
       "uk                       65\n",
       "canada                   44\n",
       "australia                32\n",
       "ireland                  11\n",
       "new zealand               8\n",
       "jamaica                   5\n",
       "singapore                 4\n",
       "south africa              4\n",
       "panama                    3\n",
       "india                     3\n",
       "malaysia                  2\n",
       "philippines               2\n",
       "guyana                    2\n",
       "germany                   1\n",
       "spain                     1\n",
       "italy                     1\n",
       "the bahamas               1\n",
       "isle of man               1\n",
       "liberia                   1\n",
       "ghana                     1\n",
       "belize                    1\n",
       "virginia                  1\n",
       "barbados                  1\n",
       "papua new guinea          1\n",
       "nigeria                   1\n",
       "switzerland               1\n",
       "trinidad                  1\n",
       "lebanon                   1\n",
       "fiji                      1\n",
       "antigua and barbuda       1\n",
       "bolivia                   1\n",
       "pakistan                  1\n",
       "united arab emirates      1\n",
       "us virgin islands         1\n",
       "Name: country, dtype: int64"
      ]
     },
     "execution_count": 34,
     "metadata": {},
     "output_type": "execute_result"
    }
   ],
   "source": [
    "# Create dataframe of only native English speakers\n",
    "english = meta.loc[meta.native_language == 'english']\n",
    "\n",
    "# Look at the counts of countries\n",
    "english.country.value_counts()"
   ]
  },
  {
   "cell_type": "code",
   "execution_count": 35,
   "metadata": {},
   "outputs": [],
   "source": [
    "# Convert country counts to weights for use in the random sampling function\n",
    "eng_country_pct = english.country.value_counts(normalize=True)"
   ]
  },
  {
   "cell_type": "code",
   "execution_count": 36,
   "metadata": {},
   "outputs": [],
   "source": [
    "english = english.join(eng_country_pct, how = 'left', \n",
    "                       on='country', rsuffix='_weight')"
   ]
  },
  {
   "cell_type": "code",
   "execution_count": 37,
   "metadata": {},
   "outputs": [],
   "source": [
    "# Calculate country weights for random sampling, put in 'country_pct' column\n",
    "english['country_pct'] = english['country_weight']/sum(english['country_weight'])"
   ]
  },
  {
   "cell_type": "code",
   "execution_count": 38,
   "metadata": {},
   "outputs": [
    {
     "name": "stdout",
     "output_type": "stream",
     "text": [
      "79 6\n"
     ]
    }
   ],
   "source": [
    "#  Find random seed that will provide the highest number of country samples\n",
    "max_count = 0\n",
    "max_idx = 0\n",
    "for i in range(200):\n",
    "    eng_samp_inx = english.sample(75, replace=False, weights=english.country_pct, random_state=i)\n",
    "    count = eng_samp_inx.country.nunique()\n",
    "    if max_count  < count:\n",
    "        max_count = count\n",
    "        max_idx = i\n",
    "\n",
    "print(max_idx, max_count)"
   ]
  },
  {
   "cell_type": "code",
   "execution_count": 39,
   "metadata": {},
   "outputs": [
    {
     "data": {
      "text/html": [
       "<div>\n",
       "<style scoped>\n",
       "    .dataframe tbody tr th:only-of-type {\n",
       "        vertical-align: middle;\n",
       "    }\n",
       "\n",
       "    .dataframe tbody tr th {\n",
       "        vertical-align: top;\n",
       "    }\n",
       "\n",
       "    .dataframe thead th {\n",
       "        text-align: right;\n",
       "    }\n",
       "</style>\n",
       "<table border=\"1\" class=\"dataframe\">\n",
       "  <thead>\n",
       "    <tr style=\"text-align: right;\">\n",
       "      <th></th>\n",
       "      <th>age</th>\n",
       "      <th>age_onset</th>\n",
       "      <th>birthplace</th>\n",
       "      <th>filename</th>\n",
       "      <th>native_language</th>\n",
       "      <th>sex</th>\n",
       "      <th>country</th>\n",
       "      <th>file_missing?</th>\n",
       "      <th>country_weight</th>\n",
       "      <th>country_pct</th>\n",
       "    </tr>\n",
       "    <tr>\n",
       "      <th>speakerid</th>\n",
       "      <th></th>\n",
       "      <th></th>\n",
       "      <th></th>\n",
       "      <th></th>\n",
       "      <th></th>\n",
       "      <th></th>\n",
       "      <th></th>\n",
       "      <th></th>\n",
       "      <th></th>\n",
       "      <th></th>\n",
       "    </tr>\n",
       "  </thead>\n",
       "  <tbody>\n",
       "    <tr>\n",
       "      <th>1052</th>\n",
       "      <td>22.0</td>\n",
       "      <td>0.0</td>\n",
       "      <td>billings, montana, usa</td>\n",
       "      <td>english293</td>\n",
       "      <td>english</td>\n",
       "      <td>female</td>\n",
       "      <td>Usa</td>\n",
       "      <td>False</td>\n",
       "      <td>0.644214</td>\n",
       "      <td>0.002544</td>\n",
       "    </tr>\n",
       "    <tr>\n",
       "      <th>912</th>\n",
       "      <td>20.0</td>\n",
       "      <td>0.0</td>\n",
       "      <td>clifton, new jersey, usa</td>\n",
       "      <td>english275</td>\n",
       "      <td>english</td>\n",
       "      <td>female</td>\n",
       "      <td>Usa</td>\n",
       "      <td>False</td>\n",
       "      <td>0.644214</td>\n",
       "      <td>0.002544</td>\n",
       "    </tr>\n",
       "    <tr>\n",
       "      <th>150</th>\n",
       "      <td>50.0</td>\n",
       "      <td>0.0</td>\n",
       "      <td>charleston, south carolina, usa</td>\n",
       "      <td>english86</td>\n",
       "      <td>english</td>\n",
       "      <td>male</td>\n",
       "      <td>Usa</td>\n",
       "      <td>False</td>\n",
       "      <td>0.644214</td>\n",
       "      <td>0.002544</td>\n",
       "    </tr>\n",
       "    <tr>\n",
       "      <th>1692</th>\n",
       "      <td>35.0</td>\n",
       "      <td>0.0</td>\n",
       "      <td>irvine, scotland, uk</td>\n",
       "      <td>english488</td>\n",
       "      <td>english</td>\n",
       "      <td>female</td>\n",
       "      <td>Uk</td>\n",
       "      <td>False</td>\n",
       "      <td>0.112263</td>\n",
       "      <td>0.000443</td>\n",
       "    </tr>\n",
       "    <tr>\n",
       "      <th>617</th>\n",
       "      <td>19.0</td>\n",
       "      <td>0.0</td>\n",
       "      <td>grand forks, north dakota, usa</td>\n",
       "      <td>english189</td>\n",
       "      <td>english</td>\n",
       "      <td>male</td>\n",
       "      <td>Usa</td>\n",
       "      <td>False</td>\n",
       "      <td>0.644214</td>\n",
       "      <td>0.002544</td>\n",
       "    </tr>\n",
       "  </tbody>\n",
       "</table>\n",
       "</div>"
      ],
      "text/plain": [
       "            age  age_onset                       birthplace    filename  \\\n",
       "speakerid                                                                 \n",
       "1052       22.0        0.0           billings, montana, usa  english293   \n",
       "912        20.0        0.0         clifton, new jersey, usa  english275   \n",
       "150        50.0        0.0  charleston, south carolina, usa   english86   \n",
       "1692       35.0        0.0             irvine, scotland, uk  english488   \n",
       "617        19.0        0.0   grand forks, north dakota, usa  english189   \n",
       "\n",
       "          native_language     sex country  file_missing?  country_weight  \\\n",
       "speakerid                                                                  \n",
       "1052              english  female     Usa          False        0.644214   \n",
       "912               english  female     Usa          False        0.644214   \n",
       "150               english    male     Usa          False        0.644214   \n",
       "1692              english  female      Uk          False        0.112263   \n",
       "617               english    male     Usa          False        0.644214   \n",
       "\n",
       "           country_pct  \n",
       "speakerid               \n",
       "1052          0.002544  \n",
       "912           0.002544  \n",
       "150           0.002544  \n",
       "1692          0.000443  \n",
       "617           0.002544  "
      ]
     },
     "execution_count": 39,
     "metadata": {},
     "output_type": "execute_result"
    }
   ],
   "source": [
    "eng_samples = english.sample(75, replace=False, weights=english.country_pct , random_state=max_idx)\n",
    "eng_samples['country'] = eng_samples['country'].str.capitalize()\n",
    "eng_samples.head()"
   ]
  },
  {
   "cell_type": "code",
   "execution_count": 40,
   "metadata": {},
   "outputs": [
    {
     "data": {
      "text/plain": [
       "(array([0, 1, 2, 3, 4, 5]), <a list of 6 Text xticklabel objects>)"
      ]
     },
     "execution_count": 40,
     "metadata": {},
     "output_type": "execute_result"
    },
    {
     "data": {
      "image/png": "[encoded data removed]",
      "text/plain": [
       "<Figure size 432x288 with 1 Axes>"
      ]
     },
     "metadata": {
      "needs_background": "light"
     },
     "output_type": "display_data"
    }
   ],
   "source": [
    "sns.countplot(x='country', data=eng_samples)\n",
    "plt.title('English samples: Count by country')\n",
    "plt.xlabel('Country')\n",
    "plt.ylabel('Count')\n",
    "plt.xticks(rotation=45)\n",
    "#plt.savefig('{}EngCountrySampleDist.png'.format(FIG_PATH))"
   ]
  },
  {
   "cell_type": "code",
   "execution_count": 41,
   "metadata": {},
   "outputs": [
    {
     "data": {
      "text/plain": [
       "Text(0, 0.5, 'Count')"
      ]
     },
     "execution_count": 41,
     "metadata": {},
     "output_type": "execute_result"
    },
    {
     "data": {
      "image/png": "[encoded data removed]",
      "text/plain": [
       "<Figure size 432x288 with 1 Axes>"
      ]
     },
     "metadata": {
      "needs_background": "light"
     },
     "output_type": "display_data"
    }
   ],
   "source": [
    "# Check that gender is still roughly distributed equally\n",
    "sns.countplot(x='sex', data=eng_samples)\n",
    "plt.title('English samples: Count by Gender')\n",
    "plt.xlabel('Gender')\n",
    "plt.ylabel('Count')\n",
    "#plt.xticks(rotation=45)"
   ]
  },
  {
   "cell_type": "markdown",
   "metadata": {},
   "source": [
    "### Split English files into training, validation and testing sets"
   ]
  },
  {
   "cell_type": "code",
   "execution_count": 42,
   "metadata": {},
   "outputs": [],
   "source": [
    "eng_train_names, eng_test_names, eng_y_train, eng_y_test = train_test_split(\n",
    "    eng_samples['filename'], eng_samples['sex'], test_size=0.25, random_state=38)"
   ]
  },
  {
   "cell_type": "code",
   "execution_count": 43,
   "metadata": {},
   "outputs": [],
   "source": [
    "eng_train_names, eng_val_names, eng_y_train, eng_y_val = train_test_split(\n",
    "    eng_train_names, eng_y_train, test_size = 0.25, random_state=38)"
   ]
  },
  {
   "cell_type": "code",
   "execution_count": 44,
   "metadata": {},
   "outputs": [
    {
     "name": "stdout",
     "output_type": "stream",
     "text": [
      "Number of training files:  (42,)\n",
      "Number of validation files:  (14,)\n",
      "Number of testing files:  (19,)\n"
     ]
    }
   ],
   "source": [
    "print(\"Number of training files: \", eng_train_names.shape)\n",
    "print(\"Number of validation files: \", eng_val_names.shape)\n",
    "print(\"Number of testing files: \", eng_test_names.shape)"
   ]
  },
  {
   "cell_type": "markdown",
   "metadata": {},
   "source": [
    "### Segment the English files"
   ]
  },
  {
   "cell_type": "code",
   "execution_count": 45,
   "metadata": {},
   "outputs": [
    {
     "name": "stdout",
     "output_type": "stream",
     "text": [
      "English training segmentation complete\n"
     ]
    }
   ],
   "source": [
    "# Check if TRAINING data has been segmented. If not, segment each audio file.\n",
    "eng_train_list = os.listdir('{}/english'.format(L_TRAIN_DIR))\n",
    "\n",
    "for i in range(len(eng_train_names)):\n",
    "    # get a filename\n",
    "    filename = eng_train_names.iloc[i]\n",
    "    # Check to see if the filename has already been segmented\n",
    "    if any(file.startswith(filename) for file in eng_train_list):\n",
    "        pass\n",
    "    else: \n",
    "        segment_audio(eng_train_names.iloc[i], eng_y_train.iloc[i], split='train/english', clf=CLF)\n",
    "        #print('{} segmented'.format(filename))\n",
    "print(\"English training segmentation complete\")"
   ]
  },
  {
   "cell_type": "code",
   "execution_count": 46,
   "metadata": {},
   "outputs": [
    {
     "name": "stdout",
     "output_type": "stream",
     "text": [
      "77\n"
     ]
    }
   ],
   "source": [
    "# Check how many segmented files there are (without noise)\n",
    "# Returns a list of the filenames up to '.o.wav', which can be used to append the 'n.wav' later\n",
    "eng_train_seg = [x.split('o.wav')[0] \n",
    "                 for x in os.listdir('{}/english'.format(L_TRAIN_DIR)) \n",
    "                 if x.endswith('o.wav')]\n",
    "print(len(eng_train_seg))"
   ]
  },
  {
   "cell_type": "code",
   "execution_count": 47,
   "metadata": {},
   "outputs": [
    {
     "name": "stdout",
     "output_type": "stream",
     "text": [
      "English validation segmentation complete\n"
     ]
    }
   ],
   "source": [
    "eng_val_list = os.listdir('{}/english'.format(L_VAL_DIR))\n",
    "\n",
    "for i in range(len(eng_val_names)):\n",
    "    # get a filename\n",
    "    filename = eng_val_names.iloc[i]\n",
    "    # Check to see if the filename has already been segmented\n",
    "    if any(file.startswith(filename) for file in eng_val_list):\n",
    "        pass\n",
    "    else: \n",
    "        segment_audio(eng_val_names.iloc[i], eng_y_val.iloc[i], split='validation/english', clf=CLF)\n",
    "    #print('{} segmented'.format(filename))\n",
    "print(\"English validation segmentation complete\")"
   ]
  },
  {
   "cell_type": "code",
   "execution_count": 48,
   "metadata": {},
   "outputs": [
    {
     "name": "stdout",
     "output_type": "stream",
     "text": [
      "24\n"
     ]
    }
   ],
   "source": [
    "# Check how many segmented files there are (without noise)\n",
    "# Returns a list of the filenames up to '.o.wav', which can be used to append the 'n.wav' later\n",
    "eng_val_seg = [x.split('o.wav')[0] \n",
    "               for x in os.listdir('{}/english'.format(L_VAL_DIR)) \n",
    "               if x.endswith('o.wav')]\n",
    "print(len(eng_val_seg))"
   ]
  },
  {
   "cell_type": "code",
   "execution_count": 49,
   "metadata": {},
   "outputs": [
    {
     "name": "stdout",
     "output_type": "stream",
     "text": [
      "English testing segmentation complete\n"
     ]
    }
   ],
   "source": [
    "# Check if TESTING data has been segmented. If not, segment each audio file.\n",
    "eng_test_list = os.listdir('{}/test_data'.format(L_TEST_DIR))\n",
    "\n",
    "for i in range(len(eng_test_names)):\n",
    "    filename = eng_test_names.iloc[i]\n",
    "    if any(file.startswith(filename) for file in eng_test_list):\n",
    "        pass\n",
    "    else: \n",
    "        segment_audio(eng_test_names.iloc[i], eng_y_test.iloc[i], split='test/test_data', clf=CLF)\n",
    "        #print('{} segmented'.format(filename))\n",
    "print(\"English testing segmentation complete\")"
   ]
  },
  {
   "cell_type": "code",
   "execution_count": 50,
   "metadata": {},
   "outputs": [
    {
     "name": "stdout",
     "output_type": "stream",
     "text": [
      "373\n"
     ]
    }
   ],
   "source": [
    "# Check how many segmented files there are (without noise)\n",
    "# Returns a list of the filenames up to '.o.wav', which can be used to append the 'n.wav' later\n",
    "eng_test_seg = [x.split('o.wav')[0] \n",
    "                for x in os.listdir('{}/test_data'.format(L_TEST_DIR)) \n",
    "                if x.endswith('o.wav')]\n",
    "print(len(eng_test_seg))"
   ]
  },
  {
   "cell_type": "markdown",
   "metadata": {},
   "source": [
    "## Augment English testing and training data with noise"
   ]
  },
  {
   "cell_type": "code",
   "execution_count": 51,
   "metadata": {},
   "outputs": [
    {
     "name": "stdout",
     "output_type": "stream",
     "text": [
      "Training augmentation complete\n"
     ]
    }
   ],
   "source": [
    "# Check if TRAINING data has been augmented with noise. If not, add noise to each segment.\n",
    "eng_train = os.listdir('{}/english'.format(L_TRAIN_DIR))\n",
    "\n",
    "\n",
    "for i in range(len(eng_train_seg)):\n",
    "    filename = eng_train_seg[i]\n",
    "    if any((file.startswith(filename)& file.endswith('n.wav')) for file in eng_train):\n",
    "        pass\n",
    "    else: \n",
    "        noisy_data(eng_train_seg[i], split='train/english', clf=CLF)\n",
    "        #print('{} augmented'.format(filename))\n",
    "print(\"Training augmentation complete\")"
   ]
  },
  {
   "cell_type": "code",
   "execution_count": 52,
   "metadata": {},
   "outputs": [
    {
     "name": "stdout",
     "output_type": "stream",
     "text": [
      "Validition augmentation complete\n"
     ]
    }
   ],
   "source": [
    "# Check if VALIDATION data has been augmented with noise. If not, add noise to each segment.\n",
    "eng_val = os.listdir('{}/english'.format(L_VAL_DIR))\n",
    "\n",
    "for i in range(len(eng_val_seg)):\n",
    "    filename = eng_val_seg[i]\n",
    "    if any((file.startswith(filename)& file.endswith('n.wav')) for file in eng_val):\n",
    "        pass\n",
    "    else: \n",
    "        noisy_data(eng_val_seg[i], split='validation/english', clf=CLF)\n",
    "        #print('{} augmented'.format(filename))\n",
    "print(\"Validition augmentation complete\")"
   ]
  },
  {
   "cell_type": "markdown",
   "metadata": {},
   "source": [
    "## Extract top 10 languages"
   ]
  },
  {
   "cell_type": "code",
   "execution_count": 53,
   "metadata": {},
   "outputs": [
    {
     "data": {
      "text/plain": [
       "english       579\n",
       "spanish       162\n",
       "arabic        102\n",
       "mandarin       65\n",
       "french         63\n",
       "korean         52\n",
       "portuguese     48\n",
       "russian        48\n",
       "dutch          47\n",
       "turkish        37\n",
       "german         36\n",
       "Name: native_language, dtype: int64"
      ]
     },
     "execution_count": 53,
     "metadata": {},
     "output_type": "execute_result"
    }
   ],
   "source": [
    "lang_counts = meta.native_language.value_counts().head(11)\n",
    "lang_counts"
   ]
  },
  {
   "cell_type": "code",
   "execution_count": 54,
   "metadata": {},
   "outputs": [],
   "source": [
    "lang_list = ['spanish', 'arabic', 'mandarin', 'french', 'korean', 'russian', \n",
    "             'portuguese', 'dutch', 'turkish', 'german']\n",
    "all_lang_list = ['spanish', 'arabic', 'mandarin', 'french', 'korean', 'russian', \n",
    "             'portuguese', 'dutch', 'turkish', 'german', 'english']"
   ]
  },
  {
   "cell_type": "markdown",
   "metadata": {},
   "source": [
    "## Split data by language and divide each language into train, val and test sets"
   ]
  },
  {
   "cell_type": "code",
   "execution_count": 55,
   "metadata": {},
   "outputs": [
    {
     "name": "stdout",
     "output_type": "stream",
     "text": [
      "Number of training files:  (42,)\n",
      "Number of training files:  (14,)\n",
      "Number of testing files:  (19,)\n"
     ]
    }
   ],
   "source": [
    "# Extract Spanish data\n",
    "spanish = meta.loc[meta.native_language == 'spanish']\n",
    "# Downsample\n",
    "spanish_samp = spanish.sample(75, replace=False, random_state=38)\n",
    "# Split\n",
    "spanish_train_names, spanish_test_names, spanish_y_train, spanish_y_test = train_test_split(\n",
    "    spanish_samp['filename'], spanish_samp['sex'], test_size=0.25, random_state=38)\n",
    "spanish_train_names, spanish_val_names, spanish_y_train, spanish_y_val = train_test_split(\n",
    "    spanish_train_names, spanish_y_train, test_size = 0.25, random_state=38)\n",
    "print(\"Number of training files: \", spanish_train_names.shape)\n",
    "print(\"Number of training files: \", spanish_val_names.shape)\n",
    "print(\"Number of testing files: \", spanish_test_names.shape)"
   ]
  },
  {
   "cell_type": "code",
   "execution_count": 56,
   "metadata": {},
   "outputs": [
    {
     "name": "stdout",
     "output_type": "stream",
     "text": [
      "Number of training files:  (42,)\n",
      "Number of training files:  (14,)\n",
      "Number of testing files:  (19,)\n"
     ]
    }
   ],
   "source": [
    "# Extract Arabic data\n",
    "arabic = meta.loc[meta.native_language == 'arabic']\n",
    "# Downsample\n",
    "arabic_samp = arabic.sample(75, replace=False, random_state = 38)\n",
    "# Split\n",
    "arabic_train_names, arabic_test_names, arabic_y_train, arabic_y_test = train_test_split(\n",
    "    arabic_samp['filename'], arabic_samp['sex'], test_size=0.25, random_state=38)\n",
    "arabic_train_names, arabic_val_names, arabic_y_train, arabic_y_val = train_test_split(\n",
    "    arabic_train_names, arabic_y_train, test_size = 0.25, random_state=38)\n",
    "print(\"Number of training files: \", arabic_train_names.shape)\n",
    "print(\"Number of training files: \", arabic_val_names.shape)\n",
    "print(\"Number of testing files: \", arabic_test_names.shape)"
   ]
  },
  {
   "cell_type": "code",
   "execution_count": 57,
   "metadata": {},
   "outputs": [
    {
     "name": "stdout",
     "output_type": "stream",
     "text": [
      "Number of training files:  (36,)\n",
      "Number of training files:  (12,)\n",
      "Number of testing files:  (17,)\n"
     ]
    }
   ],
   "source": [
    "# Split Mandarin data\n",
    "mandarin = meta.loc[meta.native_language == 'mandarin']\n",
    "mandarin_train_names, mandarin_test_names, mandarin_y_train, mandarin_y_test = train_test_split(\n",
    "    mandarin['filename'], mandarin['sex'], test_size=0.25, random_state=38)\n",
    "mandarin_train_names, mandarin_val_names, mandarin_y_train, mandarin_y_val = train_test_split(\n",
    "    mandarin_train_names, mandarin_y_train, test_size = 0.25, random_state=38)\n",
    "print(\"Number of training files: \", mandarin_train_names.shape)\n",
    "print(\"Number of training files: \", mandarin_val_names.shape)\n",
    "print(\"Number of testing files: \", mandarin_test_names.shape)"
   ]
  },
  {
   "cell_type": "code",
   "execution_count": 58,
   "metadata": {},
   "outputs": [
    {
     "name": "stdout",
     "output_type": "stream",
     "text": [
      "Number of training files:  (35,)\n",
      "Number of training files:  (12,)\n",
      "Number of testing files:  (16,)\n"
     ]
    }
   ],
   "source": [
    "# Split French data\n",
    "french = meta.loc[meta.native_language == 'french']\n",
    "french_train_names, french_test_names, french_y_train, french_y_test = train_test_split(\n",
    "    french['filename'], french['sex'], test_size=0.25, random_state=38)\n",
    "french_train_names, french_val_names, french_y_train, french_y_val = train_test_split(\n",
    "    french_train_names, french_y_train, test_size = 0.25, random_state=38)\n",
    "print(\"Number of training files: \", french_train_names.shape)\n",
    "print(\"Number of training files: \", french_val_names.shape)\n",
    "print(\"Number of testing files: \", french_test_names.shape)"
   ]
  },
  {
   "cell_type": "code",
   "execution_count": 59,
   "metadata": {},
   "outputs": [
    {
     "name": "stdout",
     "output_type": "stream",
     "text": [
      "Number of training files:  (29,)\n",
      "Number of training files:  (10,)\n",
      "Number of testing files:  (13,)\n"
     ]
    }
   ],
   "source": [
    "# Split Korean data\n",
    "korean = meta.loc[meta.native_language == 'korean']\n",
    "korean_train_names, korean_test_names, korean_y_train, korean_y_test = train_test_split(\n",
    "    korean['filename'], korean['sex'], test_size=0.25, random_state=38)\n",
    "korean_train_names, korean_val_names, korean_y_train, korean_y_val = train_test_split(\n",
    "    korean_train_names, korean_y_train, test_size = 0.25, random_state=38)\n",
    "print(\"Number of training files: \", korean_train_names.shape)\n",
    "print(\"Number of training files: \", korean_val_names.shape)\n",
    "print(\"Number of testing files: \", korean_test_names.shape)"
   ]
  },
  {
   "cell_type": "code",
   "execution_count": 60,
   "metadata": {},
   "outputs": [
    {
     "name": "stdout",
     "output_type": "stream",
     "text": [
      "Number of training files:  (27,)\n",
      "Number of training files:  (9,)\n",
      "Number of testing files:  (12,)\n"
     ]
    }
   ],
   "source": [
    "# Split Russian data\n",
    "russian = meta.loc[meta.native_language == 'russian']\n",
    "russian_train_names, russian_test_names, russian_y_train, russian_y_test = train_test_split(\n",
    "    russian['filename'], russian['sex'], test_size=0.25, random_state=38)\n",
    "russian_train_names, russian_val_names, russian_y_train, russian_y_val = train_test_split(\n",
    "    russian_train_names, russian_y_train, test_size = 0.25, random_state=38)\n",
    "print(\"Number of training files: \", russian_train_names.shape)\n",
    "print(\"Number of training files: \", russian_val_names.shape)\n",
    "print(\"Number of testing files: \", russian_test_names.shape)"
   ]
  },
  {
   "cell_type": "code",
   "execution_count": 61,
   "metadata": {},
   "outputs": [
    {
     "name": "stdout",
     "output_type": "stream",
     "text": [
      "Number of training files:  (27,)\n",
      "Number of training files:  (9,)\n",
      "Number of testing files:  (12,)\n"
     ]
    }
   ],
   "source": [
    "# Split Portuguese data\n",
    "portuguese = meta.loc[meta.native_language == 'portuguese']\n",
    "portuguese_train_names, portuguese_test_names, portuguese_y_train, portuguese_y_test = train_test_split(\n",
    "    portuguese['filename'], portuguese['sex'], test_size=0.25, random_state=38)\n",
    "portuguese_train_names, portuguese_val_names, portuguese_y_train, portuguese_y_val = train_test_split(\n",
    "    portuguese_train_names, portuguese_y_train, test_size = 0.25, random_state=38)\n",
    "print(\"Number of training files: \", portuguese_train_names.shape)\n",
    "print(\"Number of training files: \", portuguese_val_names.shape)\n",
    "print(\"Number of testing files: \", portuguese_test_names.shape)"
   ]
  },
  {
   "cell_type": "code",
   "execution_count": 62,
   "metadata": {},
   "outputs": [
    {
     "name": "stdout",
     "output_type": "stream",
     "text": [
      "Number of training files:  (26,)\n",
      "Number of training files:  (9,)\n",
      "Number of testing files:  (12,)\n"
     ]
    }
   ],
   "source": [
    "# Split Dutch data\n",
    "dutch = meta.loc[meta.native_language == 'dutch']\n",
    "dutch_train_names, dutch_test_names, dutch_y_train, dutch_y_test = train_test_split(\n",
    "    dutch['filename'], dutch['sex'], test_size=0.25, random_state=38)\n",
    "dutch_train_names, dutch_val_names, dutch_y_train, dutch_y_val = train_test_split(\n",
    "    dutch_train_names, dutch_y_train, test_size = 0.25, random_state=38)\n",
    "print(\"Number of training files: \", dutch_train_names.shape)\n",
    "print(\"Number of training files: \", dutch_val_names.shape)\n",
    "print(\"Number of testing files: \", dutch_test_names.shape)"
   ]
  },
  {
   "cell_type": "code",
   "execution_count": 63,
   "metadata": {},
   "outputs": [
    {
     "name": "stdout",
     "output_type": "stream",
     "text": [
      "Number of training files:  (20,)\n",
      "Number of training files:  (7,)\n",
      "Number of testing files:  (10,)\n"
     ]
    }
   ],
   "source": [
    "# Split Turkish data\n",
    "turkish = meta.loc[meta.native_language == 'turkish']\n",
    "turkish_train_names, turkish_test_names, turkish_y_train, turkish_y_test = train_test_split(\n",
    "    turkish['filename'], turkish['sex'], test_size=0.25, random_state=38)\n",
    "turkish_train_names, turkish_val_names, turkish_y_train, turkish_y_val = train_test_split(\n",
    "    turkish_train_names, turkish_y_train, test_size = 0.25, random_state=38)\n",
    "print(\"Number of training files: \", turkish_train_names.shape)\n",
    "print(\"Number of training files: \", turkish_val_names.shape)\n",
    "print(\"Number of testing files: \", turkish_test_names.shape)"
   ]
  },
  {
   "cell_type": "code",
   "execution_count": 64,
   "metadata": {},
   "outputs": [
    {
     "name": "stdout",
     "output_type": "stream",
     "text": [
      "Number of training files:  (20,)\n",
      "Number of training files:  (7,)\n",
      "Number of testing files:  (9,)\n"
     ]
    }
   ],
   "source": [
    "# Split German data\n",
    "german = meta.loc[meta.native_language == 'german']\n",
    "german_train_names, german_test_names, german_y_train, german_y_test = train_test_split(\n",
    "    german['filename'], german['sex'], test_size=0.25, random_state=38)\n",
    "german_train_names, german_val_names, german_y_train, german_y_val = train_test_split(\n",
    "    german_train_names, german_y_train, test_size = 0.25, random_state=38)\n",
    "print(\"Number of training files: \", german_train_names.shape)\n",
    "print(\"Number of training files: \", german_val_names.shape)\n",
    "print(\"Number of testing files: \", german_test_names.shape)"
   ]
  },
  {
   "cell_type": "markdown",
   "metadata": {},
   "source": [
    "## Combine metadata about sampled speakers\n",
    "Since English, Spanish and Arabic have been downsampled, include only metadata about the speakers used."
   ]
  },
  {
   "cell_type": "code",
   "execution_count": 65,
   "metadata": {},
   "outputs": [
    {
     "data": {
      "text/plain": [
       "Spanish       0.120773\n",
       "Arabic        0.120773\n",
       "English       0.120773\n",
       "Mandarin      0.104670\n",
       "French        0.101449\n",
       "Korean        0.083736\n",
       "Portuguese    0.077295\n",
       "Russian       0.077295\n",
       "Dutch         0.075684\n",
       "Turkish       0.059581\n",
       "German        0.057971\n",
       "Name: native_language, dtype: float64"
      ]
     },
     "execution_count": 65,
     "metadata": {},
     "output_type": "execute_result"
    }
   ],
   "source": [
    "frames = [eng_samples, spanish_samp, arabic_samp, mandarin, french, korean, \n",
    "          russian, portuguese, dutch, turkish, german]\n",
    "samples_df = pd.concat(frames)\n",
    "samples_df['native_language'] = samples_df['native_language'].str.capitalize()\n",
    "samples_df['native_language'].value_counts(normalize=True)"
   ]
  },
  {
   "cell_type": "code",
   "execution_count": 66,
   "metadata": {},
   "outputs": [
    {
     "data": {
      "text/plain": [
       "Text(0, 0.5, 'Count')"
      ]
     },
     "execution_count": 66,
     "metadata": {},
     "output_type": "execute_result"
    },
    {
     "data": {
      "image/png": "[encoded data removed]",
      "text/plain": [
       "<Figure size 432x288 with 1 Axes>"
      ]
     },
     "metadata": {
      "needs_background": "light"
     },
     "output_type": "display_data"
    }
   ],
   "source": [
    "sns.countplot(x='native_language', data=samples_df)\n",
    "plt.title('Speakers per language')\n",
    "plt.xticks(rotation=45)\n",
    "plt.xlabel('Native Language')\n",
    "plt.ylabel('Count')\n",
    "#plt.savefig('storage/figures/lang10/LanguageDist.png')"
   ]
  },
  {
   "cell_type": "code",
   "execution_count": 67,
   "metadata": {},
   "outputs": [
    {
     "name": "stdout",
     "output_type": "stream",
     "text": [
      "Training segmentation complete\n"
     ]
    }
   ],
   "source": [
    "train_list = [spanish_train_names, arabic_train_names, mandarin_train_names, french_train_names, korean_train_names, \n",
    "             russian_train_names, portuguese_train_names, dutch_train_names, turkish_train_names, german_train_names]\n",
    "\n",
    "y_train_list = [spanish_y_train, arabic_y_train, mandarin_y_train, french_y_train, korean_y_train, \n",
    "             russian_y_train, portuguese_y_train, dutch_y_train, turkish_y_train, german_y_train]\n",
    "\n",
    "for lang, train, y_train in zip(lang_list, train_list, y_train_list):\n",
    "    # Check if training data has been segmented. If not, segment each audio file.\n",
    "    train_file_list = os.listdir('{}/{}'.format(L_TRAIN_DIR,lang))\n",
    "\n",
    "    for i in range(len(train)):\n",
    "        # get a filename\n",
    "        filename = train.iloc[i]\n",
    "        # Check to see if the filename has already been segmented\n",
    "        if any(file.startswith(filename) for file in train_file_list):\n",
    "              pass\n",
    "        else: \n",
    "            segment_audio(train.iloc[i], y_train.iloc[i], split='train/{}'.format(lang), clf=CLF)\n",
    "            #print('{} segmented'.format(filename))\n",
    "print('Training segmentation complete')"
   ]
  },
  {
   "cell_type": "code",
   "execution_count": 68,
   "metadata": {},
   "outputs": [
    {
     "name": "stdout",
     "output_type": "stream",
     "text": [
      "Validation segmentation complete\n"
     ]
    }
   ],
   "source": [
    "val_list = [spanish_val_names, arabic_val_names, mandarin_val_names, french_val_names, korean_val_names, \n",
    "             russian_val_names, portuguese_val_names, dutch_val_names, turkish_val_names, german_val_names]\n",
    "\n",
    "y_val_list = [spanish_y_val, arabic_y_val, mandarin_y_val, french_y_val, korean_y_val, \n",
    "             russian_y_val, portuguese_y_val, dutch_y_val, turkish_y_val, german_y_val]\n",
    "\n",
    "for lang, val, y_val in zip(lang_list, val_list, y_val_list):\n",
    "    # Check if training data has been segmented. If not, segment each audio file.\n",
    "    val_file_list = os.listdir('{}/{}'.format(L_VAL_DIR, lang))\n",
    "\n",
    "    for i in range(len(val)):\n",
    "        # get a filename\n",
    "        filename = val.iloc[i]\n",
    "        # Check to see if the filename has already been segmented\n",
    "        if any(file.startswith(filename) for file in val_file_list):\n",
    "            pass\n",
    "        else: \n",
    "            segment_audio(val.iloc[i], y_val.iloc[i], split='validation/{}'.format(lang), clf=CLF)\n",
    "            #print('{} segmented'.format(filename))\n",
    "            \n",
    "print('Validation segmentation complete')"
   ]
  },
  {
   "cell_type": "code",
   "execution_count": 69,
   "metadata": {},
   "outputs": [
    {
     "name": "stdout",
     "output_type": "stream",
     "text": [
      "Testing segementation complete\n"
     ]
    }
   ],
   "source": [
    "test_list = [spanish_test_names, arabic_test_names, mandarin_test_names, french_test_names, korean_test_names, \n",
    "             russian_test_names, portuguese_test_names, dutch_test_names, turkish_test_names, german_test_names]\n",
    "\n",
    "y_test_list = [spanish_y_test, arabic_y_test, mandarin_y_test, french_y_test, korean_y_test, \n",
    "             russian_y_test, portuguese_y_test, dutch_y_test, turkish_y_test, german_y_test]\n",
    "\n",
    "for lang, test, y_test in zip(lang_list, test_list, y_test_list):\n",
    "    # Check if training data has been segmented. If not, segment each audio file.\n",
    "    test_file_list = os.listdir('{}/test_data'.format(L_TEST_DIR))\n",
    "\n",
    "    for i in range(len(test)):\n",
    "        # get a filename\n",
    "        filename = test.iloc[i]\n",
    "        # Check to see if the filename has already been segmented\n",
    "        if any(file.startswith(filename) for file in test_file_list):\n",
    "            pass\n",
    "        else: \n",
    "            segment_audio(test.iloc[i], y_test.iloc[i], split='test/test_data', clf=CLF)\n",
    "            #print('{} segmented'.format(filename))\n",
    "\n",
    "print('Testing segementation complete')"
   ]
  },
  {
   "cell_type": "code",
   "execution_count": 70,
   "metadata": {},
   "outputs": [],
   "source": [
    "# Generate a list training filenames + segment index to input to add_noise() function\n",
    "train_dict = {}\n",
    "val_dict = {}\n",
    "\n",
    "for lang in all_lang_list:\n",
    "    train_dict[lang] = [x.split('o.wav')[0] \n",
    "                        for x in os.listdir('{}/{}'.format(L_TRAIN_DIR, lang)) \n",
    "                        if x.endswith('o.wav')]\n",
    "    val_dict[lang] = [x.split('o.wav')[0] \n",
    "                      for x in os.listdir('{}/{}'.format(L_VAL_DIR, lang))\n",
    "                      if x.endswith('o.wav')]"
   ]
  },
  {
   "cell_type": "code",
   "execution_count": 71,
   "metadata": {},
   "outputs": [],
   "source": [
    "# Check if training data has been augmented with noise. If not, add noise to each segment.\n",
    "for key, val in train_dict.items():\n",
    "    noise_train_list = os.listdir('{}/{}'.format(L_TRAIN_DIR, key))\n",
    "    for i in range(len(val)):\n",
    "        filename = val[i]\n",
    "        if any((file.startswith(filename)& file.endswith('n.wav')) for file in noise_train_list):\n",
    "            pass\n",
    "        else: \n",
    "            noisy_data(val[i], split='train/{}'.format(key), clf=CLF)"
   ]
  },
  {
   "cell_type": "code",
   "execution_count": 72,
   "metadata": {},
   "outputs": [],
   "source": [
    "# Check if validation data has been augmented with noise. If not, add noise to each segment.\n",
    "for key, val in val_dict.items():\n",
    "    noise_val_list = os.listdir('{}/{}'.format(L_VAL_DIR, key))\n",
    "    for i in range(len(val)):\n",
    "        filename = val[i]\n",
    "        if any((file.startswith(filename)& file.endswith('n.wav')) for file in noise_val_list):\n",
    "            pass\n",
    "        else: \n",
    "            noisy_data(val[i], split='validation/{}'.format(key), clf=CLF)"
   ]
  },
  {
   "cell_type": "markdown",
   "metadata": {},
   "source": [
    "# Summary of speakers and samples\n",
    "The speakers were divided into training and testing sets before the audio files were segemented. I expect that the proportion of speakers per class will be similar to the proportion of samples per class, but I should check that.\n",
    "\n",
    "I would like to know the number of speakers per class and number of samples per class for each of the training, validation and testing datasets."
   ]
  },
  {
   "cell_type": "code",
   "execution_count": 73,
   "metadata": {},
   "outputs": [],
   "source": [
    "# Number of speakers per language in the datasets\n",
    "n_train_speakers = {}\n",
    "n_val_speakers = {}\n",
    "n_test_speakers = {}\n",
    "\n",
    "# Add English speaker counts\n",
    "n_train_speakers['english'] = eng_train_names.shape[0]\n",
    "n_val_speakers['english'] = eng_val_names.shape[0]\n",
    "n_test_speakers['english'] = eng_test_names.shape[0]\n",
    "\n",
    "for lang, train, val, test in zip(lang_list, train_list, val_list, test_list):\n",
    "    n_train_speakers[lang] = train.shape[0]\n",
    "    n_val_speakers[lang] = val.shape[0]\n",
    "    n_test_speakers[lang] = test.shape[0]"
   ]
  },
  {
   "cell_type": "code",
   "execution_count": 74,
   "metadata": {},
   "outputs": [],
   "source": [
    "languages = os.listdir(L_TRAIN_DIR)\n",
    "languages.remove('.DS_Store')\n",
    "\n",
    "train_seg_dict = {}\n",
    "val_seg_dict = {}\n",
    "for lang in all_lang_list:\n",
    "    train_seg_dict[lang] = len([ x for x \n",
    "                                in os.listdir('{}/{}'.format(L_TRAIN_DIR, lang))\n",
    "                                if x.endswith('.wav')])\n",
    "    val_seg_dict[lang] = len([ x for x \n",
    "                              in os.listdir('{}/{}'.format(L_VAL_DIR, lang))\n",
    "                              if x.endswith('.wav')])"
   ]
  },
  {
   "cell_type": "code",
   "execution_count": 75,
   "metadata": {},
   "outputs": [],
   "source": [
    "test_seg_dict={}\n",
    "for file in os.listdir('{}/test_data'.format(L_TEST_DIR)):\n",
    "    lang = file.split('.')[0].rstrip('0123456789')\n",
    "    if lang in test_seg_dict.keys():\n",
    "        test_seg_dict[lang] += 1\n",
    "    else: test_seg_dict[lang] = 1"
   ]
  },
  {
   "cell_type": "code",
   "execution_count": 76,
   "metadata": {},
   "outputs": [],
   "source": [
    "lang_seg_dict = {\"Train\": train_seg_dict, \"Val\": val_seg_dict, \"Test\":test_seg_dict}\n",
    "\n",
    "lang_seg = pd.DataFrame(lang_seg_dict)\n",
    "lang_seg.sort_values(by='Train', inplace=True, ascending=False)"
   ]
  },
  {
   "cell_type": "code",
   "execution_count": 77,
   "metadata": {},
   "outputs": [
    {
     "data": {
      "image/png": "[encoded data removed]",
      "text/plain": [
       "<Figure size 432x288 with 1 Axes>"
      ]
     },
     "metadata": {
      "needs_background": "light"
     },
     "output_type": "display_data"
    }
   ],
   "source": [
    "lang_seg.plot.bar()\n",
    "plt.title('Number of Segments per Language by Data split')\n",
    "plt.xticks(rotation=45)\n",
    "plt.ylabel('Count')\n",
    "plt.xlabel('Language')\n",
    "plt.tight_layout()\n",
    "#plt.savefig('Lang.SpeakerDatasetbyLang.png')"
   ]
  },
  {
   "cell_type": "code",
   "execution_count": 78,
   "metadata": {},
   "outputs": [],
   "source": [
    "lang_seg_melt = pd.melt(lang_seg.reset_index(), id_vars=['index'], \n",
    "                    value_vars=['Train', 'Val', 'Test'],\n",
    "                   var_name='dataset', value_name='n_seg')"
   ]
  },
  {
   "cell_type": "code",
   "execution_count": 79,
   "metadata": {},
   "outputs": [],
   "source": [
    "lang_sp_dict = {\"Train\": n_train_speakers, \"Val\": n_val_speakers, \"Test\": n_test_speakers}\n",
    "\n",
    "lang_sp = pd.DataFrame(lang_sp_dict)\n",
    "lang_sp.sort_values(by='Train', inplace=True, ascending=False)"
   ]
  },
  {
   "cell_type": "code",
   "execution_count": 80,
   "metadata": {},
   "outputs": [
    {
     "data": {
      "image/png": "[encoded data removed]",
      "text/plain": [
       "<Figure size 432x288 with 1 Axes>"
      ]
     },
     "metadata": {
      "needs_background": "light"
     },
     "output_type": "display_data"
    }
   ],
   "source": [
    "lang_sp.plot.bar()\n",
    "plt.title('Number of Speakers per Language by Data split')\n",
    "plt.xticks(rotation=45)\n",
    "plt.ylabel('Count')\n",
    "plt.xlabel('Language')\n",
    "plt.tight_layout()\n",
    "#plt.savefig('Lang.SpeakerDatasetbyLang.png')"
   ]
  },
  {
   "cell_type": "code",
   "execution_count": 81,
   "metadata": {},
   "outputs": [],
   "source": [
    "lang_sp_melt = pd.melt(lang_sp.reset_index(), id_vars=['index'], \n",
    "                    value_vars=['Train', 'Val', 'Test'],\n",
    "                   var_name='dataset', value_name='n_sp')"
   ]
  },
  {
   "cell_type": "code",
   "execution_count": 82,
   "metadata": {},
   "outputs": [
    {
     "data": {
      "text/html": [
       "<div>\n",
       "<style scoped>\n",
       "    .dataframe tbody tr th:only-of-type {\n",
       "        vertical-align: middle;\n",
       "    }\n",
       "\n",
       "    .dataframe tbody tr th {\n",
       "        vertical-align: top;\n",
       "    }\n",
       "\n",
       "    .dataframe thead th {\n",
       "        text-align: right;\n",
       "    }\n",
       "</style>\n",
       "<table border=\"1\" class=\"dataframe\">\n",
       "  <thead>\n",
       "    <tr style=\"text-align: right;\">\n",
       "      <th></th>\n",
       "      <th>index</th>\n",
       "      <th>dataset</th>\n",
       "      <th>n_seg</th>\n",
       "      <th>n_sp</th>\n",
       "    </tr>\n",
       "  </thead>\n",
       "  <tbody>\n",
       "    <tr>\n",
       "      <th>0</th>\n",
       "      <td>arabic</td>\n",
       "      <td>Train</td>\n",
       "      <td>234</td>\n",
       "      <td>42</td>\n",
       "    </tr>\n",
       "    <tr>\n",
       "      <th>1</th>\n",
       "      <td>spanish</td>\n",
       "      <td>Train</td>\n",
       "      <td>200</td>\n",
       "      <td>42</td>\n",
       "    </tr>\n",
       "    <tr>\n",
       "      <th>2</th>\n",
       "      <td>mandarin</td>\n",
       "      <td>Train</td>\n",
       "      <td>186</td>\n",
       "      <td>36</td>\n",
       "    </tr>\n",
       "    <tr>\n",
       "      <th>3</th>\n",
       "      <td>french</td>\n",
       "      <td>Train</td>\n",
       "      <td>160</td>\n",
       "      <td>35</td>\n",
       "    </tr>\n",
       "    <tr>\n",
       "      <th>4</th>\n",
       "      <td>korean</td>\n",
       "      <td>Train</td>\n",
       "      <td>158</td>\n",
       "      <td>29</td>\n",
       "    </tr>\n",
       "  </tbody>\n",
       "</table>\n",
       "</div>"
      ],
      "text/plain": [
       "      index dataset  n_seg  n_sp\n",
       "0    arabic   Train    234    42\n",
       "1   spanish   Train    200    42\n",
       "2  mandarin   Train    186    36\n",
       "3    french   Train    160    35\n",
       "4    korean   Train    158    29"
      ]
     },
     "execution_count": 82,
     "metadata": {},
     "output_type": "execute_result"
    }
   ],
   "source": [
    "lang_split = pd.merge(lang_seg_melt,lang_sp_melt, how='outer', on=['index', 'dataset'])\n",
    "lang_split.head()"
   ]
  },
  {
   "cell_type": "code",
   "execution_count": 83,
   "metadata": {},
   "outputs": [],
   "source": [
    "lang_split.to_csv('{}data/lang10/data_split_summary.csv'.format(root_dir))"
   ]
  },
  {
   "cell_type": "markdown",
   "metadata": {},
   "source": [
    "# Comments\n",
    "At this point, all of the audio files have been split into training, validation and testing sets. All of the audio files have been segmented into 10s segments and noise has been added to the training and validation sets.\n",
    "\n",
    "The next notebooks (3_ktr_GenderModels, 4_ktr_LanguageModels) will format the data into tensorflow datasets, and build and train classifier models."
   ]
  },
  {
   "cell_type": "code",
   "execution_count": null,
   "metadata": {},
   "outputs": [],
   "source": []
  }
 ],
 "metadata": {
  "kernelspec": {
   "display_name": "Python 3",
   "language": "python",
   "name": "python3"
  },
  "language_info": {
   "codemirror_mode": {
    "name": "ipython",
    "version": 3
   },
   "file_extension": ".py",
   "mimetype": "text/x-python",
   "name": "python",
   "nbconvert_exporter": "python",
   "pygments_lexer": "ipython3",
   "version": "3.7.7"
  }
 },
 "nbformat": 4,
 "nbformat_minor": 4
}
