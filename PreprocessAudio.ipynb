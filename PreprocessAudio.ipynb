{
  "nbformat": 4,
  "nbformat_minor": 0,
  "metadata": {
    "colab": {
      "name": "PreprocessAudio.ipynb",
      "provenance": [],
      "collapsed_sections": [],
      "authorship_tag": "ABX9TyMHBjEjzT6Tdizsz0aYlgUe",
      "include_colab_link": true
    },
    "kernelspec": {
      "name": "python3",
      "display_name": "Python 3"
    }
  },
  "cells": [
    {
      "cell_type": "markdown",
      "metadata": {
        "id": "view-in-github",
        "colab_type": "text"
      },
      "source": [
        "<a href=\"https://colab.research.google.com/github/kregier/AudioLanguageClassifer/blob/main/PreprocessAudio.ipynb\" target=\"_parent\"><img src=\"https://colab.research.google.com/assets/colab-badge.svg\" alt=\"Open In Colab\"/></a>"
      ]
    },
    {
      "cell_type": "code",
      "metadata": {
        "colab": {
          "base_uri": "https://localhost:8080/"
        },
        "id": "Cy5nbC1AJWce",
        "outputId": "a9c714b4-1587-49e2-806b-317c6b5ef65b"
      },
      "source": [
        "# Set up the environment\n",
        "!pip install soundfile\n",
        "\n",
        "import pandas as pd\n",
        "import numpy as np\n",
        "import matplotlib.pylab as plt\n",
        "import seaborn as sns\n",
        "import IPython.display as ipd\n",
        "import librosa\n",
        "import librosa.display\n",
        "import soundfile as sf\n",
        "\n",
        "import os\n",
        "import random\n",
        "import re\n",
        "\n",
        "import tensorflow as tf\n",
        "import tensorflow_hub as hub\n",
        "import tensorflow_datasets as tfds\n",
        "\n",
        "from keras.layers import Dense\n",
        "from keras.models import Sequential\n",
        "\n",
        "from sklearn.metrics import classification_report, confusion_matrix\n",
        "from sklearn.model_selection import train_test_split\n",
        "\n",
        "print(\"All set up!\")"
      ],
      "execution_count": 96,
      "outputs": [
        {
          "output_type": "stream",
          "text": [
            "Requirement already satisfied: soundfile in /usr/local/lib/python3.6/dist-packages (0.10.3.post1)\n",
            "Requirement already satisfied: cffi>=1.0 in /usr/local/lib/python3.6/dist-packages (from soundfile) (1.14.3)\n",
            "Requirement already satisfied: pycparser in /usr/local/lib/python3.6/dist-packages (from cffi>=1.0->soundfile) (2.20)\n",
            "All set up!\n"
          ],
          "name": "stdout"
        }
      ]
    },
    {
      "cell_type": "code",
      "metadata": {
        "colab": {
          "base_uri": "https://localhost:8080/"
        },
        "id": "5IyCNEILJcdp",
        "outputId": "fc3499ad-f1f2-45ef-cfdc-f4a39e3c69ce"
      },
      "source": [
        "# Set up the data import using Google Drive\n",
        "from google.colab import drive\n",
        "drive.mount('/content/gdrive')"
      ],
      "execution_count": 97,
      "outputs": [
        {
          "output_type": "stream",
          "text": [
            "Drive already mounted at /content/gdrive; to attempt to forcibly remount, call drive.mount(\"/content/gdrive\", force_remount=True).\n"
          ],
          "name": "stdout"
        }
      ]
    },
    {
      "cell_type": "code",
      "metadata": {
        "colab": {
          "base_uri": "https://localhost:8080/"
        },
        "id": "8wJpvvK3JfWt",
        "outputId": "fb8c36e3-f514-4f32-ef6f-862d219f0c45"
      },
      "source": [
        "os.environ['KAGGLE_CONFIG_DIR'] = \"/content/gdrive/My Drive/Kaggle\"\n",
        "\n",
        "# Change working directory\n",
        "%cd /content/gdrive/My Drive/Kaggle\n",
        "!ls"
      ],
      "execution_count": 98,
      "outputs": [
        {
          "output_type": "stream",
          "text": [
            "/content/gdrive/My Drive/Kaggle\n",
            "data  kaggle.json  reading-passage.txt\trecordings  speakers_all.csv\n"
          ],
          "name": "stdout"
        }
      ]
    },
    {
      "cell_type": "code",
      "metadata": {
        "colab": {
          "base_uri": "https://localhost:8080/",
          "height": 340
        },
        "id": "AvcxLAB7JvVK",
        "outputId": "ba6b3b2a-73a0-46d2-f726-9dbfdbd3a987"
      },
      "source": [
        "meta = pd.read_csv('speakers_all.csv')\n",
        "# Prepare the data based on previous exploration\n",
        "# Drop 3 end columns with NaN values\n",
        "meta.drop(['Unnamed: 9', 'Unnamed: 10', 'Unnamed: 11'], axis=1, inplace=True)\n",
        "\n",
        "# Set speakerid as index\n",
        "meta.set_index('speakerid', inplace=True)\n",
        "meta.sort_index(inplace=True)\n",
        "\n",
        "# Replace missing values and typos\n",
        "meta.loc[meta.country.isnull(), 'country'] = 'laos'\n",
        "type_idx = meta[meta.sex =='famale'].index\n",
        "meta.loc[type_idx, 'sex'] = 'female'\n",
        "\n",
        "# Delete records with missing audio files\n",
        "missingIdx = meta[meta['file_missing?']==True].index\n",
        "meta.drop(missingIdx, inplace=True )\n",
        "\n",
        "# Delete records with no birthplace - synthesized files\n",
        "meta.dropna(subset=['birthplace'], inplace=True)\n",
        "\n",
        "# Delete files not present in audiofiles database\n",
        "nica_index = meta[meta.filename == 'nicaragua'].index\n",
        "sinhalese_index = meta[meta.filename=='sinhalese1'].index\n",
        "meta.drop(nica_index, inplace=True, axis=0)\n",
        "meta.drop(sinhalese_index, inplace=True, axis=0)\n",
        "\n",
        "meta.head()"
      ],
      "execution_count": 99,
      "outputs": [
        {
          "output_type": "execute_result",
          "data": {
            "text/html": [
              "<div>\n",
              "<style scoped>\n",
              "    .dataframe tbody tr th:only-of-type {\n",
              "        vertical-align: middle;\n",
              "    }\n",
              "\n",
              "    .dataframe tbody tr th {\n",
              "        vertical-align: top;\n",
              "    }\n",
              "\n",
              "    .dataframe thead th {\n",
              "        text-align: right;\n",
              "    }\n",
              "</style>\n",
              "<table border=\"1\" class=\"dataframe\">\n",
              "  <thead>\n",
              "    <tr style=\"text-align: right;\">\n",
              "      <th></th>\n",
              "      <th>age</th>\n",
              "      <th>age_onset</th>\n",
              "      <th>birthplace</th>\n",
              "      <th>filename</th>\n",
              "      <th>native_language</th>\n",
              "      <th>sex</th>\n",
              "      <th>country</th>\n",
              "      <th>file_missing?</th>\n",
              "    </tr>\n",
              "    <tr>\n",
              "      <th>speakerid</th>\n",
              "      <th></th>\n",
              "      <th></th>\n",
              "      <th></th>\n",
              "      <th></th>\n",
              "      <th></th>\n",
              "      <th></th>\n",
              "      <th></th>\n",
              "      <th></th>\n",
              "    </tr>\n",
              "  </thead>\n",
              "  <tbody>\n",
              "    <tr>\n",
              "      <th>1</th>\n",
              "      <td>27.0</td>\n",
              "      <td>9.0</td>\n",
              "      <td>virginia, south africa</td>\n",
              "      <td>afrikaans1</td>\n",
              "      <td>afrikaans</td>\n",
              "      <td>female</td>\n",
              "      <td>south africa</td>\n",
              "      <td>False</td>\n",
              "    </tr>\n",
              "    <tr>\n",
              "      <th>2</th>\n",
              "      <td>40.0</td>\n",
              "      <td>5.0</td>\n",
              "      <td>pretoria, south africa</td>\n",
              "      <td>afrikaans2</td>\n",
              "      <td>afrikaans</td>\n",
              "      <td>male</td>\n",
              "      <td>south africa</td>\n",
              "      <td>False</td>\n",
              "    </tr>\n",
              "    <tr>\n",
              "      <th>3</th>\n",
              "      <td>25.0</td>\n",
              "      <td>15.0</td>\n",
              "      <td>diekabo, ivory coast</td>\n",
              "      <td>agni1</td>\n",
              "      <td>agni</td>\n",
              "      <td>male</td>\n",
              "      <td>ivory coast</td>\n",
              "      <td>False</td>\n",
              "    </tr>\n",
              "    <tr>\n",
              "      <th>4</th>\n",
              "      <td>19.0</td>\n",
              "      <td>6.0</td>\n",
              "      <td>prishtina, kosovo</td>\n",
              "      <td>albanian1</td>\n",
              "      <td>albanian</td>\n",
              "      <td>male</td>\n",
              "      <td>kosovo</td>\n",
              "      <td>False</td>\n",
              "    </tr>\n",
              "    <tr>\n",
              "      <th>5</th>\n",
              "      <td>33.0</td>\n",
              "      <td>15.0</td>\n",
              "      <td>tirana, albania</td>\n",
              "      <td>albanian2</td>\n",
              "      <td>albanian</td>\n",
              "      <td>male</td>\n",
              "      <td>albania</td>\n",
              "      <td>False</td>\n",
              "    </tr>\n",
              "  </tbody>\n",
              "</table>\n",
              "</div>"
            ],
            "text/plain": [
              "            age  age_onset  ...       country file_missing?\n",
              "speakerid                   ...                            \n",
              "1          27.0        9.0  ...  south africa         False\n",
              "2          40.0        5.0  ...  south africa         False\n",
              "3          25.0       15.0  ...   ivory coast         False\n",
              "4          19.0        6.0  ...        kosovo         False\n",
              "5          33.0       15.0  ...       albania         False\n",
              "\n",
              "[5 rows x 8 columns]"
            ]
          },
          "metadata": {
            "tags": []
          },
          "execution_count": 99
        }
      ]
    },
    {
      "cell_type": "code",
      "metadata": {
        "id": "eZk66l_ZOP5a"
      },
      "source": [
        "# Set constants\n",
        "SAMP_RATE = 16000\n",
        "BATCH_SIZE = 6"
      ],
      "execution_count": 100,
      "outputs": []
    },
    {
      "cell_type": "code",
      "metadata": {
        "colab": {
          "base_uri": "https://localhost:8080/"
        },
        "id": "uxfdXrnVKxCY",
        "outputId": "22f2a839-b55a-4415-afbc-bc95603592b4"
      },
      "source": [
        "# Split data into training and testing sets for gender analysis\n",
        "data = meta[['sex', 'filename']]\n",
        "x_train_names, x_test_names, y_train, y_test = train_test_split(data['filename'], \n",
        "                                                                data['sex'], \n",
        "                                                                test_size=0.25, \n",
        "                                                                random_state=38, \n",
        "                                                                stratify=data['sex'])\n",
        "print(x_train_names.shape)"
      ],
      "execution_count": 101,
      "outputs": [
        {
          "output_type": "stream",
          "text": [
            "(1600,)\n"
          ],
          "name": "stdout"
        }
      ]
    },
    {
      "cell_type": "code",
      "metadata": {
        "colab": {
          "base_uri": "https://localhost:8080/"
        },
        "id": "_J2r1RxRKyur",
        "outputId": "4c15665d-5a3a-487a-dd6c-b93e3c97c2a4"
      },
      "source": [
        "print(x_test_names.shape)"
      ],
      "execution_count": 102,
      "outputs": [
        {
          "output_type": "stream",
          "text": [
            "(534,)\n"
          ],
          "name": "stdout"
        }
      ]
    },
    {
      "cell_type": "markdown",
      "metadata": {
        "id": "CbQeI97MG5x0"
      },
      "source": [
        "Since I can't hold all of the sound files and their augmentations (segmetation, noise addition and VGGish embedding) in memory, I going to write each segement and noise to file, so they can be loaded one by one. I can't figure out how to make this work with tf.Data, since all of the examples use data that is available through TF."
      ]
    },
    {
      "cell_type": "code",
      "metadata": {
        "id": "uUs-hu5YLA5G"
      },
      "source": [
        "# Scale audio to fall between [-1, 1]\n",
        "def normalize(audio):\n",
        "  norm = audio/max(audio)\n",
        "  return norm"
      ],
      "execution_count": 103,
      "outputs": []
    },
    {
      "cell_type": "code",
      "metadata": {
        "id": "h3GVMXSzKV9M"
      },
      "source": [
        "def segment_10s(audio, sr):\n",
        "  \"\"\" Load an audio file and divide into 10 second segments.\n",
        "  Arguments: audio - the audio file; sr = sampling rate of the file\n",
        "  Returns: a dictionary of the audio segments. Key is the index of segment, value is the segment.\n",
        "  \"\"\"\n",
        "  seg_files ={}\n",
        "  n_seg = int((len(audio)/sr)/10)\n",
        "  for i in range(n_seg):\n",
        "    segment = audio[10*i*sr:(i+1)*10*sr]\n",
        "    seg_files[i] = segment\n",
        "  return seg_files"
      ],
      "execution_count": 104,
      "outputs": []
    },
    {
      "cell_type": "markdown",
      "metadata": {
        "id": "RTmX_m9xHYRT"
      },
      "source": [
        "1. Read each audio file in x_train or x_test\n",
        "2. Segment the audio file into 10s segments\n",
        "3. Save each segment to file by appending segment index to filename."
      ]
    },
    {
      "cell_type": "code",
      "metadata": {
        "id": "-PhrD6U0IMa0"
      },
      "source": [
        "def segment_data(x_names, y_names, split='train', clf='gender'):\n",
        "  seg_names = []\n",
        "\n",
        "  for i in range(len(x_names)): #df = x_train_names, x_test_names\n",
        "    filename = x_names.iloc[i]\n",
        "    filepath = 'recordings/recordings/' + filename + '.mp3'\n",
        "    audio, sr = librosa.load(filepath, sr=16000)\n",
        "    audio = normalize(audio)\n",
        "\n",
        "    # Add gender label to filename, for later processing\n",
        "    sex = y_names.iloc[i]\n",
        "    if sex == \"female\":\n",
        "      filename = '{}.F'.format(filename)\n",
        "    else: filename = '{}.M'.format(filename)\n",
        "\n",
        "    # Segment audio file\n",
        "    seg_files = segment_10s(audio, SAMP_RATE)\n",
        "    for key, val in seg_files.items():\n",
        "      new_name = '{}.{}'.format(filename, key)\n",
        "      sf.write('data/{}/{}/{}o.wav'.format(clf, split, new_name), val, SAMP_RATE)\n",
        "      seg_names.append(new_name)\n",
        "    # end filename\n",
        "  return seg_names"
      ],
      "execution_count": 105,
      "outputs": []
    },
    {
      "cell_type": "code",
      "metadata": {
        "colab": {
          "base_uri": "https://localhost:8080/"
        },
        "id": "XZxCJJjERReK",
        "outputId": "3a7c9f55-5206-4d34-aaf3-2da1bcef4388"
      },
      "source": [
        "x_train_seg = segment_data(x_train_names[:10], y_train, split='train', clf='gender')\n",
        "print(len(x_train_seg))"
      ],
      "execution_count": 106,
      "outputs": [
        {
          "output_type": "stream",
          "text": [
            "19\n"
          ],
          "name": "stdout"
        }
      ]
    },
    {
      "cell_type": "code",
      "metadata": {
        "colab": {
          "base_uri": "https://localhost:8080/"
        },
        "id": "v8TMxuNXRrmw",
        "outputId": "d258901a-beb2-4ce4-df06-7062ebf7f29d"
      },
      "source": [
        "x_test_seg = segment_data(x_test_names[:10], y_test, split='test', clf='gender')\n",
        "print(len(x_test_seg))"
      ],
      "execution_count": 107,
      "outputs": [
        {
          "output_type": "stream",
          "text": [
            "24\n"
          ],
          "name": "stdout"
        }
      ]
    },
    {
      "cell_type": "markdown",
      "metadata": {
        "id": "KJxRO0lLIgRm"
      },
      "source": [
        "Add noise\n",
        "1. Read each audio file (10s segments)\n",
        "2. Add random noise\n",
        "3. Save noisy segement to file by appending noise to filename"
      ]
    },
    {
      "cell_type": "code",
      "metadata": {
        "id": "mCT-10IdIuJW"
      },
      "source": [
        "def add_noise(audio):\n",
        "    '''\n",
        "    Add random noise to an audio file.\n",
        "    Arguments: audio - the audio file\n",
        "    Returns: the noisy audio file\n",
        "    ''' \n",
        "    # Load random number generator\n",
        "    rng = np.random.default_rng()\n",
        "    # Generate random noise\n",
        "    noise = rng.standard_normal(len(audio))\n",
        "    # Add noise to file\n",
        "    noisy_seg = audio + 0.005*noise\n",
        "\n",
        "    return noisy_seg"
      ],
      "execution_count": 108,
      "outputs": []
    },
    {
      "cell_type": "code",
      "metadata": {
        "id": "MdSiGpinR1Qe"
      },
      "source": [
        "def noisy_data(x_names, split='train', clf='gender'):\n",
        "  for i in range(len(x_names)): #list of seg_names\n",
        "    filename = x_names[i]\n",
        "    filepath = 'data/{}/{}/{}o.wav'.format(clf, split, filename)\n",
        "    audio, sr = librosa.load(filepath, sr=16000)\n",
        " #   audio = normalize(audio) #Already done when originally segmented\n",
        "    # Add noise\n",
        "    noisy = add_noise(audio)\n",
        "    # Write noise to file\n",
        "    sf.write('data/{}/{}/{}n.wav'.format(clf, split, filename), noisy, SAMP_RATE)\n",
        "    print(\"Noise added to {}\".format(x_names[i]))"
      ],
      "execution_count": 109,
      "outputs": []
    },
    {
      "cell_type": "code",
      "metadata": {
        "colab": {
          "base_uri": "https://localhost:8080/"
        },
        "id": "DcH0tkBDkNHP",
        "outputId": "99d924b7-c7a8-42d9-f991-b9cd77dd6f75"
      },
      "source": [
        "# Generate noisy samples\n",
        "noisy_data(x_train_seg[:15], split='train', clf='gender')"
      ],
      "execution_count": 110,
      "outputs": [
        {
          "output_type": "stream",
          "text": [
            "Noise added to english188.M.0\n",
            "Noise added to english188.M.1\n",
            "Noise added to english413.F.0\n",
            "Noise added to english413.F.1\n",
            "Noise added to italian28.M.0\n",
            "Noise added to italian28.M.1\n",
            "Noise added to xiang3.M.0\n",
            "Noise added to xiang3.M.1\n",
            "Noise added to xiang3.M.2\n",
            "Noise added to english529.F.0\n",
            "Noise added to french54.F.0\n",
            "Noise added to french54.F.1\n",
            "Noise added to english263.M.0\n",
            "Noise added to english263.M.1\n",
            "Noise added to swedish1.F.0\n"
          ],
          "name": "stdout"
        }
      ]
    },
    {
      "cell_type": "code",
      "metadata": {
        "id": "I7TaCs4WkfVC"
      },
      "source": [
        "# No need to add noise to test files!\n",
        "#noisy_data(x_test_seg[:10], split='test', clf='gender')"
      ],
      "execution_count": 111,
      "outputs": []
    },
    {
      "cell_type": "code",
      "metadata": {
        "colab": {
          "base_uri": "https://localhost:8080/"
        },
        "id": "WogZrOwRkhRz",
        "outputId": "2788b73a-d142-4507-8034-abd0ad3ece6e"
      },
      "source": [
        "!ls data/gender/train/"
      ],
      "execution_count": 112,
      "outputs": [
        {
          "output_type": "stream",
          "text": [
            "english188.M.0n.wav  english413.F.0n.wav  french54.F.1o.wav   swedish1.F.1o.wav\n",
            "english188.M.0o.wav  english413.F.0o.wav  italian28.M.0n.wav  xiang3.M.0n.wav\n",
            "english188.M.1n.wav  english413.F.1n.wav  italian28.M.0o.wav  xiang3.M.0o.wav\n",
            "english188.M.1o.wav  english413.F.1o.wav  italian28.M.1n.wav  xiang3.M.1n.wav\n",
            "english263.M.0n.wav  english529.F.0n.wav  italian28.M.1o.wav  xiang3.M.1o.wav\n",
            "english263.M.0o.wav  english529.F.0o.wav  serbian7.F.0o.wav   xiang3.M.2n.wav\n",
            "english263.M.1n.wav  french54.F.0n.wav\t  serbian7.F.1o.wav   xiang3.M.2o.wav\n",
            "english263.M.1o.wav  french54.F.0o.wav\t  swedish1.F.0n.wav\n",
            "english272.M.0o.wav  french54.F.1n.wav\t  swedish1.F.0o.wav\n"
          ],
          "name": "stdout"
        }
      ]
    },
    {
      "cell_type": "code",
      "metadata": {
        "colab": {
          "base_uri": "https://localhost:8080/"
        },
        "id": "V1FjJOw0kqG6",
        "outputId": "6b7ea468-47f6-4048-d82d-d3208cfdb186"
      },
      "source": [
        "!ls data/gender/test/"
      ],
      "execution_count": 113,
      "outputs": [
        {
          "output_type": "stream",
          "text": [
            "arabic48.M.0o.wav    english579.M.1o.wav  romanian5.F.1o.wav\n",
            "arabic48.M.1o.wav    estonian1.M.0o.wav   vietnamese15.M.0o.wav\n",
            "arabic48.M.2o.wav    estonian1.M.1o.wav   vietnamese15.M.1o.wav\n",
            "english122.F.0o.wav  filipino1.M.0o.wav   vietnamese15.M.2o.wav\n",
            "english122.F.1o.wav  japanese5.F.0o.wav   vietnamese15.M.3o.wav\n",
            "english143.M.0o.wav  japanese5.F.1o.wav   wolof6.M.0o.wav\n",
            "english143.M.1o.wav  japanese5.F.2o.wav   wolof6.M.1o.wav\n",
            "english579.M.0o.wav  romanian5.F.0o.wav   wolof6.M.2o.wav\n"
          ],
          "name": "stdout"
        }
      ]
    },
    {
      "cell_type": "markdown",
      "metadata": {
        "id": "YOATRYRKIc5Q"
      },
      "source": [
        "Convert to VGGish embedding\n",
        "1. Load VGGish model\n",
        "1. Read each audio file (10s segments with and without noise)\n",
        "1. Run through VGGish model\n",
        "1. Save embedding by appending _embed to filename"
      ]
    },
    {
      "cell_type": "code",
      "metadata": {
        "id": "rqw7s0amUV-U"
      },
      "source": [
        "# Using a SavedModel from the TFHub in Keras\n",
        "# https://www.tensorflow.org/hub/tf2_saved_model\n",
        "# VGGish model, from https://tfhub.dev/google/vggish/1\n",
        "\n",
        "# Link to the model on TFHub\n",
        "hub_url = 'https://tfhub.dev/google/vggish/1'\n",
        "\n",
        "# Load the model as a Keras model\n",
        "vggish_model = hub.KerasLayer(hub_url)\n",
        "vggish_model.trainable = False\n",
        "\n",
        "# Load the model as a tf.function\n",
        "vggish_fn = hub.load(hub_url)"
      ],
      "execution_count": 121,
      "outputs": []
    },
    {
      "cell_type": "code",
      "metadata": {
        "colab": {
          "base_uri": "https://localhost:8080/"
        },
        "id": "QBJeBKHoUdc7",
        "outputId": "363a8a55-844c-46a8-835f-9b4b8c71cc92"
      },
      "source": [
        "x_train_filenames = os.listdir('./data/gender/train')\n",
        "print(x_train_filenames)\n",
        "\n",
        "x_train_filepaths = ['./data/gender/train/{}'.format(i) for i in x_train_filenames]\n",
        "print(len(x_train_filepaths))"
      ],
      "execution_count": 115,
      "outputs": [
        {
          "output_type": "stream",
          "text": [
            "['english188.M.0o.wav', 'english188.M.1o.wav', 'english413.F.0o.wav', 'english413.F.1o.wav', 'italian28.M.0o.wav', 'italian28.M.1o.wav', 'xiang3.M.0o.wav', 'xiang3.M.1o.wav', 'xiang3.M.2o.wav', 'english529.F.0o.wav', 'french54.F.0o.wav', 'french54.F.1o.wav', 'english263.M.0o.wav', 'english263.M.1o.wav', 'swedish1.F.0o.wav', 'swedish1.F.1o.wav', 'english272.M.0o.wav', 'serbian7.F.0o.wav', 'serbian7.F.1o.wav', 'english188.M.0n.wav', 'english188.M.1n.wav', 'english413.F.0n.wav', 'english413.F.1n.wav', 'italian28.M.0n.wav', 'italian28.M.1n.wav', 'xiang3.M.0n.wav', 'xiang3.M.1n.wav', 'xiang3.M.2n.wav', 'english529.F.0n.wav', 'french54.F.0n.wav', 'french54.F.1n.wav', 'english263.M.0n.wav', 'english263.M.1n.wav', 'swedish1.F.0n.wav']\n",
            "34\n"
          ],
          "name": "stdout"
        }
      ]
    },
    {
      "cell_type": "code",
      "metadata": {
        "colab": {
          "base_uri": "https://localhost:8080/"
        },
        "id": "cLYAF9vcyAvk",
        "outputId": "f539c96d-8d5b-4a35-cd71-5fd1784b502f"
      },
      "source": [
        "x_test_filenames = os.listdir('./data/gender/test')\n",
        "print(x_test_filenames)\n",
        "\n",
        "x_test_filepaths = ['./data/gender/test/{}'.format(i) for i in x_test_filenames]\n",
        "print(len(x_train_filepaths))"
      ],
      "execution_count": 116,
      "outputs": [
        {
          "output_type": "stream",
          "text": [
            "['wolof6.M.0o.wav', 'wolof6.M.1o.wav', 'wolof6.M.2o.wav', 'estonian1.M.0o.wav', 'estonian1.M.1o.wav', 'romanian5.F.0o.wav', 'romanian5.F.1o.wav', 'english122.F.0o.wav', 'english122.F.1o.wav', 'vietnamese15.M.0o.wav', 'vietnamese15.M.1o.wav', 'vietnamese15.M.2o.wav', 'vietnamese15.M.3o.wav', 'arabic48.M.0o.wav', 'arabic48.M.1o.wav', 'arabic48.M.2o.wav', 'english579.M.0o.wav', 'english579.M.1o.wav', 'english143.M.0o.wav', 'english143.M.1o.wav', 'filipino1.M.0o.wav', 'japanese5.F.0o.wav', 'japanese5.F.1o.wav', 'japanese5.F.2o.wav']\n",
            "34\n"
          ],
          "name": "stdout"
        }
      ]
    },
    {
      "cell_type": "markdown",
      "metadata": {
        "id": "lpFjpxAX3YMU"
      },
      "source": [
        "# Define transformation function and dataset generator\n",
        "\n",
        "Adapted from https://biswajitsahoo1111.github.io/post/efficiently-reading-multiple-files-in-tensorflow-2/"
      ]
    },
    {
      "cell_type": "code",
      "metadata": {
        "id": "M-WwlXbp3j_0"
      },
      "source": [
        "def vggish_transform(audio):\n",
        "  return vggish_fn(audio)"
      ],
      "execution_count": 122,
      "outputs": []
    },
    {
      "cell_type": "code",
      "metadata": {
        "id": "FVfe-g1PW4Rt"
      },
      "source": [
        "# Write a generator to read data in chunks and process it\n",
        "# Generator yields both data and labels\n",
        "# Takes a list of filenames as first argument, batch_size as second argument\n",
        "\n",
        "#https://biswajitsahoo1111.github.io/post/efficiently-reading-multiple-files-in-tensorflow-2/\n",
        "\n",
        "def tf_data_generator(file_list, batch_size=32):\n",
        "  i = 0\n",
        "  while True: #infinite loop\n",
        "    if i*batch_size >= len(file_list):\n",
        "      i=0\n",
        "      np.random.shuffle(file_list)\n",
        "    else:\n",
        "      file_chunk = file_list[i*batch_size:(i+1)*batch_size]\n",
        "      data = []\n",
        "      labels = []\n",
        "      label_classes = tf.constant(['M', 'F'])\n",
        "      for file in file_chunk:\n",
        "        # Read data\n",
        "        audio, sr = librosa.load(file, sr=16000)\n",
        "        # Apply transformations\n",
        "        embed = vggish_model(audio)\n",
        "        data.append(embed)\n",
        "        #data.append(audio)\n",
        "        # Extract labels from filename\n",
        "        bytes_string = file\n",
        "        string_name = str(bytes_string, 'utf-8')\n",
        "        split_str = string_name.split('.')\n",
        "        pattern = tf.constant(split_str[2])\n",
        "        for j in range(len(label_classes)):\n",
        "          if re.match(pattern.numpy(), label_classes[j].numpy()):\n",
        "            labels.append(j)\n",
        "\n",
        "      data = np.asarray(data)\n",
        "      labels = np.asarray(labels)\n",
        "\n",
        "      # To be able t prefecth the data you can use the mpa function, \n",
        "      # but this doesn't work for VGGish, sincc VGGish only processes one file at a time\n",
        "      #first_dim = data.shape[0]\n",
        "      ## Create tensorflow dataset to use 'map' function for parallelization\n",
        "      #data_ds = tf.data.Dataset.from_tensor_slices(data)\n",
        "      #data_ds = data_ds.batch(batch_size = first_dim).map(vggish_transform,\n",
        "                                                         # num_parallel_calls = tf.data.experimental.AUTOTUNE)\n",
        "      # Convert dataset to generator and subsequently to np array\n",
        "      #data_ds = tfds.as_numpy(data_ds)\n",
        "      #data = np.array([data for data in data_ds]).reshape(first_dim, 10, 128)\n",
        "\n",
        "      yield data, labels\n",
        "      i += 1"
      ],
      "execution_count": 127,
      "outputs": []
    },
    {
      "cell_type": "code",
      "metadata": {
        "id": "OhzcoHwjjHsr"
      },
      "source": [
        "dataset_check = tf.data.Dataset.from_generator(tf_data_generator, \n",
        "                                         args = [x_train_filepaths[:12], BATCH_SIZE],\n",
        "                                         output_types=(tf.float32, tf.float32),\n",
        "                                         output_shapes= ((None, 10, 128),(None,)) )"
      ],
      "execution_count": 128,
      "outputs": []
    },
    {
      "cell_type": "code",
      "metadata": {
        "colab": {
          "base_uri": "https://localhost:8080/"
        },
        "id": "BQmW_OYYjkG9",
        "outputId": "1b18b9be-ab66-45d1-b9b4-49bd44f7a612"
      },
      "source": [
        "for data, labels in dataset_check.take(2):\n",
        "  print(data.shape)\n",
        "  print(labels)"
      ],
      "execution_count": 129,
      "outputs": [
        {
          "output_type": "stream",
          "text": [
            "(6, 10, 128)\n",
            "tf.Tensor([0. 0. 1. 1. 0. 0.], shape=(6,), dtype=float32)\n",
            "(6, 10, 128)\n",
            "tf.Tensor([0. 0. 0. 1. 1. 1.], shape=(6,), dtype=float32)\n"
          ],
          "name": "stdout"
        }
      ]
    },
    {
      "cell_type": "markdown",
      "metadata": {
        "id": "lWEXOQAav2kB"
      },
      "source": [
        "# Create pipeline and model"
      ]
    },
    {
      "cell_type": "code",
      "metadata": {
        "id": "36Pk8AuYv1G4"
      },
      "source": [
        "x_train, x_val = train_test_split(x_train_filepaths, test_size=.25, random_state=38)"
      ],
      "execution_count": 130,
      "outputs": []
    },
    {
      "cell_type": "code",
      "metadata": {
        "colab": {
          "base_uri": "https://localhost:8080/"
        },
        "id": "a2zXm1KIw1Jq",
        "outputId": "fac7e9ce-55ba-4e23-f6e9-6c6c178490ea"
      },
      "source": [
        "# Print sizes of data splits\n",
        "print(\"Number of training samples: \", len(x_train))\n",
        "print(\"Number of training samples: \", len(x_val))\n",
        "print(\"Number of training samples: \", len(x_test_seg))"
      ],
      "execution_count": 131,
      "outputs": [
        {
          "output_type": "stream",
          "text": [
            "Number of training samples:  25\n",
            "Number of training samples:  9\n",
            "Number of training samples:  24\n"
          ],
          "name": "stdout"
        }
      ]
    },
    {
      "cell_type": "code",
      "metadata": {
        "colab": {
          "base_uri": "https://localhost:8080/"
        },
        "id": "EuO150FTyPnp",
        "outputId": "f2ee70f0-e31d-4a14-b705-8eecce7c2d1e"
      },
      "source": [
        "print(BATCH_SIZE)"
      ],
      "execution_count": 132,
      "outputs": [
        {
          "output_type": "stream",
          "text": [
            "6\n"
          ],
          "name": "stdout"
        }
      ]
    },
    {
      "cell_type": "code",
      "metadata": {
        "id": "gVn4nKKoxkrf"
      },
      "source": [
        "train_dataset = tf.data.Dataset.from_generator(tf_data_generator, \n",
        "                                         args = [x_train, BATCH_SIZE],\n",
        "                                         output_types=(tf.float32, tf.float32),\n",
        "                                         output_shapes= ((None, 10, 128),(None,)) ) \n",
        "validation_dataset = tf.data.Dataset.from_generator(tf_data_generator, \n",
        "                                         args = [x_val, BATCH_SIZE],\n",
        "                                         output_types=(tf.float32, tf.float32),\n",
        "                                         output_shapes= ((None, 10, 128),(None,)) )\n",
        "test_dataset = tf.data.Dataset.from_generator(tf_data_generator, \n",
        "                                         args = [x_test_filepaths, BATCH_SIZE],\n",
        "                                         output_types=(tf.float32, tf.float32),\n",
        "                                         output_shapes= ((None, 10, 128),(None,)) ) "
      ],
      "execution_count": 134,
      "outputs": []
    },
    {
      "cell_type": "code",
      "metadata": {
        "colab": {
          "base_uri": "https://localhost:8080/"
        },
        "id": "XGIx7TvhFtO6",
        "outputId": "dc7a7f44-9a26-4bc8-9000-2161fe50ea86"
      },
      "source": [
        "# Check structure of datasets, with the goal of extracting the labels\n",
        "\n",
        "# Look at each type of element component\n",
        "test_dataset.element_spec"
      ],
      "execution_count": 142,
      "outputs": [
        {
          "output_type": "execute_result",
          "data": {
            "text/plain": [
              "(TensorSpec(shape=(None, 10, 128), dtype=tf.float32, name=None),\n",
              " TensorSpec(shape=(None,), dtype=tf.float32, name=None))"
            ]
          },
          "metadata": {
            "tags": []
          },
          "execution_count": 142
        }
      ]
    },
    {
      "cell_type": "code",
      "metadata": {
        "colab": {
          "base_uri": "https://localhost:8080/"
        },
        "id": "DX4ouOufFf3_",
        "outputId": "5a6afa38-30ed-4f39-cbf3-a8e0f51ddc9b"
      },
      "source": [
        "y_test_labels = []\n",
        "for data, labels in test_dataset.take(eval_steps):\n",
        "  y_test_labels.append(labels.numpy())\n",
        "\n",
        "print(type(y_test_labels))\n",
        "print(len(y_test_labels))\n",
        "print(y_test_labels)"
      ],
      "execution_count": 147,
      "outputs": [
        {
          "output_type": "stream",
          "text": [
            "<class 'list'>\n",
            "4\n"
          ],
          "name": "stdout"
        }
      ]
    },
    {
      "cell_type": "code",
      "metadata": {
        "id": "2kryXvX26e9d"
      },
      "source": [
        "#I don't think this will work, since I can't get VGGish to fuction on multiple files at a time\n",
        "# Prefetch datasets = prepare next batch with CPU while GPU trains on previous batch\n",
        "#train_dataset = train_dataset.prefetch(buffer_size = tf.data.experimental.AUTOTUNE)\n",
        "#validation_dataset = validation_dataset.prefetch(buffer_size = tf.data.experimental.AUTOTUNE)"
      ],
      "execution_count": null,
      "outputs": []
    },
    {
      "cell_type": "markdown",
      "metadata": {
        "id": "mxkrPsFeyqoG"
      },
      "source": [
        "# Build and compile the model\n",
        "Copy from other notebooks"
      ]
    },
    {
      "cell_type": "code",
      "metadata": {
        "id": "zWNVZkSI8F0_"
      },
      "source": [
        "genderClf = tf.keras.models.Sequential([tf.keras.layers.Dense(128, activation = 'relu'),\n",
        "                              tf.keras.layers.Dense(64, activation = 'relu'),\n",
        "                              tf.keras.layers.Dense(1, activation='sigmoid'),\n",
        "                              tf.keras.layers.AveragePooling1D(pool_size=10, strides=None, padding=\"valid\", data_format=\"channels_last\")\n",
        "                              ])\n",
        "genderClf.compile(optimizer='adam', loss='binary_crossentropy',  metrics=['accuracy'])"
      ],
      "execution_count": 135,
      "outputs": []
    },
    {
      "cell_type": "code",
      "metadata": {
        "id": "GIcjLruK8H_V"
      },
      "source": [
        "# Add early stopping to train classifier model; default is 10 epochs\n",
        "from tensorflow.keras.callbacks import EarlyStopping\n",
        "early_stopping_monitor = EarlyStopping(patience=2)"
      ],
      "execution_count": 136,
      "outputs": []
    },
    {
      "cell_type": "markdown",
      "metadata": {
        "id": "u1xgA1Vjyyku"
      },
      "source": [
        "*Important* before fitting model, specify number of epochs and steps to fit, since generators are infinite loops.\n"
      ]
    },
    {
      "cell_type": "code",
      "metadata": {
        "colab": {
          "base_uri": "https://localhost:8080/"
        },
        "id": "WAoyS3n1zmW0",
        "outputId": "a5e05d2b-c5a1-44a8-8490-95a06a302760"
      },
      "source": [
        "# Calculate how many dataset batches to generate, since generator is infinite\n",
        "steps_per_epoch = np.int(np.ceil(len(x_train)/BATCH_SIZE))\n",
        "val_steps = np.int(np.ceil(len(x_val)/BATCH_SIZE))\n",
        "eval_steps = np.int(np.ceil(len(x_test_filepaths)/BATCH_SIZE))\n",
        "\n",
        "print(\"steps_per_epoch = \", steps_per_epoch)\n",
        "print(\"validation_steps = \", val_steps)\n",
        "print(\"steps = \", eval_steps)"
      ],
      "execution_count": 137,
      "outputs": [
        {
          "output_type": "stream",
          "text": [
            "steps_per_epoch =  5\n",
            "validation_steps =  2\n",
            "steps =  4\n"
          ],
          "name": "stdout"
        }
      ]
    },
    {
      "cell_type": "code",
      "metadata": {
        "colab": {
          "base_uri": "https://localhost:8080/"
        },
        "id": "GIW93ghK0oS5",
        "outputId": "12b2095d-9044-4015-9b07-db6e02fd67ec"
      },
      "source": [
        "#model.fit(train_dataset, validation_data = validation_dataset, steps_per_epoch = steps_per_epoch,\n",
        "#         validation_steps = val_steps, epochs = 5)\n",
        "\n",
        "history = genderClf.fit(train_dataset,\n",
        "                        steps_per_epoch=steps_per_epoch,\n",
        "                        epochs=20,\n",
        "                        validation_data=validation_dataset,\n",
        "                        validation_steps = val_steps,\n",
        "                        callbacks=[early_stopping_monitor], \n",
        "                        batch_size=BATCH_SIZE)"
      ],
      "execution_count": 138,
      "outputs": [
        {
          "output_type": "stream",
          "text": [
            "Epoch 1/20\n",
            "5/5 [==============================] - 19s 4s/step - loss: 0.6477 - accuracy: 0.5600 - val_loss: 0.5750 - val_accuracy: 0.6667\n",
            "Epoch 2/20\n",
            "5/5 [==============================] - 19s 4s/step - loss: 0.4413 - accuracy: 1.0000 - val_loss: 0.3950 - val_accuracy: 1.0000\n",
            "Epoch 3/20\n",
            "5/5 [==============================] - 19s 4s/step - loss: 0.3003 - accuracy: 1.0000 - val_loss: 0.3134 - val_accuracy: 1.0000\n",
            "Epoch 4/20\n",
            "5/5 [==============================] - 19s 4s/step - loss: 0.2056 - accuracy: 1.0000 - val_loss: 0.2710 - val_accuracy: 1.0000\n",
            "Epoch 5/20\n",
            "5/5 [==============================] - 19s 4s/step - loss: 0.1454 - accuracy: 1.0000 - val_loss: 0.1852 - val_accuracy: 1.0000\n",
            "Epoch 6/20\n",
            "5/5 [==============================] - 22s 4s/step - loss: 0.0936 - accuracy: 1.0000 - val_loss: 0.1207 - val_accuracy: 1.0000\n",
            "Epoch 7/20\n",
            "5/5 [==============================] - 19s 4s/step - loss: 0.0691 - accuracy: 1.0000 - val_loss: 0.0884 - val_accuracy: 1.0000\n",
            "Epoch 8/20\n",
            "5/5 [==============================] - 19s 4s/step - loss: 0.0554 - accuracy: 1.0000 - val_loss: 0.0780 - val_accuracy: 1.0000\n",
            "Epoch 9/20\n",
            "5/5 [==============================] - 19s 4s/step - loss: 0.0448 - accuracy: 1.0000 - val_loss: 0.0721 - val_accuracy: 1.0000\n",
            "Epoch 10/20\n",
            "5/5 [==============================] - 19s 4s/step - loss: 0.0389 - accuracy: 1.0000 - val_loss: 0.0655 - val_accuracy: 1.0000\n",
            "Epoch 11/20\n",
            "5/5 [==============================] - 19s 4s/step - loss: 0.0344 - accuracy: 1.0000 - val_loss: 0.0520 - val_accuracy: 1.0000\n",
            "Epoch 12/20\n",
            "5/5 [==============================] - 19s 4s/step - loss: 0.0319 - accuracy: 1.0000 - val_loss: 0.0430 - val_accuracy: 1.0000\n",
            "Epoch 13/20\n",
            "5/5 [==============================] - 19s 4s/step - loss: 0.0292 - accuracy: 1.0000 - val_loss: 0.0390 - val_accuracy: 1.0000\n",
            "Epoch 14/20\n",
            "5/5 [==============================] - 19s 4s/step - loss: 0.0255 - accuracy: 1.0000 - val_loss: 0.0438 - val_accuracy: 1.0000\n",
            "Epoch 15/20\n",
            "5/5 [==============================] - 19s 4s/step - loss: 0.0230 - accuracy: 1.0000 - val_loss: 0.0518 - val_accuracy: 1.0000\n"
          ],
          "name": "stdout"
        }
      ]
    },
    {
      "cell_type": "code",
      "metadata": {
        "colab": {
          "base_uri": "https://localhost:8080/"
        },
        "id": "JymMio95636G",
        "outputId": "9133a243-c53c-46b1-fab0-af0b11d9eeae"
      },
      "source": [
        "# Evaluate model?\n",
        "test_loss, test_acc = genderClf.evaluate(test_dataset, steps=eval_steps)\n",
        "#print(test_loss)\n",
        "#print(test_acc)"
      ],
      "execution_count": 141,
      "outputs": [
        {
          "output_type": "stream",
          "text": [
            "4/4 [==============================] - 12s 3s/step - loss: 0.0813 - accuracy: 1.0000\n"
          ],
          "name": "stdout"
        }
      ]
    },
    {
      "cell_type": "code",
      "metadata": {
        "id": "izdCh1mt7cMI"
      },
      "source": [
        "# Making predictions\n",
        "y_pred = genderClf.predict(test_dataset, steps=eval_steps)"
      ],
      "execution_count": 149,
      "outputs": []
    },
    {
      "cell_type": "code",
      "metadata": {
        "colab": {
          "base_uri": "https://localhost:8080/",
          "height": 232
        },
        "id": "rn5YwvTHK_42",
        "outputId": "dce1d24a-e62e-4c08-f2a1-4e739893b7da"
      },
      "source": [
        "print(y_pred.shape)\n",
        "y_pred = y_pred [:, 0, 0]\n",
        "print(y_pred.shape)\n",
        "print(y_pred)"
      ],
      "execution_count": 153,
      "outputs": [
        {
          "output_type": "stream",
          "text": [
            "(24,)\n"
          ],
          "name": "stdout"
        },
        {
          "output_type": "error",
          "ename": "IndexError",
          "evalue": "ignored",
          "traceback": [
            "\u001b[0;31m---------------------------------------------------------------------------\u001b[0m",
            "\u001b[0;31mIndexError\u001b[0m                                Traceback (most recent call last)",
            "\u001b[0;32m<ipython-input-153-48f7b2a3d1c1>\u001b[0m in \u001b[0;36m<module>\u001b[0;34m()\u001b[0m\n\u001b[1;32m      1\u001b[0m \u001b[0mprint\u001b[0m\u001b[0;34m(\u001b[0m\u001b[0my_pred\u001b[0m\u001b[0;34m.\u001b[0m\u001b[0mshape\u001b[0m\u001b[0;34m)\u001b[0m\u001b[0;34m\u001b[0m\u001b[0;34m\u001b[0m\u001b[0m\n\u001b[0;32m----> 2\u001b[0;31m \u001b[0my_pred\u001b[0m \u001b[0;34m=\u001b[0m \u001b[0my_pred\u001b[0m \u001b[0;34m[\u001b[0m\u001b[0;34m:\u001b[0m\u001b[0;34m,\u001b[0m \u001b[0;36m0\u001b[0m\u001b[0;34m,\u001b[0m \u001b[0;36m0\u001b[0m\u001b[0;34m]\u001b[0m\u001b[0;34m\u001b[0m\u001b[0;34m\u001b[0m\u001b[0m\n\u001b[0m\u001b[1;32m      3\u001b[0m \u001b[0mprint\u001b[0m\u001b[0;34m(\u001b[0m\u001b[0my_pred\u001b[0m\u001b[0;34m.\u001b[0m\u001b[0mshape\u001b[0m\u001b[0;34m)\u001b[0m\u001b[0;34m\u001b[0m\u001b[0;34m\u001b[0m\u001b[0m\n\u001b[1;32m      4\u001b[0m \u001b[0mprint\u001b[0m\u001b[0;34m(\u001b[0m\u001b[0my_pred\u001b[0m\u001b[0;34m)\u001b[0m\u001b[0;34m\u001b[0m\u001b[0;34m\u001b[0m\u001b[0m\n",
            "\u001b[0;31mIndexError\u001b[0m: too many indices for array"
          ]
        }
      ]
    },
    {
      "cell_type": "code",
      "metadata": {
        "colab": {
          "base_uri": "https://localhost:8080/"
        },
        "id": "tmmI4-F6LZZ_",
        "outputId": "92039f12-9128-4d78-fac7-2ba147aafb62"
      },
      "source": [
        "y_pred_int  = []\n",
        "for i in y_pred:\n",
        "  if i < 0.5:\n",
        "    y_pred_int.append(0)\n",
        "  else: y_pred_int.append(1)\n",
        "\n",
        "print(y_pred_int)"
      ],
      "execution_count": 155,
      "outputs": [
        {
          "output_type": "stream",
          "text": [
            "[0, 0, 0, 0, 0, 1, 1, 1, 1, 0, 0, 0, 0, 0, 0, 0, 0, 0, 0, 0, 0, 1, 1, 1]\n"
          ],
          "name": "stdout"
        }
      ]
    },
    {
      "cell_type": "markdown",
      "metadata": {
        "id": "ODFgg_CWBYkg"
      },
      "source": [
        "https://www.tensorflow.org/api_docs/python/tf/data/Dataset\n",
        "\n",
        "To create a dataset of all files matching a pattern, use tf.data.Dataset.list_files:\n",
        "\n"
      ]
    },
    {
      "cell_type": "code",
      "metadata": {
        "id": "uOxdxJM4BVX4"
      },
      "source": [
        "#dataset = tf.data.Dataset.list_files(\"/path/*.txt\")  # doctest: +SKIP"
      ],
      "execution_count": null,
      "outputs": []
    },
    {
      "cell_type": "markdown",
      "metadata": {
        "id": "106Hn5J_CX2G"
      },
      "source": [
        "batch\n",
        "View source\n",
        "\n",
        "batch(\n",
        "    batch_size, drop_remainder=False\n",
        ")\n",
        "\n",
        "Combines consecutive elements of this dataset into batches.\n",
        "\n",
        "dataset = tf.data.Dataset.range(8)\n",
        "dataset = dataset.batch(3)\n",
        "list(dataset.as_numpy_iterator())\n",
        "\n",
        "\n",
        "dataset = tf.data.Dataset.range(8)\n",
        "dataset = dataset.batch(3, drop_remainder=True)\n",
        "list(dataset.as_numpy_iterator())\n",
        "\n",
        "\n",
        "The components of the resulting element will have an additional outer dimension, which will be batch_size (or N % batch_size for the last element if batch_size does not divide the number of input elements N evenly and drop_remainder is False). If your program depends on the batches having the same outer dimension, you should set the"
      ]
    },
    {
      "cell_type": "markdown",
      "metadata": {
        "id": "J9DSYfePD-zV"
      },
      "source": [
        "https://www.tensorflow.org/tutorials/audio/simple_audio\n",
        "\n",
        "Simple audio recognition: Recognizing keywords"
      ]
    }
  ]
}