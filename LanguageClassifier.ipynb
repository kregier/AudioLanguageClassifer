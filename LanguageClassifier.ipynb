{
  "nbformat": 4,
  "nbformat_minor": 0,
  "metadata": {
    "colab": {
      "name": "LanguageClassifier.ipynb",
      "provenance": [],
      "collapsed_sections": [
        "5EPwQ75UMELA",
        "hI22HC6vObfA",
        "x9qy1QSq9y04"
      ],
      "authorship_tag": "ABX9TyP1GukVMyuDpdakA3mhC5OA",
      "include_colab_link": true
    },
    "kernelspec": {
      "name": "python3",
      "display_name": "Python 3"
    }
  },
  "cells": [
    {
      "cell_type": "markdown",
      "metadata": {
        "id": "view-in-github",
        "colab_type": "text"
      },
      "source": [
        "<a href=\"https://colab.research.google.com/github/kregier/AudioLanguageClassifer/blob/main/LanguageClassifier.ipynb\" target=\"_parent\"><img src=\"https://colab.research.google.com/assets/colab-badge.svg\" alt=\"Open In Colab\"/></a>"
      ]
    },
    {
      "cell_type": "markdown",
      "metadata": {
        "id": "5EPwQ75UMELA"
      },
      "source": [
        "# Introduction\n",
        "This classifier identifies the native language of the speaker from an English reading.\n",
        "\n",
        "Only the top 10 langauges (in addition to English) from the Speech Sample archive are included.\n",
        "\n",
        "\n",
        "\n",
        "\n",
        "\n",
        "Remaining steps:\n",
        "\n",
        "Load the VGGish model.\n",
        "\n",
        "Create dataset generators to process the files in batches. The data generator runs the segments through the VGGish model and extract the feature embeddings, which are used as input to the classifier model. Also, will need to encode labels as one-hot vectors, and figure out how to load from various folders in the train, validation and test directories.\n",
        "\n",
        "The classifier will return the native langauge of the speaker, from a list of 10 (plus English)."
      ]
    },
    {
      "cell_type": "code",
      "metadata": {
        "id": "QFFe4-bHL-Vv",
        "colab": {
          "base_uri": "https://localhost:8080/"
        },
        "outputId": "291c4a97-4418-467c-f152-8f1a41c5332b"
      },
      "source": [
        "# Set up the environment\n",
        "!pip install soundfile\n",
        "\n",
        "import pandas as pd\n",
        "import numpy as np\n",
        "import matplotlib.pylab as plt\n",
        "import seaborn as sns\n",
        "import IPython.display as ipd\n",
        "import librosa\n",
        "import soundfile as sf\n",
        "\n",
        "import os\n",
        "import random\n",
        "import re\n",
        "\n",
        "import tensorflow as tf\n",
        "import tensorflow_hub as hub\n",
        "\n",
        "from keras.layers import Dense, Input\n",
        "from keras.models import Sequential\n",
        "\n",
        "from sklearn.metrics import classification_report, confusion_matrix\n",
        "from sklearn.model_selection import train_test_split\n",
        "\n",
        "print(\"All set up!\")"
      ],
      "execution_count": null,
      "outputs": [
        {
          "output_type": "stream",
          "text": [
            "Collecting soundfile\n",
            "  Downloading https://files.pythonhosted.org/packages/eb/f2/3cbbbf3b96fb9fa91582c438b574cff3f45b29c772f94c400e2c99ef5db9/SoundFile-0.10.3.post1-py2.py3-none-any.whl\n",
            "Requirement already satisfied: cffi>=1.0 in /usr/local/lib/python3.6/dist-packages (from soundfile) (1.14.3)\n",
            "Requirement already satisfied: pycparser in /usr/local/lib/python3.6/dist-packages (from cffi>=1.0->soundfile) (2.20)\n",
            "Installing collected packages: soundfile\n",
            "Successfully installed soundfile-0.10.3.post1\n",
            "All set up!\n"
          ],
          "name": "stdout"
        }
      ]
    },
    {
      "cell_type": "code",
      "metadata": {
        "id": "0UhmzjUR-ZNe"
      },
      "source": [
        "#https://machinelearningmastery.com/multi-class-classification-tutorial-keras-deep-learning-library/\n",
        "\n",
        "from keras.wrappers.scikit_learn import KerasClassifier\n",
        "from keras.utils import np_utils\n",
        "from sklearn.model_selection import cross_val_score\n",
        "from sklearn.model_selection import KFold\n",
        "from sklearn.preprocessing import LabelEncoder\n",
        "from sklearn.pipeline import Pipeline"
      ],
      "execution_count": null,
      "outputs": []
    },
    {
      "cell_type": "code",
      "metadata": {
        "id": "HVpYignFM10w",
        "colab": {
          "base_uri": "https://localhost:8080/"
        },
        "outputId": "1579256d-0d48-42f3-e081-634f0c5f9cb3"
      },
      "source": [
        "# Set up the data import using Google Drive\n",
        "from google.colab import drive\n",
        "drive.mount('/content/gdrive')"
      ],
      "execution_count": null,
      "outputs": [
        {
          "output_type": "stream",
          "text": [
            "Mounted at /content/gdrive\n"
          ],
          "name": "stdout"
        }
      ]
    },
    {
      "cell_type": "code",
      "metadata": {
        "id": "NsQGgd1XM2jd",
        "colab": {
          "base_uri": "https://localhost:8080/"
        },
        "outputId": "5e354b8c-9786-408a-f3d3-24658aeb7e21"
      },
      "source": [
        "os.environ['KAGGLE_CONFIG_DIR'] = \"/content/gdrive/My Drive/Kaggle\"\n",
        "\n",
        "# Change working directory\n",
        "%cd /content/gdrive/My Drive/Kaggle\n",
        "!ls"
      ],
      "execution_count": null,
      "outputs": [
        {
          "output_type": "stream",
          "text": [
            "/content/gdrive/My Drive/Kaggle\n",
            "augment     genderClf_3layer  models\t\t   recordings\n",
            "data\t    kaggle.json       processed.csv\t   speakers_all.csv\n",
            "genderClf1  model\t      reading-passage.txt\n"
          ],
          "name": "stdout"
        }
      ]
    },
    {
      "cell_type": "code",
      "metadata": {
        "id": "68jAGi9XM423",
        "colab": {
          "base_uri": "https://localhost:8080/"
        },
        "outputId": "5192c805-d04e-4bb1-9f8c-426e706e976c"
      },
      "source": [
        "# Import custom functions that I wrote\n",
        "import augment\n",
        "from augment import Augment\n",
        "\n",
        "from imp import reload"
      ],
      "execution_count": null,
      "outputs": [
        {
          "output_type": "stream",
          "text": [
            "Module imported\n",
            "Augment scripts reloaded\n"
          ],
          "name": "stdout"
        }
      ]
    },
    {
      "cell_type": "code",
      "metadata": {
        "id": "Ith_yV0xM-yE"
      },
      "source": [
        "# Set constants\n",
        "SAMP_RATE = 16000  #Defined in augment package\n",
        "BATCH_SIZE = 32  #Defined in augment package\n",
        "CLF = 'lang10'"
      ],
      "execution_count": null,
      "outputs": []
    },
    {
      "cell_type": "code",
      "metadata": {
        "id": "0NPgaHp7NEHD",
        "colab": {
          "base_uri": "https://localhost:8080/",
          "height": 235
        },
        "outputId": "66c9a9cf-af99-4cc7-d198-10c7ce2b3902"
      },
      "source": [
        "meta = pd.read_csv('processed.csv', index_col='speakerid')\n",
        "meta.head()"
      ],
      "execution_count": null,
      "outputs": [
        {
          "output_type": "execute_result",
          "data": {
            "text/html": [
              "<div>\n",
              "<style scoped>\n",
              "    .dataframe tbody tr th:only-of-type {\n",
              "        vertical-align: middle;\n",
              "    }\n",
              "\n",
              "    .dataframe tbody tr th {\n",
              "        vertical-align: top;\n",
              "    }\n",
              "\n",
              "    .dataframe thead th {\n",
              "        text-align: right;\n",
              "    }\n",
              "</style>\n",
              "<table border=\"1\" class=\"dataframe\">\n",
              "  <thead>\n",
              "    <tr style=\"text-align: right;\">\n",
              "      <th></th>\n",
              "      <th>age</th>\n",
              "      <th>age_onset</th>\n",
              "      <th>birthplace</th>\n",
              "      <th>filename</th>\n",
              "      <th>native_language</th>\n",
              "      <th>sex</th>\n",
              "      <th>country</th>\n",
              "      <th>file_missing?</th>\n",
              "    </tr>\n",
              "    <tr>\n",
              "      <th>speakerid</th>\n",
              "      <th></th>\n",
              "      <th></th>\n",
              "      <th></th>\n",
              "      <th></th>\n",
              "      <th></th>\n",
              "      <th></th>\n",
              "      <th></th>\n",
              "      <th></th>\n",
              "    </tr>\n",
              "  </thead>\n",
              "  <tbody>\n",
              "    <tr>\n",
              "      <th>1</th>\n",
              "      <td>27.0</td>\n",
              "      <td>9.0</td>\n",
              "      <td>virginia, south africa</td>\n",
              "      <td>afrikaans1</td>\n",
              "      <td>afrikaans</td>\n",
              "      <td>female</td>\n",
              "      <td>south africa</td>\n",
              "      <td>False</td>\n",
              "    </tr>\n",
              "    <tr>\n",
              "      <th>2</th>\n",
              "      <td>40.0</td>\n",
              "      <td>5.0</td>\n",
              "      <td>pretoria, south africa</td>\n",
              "      <td>afrikaans2</td>\n",
              "      <td>afrikaans</td>\n",
              "      <td>male</td>\n",
              "      <td>south africa</td>\n",
              "      <td>False</td>\n",
              "    </tr>\n",
              "    <tr>\n",
              "      <th>3</th>\n",
              "      <td>25.0</td>\n",
              "      <td>15.0</td>\n",
              "      <td>diekabo, ivory coast</td>\n",
              "      <td>agni1</td>\n",
              "      <td>agni</td>\n",
              "      <td>male</td>\n",
              "      <td>ivory coast</td>\n",
              "      <td>False</td>\n",
              "    </tr>\n",
              "    <tr>\n",
              "      <th>4</th>\n",
              "      <td>19.0</td>\n",
              "      <td>6.0</td>\n",
              "      <td>prishtina, kosovo</td>\n",
              "      <td>albanian1</td>\n",
              "      <td>albanian</td>\n",
              "      <td>male</td>\n",
              "      <td>kosovo</td>\n",
              "      <td>False</td>\n",
              "    </tr>\n",
              "    <tr>\n",
              "      <th>5</th>\n",
              "      <td>33.0</td>\n",
              "      <td>15.0</td>\n",
              "      <td>tirana, albania</td>\n",
              "      <td>albanian2</td>\n",
              "      <td>albanian</td>\n",
              "      <td>male</td>\n",
              "      <td>albania</td>\n",
              "      <td>False</td>\n",
              "    </tr>\n",
              "  </tbody>\n",
              "</table>\n",
              "</div>"
            ],
            "text/plain": [
              "            age  age_onset  ...       country file_missing?\n",
              "speakerid                   ...                            \n",
              "1          27.0        9.0  ...  south africa         False\n",
              "2          40.0        5.0  ...  south africa         False\n",
              "3          25.0       15.0  ...   ivory coast         False\n",
              "4          19.0        6.0  ...        kosovo         False\n",
              "5          33.0       15.0  ...       albania         False\n",
              "\n",
              "[5 rows x 8 columns]"
            ]
          },
          "metadata": {
            "tags": []
          },
          "execution_count": 8
        }
      ]
    },
    {
      "cell_type": "markdown",
      "metadata": {
        "id": "mOPac1ePOQH5"
      },
      "source": [
        "## Extract native English speakers\n",
        "Downsample the number of speakers, but keep the some of the variation in the distribution of countries.\n",
        "\n"
      ]
    },
    {
      "cell_type": "code",
      "metadata": {
        "id": "eD_SYToFNTMf",
        "colab": {
          "base_uri": "https://localhost:8080/"
        },
        "outputId": "81b24a32-189e-4700-8af4-58fd44c983e6"
      },
      "source": [
        "# Create dataframe of only native English speakers\n",
        "english = meta.loc[meta.native_language == 'english']\n",
        "# Look at the counts of countries\n",
        "english.country.value_counts()"
      ],
      "execution_count": null,
      "outputs": [
        {
          "output_type": "execute_result",
          "data": {
            "text/plain": [
              "usa                     373\n",
              "uk                       65\n",
              "canada                   44\n",
              "australia                32\n",
              "ireland                  11\n",
              "new zealand               8\n",
              "jamaica                   5\n",
              "south africa              4\n",
              "singapore                 4\n",
              "panama                    3\n",
              "india                     3\n",
              "malaysia                  2\n",
              "philippines               2\n",
              "guyana                    2\n",
              "pakistan                  1\n",
              "united arab emirates      1\n",
              "fiji                      1\n",
              "italy                     1\n",
              "us virgin islands         1\n",
              "germany                   1\n",
              "antigua and barbuda       1\n",
              "barbados                  1\n",
              "bolivia                   1\n",
              "switzerland               1\n",
              "nigeria                   1\n",
              "trinidad                  1\n",
              "lebanon                   1\n",
              "the bahamas               1\n",
              "papua new guinea          1\n",
              "ghana                     1\n",
              "spain                     1\n",
              "belize                    1\n",
              "virginia                  1\n",
              "liberia                   1\n",
              "isle of man               1\n",
              "Name: country, dtype: int64"
            ]
          },
          "metadata": {
            "tags": []
          },
          "execution_count": 9
        }
      ]
    },
    {
      "cell_type": "code",
      "metadata": {
        "id": "Yd2nzyawp2BQ",
        "colab": {
          "base_uri": "https://localhost:8080/"
        },
        "outputId": "febaa3b3-c802-4b05-ddd7-fd34f54590fb"
      },
      "source": [
        "# Convert country counts to weights for use in the random sampling function\n",
        "eng_country_pct = english.country.value_counts(normalize=True)\n",
        "eng_country_pct"
      ],
      "execution_count": null,
      "outputs": [
        {
          "output_type": "execute_result",
          "data": {
            "text/plain": [
              "usa                     0.644214\n",
              "uk                      0.112263\n",
              "canada                  0.075993\n",
              "australia               0.055268\n",
              "ireland                 0.018998\n",
              "new zealand             0.013817\n",
              "jamaica                 0.008636\n",
              "south africa            0.006908\n",
              "singapore               0.006908\n",
              "panama                  0.005181\n",
              "india                   0.005181\n",
              "malaysia                0.003454\n",
              "philippines             0.003454\n",
              "guyana                  0.003454\n",
              "pakistan                0.001727\n",
              "united arab emirates    0.001727\n",
              "fiji                    0.001727\n",
              "italy                   0.001727\n",
              "us virgin islands       0.001727\n",
              "germany                 0.001727\n",
              "antigua and barbuda     0.001727\n",
              "barbados                0.001727\n",
              "bolivia                 0.001727\n",
              "switzerland             0.001727\n",
              "nigeria                 0.001727\n",
              "trinidad                0.001727\n",
              "lebanon                 0.001727\n",
              "the bahamas             0.001727\n",
              "papua new guinea        0.001727\n",
              "ghana                   0.001727\n",
              "spain                   0.001727\n",
              "belize                  0.001727\n",
              "virginia                0.001727\n",
              "liberia                 0.001727\n",
              "isle of man             0.001727\n",
              "Name: country, dtype: float64"
            ]
          },
          "metadata": {
            "tags": []
          },
          "execution_count": 10
        }
      ]
    },
    {
      "cell_type": "code",
      "metadata": {
        "id": "6io_ot6lpVZc"
      },
      "source": [
        "english = english.join(eng_country_pct, how = 'left', on='country', rsuffix='_weight')"
      ],
      "execution_count": null,
      "outputs": []
    },
    {
      "cell_type": "code",
      "metadata": {
        "id": "M7YEV_pAMTKA"
      },
      "source": [
        "# Calculate country weights for random sampling, put in 'country_pct' column\n",
        "english['country_pct'] = english['country_weight']/sum(english['country_weight'])"
      ],
      "execution_count": null,
      "outputs": []
    },
    {
      "cell_type": "code",
      "metadata": {
        "colab": {
          "base_uri": "https://localhost:8080/"
        },
        "id": "_yTt1BY0SzEr",
        "outputId": "6ea36e71-3efd-41e7-e3eb-18a221460839"
      },
      "source": [
        "#  Find random seed that will provide the highest number of country samples\n",
        "max_count = 0\n",
        "max_idx = 0\n",
        "for i in range(200):\n",
        "  eng_samp_inx = english.sample(100, replace=False, weights=english.country_pct, random_state=i)\n",
        "  count = eng_samp_inx.country.nunique()\n",
        "  if max_count  < count:\n",
        "    max_count = count\n",
        "    max_idx = i\n",
        "\n",
        "print(max_idx, max_count)"
      ],
      "execution_count": null,
      "outputs": [
        {
          "output_type": "stream",
          "text": [
            "26 6\n"
          ],
          "name": "stdout"
        }
      ]
    },
    {
      "cell_type": "code",
      "metadata": {
        "colab": {
          "base_uri": "https://localhost:8080/",
          "height": 408
        },
        "id": "DuuqtYWZPMEN",
        "outputId": "7f2f049f-7f65-4b37-f9bd-868079fa6957"
      },
      "source": [
        "eng_samples = english.sample(100, replace=False, weights=english.country_pct , random_state=max_idx)\n",
        "eng_samples.head()"
      ],
      "execution_count": null,
      "outputs": [
        {
          "output_type": "execute_result",
          "data": {
            "text/html": [
              "<div>\n",
              "<style scoped>\n",
              "    .dataframe tbody tr th:only-of-type {\n",
              "        vertical-align: middle;\n",
              "    }\n",
              "\n",
              "    .dataframe tbody tr th {\n",
              "        vertical-align: top;\n",
              "    }\n",
              "\n",
              "    .dataframe thead th {\n",
              "        text-align: right;\n",
              "    }\n",
              "</style>\n",
              "<table border=\"1\" class=\"dataframe\">\n",
              "  <thead>\n",
              "    <tr style=\"text-align: right;\">\n",
              "      <th></th>\n",
              "      <th>age</th>\n",
              "      <th>age_onset</th>\n",
              "      <th>birthplace</th>\n",
              "      <th>filename</th>\n",
              "      <th>native_language</th>\n",
              "      <th>sex</th>\n",
              "      <th>country</th>\n",
              "      <th>file_missing?</th>\n",
              "      <th>country_weight</th>\n",
              "      <th>country_pct</th>\n",
              "    </tr>\n",
              "    <tr>\n",
              "      <th>speakerid</th>\n",
              "      <th></th>\n",
              "      <th></th>\n",
              "      <th></th>\n",
              "      <th></th>\n",
              "      <th></th>\n",
              "      <th></th>\n",
              "      <th></th>\n",
              "      <th></th>\n",
              "      <th></th>\n",
              "      <th></th>\n",
              "    </tr>\n",
              "  </thead>\n",
              "  <tbody>\n",
              "    <tr>\n",
              "      <th>586</th>\n",
              "      <td>68.0</td>\n",
              "      <td>0.0</td>\n",
              "      <td>new eagle, pennsylvania, usa</td>\n",
              "      <td>english181</td>\n",
              "      <td>english</td>\n",
              "      <td>male</td>\n",
              "      <td>usa</td>\n",
              "      <td>False</td>\n",
              "      <td>0.644214</td>\n",
              "      <td>0.002544</td>\n",
              "    </tr>\n",
              "    <tr>\n",
              "      <th>1120</th>\n",
              "      <td>26.0</td>\n",
              "      <td>0.0</td>\n",
              "      <td>memphis, tennessee, usa</td>\n",
              "      <td>english314</td>\n",
              "      <td>english</td>\n",
              "      <td>female</td>\n",
              "      <td>usa</td>\n",
              "      <td>False</td>\n",
              "      <td>0.644214</td>\n",
              "      <td>0.002544</td>\n",
              "    </tr>\n",
              "    <tr>\n",
              "      <th>1554</th>\n",
              "      <td>37.0</td>\n",
              "      <td>0.0</td>\n",
              "      <td>lancashire, leyland, uk</td>\n",
              "      <td>english456</td>\n",
              "      <td>english</td>\n",
              "      <td>female</td>\n",
              "      <td>uk</td>\n",
              "      <td>False</td>\n",
              "      <td>0.112263</td>\n",
              "      <td>0.000443</td>\n",
              "    </tr>\n",
              "    <tr>\n",
              "      <th>1640</th>\n",
              "      <td>30.0</td>\n",
              "      <td>0.0</td>\n",
              "      <td>myrtle beach, south carolina, usa</td>\n",
              "      <td>english468</td>\n",
              "      <td>english</td>\n",
              "      <td>male</td>\n",
              "      <td>usa</td>\n",
              "      <td>False</td>\n",
              "      <td>0.644214</td>\n",
              "      <td>0.002544</td>\n",
              "    </tr>\n",
              "    <tr>\n",
              "      <th>1884</th>\n",
              "      <td>47.0</td>\n",
              "      <td>0.0</td>\n",
              "      <td>st. paul, minnesota, usa</td>\n",
              "      <td>english520</td>\n",
              "      <td>english</td>\n",
              "      <td>female</td>\n",
              "      <td>usa</td>\n",
              "      <td>False</td>\n",
              "      <td>0.644214</td>\n",
              "      <td>0.002544</td>\n",
              "    </tr>\n",
              "  </tbody>\n",
              "</table>\n",
              "</div>"
            ],
            "text/plain": [
              "            age  age_onset  ... country_weight country_pct\n",
              "speakerid                   ...                           \n",
              "586        68.0        0.0  ...       0.644214    0.002544\n",
              "1120       26.0        0.0  ...       0.644214    0.002544\n",
              "1554       37.0        0.0  ...       0.112263    0.000443\n",
              "1640       30.0        0.0  ...       0.644214    0.002544\n",
              "1884       47.0        0.0  ...       0.644214    0.002544\n",
              "\n",
              "[5 rows x 10 columns]"
            ]
          },
          "metadata": {
            "tags": []
          },
          "execution_count": 14
        }
      ]
    },
    {
      "cell_type": "code",
      "metadata": {
        "id": "cvKjebF4tOvo",
        "colab": {
          "base_uri": "https://localhost:8080/",
          "height": 351
        },
        "outputId": "9ab71f6e-81e5-4b29-ef41-6370365874f9"
      },
      "source": [
        "sns.countplot(x='country', data=eng_samples)\n",
        "plt.title('English samples: Count by country')\n",
        "plt.xticks(rotation=45)"
      ],
      "execution_count": null,
      "outputs": [
        {
          "output_type": "execute_result",
          "data": {
            "text/plain": [
              "(array([0, 1, 2, 3, 4, 5]), <a list of 6 Text major ticklabel objects>)"
            ]
          },
          "metadata": {
            "tags": []
          },
          "execution_count": 15
        },
        {
          "output_type": "display_data",
          "data": {
            "image/png": "[encoded data removed]",
            "text/plain": [
              "<Figure size 432x288 with 1 Axes>"
            ]
          },
          "metadata": {
            "tags": [],
            "needs_background": "light"
          }
        }
      ]
    },
    {
      "cell_type": "code",
      "metadata": {
        "colab": {
          "base_uri": "https://localhost:8080/",
          "height": 334
        },
        "id": "IYI1GuZiWpGm",
        "outputId": "8e5a5102-1f9e-4e31-9699-e444d6b96a8c"
      },
      "source": [
        "# Check that gender is still roughly distributed equally\n",
        "sns.countplot(x='sex', data=eng_samples)\n",
        "plt.title('English samples: Count by country')\n",
        "plt.xticks(rotation=45)"
      ],
      "execution_count": null,
      "outputs": [
        {
          "output_type": "execute_result",
          "data": {
            "text/plain": [
              "(array([0, 1]), <a list of 2 Text major ticklabel objects>)"
            ]
          },
          "metadata": {
            "tags": []
          },
          "execution_count": 16
        },
        {
          "output_type": "display_data",
          "data": {
            "image/png": "[encoded data removed]",
            "text/plain": [
              "<Figure size 432x288 with 1 Axes>"
            ]
          },
          "metadata": {
            "tags": [],
            "needs_background": "light"
          }
        }
      ]
    },
    {
      "cell_type": "markdown",
      "metadata": {
        "id": "bs0VB7yMW40-"
      },
      "source": [
        "### Split English files into training, validation and testing sets"
      ]
    },
    {
      "cell_type": "code",
      "metadata": {
        "id": "enLD__sWW4Zz"
      },
      "source": [
        "eng_data = eng_samples[['filename','sex']]\n",
        "x_train_names, x_test_names, y_train, y_test = train_test_split(\n",
        "    eng_data['filename'], eng_data['sex'], test_size=0.25, random_state=38)"
      ],
      "execution_count": null,
      "outputs": []
    },
    {
      "cell_type": "code",
      "metadata": {
        "id": "e4aHTk_1Yjgb"
      },
      "source": [
        "x_train_names, x_val_names, y_train, y_val = train_test_split(\n",
        "    x_train_names, y_train, test_size = 0.25, random_state=38)"
      ],
      "execution_count": null,
      "outputs": []
    },
    {
      "cell_type": "code",
      "metadata": {
        "colab": {
          "base_uri": "https://localhost:8080/"
        },
        "id": "5AnSNG0oYWME",
        "outputId": "3563e18b-60f7-4b37-e5cb-9011e1fd708c"
      },
      "source": [
        "print(\"Number of training files: \", x_train_names.shape)\n",
        "print(\"Number of training files: \", x_val_names.shape)\n",
        "print(\"Number of testing files: \", x_test_names.shape)"
      ],
      "execution_count": null,
      "outputs": [
        {
          "output_type": "stream",
          "text": [
            "Number of training files:  (56,)\n",
            "Number of training files:  (19,)\n",
            "Number of testing files:  (25,)\n"
          ],
          "name": "stdout"
        }
      ]
    },
    {
      "cell_type": "markdown",
      "metadata": {
        "id": "aNThCt60YcoK"
      },
      "source": [
        "### Process English audio files and store in appropriate files"
      ]
    },
    {
      "cell_type": "code",
      "metadata": {
        "id": "6x5hugQMZS1N"
      },
      "source": [
        "# Check if training data has been segmented. If not, segment each audio file.\n",
        "train_file_list = os.listdir('data/lang10/train/english')\n",
        "\n",
        "for i in range(len(x_train_names)):\n",
        "  # get a filename\n",
        "  filename = x_train_names.iloc[i]\n",
        "  # Check to see if the filename has already been segmented\n",
        "  # if any(file.startswith(filename) for file in os.listdir('data/gender/train')):\n",
        "  if any(file.startswith(filename) for file in train_file_list):\n",
        "    pass\n",
        "  else: \n",
        "    augment.Augment.segment_audio(x_train_names.iloc[i], y_train.iloc[i], split='train/english', clf=CLF)\n",
        "    print('{} segmented'.format(filename))"
      ],
      "execution_count": null,
      "outputs": []
    },
    {
      "cell_type": "code",
      "metadata": {
        "id": "93Ze_jvnZWmU"
      },
      "source": [
        "# Check if training data has been segmented. If not, segment each audio file.\n",
        "val_file_list = os.listdir('data/lang10/validation/english')\n",
        "\n",
        "for i in range(len(x_val_names)):\n",
        "  # get a filename\n",
        "  filename = x_val_names.iloc[i]\n",
        "  # Check to see if the filename has already been segmented\n",
        "  # if any(file.startswith(filename) for file in os.listdir('data/gender/train')):\n",
        "  if any(file.startswith(filename) for file in val_file_list):\n",
        "    pass\n",
        "  else: \n",
        "    augment.Augment.segment_audio(x_val_names.iloc[i], y_val.iloc[i], split='validation/english', clf=CLF)\n",
        "    print('{} segmented'.format(filename))"
      ],
      "execution_count": null,
      "outputs": []
    },
    {
      "cell_type": "code",
      "metadata": {
        "id": "kXX-UY-YZU-E"
      },
      "source": [
        "# Check if testing data has been segmented. If not, segment each audio file.\n",
        "test_file_list = os.listdir('data/lang10/test/test_data')\n",
        "for i in range(len(x_test_names)):\n",
        "  filename = x_test_names.iloc[i]\n",
        "  # if any(file.startswith(filename) for file in os.listdir('data/gender/test')):\n",
        "  if any(file.startswith(filename) for file in test_file_list):\n",
        "    pass\n",
        "  else: \n",
        "    augment.Augment.segment_audio(x_test_names.iloc[i], y_test.iloc[i], split='test/test_data', clf=CLF)\n",
        "    print('{} segmented'.format(filename))"
      ],
      "execution_count": null,
      "outputs": []
    },
    {
      "cell_type": "markdown",
      "metadata": {
        "id": "hI22HC6vObfA"
      },
      "source": [
        "## Get top 10 languages after English."
      ]
    },
    {
      "cell_type": "code",
      "metadata": {
        "id": "2hb--a9pNLmz",
        "colab": {
          "base_uri": "https://localhost:8080/"
        },
        "outputId": "76fcbd14-abfc-4564-8bd5-d14586b04a00"
      },
      "source": [
        "lang_counts = meta.native_language.value_counts().head(11)\n",
        "lang_counts"
      ],
      "execution_count": null,
      "outputs": [
        {
          "output_type": "execute_result",
          "data": {
            "text/plain": [
              "english       579\n",
              "spanish       162\n",
              "arabic        102\n",
              "mandarin       65\n",
              "french         63\n",
              "korean         52\n",
              "portuguese     48\n",
              "russian        48\n",
              "dutch          47\n",
              "turkish        37\n",
              "german         36\n",
              "Name: native_language, dtype: int64"
            ]
          },
          "metadata": {
            "tags": []
          },
          "execution_count": 23
        }
      ]
    },
    {
      "cell_type": "code",
      "metadata": {
        "id": "iNYZ3ePiNWJy"
      },
      "source": [
        "lang_list = ['spanish', 'arabic', 'mandarin', 'french', 'korean', 'russian', \n",
        "             'portuguese', 'dutch', 'turkish', 'german']\n",
        "top_lang = meta.loc[meta.native_language.isin(lang_list)]"
      ],
      "execution_count": null,
      "outputs": []
    },
    {
      "cell_type": "code",
      "metadata": {
        "id": "uy2_rDwuObAQ",
        "colab": {
          "base_uri": "https://localhost:8080/"
        },
        "outputId": "5aa6bb6d-1c6b-4273-bc4f-a3b25fdd99f3"
      },
      "source": [
        "top_lang.head()"
      ],
      "execution_count": null,
      "outputs": [
        {
          "output_type": "execute_result",
          "data": {
            "text/html": [
              "<div>\n",
              "<style scoped>\n",
              "    .dataframe tbody tr th:only-of-type {\n",
              "        vertical-align: middle;\n",
              "    }\n",
              "\n",
              "    .dataframe tbody tr th {\n",
              "        vertical-align: top;\n",
              "    }\n",
              "\n",
              "    .dataframe thead th {\n",
              "        text-align: right;\n",
              "    }\n",
              "</style>\n",
              "<table border=\"1\" class=\"dataframe\">\n",
              "  <thead>\n",
              "    <tr style=\"text-align: right;\">\n",
              "      <th></th>\n",
              "      <th>age</th>\n",
              "      <th>age_onset</th>\n",
              "      <th>birthplace</th>\n",
              "      <th>filename</th>\n",
              "      <th>native_language</th>\n",
              "      <th>sex</th>\n",
              "      <th>country</th>\n",
              "      <th>file_missing?</th>\n",
              "    </tr>\n",
              "    <tr>\n",
              "      <th>speakerid</th>\n",
              "      <th></th>\n",
              "      <th></th>\n",
              "      <th></th>\n",
              "      <th></th>\n",
              "      <th></th>\n",
              "      <th></th>\n",
              "      <th></th>\n",
              "      <th></th>\n",
              "    </tr>\n",
              "  </thead>\n",
              "  <tbody>\n",
              "    <tr>\n",
              "      <th>11</th>\n",
              "      <td>38.0</td>\n",
              "      <td>12.0</td>\n",
              "      <td>riyadh, saudi arabia</td>\n",
              "      <td>arabic1</td>\n",
              "      <td>arabic</td>\n",
              "      <td>female</td>\n",
              "      <td>saudi arabia</td>\n",
              "      <td>False</td>\n",
              "    </tr>\n",
              "    <tr>\n",
              "      <th>12</th>\n",
              "      <td>26.0</td>\n",
              "      <td>5.0</td>\n",
              "      <td>cairo, egypt</td>\n",
              "      <td>arabic10</td>\n",
              "      <td>arabic</td>\n",
              "      <td>male</td>\n",
              "      <td>egypt</td>\n",
              "      <td>False</td>\n",
              "    </tr>\n",
              "    <tr>\n",
              "      <th>13</th>\n",
              "      <td>30.0</td>\n",
              "      <td>14.0</td>\n",
              "      <td>monastir, tunisia</td>\n",
              "      <td>arabic11</td>\n",
              "      <td>arabic</td>\n",
              "      <td>female</td>\n",
              "      <td>tunisia</td>\n",
              "      <td>False</td>\n",
              "    </tr>\n",
              "    <tr>\n",
              "      <th>14</th>\n",
              "      <td>32.0</td>\n",
              "      <td>11.0</td>\n",
              "      <td>baghdad, iraq</td>\n",
              "      <td>arabic12</td>\n",
              "      <td>arabic</td>\n",
              "      <td>male</td>\n",
              "      <td>iraq</td>\n",
              "      <td>False</td>\n",
              "    </tr>\n",
              "    <tr>\n",
              "      <th>15</th>\n",
              "      <td>25.0</td>\n",
              "      <td>15.0</td>\n",
              "      <td>zabbougha, lebanon</td>\n",
              "      <td>arabic13</td>\n",
              "      <td>arabic</td>\n",
              "      <td>male</td>\n",
              "      <td>lebanon</td>\n",
              "      <td>False</td>\n",
              "    </tr>\n",
              "  </tbody>\n",
              "</table>\n",
              "</div>"
            ],
            "text/plain": [
              "            age  age_onset  ...       country file_missing?\n",
              "speakerid                   ...                            \n",
              "11         38.0       12.0  ...  saudi arabia         False\n",
              "12         26.0        5.0  ...         egypt         False\n",
              "13         30.0       14.0  ...       tunisia         False\n",
              "14         32.0       11.0  ...          iraq         False\n",
              "15         25.0       15.0  ...       lebanon         False\n",
              "\n",
              "[5 rows x 8 columns]"
            ]
          },
          "metadata": {
            "tags": []
          },
          "execution_count": 25
        }
      ]
    },
    {
      "cell_type": "markdown",
      "metadata": {
        "id": "Ng-DJHTocZvA"
      },
      "source": [
        "## Split the data by language"
      ]
    },
    {
      "cell_type": "code",
      "metadata": {
        "colab": {
          "base_uri": "https://localhost:8080/"
        },
        "id": "JZkR8NZ6diAS",
        "outputId": "53c6f452-069e-4076-a815-7093ca97e214"
      },
      "source": [
        "# Split Spanish data\n",
        "spanish = meta.loc[meta.native_language == 'spanish']\n",
        "spanish_train_names, spanish_test_names, spanish_y_train, spanish_y_test = train_test_split(\n",
        "    spanish['filename'], spanish['sex'], test_size=0.25, random_state=38)\n",
        "spanish_train_names, spanish_val_names, spanish_y_train, spanish_y_val = train_test_split(\n",
        "    spanish_train_names, spanish_y_train, test_size = 0.25, random_state=38)\n",
        "print(\"Number of training files: \", spanish_train_names.shape)\n",
        "print(\"Number of training files: \", spanish_val_names.shape)\n",
        "print(\"Number of testing files: \", spanish_test_names.shape)"
      ],
      "execution_count": null,
      "outputs": [
        {
          "output_type": "stream",
          "text": [
            "Number of training files:  (90,)\n",
            "Number of training files:  (31,)\n",
            "Number of testing files:  (41,)\n"
          ],
          "name": "stdout"
        }
      ]
    },
    {
      "cell_type": "code",
      "metadata": {
        "colab": {
          "base_uri": "https://localhost:8080/"
        },
        "id": "FxlCbQ-2ech_",
        "outputId": "53afb9bd-0768-45e6-c25b-1db86624cc43"
      },
      "source": [
        "# Split Arabic data\n",
        "arabic = meta.loc[meta.native_language == 'arabic']\n",
        "arabic_train_names, arabic_test_names, arabic_y_train, arabic_y_test = train_test_split(\n",
        "    arabic['filename'], arabic['sex'], test_size=0.25, random_state=38)\n",
        "arabic_train_names, arabic_val_names, arabic_y_train, arabic_y_val = train_test_split(\n",
        "    arabic_train_names, arabic_y_train, test_size = 0.25, random_state=38)\n",
        "print(\"Number of training files: \", arabic_train_names.shape)\n",
        "print(\"Number of training files: \", arabic_val_names.shape)\n",
        "print(\"Number of testing files: \", arabic_test_names.shape)"
      ],
      "execution_count": null,
      "outputs": [
        {
          "output_type": "stream",
          "text": [
            "Number of training files:  (57,)\n",
            "Number of training files:  (19,)\n",
            "Number of testing files:  (26,)\n"
          ],
          "name": "stdout"
        }
      ]
    },
    {
      "cell_type": "code",
      "metadata": {
        "colab": {
          "base_uri": "https://localhost:8080/"
        },
        "id": "_2Jny9F8eY1M",
        "outputId": "1671f317-3f01-4d67-9d83-c3a5d7e2fed8"
      },
      "source": [
        "# Split Mandarin data\n",
        "mandarin = meta.loc[meta.native_language == 'mandarin']\n",
        "mandarin_train_names, mandarin_test_names, mandarin_y_train, mandarin_y_test = train_test_split(\n",
        "    mandarin['filename'], mandarin['sex'], test_size=0.25, random_state=38)\n",
        "mandarin_train_names, mandarin_val_names, mandarin_y_train, mandarin_y_val = train_test_split(\n",
        "    mandarin_train_names, mandarin_y_train, test_size = 0.25, random_state=38)\n",
        "print(\"Number of training files: \", mandarin_train_names.shape)\n",
        "print(\"Number of training files: \", mandarin_val_names.shape)\n",
        "print(\"Number of testing files: \", mandarin_test_names.shape)"
      ],
      "execution_count": null,
      "outputs": [
        {
          "output_type": "stream",
          "text": [
            "Number of training files:  (36,)\n",
            "Number of training files:  (12,)\n",
            "Number of testing files:  (17,)\n"
          ],
          "name": "stdout"
        }
      ]
    },
    {
      "cell_type": "code",
      "metadata": {
        "colab": {
          "base_uri": "https://localhost:8080/"
        },
        "id": "KMaifZkJeZnw",
        "outputId": "3cc82f00-04ba-44f3-9ea3-f0791141f4c8"
      },
      "source": [
        "# Split French data\n",
        "french = meta.loc[meta.native_language == 'french']\n",
        "french_train_names, french_test_names, french_y_train, french_y_test = train_test_split(\n",
        "    french['filename'], french['sex'], test_size=0.25, random_state=38)\n",
        "french_train_names, french_val_names, french_y_train, french_y_val = train_test_split(\n",
        "    french_train_names, french_y_train, test_size = 0.25, random_state=38)\n",
        "print(\"Number of training files: \", french_train_names.shape)\n",
        "print(\"Number of training files: \", french_val_names.shape)\n",
        "print(\"Number of testing files: \", french_test_names.shape)"
      ],
      "execution_count": null,
      "outputs": [
        {
          "output_type": "stream",
          "text": [
            "Number of training files:  (35,)\n",
            "Number of training files:  (12,)\n",
            "Number of testing files:  (16,)\n"
          ],
          "name": "stdout"
        }
      ]
    },
    {
      "cell_type": "code",
      "metadata": {
        "colab": {
          "base_uri": "https://localhost:8080/"
        },
        "id": "Jj8PDCvveZXf",
        "outputId": "711b13a4-680c-4e6c-e5d2-34b727cd871a"
      },
      "source": [
        "# Split Korean data\n",
        "korean = meta.loc[meta.native_language == 'korean']\n",
        "korean_train_names, korean_test_names, korean_y_train, korean_y_test = train_test_split(\n",
        "    korean['filename'], korean['sex'], test_size=0.25, random_state=38)\n",
        "korean_train_names, korean_val_names, korean_y_train, korean_y_val = train_test_split(\n",
        "    korean_train_names, korean_y_train, test_size = 0.25, random_state=38)\n",
        "print(\"Number of training files: \", korean_train_names.shape)\n",
        "print(\"Number of training files: \", korean_val_names.shape)\n",
        "print(\"Number of testing files: \", korean_test_names.shape)"
      ],
      "execution_count": null,
      "outputs": [
        {
          "output_type": "stream",
          "text": [
            "Number of training files:  (29,)\n",
            "Number of training files:  (10,)\n",
            "Number of testing files:  (13,)\n"
          ],
          "name": "stdout"
        }
      ]
    },
    {
      "cell_type": "code",
      "metadata": {
        "colab": {
          "base_uri": "https://localhost:8080/"
        },
        "id": "hojN42JEeYrW",
        "outputId": "bddf4690-bb52-423d-ad25-cbf54bb37ffb"
      },
      "source": [
        "# Split Russian data\n",
        "russian = meta.loc[meta.native_language == 'russian']\n",
        "russian_train_names, russian_test_names, russian_y_train, russian_y_test = train_test_split(\n",
        "    russian['filename'], russian['sex'], test_size=0.25, random_state=38)\n",
        "russian_train_names, russian_val_names, russian_y_train, russian_y_val = train_test_split(\n",
        "    russian_train_names, russian_y_train, test_size = 0.25, random_state=38)\n",
        "print(\"Number of training files: \", russian_train_names.shape)\n",
        "print(\"Number of training files: \", russian_val_names.shape)\n",
        "print(\"Number of testing files: \", russian_test_names.shape)"
      ],
      "execution_count": null,
      "outputs": [
        {
          "output_type": "stream",
          "text": [
            "Number of training files:  (27,)\n",
            "Number of training files:  (9,)\n",
            "Number of testing files:  (12,)\n"
          ],
          "name": "stdout"
        }
      ]
    },
    {
      "cell_type": "code",
      "metadata": {
        "colab": {
          "base_uri": "https://localhost:8080/"
        },
        "id": "jDIT5pGugrh4",
        "outputId": "960ef04b-40d4-46ed-bc90-0824314c20ca"
      },
      "source": [
        "# Split Portuguese data\n",
        "portuguese = meta.loc[meta.native_language == 'portuguese']\n",
        "portuguese_train_names, portuguese_test_names, portuguese_y_train, portuguese_y_test = train_test_split(\n",
        "    portuguese['filename'], portuguese['sex'], test_size=0.25, random_state=38)\n",
        "portuguese_train_names, portuguese_val_names, portuguese_y_train, portuguese_y_val = train_test_split(\n",
        "    portuguese_train_names, portuguese_y_train, test_size = 0.25, random_state=38)\n",
        "print(\"Number of training files: \", portuguese_train_names.shape)\n",
        "print(\"Number of training files: \", portuguese_val_names.shape)\n",
        "print(\"Number of testing files: \", portuguese_test_names.shape)"
      ],
      "execution_count": null,
      "outputs": [
        {
          "output_type": "stream",
          "text": [
            "Number of training files:  (27,)\n",
            "Number of training files:  (9,)\n",
            "Number of testing files:  (12,)\n"
          ],
          "name": "stdout"
        }
      ]
    },
    {
      "cell_type": "code",
      "metadata": {
        "colab": {
          "base_uri": "https://localhost:8080/"
        },
        "id": "Ghz1J3fhgsIV",
        "outputId": "1ed58b03-2d9d-46f2-a7f4-9917f07b06f9"
      },
      "source": [
        "# Split Dutch data\n",
        "dutch = meta.loc[meta.native_language == 'dutch']\n",
        "\n",
        "dutch_train_names, dutch_test_names, dutch_y_train, dutch_y_test = train_test_split(\n",
        "    dutch['filename'], dutch['sex'], test_size=0.25, random_state=38)\n",
        "dutch_train_names, dutch_val_names, dutch_y_train, dutch_y_val = train_test_split(\n",
        "    dutch_train_names, dutch_y_train, test_size = 0.25, random_state=38)\n",
        "print(\"Number of training files: \", dutch_train_names.shape)\n",
        "print(\"Number of training files: \", dutch_val_names.shape)\n",
        "print(\"Number of testing files: \", dutch_test_names.shape)"
      ],
      "execution_count": null,
      "outputs": [
        {
          "output_type": "stream",
          "text": [
            "Number of training files:  (26,)\n",
            "Number of training files:  (9,)\n",
            "Number of testing files:  (12,)\n"
          ],
          "name": "stdout"
        }
      ]
    },
    {
      "cell_type": "code",
      "metadata": {
        "colab": {
          "base_uri": "https://localhost:8080/"
        },
        "id": "iZ8hTRengr9A",
        "outputId": "04f8f831-631e-44f8-ee9a-7191daa9cb1e"
      },
      "source": [
        "# Split Turkish data\n",
        "turkish = meta.loc[meta.native_language == 'turkish']\n",
        "turkish_train_names, turkish_test_names, turkish_y_train, turkish_y_test = train_test_split(\n",
        "    turkish['filename'], turkish['sex'], test_size=0.25, random_state=38)\n",
        "turkish_train_names, turkish_val_names, turkish_y_train, turkish_y_val = train_test_split(\n",
        "    turkish_train_names, turkish_y_train, test_size = 0.25, random_state=38)\n",
        "print(\"Number of training files: \", turkish_train_names.shape)\n",
        "print(\"Number of training files: \", turkish_val_names.shape)\n",
        "print(\"Number of testing files: \", turkish_test_names.shape)"
      ],
      "execution_count": null,
      "outputs": [
        {
          "output_type": "stream",
          "text": [
            "Number of training files:  (20,)\n",
            "Number of training files:  (7,)\n",
            "Number of testing files:  (10,)\n"
          ],
          "name": "stdout"
        }
      ]
    },
    {
      "cell_type": "code",
      "metadata": {
        "colab": {
          "base_uri": "https://localhost:8080/"
        },
        "id": "9e8KsvLsgrYF",
        "outputId": "4dd7d194-5a5a-4424-cada-7f4bbd7dc6dd"
      },
      "source": [
        "# Split German data\n",
        "german = meta.loc[meta.native_language == 'german']\n",
        "german_train_names, german_test_names, german_y_train, german_y_test = train_test_split(\n",
        "    german['filename'], german['sex'], test_size=0.25, random_state=38)\n",
        "german_train_names, german_val_names, german_y_train, german_y_val = train_test_split(\n",
        "    german_train_names, german_y_train, test_size = 0.25, random_state=38)\n",
        "print(\"Number of training files: \", german_train_names.shape)\n",
        "print(\"Number of training files: \", german_val_names.shape)\n",
        "print(\"Number of testing files: \", german_test_names.shape)"
      ],
      "execution_count": null,
      "outputs": [
        {
          "output_type": "stream",
          "text": [
            "Number of training files:  (20,)\n",
            "Number of training files:  (7,)\n",
            "Number of testing files:  (9,)\n"
          ],
          "name": "stdout"
        }
      ]
    },
    {
      "cell_type": "code",
      "metadata": {
        "id": "6U3rGHjTcKhV"
      },
      "source": [
        "train_list = [spanish_train_names, arabic_train_names, mandarin_train_names, french_train_names, korean_train_names, \n",
        "             russian_train_names, portuguese_train_names, dutch_train_names, turkish_train_names, german_train_names]\n",
        "\n",
        "y_train_list = [spanish_y_train, arabic_y_train, mandarin_y_train, french_y_train, korean_y_train, \n",
        "             russian_y_train, portuguese_y_train, dutch_y_train, turkish_y_train, german_y_train]\n",
        "\n",
        "for lang, train, y_train in zip(lang_list, train_list, y_train_list):\n",
        "  # Check if training data has been segmented. If not, segment each audio file.\n",
        "  train_file_list = os.listdir('data/lang10/train/{}'.format(lang))\n",
        "\n",
        "  for i in range(len(train)):\n",
        "    # get a filename\n",
        "    filename = train.iloc[i]\n",
        "    # Check to see if the filename has already been segmented\n",
        "    # if any(file.startswith(filename) for file in os.listdir('data/gender/train')):\n",
        "    if any(file.startswith(filename) for file in train_file_list):\n",
        "      pass\n",
        "    else: \n",
        "     augment.Augment.segment_audio(train.iloc[i], y_train.iloc[i], split='train/{}'.format(lang), clf=CLF)\n",
        "     #print('{} segmented'.format(filename))"
      ],
      "execution_count": null,
      "outputs": []
    },
    {
      "cell_type": "code",
      "metadata": {
        "id": "ORHNPFOouPCN"
      },
      "source": [
        "val_list = [spanish_val_names, arabic_val_names, mandarin_val_names, french_val_names, korean_val_names, \n",
        "             russian_val_names, portuguese_val_names, dutch_val_names, turkish_val_names, german_val_names]\n",
        "\n",
        "y_val_list = [spanish_y_val, arabic_y_val, mandarin_y_val, french_y_val, korean_y_val, \n",
        "             russian_y_val, portuguese_y_val, dutch_y_val, turkish_y_val, german_y_val]\n",
        "\n",
        "for lang, val, y_val in zip(lang_list, val_list, y_val_list):\n",
        "  # Check if training data has been segmented. If not, segment each audio file.\n",
        "  val_file_list = os.listdir('data/lang10/validation/{}'.format(lang))\n",
        "\n",
        "  for i in range(len(val)):\n",
        "    # get a filename\n",
        "    filename = val.iloc[i]\n",
        "    # Check to see if the filename has already been segmented\n",
        "    # if any(file.startswith(filename) for file in os.listdir('data/gender/train')):\n",
        "    if any(file.startswith(filename) for file in val_file_list):\n",
        "      pass\n",
        "    else: \n",
        "     augment.Augment.segment_audio(val.iloc[i], y_val.iloc[i], split='validation/{}'.format(lang), clf=CLF)\n",
        "     #print('{} segmented'.format(filename))"
      ],
      "execution_count": null,
      "outputs": []
    },
    {
      "cell_type": "code",
      "metadata": {
        "id": "WFhnr1JivNnw"
      },
      "source": [
        "test_list = [spanish_test_names, arabic_test_names, mandarin_test_names, french_test_names, korean_test_names, \n",
        "             russian_test_names, portuguese_test_names, dutch_test_names, turkish_test_names, german_test_names]\n",
        "\n",
        "y_test_list = [spanish_y_test, arabic_y_test, mandarin_y_test, french_y_test, korean_y_test, \n",
        "             russian_y_test, portuguese_y_test, dutch_y_test, turkish_y_test, german_y_test]\n",
        "\n",
        "for lang, test, y_test in zip(lang_list, test_list, y_test_list):\n",
        "  # Check if training data has been segmented. If not, segment each audio file.\n",
        "  test_file_list = os.listdir('data/lang10/test/test_data')\n",
        "\n",
        "  for i in range(len(test)):\n",
        "    # get a filename\n",
        "    filename = test.iloc[i]\n",
        "    # Check to see if the filename has already been segmented\n",
        "    # if any(file.startswith(filename) for file in os.listdir('data/gender/train')):\n",
        "    if any(file.startswith(filename) for file in test_file_list):\n",
        "      pass\n",
        "    else: \n",
        "     augment.Augment.segment_audio(test.iloc[i], y_test.iloc[i], split='test/test_data', clf=CLF)\n",
        "     #print('{} segmented'.format(filename))"
      ],
      "execution_count": null,
      "outputs": []
    },
    {
      "cell_type": "markdown",
      "metadata": {
        "id": "3p82Lnmswkt8"
      },
      "source": [
        "###  Add noise to test and validation files"
      ]
    },
    {
      "cell_type": "code",
      "metadata": {
        "id": "stki08cxw4MK"
      },
      "source": [
        "# Generate a list training filenames + segment index to input to add_noise() function\n",
        "train_dict = {}\n",
        "val_dict = {}\n",
        "\n",
        "for lang in lang_list:\n",
        "  train_dict[lang] = [x.split('o.wav')[0] for x in os.listdir('data/lang10/train/{}'.format(lang)) if x.endswith('o.wav')]\n",
        "  val_dict[lang] = [x.split('o.wav')[0] for x in os.listdir('data/lang10/validation/{}'.format(lang)) if x.endswith('o.wav')]"
      ],
      "execution_count": null,
      "outputs": []
    },
    {
      "cell_type": "code",
      "metadata": {
        "id": "M3U451X4wjig"
      },
      "source": [
        "# Check if training data has been augmented with noise. If not, add noise to each segment.\n",
        "for key, val in train_dict.items():\n",
        "  # print(type(val))\n",
        "  noise_train_list = os.listdir('data/lang10/train/{}'.format(key))\n",
        "  for i in range(len(val)):\n",
        "    filename = val[i]\n",
        "  \n",
        "    if any((file.startswith(filename)& file.endswith('n.wav')) for file in noise_train_list):\n",
        "      pass\n",
        "    else: \n",
        "      augment.Augment.noisy_data(val[i], split='train/{}'.format(key), clf=CLF)\n",
        "      #print('{} augmented'.format(filename))"
      ],
      "execution_count": null,
      "outputs": []
    },
    {
      "cell_type": "code",
      "metadata": {
        "id": "tLN5YlNuw4n0"
      },
      "source": [
        "# Check if validation data has been augmented with noise. If not, add noise to each segment.\n",
        "for key, val in val_dict.items():\n",
        "  noise_train_list = os.listdir('data/lang10/validation/{}'.format(key))\n",
        "  for i in range(len(val)):\n",
        "    filename = val[i]\n",
        "  \n",
        "    if any((file.startswith(filename)& file.endswith('n.wav')) for file in noise_train_list):\n",
        "      pass\n",
        "    else: \n",
        "      augment.Augment.noisy_data(val[i], split='validation/{}'.format(key), clf=CLF)\n",
        "      #print('{} augmented'.format(filename))"
      ],
      "execution_count": null,
      "outputs": []
    },
    {
      "cell_type": "markdown",
      "metadata": {
        "id": "x9qy1QSq9y04"
      },
      "source": [
        "## Load the VGGish model\n",
        "Needs to be instantiated before dataset generation can be done."
      ]
    },
    {
      "cell_type": "code",
      "metadata": {
        "id": "ohD0F3OS5tXy"
      },
      "source": [
        "# Using a SavedModel from the TFHub in Keras\n",
        "# https://www.tensorflow.org/hub/tf2_saved_model\n",
        "# VGGish model, from https://tfhub.dev/google/vggish/1\n",
        "\n",
        "# Link to the model on TFHub\n",
        "hub_url = 'https://tfhub.dev/google/vggish/1'\n",
        "\n",
        "# Load the model as a Keras model\n",
        "vggish_model = hub.KerasLayer(hub_url)\n",
        "vggish_model.trainable = False"
      ],
      "execution_count": null,
      "outputs": []
    },
    {
      "cell_type": "markdown",
      "metadata": {
        "id": "kgyKmvU49sjv"
      },
      "source": [
        "# Works up to here"
      ]
    },
    {
      "cell_type": "markdown",
      "metadata": {
        "id": "phDb5lqe9_HA"
      },
      "source": [
        "## Generate datasets\n",
        "Following the example from https://keras.io/examples/audio/speaker_recognition_using_cnn/"
      ]
    },
    {
      "cell_type": "code",
      "metadata": {
        "colab": {
          "base_uri": "https://localhost:8080/"
        },
        "id": "nGXpQIKRCBEi",
        "outputId": "43e6c15e-cdda-4805-a3f5-28e68d121ffe"
      },
      "source": [
        "# Dataset generation from Keras.IO example\n",
        "# https://keras.io/examples/audio/speaker_recognition_using_cnn/\n",
        "\n",
        "from pathlib import Path\n",
        "# Get the list of audio file paths along with their corresponding labels\n",
        "DATASET_ROOT = \"data/lang10\"\n",
        "TRAIN_SUBFOLDER = \"train\"\n",
        "VAL_SUBFOLDER = \"validation\"\n",
        "TEST_SUBFOLDER = \"test/test_data\"\n",
        "\n",
        "DATASET_TRAIN_PATH = os.path.join(DATASET_ROOT, TRAIN_SUBFOLDER)\n",
        "DATASET_VAL_PATH = os.path.join(DATASET_ROOT, VAL_SUBFOLDER)\n",
        "DATASET_TEST_PATH = os.path.join(DATASET_ROOT, TEST_SUBFOLDER)\n",
        "\n",
        "SHUFFLE_SEED = 38\n",
        "SAMP_RATE = 16000\n",
        "\n",
        "class_names = os.listdir(DATASET_TRAIN_PATH)\n",
        "print(\"Our class names: {}\".format(class_names,))"
      ],
      "execution_count": null,
      "outputs": [
        {
          "output_type": "stream",
          "text": [
            "Our class names: ['spanish', 'arabic', 'mandarin', 'french', 'korean', 'russian', 'portuguese', 'dutch', 'turkish', 'german', 'english']\n",
            "Processing language spanish\n",
            "Processing language arabic\n",
            "Processing language mandarin\n",
            "Processing language french\n",
            "Processing language korean\n",
            "Processing language russian\n",
            "Processing language portuguese\n",
            "Processing language dutch\n",
            "Processing language turkish\n",
            "Processing language german\n",
            "Processing language english\n",
            "Found 1929 files belonging to 11 classes.\n"
          ],
          "name": "stdout"
        }
      ]
    },
    {
      "cell_type": "code",
      "metadata": {
        "id": "Nc5m5KDor-A2"
      },
      "source": [
        "# Process training data\n",
        "train_paths = []\n",
        "train_labels = []\n",
        "for label, name in enumerate(class_names):\n",
        "    print(\"Processing language {}\".format(name,))\n",
        "    dir_path = Path(DATASET_TRAIN_PATH) / name\n",
        "    language_sample_paths = [\n",
        "        os.path.join(dir_path, filepath)\n",
        "        for filepath in os.listdir(dir_path)\n",
        "        if filepath.endswith(\".wav\")\n",
        "    ]\n",
        "    train_paths += language_sample_paths\n",
        "    train_labels += [label] * len(language_sample_paths)\n",
        "\n",
        "print(\n",
        "    \"Found {} files belonging to {} classes.\".format(len(audio_paths), len(class_names))\n",
        ")"
      ],
      "execution_count": null,
      "outputs": []
    },
    {
      "cell_type": "code",
      "metadata": {
        "colab": {
          "base_uri": "https://localhost:8080/"
        },
        "id": "Mwii0YwLSX5T",
        "outputId": "9b8b332b-a4f0-4154-fa2f-33b8d2f2aeac"
      },
      "source": [
        "print(train_labels[:2*BATCH_SIZE])"
      ],
      "execution_count": null,
      "outputs": [
        {
          "output_type": "stream",
          "text": [
            "[0, 0, 0, 0, 0, 0, 0, 0, 0, 0, 0, 0, 0, 0, 0, 0, 0, 0, 0, 0, 0, 0, 0, 0, 0, 0, 0, 0, 0, 0, 0, 0, 0, 0, 0, 0, 0, 0, 0, 0, 0, 0, 0, 0, 0, 0, 0, 0, 0, 0, 0, 0, 0, 0, 0, 0, 0, 0, 0, 0, 0, 0, 0, 0, 0, 0, 0, 0, 0, 0, 0, 0, 0, 0, 0, 0, 0, 0, 0, 0, 0, 0, 0, 0, 0, 0, 0, 0, 0, 0, 0, 0, 0, 0, 0, 0, 0, 0, 0, 0, 0, 0, 0, 0, 0, 0, 0, 0, 0, 0, 0, 0, 0, 0, 0, 0, 0, 0, 0, 0, 0, 0, 0, 0, 0, 0, 0, 0, 0, 0, 0, 0, 0, 0, 0, 0, 0, 0, 0, 0, 0, 0, 0, 0, 0, 0, 0, 0, 0, 0, 0, 0, 0, 0, 0, 0, 0, 0, 0, 0, 0, 0, 0, 0, 0, 0, 0, 0, 0, 0, 0, 0, 0, 0, 0, 0, 0, 0, 0, 0, 0, 0, 0, 0, 0, 0, 0, 0, 0, 0, 0, 0, 0, 0, 0, 0, 0, 0, 0, 0, 0, 0, 0, 0, 0, 0, 0, 0, 0, 0, 0, 0, 0, 0, 0, 0, 0, 0, 0, 0, 0, 0, 0, 0, 0, 0, 0, 0, 0, 0, 0, 0, 0, 0, 0, 0, 0, 0, 0, 0, 0, 0, 0, 0, 0, 0, 0, 0, 0, 0, 0, 0, 0, 0, 0, 0, 0, 0, 0, 0, 0, 0, 0, 0, 0, 0, 0, 0, 0, 0, 0, 0, 0, 0, 0, 0, 0, 0, 0, 0, 0, 0, 0, 0, 0, 0, 0, 0, 0, 0, 0, 0, 0, 0, 0, 0, 0, 0, 0, 0, 0, 0, 0, 0, 0, 0, 0, 0, 0, 0, 0, 0, 0, 0, 0, 0, 0, 0, 0, 0, 0, 0, 0, 0, 0, 0, 0, 0, 0, 0, 0, 0, 0, 0, 0, 0, 0, 0, 0, 0, 0, 0, 0, 0, 0, 0, 0, 0, 0, 0, 0, 0, 0, 0, 0, 0, 0, 0, 0, 0, 0, 0, 0, 0, 0, 0, 0, 0, 0, 0, 0, 0, 0, 0, 0, 0, 0, 0, 0, 0, 0, 0, 0, 0, 0, 0, 0, 0, 0, 0, 0, 0, 0, 0, 0, 0, 0, 0, 0, 0, 0, 0, 0, 0, 0, 0, 0, 0, 0, 0, 0, 0, 0, 0, 0, 0, 0, 0, 0, 0, 0, 0, 0, 0, 0, 0, 0, 0, 0, 0, 0, 0, 0, 0, 0, 0, 0, 0, 0, 0, 0, 0, 0, 0, 0, 0, 0, 0, 0, 0, 0, 0, 0, 0, 0, 0, 0, 0, 0, 0, 0, 0, 0, 0, 0, 0, 0, 0, 0, 0, 0, 0, 1, 1, 1, 1, 1, 1, 1, 1, 1, 1, 1, 1, 1, 1, 1, 1, 1, 1, 1, 1, 1, 1, 1, 1, 1, 1, 1, 1, 1, 1, 1, 1, 1, 1, 1, 1, 1, 1, 1, 1, 1, 1, 1, 1, 1, 1, 1, 1, 1, 1, 1, 1, 1, 1, 1, 1, 1, 1, 1, 1, 1, 1, 1, 1, 1, 1, 1, 1, 1, 1, 1, 1, 1, 1, 1, 1, 1, 1, 1, 1, 1, 1, 1, 1, 1, 1, 1, 1, 1, 1, 1, 1, 1, 1, 1, 1, 1, 1, 1, 1, 1, 1, 1, 1, 1, 1, 1, 1, 1, 1, 1, 1, 1, 1, 1, 1, 1, 1, 1, 1, 1, 1, 1, 1, 1, 1, 1, 1, 1, 1, 1, 1, 1, 1, 1, 1, 1, 1, 1, 1, 1, 1, 1, 1, 1, 1, 1, 1, 1, 1, 1, 1, 1, 1, 1, 1, 1, 1, 1, 1, 1, 1, 1, 1, 1, 1, 1, 1, 1, 1, 1, 1, 1, 1, 1, 1, 1, 1, 1, 1, 1, 1, 1, 1, 1, 1, 1, 1, 1, 1, 1, 1, 1, 1, 1, 1, 1, 1, 1, 1, 1, 1, 1, 1, 1, 1, 1, 1, 1, 1, 1, 1, 1, 1, 1, 1, 1, 1, 1, 1, 1, 1, 1, 1, 1, 1, 1, 1, 1, 1, 1, 1, 1, 1, 1, 1, 1, 1, 1, 1, 1, 1, 1, 1, 1, 1, 1, 1, 1, 1, 1, 1, 1, 1, 1, 1, 1, 1, 1, 1, 1, 1, 1, 1, 1, 1, 1, 1, 1, 1, 1, 1, 1, 1, 1, 1, 1, 1, 1, 1, 1, 1, 1, 1, 1, 1, 1, 1, 1, 1, 1, 1, 1, 1, 1, 1, 1, 1, 1, 1, 1, 1, 1, 1, 1, 1, 1, 1, 1, 1, 1, 1, 1, 1, 1, 1, 1, 1, 1, 1, 1, 1, 1, 1, 1, 1, 1, 1, 1, 1, 1, 1, 1, 1, 2, 2, 2, 2, 2, 2, 2, 2, 2, 2, 2, 2, 2, 2, 2, 2, 2, 2, 2, 2, 2, 2, 2, 2, 2, 2, 2, 2, 2, 2, 2, 2, 2, 2, 2, 2, 2, 2, 2, 2, 2, 2, 2, 2, 2, 2, 2, 2, 2, 2, 2, 2, 2, 2, 2, 2, 2, 2, 2, 2, 2, 2, 2, 2, 2, 2, 2, 2, 2, 2, 2, 2, 2, 2, 2, 2, 2, 2, 2, 2, 2, 2, 2, 2, 2, 2, 2, 2, 2, 2, 2, 2, 2, 2, 2, 2, 2, 2, 2, 2, 2, 2, 2, 2, 2, 2, 2, 2, 2, 2, 2, 2, 2, 2, 2, 2, 2, 2, 2, 2, 2, 2, 2, 2, 2, 2, 2, 2, 2, 2, 2, 2, 2, 2, 2, 2, 2, 2, 2, 2, 2, 2, 2, 2, 2, 2, 2, 2, 2, 2, 2, 2, 2, 2, 2, 2, 2, 2, 2, 2, 2, 2, 2, 2, 2, 2, 2, 2, 2, 2, 2, 2, 2, 2, 2, 2, 2, 2, 2, 2, 2, 2, 2, 2, 2, 2, 3, 3, 3, 3, 3, 3, 3, 3, 3, 3, 3, 3, 3, 3, 3, 3, 3, 3, 3, 3, 3, 3, 3, 3, 3, 3, 3, 3, 3, 3, 3, 3, 3, 3, 3, 3, 3, 3, 3, 3, 3, 3, 3, 3, 3, 3, 3, 3, 3, 3, 3, 3, 3, 3, 3, 3, 3, 3, 3, 3, 3, 3, 3, 3, 3, 3, 3, 3, 3, 3, 3, 3, 3, 3, 3, 3, 3, 3, 3, 3, 3, 3, 3, 3, 3, 3, 3, 3, 3, 3, 3, 3, 3, 3, 3, 3, 3, 3, 3, 3, 3, 3, 3, 3, 3, 3, 3, 3, 3, 3, 3, 3, 3, 3, 3, 3, 3, 3, 3, 3, 3, 3, 3, 3, 3, 3, 3, 3, 3, 3, 3, 3, 3, 3, 3, 3, 3, 3, 3, 3, 3, 3, 3, 3, 3, 3, 3, 3, 3, 3, 3, 3, 3, 3, 3, 3, 3, 3, 3, 3, 4, 4, 4, 4, 4, 4, 4, 4, 4, 4, 4, 4, 4, 4, 4, 4, 4, 4, 4, 4, 4, 4, 4, 4, 4, 4, 4, 4, 4, 4, 4, 4, 4, 4, 4, 4, 4, 4, 4, 4, 4, 4, 4, 4, 4, 4, 4, 4, 4, 4, 4, 4, 4, 4, 4, 4, 4, 4, 4, 4, 4, 4, 4, 4, 4, 4, 4, 4, 4, 4, 4, 4, 4, 4, 4, 4, 4, 4, 4, 4, 4, 4, 4, 4, 4, 4, 4, 4, 4, 4, 4, 4, 4, 4, 4, 4, 4, 4, 4, 4, 4, 4, 4, 4, 4, 4, 4, 4, 4, 4, 4, 4, 4, 4, 4, 4, 4, 4, 4, 4, 4, 4, 4, 4, 4, 4, 4, 4, 4, 4, 4, 4, 4, 4, 4, 4, 4, 4, 4, 4, 4, 4, 4, 4, 4, 4, 4, 4, 4, 4, 4, 4, 4, 4, 4, 4, 4, 4, 5, 5, 5, 5, 5, 5, 5, 5, 5, 5, 5, 5, 5, 5, 5, 5, 5, 5, 5, 5, 5, 5, 5, 5, 5, 5, 5, 5, 5, 5, 5, 5, 5, 5, 5, 5, 5, 5, 5, 5, 5, 5, 5, 5, 5, 5, 5, 5, 5, 5, 5, 5, 5, 5, 5, 5, 5, 5, 5, 5, 5, 5, 5, 5, 5, 5, 5, 5, 5, 5, 5, 5, 5, 5, 5, 5, 5, 5, 5, 5, 5, 5, 5, 5, 5, 5, 5, 5, 5, 5, 5, 5, 5, 5, 5, 5, 5, 5, 5, 5, 5, 5, 5, 5, 5, 5, 5, 5, 5, 5, 5, 5, 5, 5, 5, 5, 5, 5, 5, 5, 5, 5, 5, 5, 6, 6, 6, 6, 6, 6, 6, 6, 6, 6, 6, 6, 6, 6, 6, 6, 6, 6, 6, 6, 6, 6, 6, 6, 6, 6, 6, 6, 6, 6, 6, 6, 6, 6, 6, 6, 6, 6, 6, 6, 6, 6, 6, 6, 6, 6, 6, 6, 6, 6, 6, 6, 6, 6, 6, 6, 6, 6, 6, 6, 6, 6, 6, 6, 6, 6, 6, 6, 6, 6, 6, 6, 6, 6, 6, 6, 6, 6, 6, 6, 6, 6, 6, 6, 6, 6, 6, 6, 6, 6, 6, 6, 6, 6, 6, 6, 6, 6, 6, 6, 6, 6, 6, 6, 6, 6, 6, 6, 6, 6, 6, 6, 6, 6, 6, 6, 6, 6, 6, 6, 7, 7, 7, 7, 7, 7, 7, 7, 7, 7, 7, 7, 7, 7, 7, 7, 7, 7, 7, 7, 7, 7, 7, 7, 7, 7, 7, 7, 7, 7, 7, 7, 7, 7, 7, 7, 7, 7, 7, 7, 7, 7, 7, 7, 7, 7, 7, 7, 7, 7, 7, 7, 7, 7, 7, 7, 7, 7, 7, 7, 7, 7, 7, 7, 7, 7, 7, 7, 7, 7, 7, 7, 7, 7, 7, 7, 7, 7, 7, 7, 7, 7, 7, 7, 7, 7, 7, 7, 7, 7, 7, 7, 7, 7, 7, 7, 7, 7, 7, 7, 7, 7, 8, 8, 8, 8, 8, 8, 8, 8, 8, 8, 8, 8, 8, 8, 8, 8, 8, 8, 8, 8, 8, 8, 8, 8, 8, 8, 8, 8, 8, 8, 8, 8, 8, 8, 8, 8, 8, 8, 8, 8, 8, 8, 8, 8, 8, 8, 8, 8, 8, 8, 8, 8, 8, 8, 8, 8, 8, 8, 8, 8, 8, 8, 8, 8, 8, 8, 8, 8, 8, 8, 8, 8, 8, 8, 8, 8, 8, 8, 8, 8, 8, 8, 8, 8, 8, 8, 8, 8, 9, 9, 9, 9, 9, 9, 9, 9, 9, 9, 9, 9, 9, 9, 9, 9, 9, 9, 9, 9, 9, 9, 9, 9, 9, 9, 9, 9, 9, 9, 9, 9, 9, 9, 9, 9, 9, 9, 9, 9, 9, 9, 9, 9, 9, 9, 9, 9, 9, 9, 9, 9, 9, 9, 9, 9, 9, 9, 9, 9, 9, 9, 9, 9, 9, 9, 9, 9, 9, 9, 9, 9, 9, 9, 9, 9, 9, 9, 9, 9, 10, 10, 10, 10, 10, 10, 10, 10, 10, 10, 10, 10, 10, 10, 10, 10, 10, 10, 10, 10, 10, 10, 10, 10, 10, 10, 10, 10, 10, 10, 10, 10, 10, 10, 10, 10, 10, 10, 10, 10, 10, 10, 10, 10, 10, 10, 10, 10, 10, 10, 10, 10, 10, 10, 10, 10, 10, 10, 10, 10, 10, 10, 10, 10, 10, 10, 10, 10, 10, 10, 10, 10, 10, 10, 10, 10, 10, 10, 10, 10, 10, 10, 10, 10, 10, 10, 10, 10, 10, 10, 10, 10, 10, 10, 10, 10, 10, 10, 10, 10, 10, 10, 10, 10, 10]\n"
          ],
          "name": "stdout"
        }
      ]
    },
    {
      "cell_type": "code",
      "metadata": {
        "colab": {
          "base_uri": "https://localhost:8080/"
        },
        "id": "78dym3_rDXaI",
        "outputId": "83c3334a-d616-42d6-f41d-a94c0ab1ff64"
      },
      "source": [
        "# Process validation data\n",
        "validation_paths = []\n",
        "val_labels = []\n",
        "for label, name in enumerate(class_names):\n",
        "    print(\"Processing language {}\".format(name,))\n",
        "    dir_path = Path(DATASET_VAL_PATH) / name\n",
        "    language_sample_paths = [\n",
        "        os.path.join(dir_path, filepath)\n",
        "        for filepath in os.listdir(dir_path)\n",
        "        if filepath.endswith(\".wav\")\n",
        "    ]\n",
        "    validation_paths += language_sample_paths\n",
        "    val_labels += [label] * len(language_sample_paths)\n",
        "\n",
        "print(\n",
        "    \"Found {} files belonging to {} classes.\".format(len(validation_paths), len(class_names))\n",
        ")"
      ],
      "execution_count": null,
      "outputs": [
        {
          "output_type": "stream",
          "text": [
            "Processing language spanish\n",
            "Processing language arabic\n",
            "Processing language mandarin\n",
            "Processing language french\n",
            "Processing language korean\n",
            "Processing language russian\n",
            "Processing language portuguese\n",
            "Processing language dutch\n",
            "Processing language turkish\n",
            "Processing language german\n",
            "Processing language english\n",
            "Found 652 files belonging to 11 classes.\n"
          ],
          "name": "stdout"
        }
      ]
    },
    {
      "cell_type": "code",
      "metadata": {
        "id": "EFWanBGxtiW8"
      },
      "source": [
        "# Process validation data\n",
        "testing_paths = []\n",
        "test_labels = []\n",
        "for label, name in enumerate(class_names):\n",
        "    print(\"Processing language {}\".format(name,))\n",
        "    dir_path = Path(DATASET_TEST_PATH) / name\n",
        "    language_sample_paths = [\n",
        "        os.path.join(dir_path, filepath)\n",
        "        for filepath in os.listdir(dir_path)\n",
        "        if filepath.endswith(\".wav\")\n",
        "    ]\n",
        "    testing_paths += language_sample_paths\n",
        "    test_labels += [label] * len(language_sample_paths)\n",
        "\n",
        "print(\n",
        "    \"Found {} files belonging to {} classes.\".format(len(testing_paths), len(class_names))\n",
        ")"
      ],
      "execution_count": null,
      "outputs": []
    },
    {
      "cell_type": "code",
      "metadata": {
        "id": "IEO_EI3fD4m7"
      },
      "source": [
        "# Shuffle the order of the traning and validation datasets and labels\n",
        "rng = np.random.RandomState(SHUFFLE_SEED)\n",
        "rng.shuffle(train_paths)\n",
        "rng = np.random.RandomState(SHUFFLE_SEED)\n",
        "rng.shuffle(train_labels)\n",
        "\n",
        "rng = np.random.RandomState(SHUFFLE_SEED)\n",
        "rng.shuffle(validation_paths)\n",
        "rng = np.random.RandomState(SHUFFLE_SEED)\n",
        "rng.shuffle(val_labels)\n",
        "\n",
        "rng = np.random.RandomState(SHUFFLE_SEED)\n",
        "rng.shuffle(testing_paths)\n",
        "rng = np.random.RandomState(SHUFFLE_SEED)\n",
        "rng.shuffle(test_labels)"
      ],
      "execution_count": null,
      "outputs": []
    },
    {
      "cell_type": "code",
      "metadata": {
        "id": "pj0DAd_vtdpV"
      },
      "source": [
        "train_onehot = tf.keras.backend.one_hot(train_labels, num_classes = len(class_names))\n",
        "val_onehot = tf.keras.backend.one_hot(val_labels, num_classes = len(class_names))\n",
        "test_onehot = tf.keras.backend.one_hot(test_labels, num_classes = len(class_names))\n",
        "\n",
        "print(type(train_onehot) )\n",
        "print(train_onehot.shape)\n",
        "print(train_onehot[0])"
      ],
      "execution_count": null,
      "outputs": []
    },
    {
      "cell_type": "code",
      "metadata": {
        "colab": {
          "base_uri": "https://localhost:8080/"
        },
        "id": "CkpHUMnj6UU9",
        "outputId": "ac3f177c-2a1e-40ac-d870-fa69758486bc"
      },
      "source": [
        "# Print sizes of data splits\n",
        "print(\"Number of training samples: \", len(train_paths))\n",
        "print(\"Number of validation samples: \", len(validation_paths))\n",
        "testing_paths = os.listdir('data/lang10/test/test_data')\n",
        "print(\"Number of testing samples: \", len(testing_paths))"
      ],
      "execution_count": null,
      "outputs": [
        {
          "output_type": "stream",
          "text": [
            "Number of training samples:  1929\n",
            "Number of validation samples:  652\n",
            "Number of testing samples:  446\n"
          ],
          "name": "stdout"
        }
      ]
    },
    {
      "cell_type": "code",
      "metadata": {
        "colab": {
          "base_uri": "https://localhost:8080/"
        },
        "id": "35YWIPqd7BCK",
        "outputId": "b0bdcd59-ab10-400c-b0cf-ef60be20cc64"
      },
      "source": [
        "# Calculate how many dataset batches to generate\n",
        "# May not be needed with this new generator. Still, I want to know how many steps per epoch\n",
        "train_steps = np.int(np.ceil(len(train_paths)/BATCH_SIZE))\n",
        "val_steps = np.int(np.ceil(len(validation_paths)/BATCH_SIZE))\n",
        "eval_steps = np.int(np.ceil(len(testing_paths)/BATCH_SIZE))\n",
        "\n",
        "print(\"training_steps_per_epoch = \", train_steps)\n",
        "print(\"validation_steps = \", val_steps)\n",
        "print(\"evaluation_steps = \", eval_steps)"
      ],
      "execution_count": null,
      "outputs": [
        {
          "output_type": "stream",
          "text": [
            "steps_per_epoch =  61\n",
            "validation_steps =  21\n",
            "evaluation_steps =  14\n"
          ],
          "name": "stdout"
        }
      ]
    },
    {
      "cell_type": "markdown",
      "metadata": {
        "id": "b6C7mMUKtDwu"
      },
      "source": [
        "## Dataset generator"
      ]
    },
    {
      "cell_type": "code",
      "metadata": {
        "id": "e_Luq-GPtDeS"
      },
      "source": [
        "def tf_data_generator(file_list, label_list, batch_size=32):\n",
        "    \"\"\" Create a dataset generator. \n",
        "    Iterate through a list of filenames and process in batches.\n",
        "    Extract audio features from vggish model.\n",
        "    WARNING: This generator forms an infinite loop, \n",
        "    so you need to specify how long to run the generator \n",
        "    before fitting and evaluating a model.\n",
        "\n",
        "    Arguments:\n",
        "    file_list - list of filenames to iterate\n",
        "    vggish_model  - pass the instantiated model to the function\n",
        "    batch_size - how many files to process at a time\n",
        "    \"\"\"\n",
        "    i = 0\n",
        "    while True: #infinite loop\n",
        "        if i*batch_size >= len(file_list):\n",
        "            i=0\n",
        "            np.random.shuffle(file_list)\n",
        "        else:\n",
        "            file_chunk = file_list[i*batch_size:(i+1)*batch_size]\n",
        "            labels = label_list[i*batch_size:(i+1)*batch_size, :]\n",
        "            data = []\n",
        "\n",
        "            for file in file_chunk:\n",
        "                # Read data\n",
        "                audio, sr = librosa.load(file, sr=16000)\n",
        "                # Apply transformations\n",
        "                embed = vggish_model(audio)\n",
        "                data.append(embed)\n",
        "                # Extract labels from filename\n",
        "\n",
        "            data = np.asarray(data)\n",
        "            labels = np.asarray(labels)\n",
        "\n",
        "            yield data, labels\n",
        "            i += 1"
      ],
      "execution_count": null,
      "outputs": []
    },
    {
      "cell_type": "code",
      "metadata": {
        "id": "Gm1zl_dAuyFM"
      },
      "source": [
        "dataset_check = tf.data.Dataset.from_generator(tf_data_generator,\n",
        "                                         args = [train_paths[:2*BATCH_SIZE], train_onehot[:2*BATCH_SIZE], BATCH_SIZE],\n",
        "                                         output_types=(tf.float32, tf.float32),\n",
        "                                         output_shapes= ((None, 10, 128),(None,11)) )"
      ],
      "execution_count": null,
      "outputs": []
    },
    {
      "cell_type": "code",
      "metadata": {
        "id": "4emugYzuu-Dc"
      },
      "source": [
        "# Check shape and size of dataset batches\n",
        "for data, labels in dataset_check.take(2):\n",
        "  print(data.shape)\n",
        "  print(labels.shape)"
      ],
      "execution_count": null,
      "outputs": []
    },
    {
      "cell_type": "code",
      "metadata": {
        "id": "tuQam7y2vF1U"
      },
      "source": [
        "train_dataset = tf.data.Dataset.from_generator(tf_data_generator, \n",
        "                                         args = [train_paths, labels_onehot, BATCH_SIZE],\n",
        "                                         output_types=(tf.float32, tf.float32),\n",
        "                                         output_shapes= ((None, 10, 128),(None,11)) ) \n",
        "validation_dataset = tf.data.Dataset.from_generator(tf_data_generator, \n",
        "                                         args = [validation_paths, val_onehot, BATCH_SIZE],\n",
        "                                         output_types=(tf.float32, tf.float32),\n",
        "                                         output_shapes= ((None, 10, 128),(None,11)) )\n",
        "test_dataset = tf.data.Dataset.from_generator(tf_data_generator, \n",
        "                                         args = [test_paths, test_onehot, BATCH_SIZE],\n",
        "                                         output_types=(tf.float32, tf.float32),\n",
        "                                         output_shapes= ((None, 10, 128),(None,11)) ) "
      ],
      "execution_count": null,
      "outputs": []
    },
    {
      "cell_type": "markdown",
      "metadata": {
        "id": "g66DQhNW_YIn"
      },
      "source": [
        "# Build the model\n",
        "\n",
        "Going to start with a simple, two-layer model, but I expect I will need to try  more complicated architectures.\n",
        "\n",
        "Input - vggish embeddings\n",
        "Input shape = (None, 10, 128)\n",
        "\n",
        "Output - prediction for each class; use softmax, so they add up to 1 and scores are probabilities?\n",
        "Output shape (None, 10)\n",
        "\n",
        "Can use Keras in sklearn - see tutorial for details"
      ]
    },
    {
      "cell_type": "code",
      "metadata": {
        "id": "dgMTKhyK_XxF"
      },
      "source": [
        "from keras.layers import Input\n",
        "\n",
        "def create_model():\n",
        "  model = Sequential()\n",
        "  #Input shape (None, 10, 128)\n",
        "  model.add(Input(shape=(1, 10, 128), batch_size=BATCH_SIZE )) \n",
        "  model.add(Dense(128, activation = 'relu' ) ) #, input_shape=(10, 128) ) )\n",
        "  model.add(Flatten()),\n",
        "  # Output\n",
        "  model.add(Dense(11, activation='softmax') )\n",
        "\n",
        "  model.compile(loss='categorical_crossentropy', optimizer='adam', metrics=['accuracy'])\n",
        "  return model\n",
        "\n",
        "lang_2dense = create_model()"
      ],
      "execution_count": null,
      "outputs": []
    },
    {
      "cell_type": "markdown",
      "metadata": {
        "id": "PFJRKtRoc-A5"
      },
      "source": [
        "Add checkpoint callback to model"
      ]
    },
    {
      "cell_type": "code",
      "metadata": {
        "id": "yn7K3T8bdCx8"
      },
      "source": [
        "ckpt_path = 'model/lang10/checkpoints/lang_2dense.ckpt'\n",
        "ckpt_dir = os.path.dirname(ckpt_path)\n",
        "ckpt = tf.keras.callbacks.ModelCheckpoint(\n",
        "    filepath=ckpt_path,\n",
        "    save_weights_only=True,\n",
        "    monitor='val_accuracy',\n",
        "    mode='max',\n",
        "    save_best_only=True)"
      ],
      "execution_count": null,
      "outputs": []
    },
    {
      "cell_type": "code",
      "metadata": {
        "id": "XyoJodP1_We0"
      },
      "source": [
        "# Add early stopping to train classifier model; default is 10 epochs\n",
        "from tensorflow.keras.callbacks import EarlyStopping\n",
        "early_stopping_monitor = EarlyStopping(patience=2)"
      ],
      "execution_count": null,
      "outputs": []
    },
    {
      "cell_type": "code",
      "metadata": {
        "colab": {
          "base_uri": "https://localhost:8080/",
          "height": 698
        },
        "id": "sTbPBpD6_pn0",
        "outputId": "6183ec0b-ff1b-495a-ac5f-abb1088e3b16"
      },
      "source": [
        "# Fit the classifier\n",
        "if os.path.isdir('model/lang10/lang_2dense'):\n",
        "  lang_2dense = tf.keras.models.load_model('/model/lang10/lang_2dense')\n",
        "  hist_2df = pd.read_csv('model/lang10/lang_2dense.history.csv')\n",
        "else:\n",
        "  if os.path.isfile(ckpt_dir):\n",
        "    # Load model weights from the most recent checkpoint\n",
        "    latest = tf.train.latest_checkpoint(ckpt_dir)\n",
        "    genderClf_2layer.load_weights(latest)\n",
        "  hist_2dense = lang_2dense.fit(train_dataset, \n",
        "                        steps_per_epoch=train_steps, \n",
        "                        epochs=10, \n",
        "                        validation_data=validation_dataset, \n",
        "                        validation_steps = val_steps,\n",
        "                        callbacks=[early_stopping_monitor, ckpt], \n",
        "                        batch_size=BATCH_SIZE)"
      ],
      "execution_count": null,
      "outputs": [
        {
          "output_type": "stream",
          "text": [
            "Epoch 1/2\n"
          ],
          "name": "stdout"
        },
        {
          "output_type": "error",
          "ename": "ValueError",
          "evalue": "ignored",
          "traceback": [
            "\u001b[0;31m---------------------------------------------------------------------------\u001b[0m",
            "\u001b[0;31mValueError\u001b[0m                                Traceback (most recent call last)",
            "\u001b[0;32m<ipython-input-94-3521e987b989>\u001b[0m in \u001b[0;36m<module>\u001b[0;34m()\u001b[0m\n\u001b[1;32m      1\u001b[0m \u001b[0;31m# Fit the classifier\u001b[0m\u001b[0;34m\u001b[0m\u001b[0;34m\u001b[0m\u001b[0;34m\u001b[0m\u001b[0m\n\u001b[0;32m----> 2\u001b[0;31m \u001b[0mhistory\u001b[0m \u001b[0;34m=\u001b[0m \u001b[0mlang_2layer\u001b[0m\u001b[0;34m.\u001b[0m\u001b[0mfit\u001b[0m\u001b[0;34m(\u001b[0m\u001b[0mtrain_ds\u001b[0m\u001b[0;34m,\u001b[0m \u001b[0mepochs\u001b[0m\u001b[0;34m=\u001b[0m\u001b[0;36m2\u001b[0m\u001b[0;34m,\u001b[0m \u001b[0mvalidation_data\u001b[0m \u001b[0;34m=\u001b[0m \u001b[0mvalid_ds\u001b[0m\u001b[0;34m,\u001b[0m \u001b[0mcallbacks\u001b[0m \u001b[0;34m=\u001b[0m \u001b[0;34m[\u001b[0m\u001b[0mearly_stopping_monitor\u001b[0m\u001b[0;34m,\u001b[0m \u001b[0mckpt\u001b[0m\u001b[0;34m]\u001b[0m\u001b[0;34m)\u001b[0m\u001b[0;34m\u001b[0m\u001b[0;34m\u001b[0m\u001b[0m\n\u001b[0m",
            "\u001b[0;32m/usr/local/lib/python3.6/dist-packages/tensorflow/python/keras/engine/training.py\u001b[0m in \u001b[0;36m_method_wrapper\u001b[0;34m(self, *args, **kwargs)\u001b[0m\n\u001b[1;32m    106\u001b[0m   \u001b[0;32mdef\u001b[0m \u001b[0m_method_wrapper\u001b[0m\u001b[0;34m(\u001b[0m\u001b[0mself\u001b[0m\u001b[0;34m,\u001b[0m \u001b[0;34m*\u001b[0m\u001b[0margs\u001b[0m\u001b[0;34m,\u001b[0m \u001b[0;34m**\u001b[0m\u001b[0mkwargs\u001b[0m\u001b[0;34m)\u001b[0m\u001b[0;34m:\u001b[0m\u001b[0;34m\u001b[0m\u001b[0;34m\u001b[0m\u001b[0m\n\u001b[1;32m    107\u001b[0m     \u001b[0;32mif\u001b[0m \u001b[0;32mnot\u001b[0m \u001b[0mself\u001b[0m\u001b[0;34m.\u001b[0m\u001b[0m_in_multi_worker_mode\u001b[0m\u001b[0;34m(\u001b[0m\u001b[0;34m)\u001b[0m\u001b[0;34m:\u001b[0m  \u001b[0;31m# pylint: disable=protected-access\u001b[0m\u001b[0;34m\u001b[0m\u001b[0;34m\u001b[0m\u001b[0m\n\u001b[0;32m--> 108\u001b[0;31m       \u001b[0;32mreturn\u001b[0m \u001b[0mmethod\u001b[0m\u001b[0;34m(\u001b[0m\u001b[0mself\u001b[0m\u001b[0;34m,\u001b[0m \u001b[0;34m*\u001b[0m\u001b[0margs\u001b[0m\u001b[0;34m,\u001b[0m \u001b[0;34m**\u001b[0m\u001b[0mkwargs\u001b[0m\u001b[0;34m)\u001b[0m\u001b[0;34m\u001b[0m\u001b[0;34m\u001b[0m\u001b[0m\n\u001b[0m\u001b[1;32m    109\u001b[0m \u001b[0;34m\u001b[0m\u001b[0m\n\u001b[1;32m    110\u001b[0m     \u001b[0;31m# Running inside `run_distribute_coordinator` already.\u001b[0m\u001b[0;34m\u001b[0m\u001b[0;34m\u001b[0m\u001b[0;34m\u001b[0m\u001b[0m\n",
            "\u001b[0;32m/usr/local/lib/python3.6/dist-packages/tensorflow/python/keras/engine/training.py\u001b[0m in \u001b[0;36mfit\u001b[0;34m(self, x, y, batch_size, epochs, verbose, callbacks, validation_split, validation_data, shuffle, class_weight, sample_weight, initial_epoch, steps_per_epoch, validation_steps, validation_batch_size, validation_freq, max_queue_size, workers, use_multiprocessing)\u001b[0m\n\u001b[1;32m   1096\u001b[0m                 batch_size=batch_size):\n\u001b[1;32m   1097\u001b[0m               \u001b[0mcallbacks\u001b[0m\u001b[0;34m.\u001b[0m\u001b[0mon_train_batch_begin\u001b[0m\u001b[0;34m(\u001b[0m\u001b[0mstep\u001b[0m\u001b[0;34m)\u001b[0m\u001b[0;34m\u001b[0m\u001b[0;34m\u001b[0m\u001b[0m\n\u001b[0;32m-> 1098\u001b[0;31m               \u001b[0mtmp_logs\u001b[0m \u001b[0;34m=\u001b[0m \u001b[0mtrain_function\u001b[0m\u001b[0;34m(\u001b[0m\u001b[0miterator\u001b[0m\u001b[0;34m)\u001b[0m\u001b[0;34m\u001b[0m\u001b[0;34m\u001b[0m\u001b[0m\n\u001b[0m\u001b[1;32m   1099\u001b[0m               \u001b[0;32mif\u001b[0m \u001b[0mdata_handler\u001b[0m\u001b[0;34m.\u001b[0m\u001b[0mshould_sync\u001b[0m\u001b[0;34m:\u001b[0m\u001b[0;34m\u001b[0m\u001b[0;34m\u001b[0m\u001b[0m\n\u001b[1;32m   1100\u001b[0m                 \u001b[0mcontext\u001b[0m\u001b[0;34m.\u001b[0m\u001b[0masync_wait\u001b[0m\u001b[0;34m(\u001b[0m\u001b[0;34m)\u001b[0m\u001b[0;34m\u001b[0m\u001b[0;34m\u001b[0m\u001b[0m\n",
            "\u001b[0;32m/usr/local/lib/python3.6/dist-packages/tensorflow/python/eager/def_function.py\u001b[0m in \u001b[0;36m__call__\u001b[0;34m(self, *args, **kwds)\u001b[0m\n\u001b[1;32m    778\u001b[0m       \u001b[0;32melse\u001b[0m\u001b[0;34m:\u001b[0m\u001b[0;34m\u001b[0m\u001b[0;34m\u001b[0m\u001b[0m\n\u001b[1;32m    779\u001b[0m         \u001b[0mcompiler\u001b[0m \u001b[0;34m=\u001b[0m \u001b[0;34m\"nonXla\"\u001b[0m\u001b[0;34m\u001b[0m\u001b[0;34m\u001b[0m\u001b[0m\n\u001b[0;32m--> 780\u001b[0;31m         \u001b[0mresult\u001b[0m \u001b[0;34m=\u001b[0m \u001b[0mself\u001b[0m\u001b[0;34m.\u001b[0m\u001b[0m_call\u001b[0m\u001b[0;34m(\u001b[0m\u001b[0;34m*\u001b[0m\u001b[0margs\u001b[0m\u001b[0;34m,\u001b[0m \u001b[0;34m**\u001b[0m\u001b[0mkwds\u001b[0m\u001b[0;34m)\u001b[0m\u001b[0;34m\u001b[0m\u001b[0;34m\u001b[0m\u001b[0m\n\u001b[0m\u001b[1;32m    781\u001b[0m \u001b[0;34m\u001b[0m\u001b[0m\n\u001b[1;32m    782\u001b[0m       \u001b[0mnew_tracing_count\u001b[0m \u001b[0;34m=\u001b[0m \u001b[0mself\u001b[0m\u001b[0;34m.\u001b[0m\u001b[0m_get_tracing_count\u001b[0m\u001b[0;34m(\u001b[0m\u001b[0;34m)\u001b[0m\u001b[0;34m\u001b[0m\u001b[0;34m\u001b[0m\u001b[0m\n",
            "\u001b[0;32m/usr/local/lib/python3.6/dist-packages/tensorflow/python/eager/def_function.py\u001b[0m in \u001b[0;36m_call\u001b[0;34m(self, *args, **kwds)\u001b[0m\n\u001b[1;32m    821\u001b[0m       \u001b[0;31m# This is the first call of __call__, so we have to initialize.\u001b[0m\u001b[0;34m\u001b[0m\u001b[0;34m\u001b[0m\u001b[0;34m\u001b[0m\u001b[0m\n\u001b[1;32m    822\u001b[0m       \u001b[0minitializers\u001b[0m \u001b[0;34m=\u001b[0m \u001b[0;34m[\u001b[0m\u001b[0;34m]\u001b[0m\u001b[0;34m\u001b[0m\u001b[0;34m\u001b[0m\u001b[0m\n\u001b[0;32m--> 823\u001b[0;31m       \u001b[0mself\u001b[0m\u001b[0;34m.\u001b[0m\u001b[0m_initialize\u001b[0m\u001b[0;34m(\u001b[0m\u001b[0margs\u001b[0m\u001b[0;34m,\u001b[0m \u001b[0mkwds\u001b[0m\u001b[0;34m,\u001b[0m \u001b[0madd_initializers_to\u001b[0m\u001b[0;34m=\u001b[0m\u001b[0minitializers\u001b[0m\u001b[0;34m)\u001b[0m\u001b[0;34m\u001b[0m\u001b[0;34m\u001b[0m\u001b[0m\n\u001b[0m\u001b[1;32m    824\u001b[0m     \u001b[0;32mfinally\u001b[0m\u001b[0;34m:\u001b[0m\u001b[0;34m\u001b[0m\u001b[0;34m\u001b[0m\u001b[0m\n\u001b[1;32m    825\u001b[0m       \u001b[0;31m# At this point we know that the initialization is complete (or less\u001b[0m\u001b[0;34m\u001b[0m\u001b[0;34m\u001b[0m\u001b[0;34m\u001b[0m\u001b[0m\n",
            "\u001b[0;32m/usr/local/lib/python3.6/dist-packages/tensorflow/python/eager/def_function.py\u001b[0m in \u001b[0;36m_initialize\u001b[0;34m(self, args, kwds, add_initializers_to)\u001b[0m\n\u001b[1;32m    695\u001b[0m     self._concrete_stateful_fn = (\n\u001b[1;32m    696\u001b[0m         self._stateful_fn._get_concrete_function_internal_garbage_collected(  # pylint: disable=protected-access\n\u001b[0;32m--> 697\u001b[0;31m             *args, **kwds))\n\u001b[0m\u001b[1;32m    698\u001b[0m \u001b[0;34m\u001b[0m\u001b[0m\n\u001b[1;32m    699\u001b[0m     \u001b[0;32mdef\u001b[0m \u001b[0minvalid_creator_scope\u001b[0m\u001b[0;34m(\u001b[0m\u001b[0;34m*\u001b[0m\u001b[0munused_args\u001b[0m\u001b[0;34m,\u001b[0m \u001b[0;34m**\u001b[0m\u001b[0munused_kwds\u001b[0m\u001b[0;34m)\u001b[0m\u001b[0;34m:\u001b[0m\u001b[0;34m\u001b[0m\u001b[0;34m\u001b[0m\u001b[0m\n",
            "\u001b[0;32m/usr/local/lib/python3.6/dist-packages/tensorflow/python/eager/function.py\u001b[0m in \u001b[0;36m_get_concrete_function_internal_garbage_collected\u001b[0;34m(self, *args, **kwargs)\u001b[0m\n\u001b[1;32m   2853\u001b[0m       \u001b[0margs\u001b[0m\u001b[0;34m,\u001b[0m \u001b[0mkwargs\u001b[0m \u001b[0;34m=\u001b[0m \u001b[0;32mNone\u001b[0m\u001b[0;34m,\u001b[0m \u001b[0;32mNone\u001b[0m\u001b[0;34m\u001b[0m\u001b[0;34m\u001b[0m\u001b[0m\n\u001b[1;32m   2854\u001b[0m     \u001b[0;32mwith\u001b[0m \u001b[0mself\u001b[0m\u001b[0;34m.\u001b[0m\u001b[0m_lock\u001b[0m\u001b[0;34m:\u001b[0m\u001b[0;34m\u001b[0m\u001b[0;34m\u001b[0m\u001b[0m\n\u001b[0;32m-> 2855\u001b[0;31m       \u001b[0mgraph_function\u001b[0m\u001b[0;34m,\u001b[0m \u001b[0m_\u001b[0m\u001b[0;34m,\u001b[0m \u001b[0m_\u001b[0m \u001b[0;34m=\u001b[0m \u001b[0mself\u001b[0m\u001b[0;34m.\u001b[0m\u001b[0m_maybe_define_function\u001b[0m\u001b[0;34m(\u001b[0m\u001b[0margs\u001b[0m\u001b[0;34m,\u001b[0m \u001b[0mkwargs\u001b[0m\u001b[0;34m)\u001b[0m\u001b[0;34m\u001b[0m\u001b[0;34m\u001b[0m\u001b[0m\n\u001b[0m\u001b[1;32m   2856\u001b[0m     \u001b[0;32mreturn\u001b[0m \u001b[0mgraph_function\u001b[0m\u001b[0;34m\u001b[0m\u001b[0;34m\u001b[0m\u001b[0m\n\u001b[1;32m   2857\u001b[0m \u001b[0;34m\u001b[0m\u001b[0m\n",
            "\u001b[0;32m/usr/local/lib/python3.6/dist-packages/tensorflow/python/eager/function.py\u001b[0m in \u001b[0;36m_maybe_define_function\u001b[0;34m(self, args, kwargs)\u001b[0m\n\u001b[1;32m   3211\u001b[0m \u001b[0;34m\u001b[0m\u001b[0m\n\u001b[1;32m   3212\u001b[0m       \u001b[0mself\u001b[0m\u001b[0;34m.\u001b[0m\u001b[0m_function_cache\u001b[0m\u001b[0;34m.\u001b[0m\u001b[0mmissed\u001b[0m\u001b[0;34m.\u001b[0m\u001b[0madd\u001b[0m\u001b[0;34m(\u001b[0m\u001b[0mcall_context_key\u001b[0m\u001b[0;34m)\u001b[0m\u001b[0;34m\u001b[0m\u001b[0;34m\u001b[0m\u001b[0m\n\u001b[0;32m-> 3213\u001b[0;31m       \u001b[0mgraph_function\u001b[0m \u001b[0;34m=\u001b[0m \u001b[0mself\u001b[0m\u001b[0;34m.\u001b[0m\u001b[0m_create_graph_function\u001b[0m\u001b[0;34m(\u001b[0m\u001b[0margs\u001b[0m\u001b[0;34m,\u001b[0m \u001b[0mkwargs\u001b[0m\u001b[0;34m)\u001b[0m\u001b[0;34m\u001b[0m\u001b[0;34m\u001b[0m\u001b[0m\n\u001b[0m\u001b[1;32m   3214\u001b[0m       \u001b[0mself\u001b[0m\u001b[0;34m.\u001b[0m\u001b[0m_function_cache\u001b[0m\u001b[0;34m.\u001b[0m\u001b[0mprimary\u001b[0m\u001b[0;34m[\u001b[0m\u001b[0mcache_key\u001b[0m\u001b[0;34m]\u001b[0m \u001b[0;34m=\u001b[0m \u001b[0mgraph_function\u001b[0m\u001b[0;34m\u001b[0m\u001b[0;34m\u001b[0m\u001b[0m\n\u001b[1;32m   3215\u001b[0m       \u001b[0;32mreturn\u001b[0m \u001b[0mgraph_function\u001b[0m\u001b[0;34m,\u001b[0m \u001b[0margs\u001b[0m\u001b[0;34m,\u001b[0m \u001b[0mkwargs\u001b[0m\u001b[0;34m\u001b[0m\u001b[0;34m\u001b[0m\u001b[0m\n",
            "\u001b[0;32m/usr/local/lib/python3.6/dist-packages/tensorflow/python/eager/function.py\u001b[0m in \u001b[0;36m_create_graph_function\u001b[0;34m(self, args, kwargs, override_flat_arg_shapes)\u001b[0m\n\u001b[1;32m   3073\u001b[0m             \u001b[0marg_names\u001b[0m\u001b[0;34m=\u001b[0m\u001b[0marg_names\u001b[0m\u001b[0;34m,\u001b[0m\u001b[0;34m\u001b[0m\u001b[0;34m\u001b[0m\u001b[0m\n\u001b[1;32m   3074\u001b[0m             \u001b[0moverride_flat_arg_shapes\u001b[0m\u001b[0;34m=\u001b[0m\u001b[0moverride_flat_arg_shapes\u001b[0m\u001b[0;34m,\u001b[0m\u001b[0;34m\u001b[0m\u001b[0;34m\u001b[0m\u001b[0m\n\u001b[0;32m-> 3075\u001b[0;31m             capture_by_value=self._capture_by_value),\n\u001b[0m\u001b[1;32m   3076\u001b[0m         \u001b[0mself\u001b[0m\u001b[0;34m.\u001b[0m\u001b[0m_function_attributes\u001b[0m\u001b[0;34m,\u001b[0m\u001b[0;34m\u001b[0m\u001b[0;34m\u001b[0m\u001b[0m\n\u001b[1;32m   3077\u001b[0m         \u001b[0mfunction_spec\u001b[0m\u001b[0;34m=\u001b[0m\u001b[0mself\u001b[0m\u001b[0;34m.\u001b[0m\u001b[0mfunction_spec\u001b[0m\u001b[0;34m,\u001b[0m\u001b[0;34m\u001b[0m\u001b[0;34m\u001b[0m\u001b[0m\n",
            "\u001b[0;32m/usr/local/lib/python3.6/dist-packages/tensorflow/python/framework/func_graph.py\u001b[0m in \u001b[0;36mfunc_graph_from_py_func\u001b[0;34m(name, python_func, args, kwargs, signature, func_graph, autograph, autograph_options, add_control_dependencies, arg_names, op_return_value, collections, capture_by_value, override_flat_arg_shapes)\u001b[0m\n\u001b[1;32m    984\u001b[0m         \u001b[0m_\u001b[0m\u001b[0;34m,\u001b[0m \u001b[0moriginal_func\u001b[0m \u001b[0;34m=\u001b[0m \u001b[0mtf_decorator\u001b[0m\u001b[0;34m.\u001b[0m\u001b[0munwrap\u001b[0m\u001b[0;34m(\u001b[0m\u001b[0mpython_func\u001b[0m\u001b[0;34m)\u001b[0m\u001b[0;34m\u001b[0m\u001b[0;34m\u001b[0m\u001b[0m\n\u001b[1;32m    985\u001b[0m \u001b[0;34m\u001b[0m\u001b[0m\n\u001b[0;32m--> 986\u001b[0;31m       \u001b[0mfunc_outputs\u001b[0m \u001b[0;34m=\u001b[0m \u001b[0mpython_func\u001b[0m\u001b[0;34m(\u001b[0m\u001b[0;34m*\u001b[0m\u001b[0mfunc_args\u001b[0m\u001b[0;34m,\u001b[0m \u001b[0;34m**\u001b[0m\u001b[0mfunc_kwargs\u001b[0m\u001b[0;34m)\u001b[0m\u001b[0;34m\u001b[0m\u001b[0;34m\u001b[0m\u001b[0m\n\u001b[0m\u001b[1;32m    987\u001b[0m \u001b[0;34m\u001b[0m\u001b[0m\n\u001b[1;32m    988\u001b[0m       \u001b[0;31m# invariant: `func_outputs` contains only Tensors, CompositeTensors,\u001b[0m\u001b[0;34m\u001b[0m\u001b[0;34m\u001b[0m\u001b[0;34m\u001b[0m\u001b[0m\n",
            "\u001b[0;32m/usr/local/lib/python3.6/dist-packages/tensorflow/python/eager/def_function.py\u001b[0m in \u001b[0;36mwrapped_fn\u001b[0;34m(*args, **kwds)\u001b[0m\n\u001b[1;32m    598\u001b[0m         \u001b[0;31m# __wrapped__ allows AutoGraph to swap in a converted function. We give\u001b[0m\u001b[0;34m\u001b[0m\u001b[0;34m\u001b[0m\u001b[0;34m\u001b[0m\u001b[0m\n\u001b[1;32m    599\u001b[0m         \u001b[0;31m# the function a weak reference to itself to avoid a reference cycle.\u001b[0m\u001b[0;34m\u001b[0m\u001b[0;34m\u001b[0m\u001b[0;34m\u001b[0m\u001b[0m\n\u001b[0;32m--> 600\u001b[0;31m         \u001b[0;32mreturn\u001b[0m \u001b[0mweak_wrapped_fn\u001b[0m\u001b[0;34m(\u001b[0m\u001b[0;34m)\u001b[0m\u001b[0;34m.\u001b[0m\u001b[0m__wrapped__\u001b[0m\u001b[0;34m(\u001b[0m\u001b[0;34m*\u001b[0m\u001b[0margs\u001b[0m\u001b[0;34m,\u001b[0m \u001b[0;34m**\u001b[0m\u001b[0mkwds\u001b[0m\u001b[0;34m)\u001b[0m\u001b[0;34m\u001b[0m\u001b[0;34m\u001b[0m\u001b[0m\n\u001b[0m\u001b[1;32m    601\u001b[0m     \u001b[0mweak_wrapped_fn\u001b[0m \u001b[0;34m=\u001b[0m \u001b[0mweakref\u001b[0m\u001b[0;34m.\u001b[0m\u001b[0mref\u001b[0m\u001b[0;34m(\u001b[0m\u001b[0mwrapped_fn\u001b[0m\u001b[0;34m)\u001b[0m\u001b[0;34m\u001b[0m\u001b[0;34m\u001b[0m\u001b[0m\n\u001b[1;32m    602\u001b[0m \u001b[0;34m\u001b[0m\u001b[0m\n",
            "\u001b[0;32m/usr/local/lib/python3.6/dist-packages/tensorflow/python/framework/func_graph.py\u001b[0m in \u001b[0;36mwrapper\u001b[0;34m(*args, **kwargs)\u001b[0m\n\u001b[1;32m    971\u001b[0m           \u001b[0;32mexcept\u001b[0m \u001b[0mException\u001b[0m \u001b[0;32mas\u001b[0m \u001b[0me\u001b[0m\u001b[0;34m:\u001b[0m  \u001b[0;31m# pylint:disable=broad-except\u001b[0m\u001b[0;34m\u001b[0m\u001b[0;34m\u001b[0m\u001b[0m\n\u001b[1;32m    972\u001b[0m             \u001b[0;32mif\u001b[0m \u001b[0mhasattr\u001b[0m\u001b[0;34m(\u001b[0m\u001b[0me\u001b[0m\u001b[0;34m,\u001b[0m \u001b[0;34m\"ag_error_metadata\"\u001b[0m\u001b[0;34m)\u001b[0m\u001b[0;34m:\u001b[0m\u001b[0;34m\u001b[0m\u001b[0;34m\u001b[0m\u001b[0m\n\u001b[0;32m--> 973\u001b[0;31m               \u001b[0;32mraise\u001b[0m \u001b[0me\u001b[0m\u001b[0;34m.\u001b[0m\u001b[0mag_error_metadata\u001b[0m\u001b[0;34m.\u001b[0m\u001b[0mto_exception\u001b[0m\u001b[0;34m(\u001b[0m\u001b[0me\u001b[0m\u001b[0;34m)\u001b[0m\u001b[0;34m\u001b[0m\u001b[0;34m\u001b[0m\u001b[0m\n\u001b[0m\u001b[1;32m    974\u001b[0m             \u001b[0;32melse\u001b[0m\u001b[0;34m:\u001b[0m\u001b[0;34m\u001b[0m\u001b[0;34m\u001b[0m\u001b[0m\n\u001b[1;32m    975\u001b[0m               \u001b[0;32mraise\u001b[0m\u001b[0;34m\u001b[0m\u001b[0;34m\u001b[0m\u001b[0m\n",
            "\u001b[0;31mValueError\u001b[0m: in user code:\n\n    /usr/local/lib/python3.6/dist-packages/tensorflow/python/keras/engine/training.py:806 train_function  *\n        return step_function(self, iterator)\n    /usr/local/lib/python3.6/dist-packages/tensorflow/python/keras/engine/training.py:796 step_function  **\n        outputs = model.distribute_strategy.run(run_step, args=(data,))\n    /usr/local/lib/python3.6/dist-packages/tensorflow/python/distribute/distribute_lib.py:1211 run\n        return self._extended.call_for_each_replica(fn, args=args, kwargs=kwargs)\n    /usr/local/lib/python3.6/dist-packages/tensorflow/python/distribute/distribute_lib.py:2585 call_for_each_replica\n        return self._call_for_each_replica(fn, args, kwargs)\n    /usr/local/lib/python3.6/dist-packages/tensorflow/python/distribute/distribute_lib.py:2945 _call_for_each_replica\n        return fn(*args, **kwargs)\n    /usr/local/lib/python3.6/dist-packages/tensorflow/python/keras/engine/training.py:789 run_step  **\n        outputs = model.train_step(data)\n    /usr/local/lib/python3.6/dist-packages/tensorflow/python/keras/engine/training.py:747 train_step\n        y_pred = self(x, training=True)\n    /usr/local/lib/python3.6/dist-packages/tensorflow/python/keras/engine/base_layer.py:976 __call__\n        self.name)\n    /usr/local/lib/python3.6/dist-packages/tensorflow/python/keras/engine/input_spec.py:168 assert_input_compatibility\n        layer_name + ' is incompatible with the layer: '\n\n    ValueError: Input 0 of layer sequential_3 is incompatible with the layer: its rank is undefined, but the layer requires a defined rank.\n"
          ]
        }
      ]
    },
    {
      "cell_type": "code",
      "metadata": {
        "id": "mgzNVlNgAcQd"
      },
      "source": [
        "# Save the trained model and model history for use later\n",
        "lang_2dense.save('model/lang10/lang_2dense')\n",
        "\n",
        "hist_2dense_df = pd.DataFrame(hist_2dense.history) \n",
        "\n",
        "# save to csv: \n",
        "hist_csv_file = 'model/lang10/lang_2dense.history.csv'\n",
        "with open(hist_csv_file, mode='w') as f:\n",
        "    hist_2dense_df.to_csv(f)"
      ],
      "execution_count": null,
      "outputs": []
    },
    {
      "cell_type": "code",
      "metadata": {
        "colab": {
          "base_uri": "https://localhost:8080/"
        },
        "id": "CfsuMMaPAyfd",
        "outputId": "06af47e3-539e-448a-a068-35641dd6d041"
      },
      "source": [
        "lang_2dense.summary()"
      ],
      "execution_count": null,
      "outputs": [
        {
          "output_type": "stream",
          "text": [
            "Model: \"sequential_3\"\n",
            "_________________________________________________________________\n",
            "Layer (type)                 Output Shape              Param #   \n",
            "=================================================================\n",
            "dense_6 (Dense)              (32, 1, 10, 128)          16512     \n",
            "_________________________________________________________________\n",
            "dense_7 (Dense)              (32, 1, 10, 11)           1419      \n",
            "=================================================================\n",
            "Total params: 17,931\n",
            "Trainable params: 17,931\n",
            "Non-trainable params: 0\n",
            "_________________________________________________________________\n"
          ],
          "name": "stdout"
        }
      ]
    },
    {
      "cell_type": "markdown",
      "metadata": {
        "id": "wdPE3eWEAwJG"
      },
      "source": [
        "# Model information after training"
      ]
    },
    {
      "cell_type": "code",
      "metadata": {
        "id": "FXVj9KIaAkT4"
      },
      "source": [
        "lang_2dense.summary()"
      ],
      "execution_count": null,
      "outputs": []
    },
    {
      "cell_type": "code",
      "metadata": {
        "id": "4o-Li_1MAzUW"
      },
      "source": [
        "plt.plot(hist_2dense_df.history['accuracy'])\n",
        "#plt.plot(history.history['val_accuracy'])\n",
        "plt.title('model accuracy')\n",
        "plt.ylabel('accuracy')\n",
        "plt.xlabel('epoch')\n",
        "plt.legend(['train', 'val'], loc='upper left')\n",
        "plt.show()"
      ],
      "execution_count": null,
      "outputs": []
    },
    {
      "cell_type": "code",
      "metadata": {
        "id": "6qv6QlKFA5UM"
      },
      "source": [
        "plt.plot(hist_2dense_df.history['loss'])\n",
        "#plt.plot(history.history['val_loss'])\n",
        "plt.title('model loss')\n",
        "plt.ylabel('loss')\n",
        "plt.xlabel('epoch')\n",
        "plt.legend(['train', 'val'], loc='upper left')\n",
        "plt.show()"
      ],
      "execution_count": null,
      "outputs": []
    },
    {
      "cell_type": "markdown",
      "metadata": {
        "id": "rP-Qhpm9BDlO"
      },
      "source": [
        "## Evaluate the trained classifier\n",
        "Based on the methods used fro the Gender classifier; probably need to be refined, but let's look for now."
      ]
    },
    {
      "cell_type": "code",
      "metadata": {
        "id": "ns36EM_4BVB5"
      },
      "source": [
        "# Evaluate on validation set\n",
        "val_loss, val_acc = lang_2dense.evaluate(valid_dataset)"
      ],
      "execution_count": null,
      "outputs": []
    },
    {
      "cell_type": "code",
      "metadata": {
        "id": "X_79D7njByKs"
      },
      "source": [
        "# Evaluate on testing set\n",
        "test_loss, test_acc = lang_2dense.evaluate(test_dataset)"
      ],
      "execution_count": null,
      "outputs": []
    },
    {
      "cell_type": "code",
      "metadata": {
        "id": "zgDWJX0DB02h"
      },
      "source": [
        "# Predict testing set\n",
        "y_pred = lang_2dense.predict(test_dataset)\n",
        "print(y_pred.shape)"
      ],
      "execution_count": null,
      "outputs": []
    },
    {
      "cell_type": "code",
      "metadata": {
        "id": "V2Wr_yHt0Kk6"
      },
      "source": [
        "# Probably need to reshape y_pred to format for classification report\n",
        "#y_pred = tf.squeeze(y_pred)\n",
        "#print(y_pred.shape)\n",
        "#print(y_pred[:10])"
      ],
      "execution_count": null,
      "outputs": []
    },
    {
      "cell_type": "code",
      "metadata": {
        "id": "67Zdnqm50TBY"
      },
      "source": [
        "# Get np.argmax from each prediction as label prediction"
      ],
      "execution_count": null,
      "outputs": []
    },
    {
      "cell_type": "markdown",
      "metadata": {
        "id": "RQGfQ-Mz-1eH"
      },
      "source": [
        "##  Format the data\n",
        "One-hot encode the labels (native language names)\n",
        "\n",
        "Use sklearn label encoder - LabelEncoder.\n",
        "\n",
        "Use Keras function to_categorical() for one-hot-encoding\n",
        "\n",
        "\n",
        "sklearn notes:\n",
        "- from sklearn import preprocesing\n",
        "- le = preprocessing.LabelEncoder()\n",
        "- le.fit([\"paris\", \"paris\", \"tokyo\", \"amsterdam\"])\n",
        "- << LabelEncoder()\n",
        "- list(le.classes_)\n",
        "- << ['amsterdam', 'paris', 'tokyo']\n",
        "- le.transform([\"tokyo\", \"tokyo\", \"paris\"])\n",
        "- << array([2, 2, 1]...)\n",
        "- list(le.inverse_transform([2, 2, 1]))\n",
        "- << ['tokyo', 'tokyo', 'paris']\n",
        "\n",
        "Methods =\n",
        "\n",
        "le.fit(y)\n",
        "\n",
        "le.fit_transform(y)\n",
        "\n",
        "le.inverse_transform(y)\n",
        "\n",
        "le.transform(y)\n"
      ]
    },
    {
      "cell_type": "code",
      "metadata": {
        "id": "R01cb_L2-y44"
      },
      "source": [
        "# https://machinelearningmastery.com/multi-class-classification-tutorial-keras-deep-learning-library/\n",
        "\n",
        "# encode class values as integers\n",
        "encoder = LabelEncoder()\n",
        "encoder.fit(Y)\n",
        "encoded_Y = encoder.transform(Y)\n",
        "# convert integers to dummy variables (i.e. one hot encoded)\n",
        "dummy_y = np_utils.to_categorical(encoded_Y)"
      ],
      "execution_count": null,
      "outputs": []
    },
    {
      "cell_type": "markdown",
      "metadata": {
        "id": "gcHsgwmOsdoI"
      },
      "source": [
        "# Generator code\n",
        "Can't get it working "
      ]
    },
    {
      "cell_type": "code",
      "metadata": {
        "id": "bNZHEX5r_qjf"
      },
      "source": [
        "# https://keras.io/examples/audio/speaker_recognition_using_cnn/\n",
        "\n",
        "# Dataset generation from Keras.IO example\n",
        "\n",
        "# Dataset generation - Original functions\n",
        "def paths_and_labels_to_dataset(audio_paths, labels):\n",
        "    \"\"\"Constructs a dataset of audios and labels.\"\"\"\n",
        "    path_ds = tf.data.Dataset.from_tensor_slices(audio_paths)\n",
        "    audio_ds = path_ds.map(lambda x: path_to_audio(x))\n",
        "    label_ds = tf.data.Dataset.from_tensor_slices(labels)\n",
        "    return tf.data.Dataset.zip((audio_ds, label_ds))\n",
        "\n",
        "def path_to_audio(path):\n",
        "    \"\"\"Reads and decodes an audio file.\"\"\"\n",
        "    audio = tf.io.read_file(path)\n",
        "    audio, _ = tf.audio.decode_wav(audio, 1, SAMP_RATE)\n",
        "    return audio\n",
        "\n",
        "# Modified functions, to include vggish model\n",
        "def vggish_and_labels_to_dataset(audio_paths, labels):\n",
        "    \"\"\"Constructs a dataset of audios and labels.\"\"\"\n",
        "    path_ds = tf.data.Dataset.from_tensor_slices(audio_paths)\n",
        "    audio_ds = path_ds.map(lambda x: tf_get_embed(x))\n",
        "    print(\"Element_spec: \", audio_ds.element_spec)\n",
        "    label_ds = tf.data.Dataset.from_tensor_slices(labels)\n",
        "    return tf.data.Dataset.zip((audio_ds, label_ds))\n",
        "\n",
        "def vggish_path_to_audio(path):\n",
        "    \"\"\"Reads and decodes an audio file.\"\"\"\n",
        "    file_path = path.numpy()\n",
        "    #print(\"file_path: \",bytes.decode(file_path)) #,type(bytes.decode(file_path))\n",
        "    audio, sr = librosa.load(file_path, sr=SAMP_RATE)\n",
        "    embed = vggish_model(audio)\n",
        "#    print(\"Embed: \", embed.shape)\n",
        "#    embed_tensor = tf.convert_to_tensor(embed, dtype=tf.float32, dtype_hint=None, name=None)\n",
        "#    print(\"Tensor: \", embed_tensor.shape, type(embed_tensor))\n",
        "    return embed\n",
        "\n",
        "def tf_get_embed(path):\n",
        "  embed_tensor = tf.py_function(vggish_path_to_audio, [path], [tf.float32])\n",
        "  print(\"Tensor 1: \",  type(embed_tensor), len(embed_tensor))\n",
        "#  print(embed_tensor.shape)\n",
        "  final_tensor = tf.convert_to_tensor(embed_tensor, dtype=tf.float32, dtype_hint=None, name=None)\n",
        "  print(\"Tensor 2: \",  type(final_tensor), final_tensor.shape)\n",
        "  return final_tensor"
      ],
      "execution_count": null,
      "outputs": []
    },
    {
      "cell_type": "code",
      "metadata": {
        "id": "P6j69McTEcMs",
        "colab": {
          "base_uri": "https://localhost:8080/"
        },
        "outputId": "d304fe27-aacf-421b-c847-ff8aabb37eda"
      },
      "source": [
        "# Create dataset\n",
        "audio_train_ds = paths_and_labels_to_dataset(audio_paths, labels)\n",
        "audio_train_ds = audio_train_ds.shuffle(buffer_size=BATCH_SIZE * 8, seed=SHUFFLE_SEED).batch(\n",
        "    BATCH_SIZE\n",
        ")\n",
        "\n",
        "embed_train_ds = vggish_and_labels_to_dataset(audio_paths, labels)\n",
        "train_ds = embed_train_ds.shuffle(buffer_size=BATCH_SIZE * 8, seed=SHUFFLE_SEED).batch(\n",
        "    BATCH_SIZE\n",
        ")\n",
        "\n",
        "#valid_ds = paths_and_labels_to_dataset(validation_paths, val_labels)\n",
        "valid_ds = vggish_and_labels_to_dataset(validation_paths, val_labels)\n",
        "valid_ds = valid_ds.shuffle(buffer_size=32 * 8, seed=SHUFFLE_SEED).batch(32)"
      ],
      "execution_count": null,
      "outputs": [
        {
          "output_type": "stream",
          "text": [
            "Tensor 1:  <class 'list'> 1\n",
            "Tensor 2:  <class 'tensorflow.python.framework.ops.Tensor'> <unknown>\n",
            "Element_spec:  TensorSpec(shape=<unknown>, dtype=tf.float32, name=None)\n",
            "Tensor 1:  <class 'list'> 1\n",
            "Tensor 2:  <class 'tensorflow.python.framework.ops.Tensor'> <unknown>\n",
            "Element_spec:  TensorSpec(shape=<unknown>, dtype=tf.float32, name=None)\n"
          ],
          "name": "stdout"
        }
      ]
    }
  ]
}