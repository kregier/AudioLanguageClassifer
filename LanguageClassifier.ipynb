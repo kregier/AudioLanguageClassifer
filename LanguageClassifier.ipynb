{
  "nbformat": 4,
  "nbformat_minor": 0,
  "metadata": {
    "colab": {
      "name": "LanguageClassifier.ipynb",
      "provenance": [],
      "collapsed_sections": [
        "2OJdVw7Tjn46",
        "mOPac1ePOQH5",
        "Vf62thTQkHf1",
        "bs0VB7yMW40-",
        "aNThCt60YcoK",
        "hI22HC6vObfA",
        "5z7rf-GfkwIj",
        "Ng-DJHTocZvA",
        "3p82Lnmswkt8",
        "HbA2HHQulWYZ",
        "x9qy1QSq9y04",
        "phDb5lqe9_HA",
        "hgmmbsTqluFe",
        "wLNY7Lv7l_UD",
        "b6C7mMUKtDwu",
        "Ad0LnejymVHJ",
        "g66DQhNW_YIn",
        "v9UICQSGm2hT",
        "L-VduLqEm61d",
        "wdPE3eWEAwJG",
        "rP-Qhpm9BDlO",
        "VImrDpDQHMlY",
        "UNk7SXSdnYno",
        "13R_7i73ncDK",
        "G2KB7SV5nkLl",
        "WVhmQtJUnnLw",
        "Ig4hH547nvtM",
        "4Fjnt8DmoA4t",
        "J8QvBXvfoDbS",
        "v8tESaxfoG4s"
      ],
      "authorship_tag": "ABX9TyOKHLHckkMg9gk6FRWxQxf0",
      "include_colab_link": true
    },
    "kernelspec": {
      "name": "python3",
      "display_name": "Python 3"
    },
    "accelerator": "GPU"
  },
  "cells": [
    {
      "cell_type": "markdown",
      "metadata": {
        "id": "view-in-github",
        "colab_type": "text"
      },
      "source": [
        "<a href=\"https://colab.research.google.com/github/kregier/AudioLanguageClassifer/blob/main/LanguageClassifier.ipynb\" target=\"_parent\"><img src=\"https://colab.research.google.com/assets/colab-badge.svg\" alt=\"Open In Colab\"/></a>"
      ]
    },
    {
      "cell_type": "markdown",
      "metadata": {
        "id": "5EPwQ75UMELA"
      },
      "source": [
        "# Introduction\n",
        "This classifier identifies the native language of the speaker from an English reading.\n",
        "\n",
        "Only the top 10 langauges (in addition to English) from the Speech Sample archive are included.\n"
      ]
    },
    {
      "cell_type": "markdown",
      "metadata": {
        "id": "2OJdVw7Tjn46"
      },
      "source": [
        "## Set up the environment and load the metadata"
      ]
    },
    {
      "cell_type": "code",
      "metadata": {
        "id": "QFFe4-bHL-Vv",
        "colab": {
          "base_uri": "https://localhost:8080/"
        },
        "outputId": "70133620-9baa-4b1b-aa87-809d08a1ff30"
      },
      "source": [
        "# Set up the environment\n",
        "!pip install soundfile\n",
        "\n",
        "import pandas as pd\n",
        "import numpy as np\n",
        "import matplotlib.pylab as plt\n",
        "import seaborn as sns\n",
        "import IPython.display as ipd\n",
        "import librosa\n",
        "import soundfile as sf\n",
        "\n",
        "import os\n",
        "import random\n",
        "import re\n",
        "\n",
        "import tensorflow as tf\n",
        "import tensorflow_hub as hub\n",
        "\n",
        "from keras.layers import Dense, Input\n",
        "from keras.models import Sequential\n",
        "\n",
        "from sklearn.metrics import classification_report, confusion_matrix\n",
        "from sklearn.model_selection import train_test_split\n",
        "\n",
        "print(\"All set up!\")"
      ],
      "execution_count": 1,
      "outputs": [
        {
          "output_type": "stream",
          "text": [
            "Collecting soundfile\n",
            "  Downloading https://files.pythonhosted.org/packages/eb/f2/3cbbbf3b96fb9fa91582c438b574cff3f45b29c772f94c400e2c99ef5db9/SoundFile-0.10.3.post1-py2.py3-none-any.whl\n",
            "Requirement already satisfied: cffi>=1.0 in /usr/local/lib/python3.6/dist-packages (from soundfile) (1.14.3)\n",
            "Requirement already satisfied: pycparser in /usr/local/lib/python3.6/dist-packages (from cffi>=1.0->soundfile) (2.20)\n",
            "Installing collected packages: soundfile\n",
            "Successfully installed soundfile-0.10.3.post1\n",
            "All set up!\n"
          ],
          "name": "stdout"
        }
      ]
    },
    {
      "cell_type": "code",
      "metadata": {
        "id": "0UhmzjUR-ZNe"
      },
      "source": [
        "#https://machinelearningmastery.com/multi-class-classification-tutorial-keras-deep-learning-library/\n",
        "\n",
        "from keras.wrappers.scikit_learn import KerasClassifier\n",
        "from keras.utils import np_utils\n",
        "from sklearn.model_selection import cross_val_score\n",
        "from sklearn.model_selection import KFold\n",
        "from sklearn.preprocessing import LabelEncoder\n",
        "from sklearn.pipeline import Pipeline"
      ],
      "execution_count": 2,
      "outputs": []
    },
    {
      "cell_type": "code",
      "metadata": {
        "id": "HVpYignFM10w",
        "colab": {
          "base_uri": "https://localhost:8080/"
        },
        "outputId": "0dc4e23b-03d5-40bc-b03c-de0d9a227f7b"
      },
      "source": [
        "# Set up the data import using Google Drive\n",
        "from google.colab import drive\n",
        "drive.mount('/content/gdrive')"
      ],
      "execution_count": 3,
      "outputs": [
        {
          "output_type": "stream",
          "text": [
            "Mounted at /content/gdrive\n"
          ],
          "name": "stdout"
        }
      ]
    },
    {
      "cell_type": "code",
      "metadata": {
        "id": "NsQGgd1XM2jd",
        "colab": {
          "base_uri": "https://localhost:8080/"
        },
        "outputId": "78096b66-1f38-4a9b-8ce2-533012655c26"
      },
      "source": [
        "os.environ['KAGGLE_CONFIG_DIR'] = \"/content/gdrive/My Drive/Kaggle\"\n",
        "\n",
        "# Change working directory\n",
        "%cd /content/gdrive/My Drive/Kaggle\n",
        "!ls"
      ],
      "execution_count": 4,
      "outputs": [
        {
          "output_type": "stream",
          "text": [
            "/content/gdrive/My Drive/Kaggle\n",
            "augment  kaggle.json  processed.csv\t   recordings\n",
            "data\t model\t      reading-passage.txt  speakers_all.csv\n"
          ],
          "name": "stdout"
        }
      ]
    },
    {
      "cell_type": "code",
      "metadata": {
        "id": "68jAGi9XM423",
        "colab": {
          "base_uri": "https://localhost:8080/"
        },
        "outputId": "7d8e1ba9-62bd-4c49-c11d-776e5edcec0b"
      },
      "source": [
        "# Import custom functions that I wrote\n",
        "import augment\n",
        "from augment import Augment\n",
        "\n",
        "from imp import reload"
      ],
      "execution_count": 5,
      "outputs": [
        {
          "output_type": "stream",
          "text": [
            "Module imported\n",
            "Augment scripts reloaded\n"
          ],
          "name": "stdout"
        }
      ]
    },
    {
      "cell_type": "code",
      "metadata": {
        "id": "Ith_yV0xM-yE"
      },
      "source": [
        "# Set constants\n",
        "SAMP_RATE = 16000  #Defined in augment package\n",
        "BATCH_SIZE = 32  #Defined in augment package\n",
        "CLF = 'lang10'"
      ],
      "execution_count": 6,
      "outputs": []
    },
    {
      "cell_type": "code",
      "metadata": {
        "id": "0NPgaHp7NEHD",
        "colab": {
          "base_uri": "https://localhost:8080/",
          "height": 235
        },
        "outputId": "8a924964-83cd-4beb-c810-ea3478f6c6f3"
      },
      "source": [
        "meta = pd.read_csv('processed.csv', index_col='speakerid')\n",
        "meta.head()"
      ],
      "execution_count": 7,
      "outputs": [
        {
          "output_type": "execute_result",
          "data": {
            "text/html": [
              "<div>\n",
              "<style scoped>\n",
              "    .dataframe tbody tr th:only-of-type {\n",
              "        vertical-align: middle;\n",
              "    }\n",
              "\n",
              "    .dataframe tbody tr th {\n",
              "        vertical-align: top;\n",
              "    }\n",
              "\n",
              "    .dataframe thead th {\n",
              "        text-align: right;\n",
              "    }\n",
              "</style>\n",
              "<table border=\"1\" class=\"dataframe\">\n",
              "  <thead>\n",
              "    <tr style=\"text-align: right;\">\n",
              "      <th></th>\n",
              "      <th>age</th>\n",
              "      <th>age_onset</th>\n",
              "      <th>birthplace</th>\n",
              "      <th>filename</th>\n",
              "      <th>native_language</th>\n",
              "      <th>sex</th>\n",
              "      <th>country</th>\n",
              "      <th>file_missing?</th>\n",
              "    </tr>\n",
              "    <tr>\n",
              "      <th>speakerid</th>\n",
              "      <th></th>\n",
              "      <th></th>\n",
              "      <th></th>\n",
              "      <th></th>\n",
              "      <th></th>\n",
              "      <th></th>\n",
              "      <th></th>\n",
              "      <th></th>\n",
              "    </tr>\n",
              "  </thead>\n",
              "  <tbody>\n",
              "    <tr>\n",
              "      <th>1</th>\n",
              "      <td>27.0</td>\n",
              "      <td>9.0</td>\n",
              "      <td>virginia, south africa</td>\n",
              "      <td>afrikaans1</td>\n",
              "      <td>afrikaans</td>\n",
              "      <td>female</td>\n",
              "      <td>south africa</td>\n",
              "      <td>False</td>\n",
              "    </tr>\n",
              "    <tr>\n",
              "      <th>2</th>\n",
              "      <td>40.0</td>\n",
              "      <td>5.0</td>\n",
              "      <td>pretoria, south africa</td>\n",
              "      <td>afrikaans2</td>\n",
              "      <td>afrikaans</td>\n",
              "      <td>male</td>\n",
              "      <td>south africa</td>\n",
              "      <td>False</td>\n",
              "    </tr>\n",
              "    <tr>\n",
              "      <th>3</th>\n",
              "      <td>25.0</td>\n",
              "      <td>15.0</td>\n",
              "      <td>diekabo, ivory coast</td>\n",
              "      <td>agni1</td>\n",
              "      <td>agni</td>\n",
              "      <td>male</td>\n",
              "      <td>ivory coast</td>\n",
              "      <td>False</td>\n",
              "    </tr>\n",
              "    <tr>\n",
              "      <th>4</th>\n",
              "      <td>19.0</td>\n",
              "      <td>6.0</td>\n",
              "      <td>prishtina, kosovo</td>\n",
              "      <td>albanian1</td>\n",
              "      <td>albanian</td>\n",
              "      <td>male</td>\n",
              "      <td>kosovo</td>\n",
              "      <td>False</td>\n",
              "    </tr>\n",
              "    <tr>\n",
              "      <th>5</th>\n",
              "      <td>33.0</td>\n",
              "      <td>15.0</td>\n",
              "      <td>tirana, albania</td>\n",
              "      <td>albanian2</td>\n",
              "      <td>albanian</td>\n",
              "      <td>male</td>\n",
              "      <td>albania</td>\n",
              "      <td>False</td>\n",
              "    </tr>\n",
              "  </tbody>\n",
              "</table>\n",
              "</div>"
            ],
            "text/plain": [
              "            age  age_onset  ...       country file_missing?\n",
              "speakerid                   ...                            \n",
              "1          27.0        9.0  ...  south africa         False\n",
              "2          40.0        5.0  ...  south africa         False\n",
              "3          25.0       15.0  ...   ivory coast         False\n",
              "4          19.0        6.0  ...        kosovo         False\n",
              "5          33.0       15.0  ...       albania         False\n",
              "\n",
              "[5 rows x 8 columns]"
            ]
          },
          "metadata": {
            "tags": []
          },
          "execution_count": 7
        }
      ]
    },
    {
      "cell_type": "markdown",
      "metadata": {
        "id": "mOPac1ePOQH5"
      },
      "source": [
        "# Process the data for native English speakers\n",
        "\n"
      ]
    },
    {
      "cell_type": "markdown",
      "metadata": {
        "id": "Vf62thTQkHf1"
      },
      "source": [
        "## Downsample the number of native English speakers\n",
        "Try to maintain some of the diversity in countries represented in the data in the downsampled data."
      ]
    },
    {
      "cell_type": "code",
      "metadata": {
        "id": "eD_SYToFNTMf",
        "colab": {
          "base_uri": "https://localhost:8080/"
        },
        "outputId": "1eb34764-b132-4163-bcf8-763a1603bff1"
      },
      "source": [
        "# Create dataframe of only native English speakers\n",
        "english = meta.loc[meta.native_language == 'english']\n",
        "# Look at the counts of countries\n",
        "english.country.value_counts()"
      ],
      "execution_count": 8,
      "outputs": [
        {
          "output_type": "execute_result",
          "data": {
            "text/plain": [
              "usa                     373\n",
              "uk                       65\n",
              "canada                   44\n",
              "australia                32\n",
              "ireland                  11\n",
              "new zealand               8\n",
              "jamaica                   5\n",
              "south africa              4\n",
              "singapore                 4\n",
              "panama                    3\n",
              "india                     3\n",
              "philippines               2\n",
              "guyana                    2\n",
              "malaysia                  2\n",
              "united arab emirates      1\n",
              "barbados                  1\n",
              "switzerland               1\n",
              "germany                   1\n",
              "virginia                  1\n",
              "bolivia                   1\n",
              "spain                     1\n",
              "us virgin islands         1\n",
              "lebanon                   1\n",
              "italy                     1\n",
              "fiji                      1\n",
              "trinidad                  1\n",
              "nigeria                   1\n",
              "isle of man               1\n",
              "the bahamas               1\n",
              "ghana                     1\n",
              "antigua and barbuda       1\n",
              "papua new guinea          1\n",
              "belize                    1\n",
              "liberia                   1\n",
              "pakistan                  1\n",
              "Name: country, dtype: int64"
            ]
          },
          "metadata": {
            "tags": []
          },
          "execution_count": 8
        }
      ]
    },
    {
      "cell_type": "code",
      "metadata": {
        "id": "Yd2nzyawp2BQ",
        "colab": {
          "base_uri": "https://localhost:8080/"
        },
        "outputId": "ce3d768c-a583-4e49-ce48-e727ce25fe1a"
      },
      "source": [
        "# Convert country counts to weights for use in the random sampling function\n",
        "eng_country_pct = english.country.value_counts(normalize=True)\n",
        "eng_country_pct"
      ],
      "execution_count": 9,
      "outputs": [
        {
          "output_type": "execute_result",
          "data": {
            "text/plain": [
              "usa                     0.644214\n",
              "uk                      0.112263\n",
              "canada                  0.075993\n",
              "australia               0.055268\n",
              "ireland                 0.018998\n",
              "new zealand             0.013817\n",
              "jamaica                 0.008636\n",
              "south africa            0.006908\n",
              "singapore               0.006908\n",
              "panama                  0.005181\n",
              "india                   0.005181\n",
              "philippines             0.003454\n",
              "guyana                  0.003454\n",
              "malaysia                0.003454\n",
              "united arab emirates    0.001727\n",
              "barbados                0.001727\n",
              "switzerland             0.001727\n",
              "germany                 0.001727\n",
              "virginia                0.001727\n",
              "bolivia                 0.001727\n",
              "spain                   0.001727\n",
              "us virgin islands       0.001727\n",
              "lebanon                 0.001727\n",
              "italy                   0.001727\n",
              "fiji                    0.001727\n",
              "trinidad                0.001727\n",
              "nigeria                 0.001727\n",
              "isle of man             0.001727\n",
              "the bahamas             0.001727\n",
              "ghana                   0.001727\n",
              "antigua and barbuda     0.001727\n",
              "papua new guinea        0.001727\n",
              "belize                  0.001727\n",
              "liberia                 0.001727\n",
              "pakistan                0.001727\n",
              "Name: country, dtype: float64"
            ]
          },
          "metadata": {
            "tags": []
          },
          "execution_count": 9
        }
      ]
    },
    {
      "cell_type": "code",
      "metadata": {
        "id": "6io_ot6lpVZc"
      },
      "source": [
        "english = english.join(eng_country_pct, how = 'left', on='country', rsuffix='_weight')"
      ],
      "execution_count": 10,
      "outputs": []
    },
    {
      "cell_type": "code",
      "metadata": {
        "id": "M7YEV_pAMTKA"
      },
      "source": [
        "# Calculate country weights for random sampling, put in 'country_pct' column\n",
        "english['country_pct'] = english['country_weight']/sum(english['country_weight'])"
      ],
      "execution_count": 11,
      "outputs": []
    },
    {
      "cell_type": "code",
      "metadata": {
        "colab": {
          "base_uri": "https://localhost:8080/"
        },
        "id": "_yTt1BY0SzEr",
        "outputId": "07581617-7e29-4075-b62b-16379a221851"
      },
      "source": [
        "#  Find random seed that will provide the highest number of country samples\n",
        "max_count = 0\n",
        "max_idx = 0\n",
        "for i in range(200):\n",
        "  eng_samp_inx = english.sample(100, replace=False, weights=english.country_pct, random_state=i)\n",
        "  count = eng_samp_inx.country.nunique()\n",
        "  if max_count  < count:\n",
        "    max_count = count\n",
        "    max_idx = i\n",
        "\n",
        "print(max_idx, max_count)"
      ],
      "execution_count": 12,
      "outputs": [
        {
          "output_type": "stream",
          "text": [
            "26 6\n"
          ],
          "name": "stdout"
        }
      ]
    },
    {
      "cell_type": "code",
      "metadata": {
        "colab": {
          "base_uri": "https://localhost:8080/",
          "height": 235
        },
        "id": "DuuqtYWZPMEN",
        "outputId": "2b6b7f59-28b4-4efe-b396-1c8f6652e31c"
      },
      "source": [
        "eng_samples = english.sample(100, replace=False, weights=english.country_pct , random_state=max_idx)\n",
        "eng_samples.head()"
      ],
      "execution_count": 13,
      "outputs": [
        {
          "output_type": "execute_result",
          "data": {
            "text/html": [
              "<div>\n",
              "<style scoped>\n",
              "    .dataframe tbody tr th:only-of-type {\n",
              "        vertical-align: middle;\n",
              "    }\n",
              "\n",
              "    .dataframe tbody tr th {\n",
              "        vertical-align: top;\n",
              "    }\n",
              "\n",
              "    .dataframe thead th {\n",
              "        text-align: right;\n",
              "    }\n",
              "</style>\n",
              "<table border=\"1\" class=\"dataframe\">\n",
              "  <thead>\n",
              "    <tr style=\"text-align: right;\">\n",
              "      <th></th>\n",
              "      <th>age</th>\n",
              "      <th>age_onset</th>\n",
              "      <th>birthplace</th>\n",
              "      <th>filename</th>\n",
              "      <th>native_language</th>\n",
              "      <th>sex</th>\n",
              "      <th>country</th>\n",
              "      <th>file_missing?</th>\n",
              "      <th>country_weight</th>\n",
              "      <th>country_pct</th>\n",
              "    </tr>\n",
              "    <tr>\n",
              "      <th>speakerid</th>\n",
              "      <th></th>\n",
              "      <th></th>\n",
              "      <th></th>\n",
              "      <th></th>\n",
              "      <th></th>\n",
              "      <th></th>\n",
              "      <th></th>\n",
              "      <th></th>\n",
              "      <th></th>\n",
              "      <th></th>\n",
              "    </tr>\n",
              "  </thead>\n",
              "  <tbody>\n",
              "    <tr>\n",
              "      <th>586</th>\n",
              "      <td>68.0</td>\n",
              "      <td>0.0</td>\n",
              "      <td>new eagle, pennsylvania, usa</td>\n",
              "      <td>english181</td>\n",
              "      <td>english</td>\n",
              "      <td>male</td>\n",
              "      <td>usa</td>\n",
              "      <td>False</td>\n",
              "      <td>0.644214</td>\n",
              "      <td>0.002544</td>\n",
              "    </tr>\n",
              "    <tr>\n",
              "      <th>1120</th>\n",
              "      <td>26.0</td>\n",
              "      <td>0.0</td>\n",
              "      <td>memphis, tennessee, usa</td>\n",
              "      <td>english314</td>\n",
              "      <td>english</td>\n",
              "      <td>female</td>\n",
              "      <td>usa</td>\n",
              "      <td>False</td>\n",
              "      <td>0.644214</td>\n",
              "      <td>0.002544</td>\n",
              "    </tr>\n",
              "    <tr>\n",
              "      <th>1554</th>\n",
              "      <td>37.0</td>\n",
              "      <td>0.0</td>\n",
              "      <td>lancashire, leyland, uk</td>\n",
              "      <td>english456</td>\n",
              "      <td>english</td>\n",
              "      <td>female</td>\n",
              "      <td>uk</td>\n",
              "      <td>False</td>\n",
              "      <td>0.112263</td>\n",
              "      <td>0.000443</td>\n",
              "    </tr>\n",
              "    <tr>\n",
              "      <th>1640</th>\n",
              "      <td>30.0</td>\n",
              "      <td>0.0</td>\n",
              "      <td>myrtle beach, south carolina, usa</td>\n",
              "      <td>english468</td>\n",
              "      <td>english</td>\n",
              "      <td>male</td>\n",
              "      <td>usa</td>\n",
              "      <td>False</td>\n",
              "      <td>0.644214</td>\n",
              "      <td>0.002544</td>\n",
              "    </tr>\n",
              "    <tr>\n",
              "      <th>1884</th>\n",
              "      <td>47.0</td>\n",
              "      <td>0.0</td>\n",
              "      <td>st. paul, minnesota, usa</td>\n",
              "      <td>english520</td>\n",
              "      <td>english</td>\n",
              "      <td>female</td>\n",
              "      <td>usa</td>\n",
              "      <td>False</td>\n",
              "      <td>0.644214</td>\n",
              "      <td>0.002544</td>\n",
              "    </tr>\n",
              "  </tbody>\n",
              "</table>\n",
              "</div>"
            ],
            "text/plain": [
              "            age  age_onset  ... country_weight country_pct\n",
              "speakerid                   ...                           \n",
              "586        68.0        0.0  ...       0.644214    0.002544\n",
              "1120       26.0        0.0  ...       0.644214    0.002544\n",
              "1554       37.0        0.0  ...       0.112263    0.000443\n",
              "1640       30.0        0.0  ...       0.644214    0.002544\n",
              "1884       47.0        0.0  ...       0.644214    0.002544\n",
              "\n",
              "[5 rows x 10 columns]"
            ]
          },
          "metadata": {
            "tags": []
          },
          "execution_count": 13
        }
      ]
    },
    {
      "cell_type": "code",
      "metadata": {
        "id": "cvKjebF4tOvo",
        "colab": {
          "base_uri": "https://localhost:8080/",
          "height": 351
        },
        "outputId": "87b3e44e-7e13-46fc-f30c-af572560682e"
      },
      "source": [
        "sns.countplot(x='country', data=eng_samples)\n",
        "plt.title('English samples: Count by country')\n",
        "plt.xticks(rotation=45)"
      ],
      "execution_count": 14,
      "outputs": [
        {
          "output_type": "execute_result",
          "data": {
            "text/plain": [
              "(array([0, 1, 2, 3, 4, 5]), <a list of 6 Text major ticklabel objects>)"
            ]
          },
          "metadata": {
            "tags": []
          },
          "execution_count": 14
        },
        {
          "output_type": "display_data",
          "data": {
            "image/png": "[encoded data removed]",
            "text/plain": [
              "<Figure size 432x288 with 1 Axes>"
            ]
          },
          "metadata": {
            "tags": [],
            "needs_background": "light"
          }
        }
      ]
    },
    {
      "cell_type": "code",
      "metadata": {
        "colab": {
          "base_uri": "https://localhost:8080/",
          "height": 334
        },
        "id": "IYI1GuZiWpGm",
        "outputId": "54309c69-66bb-4fa1-89ba-602b0b9ba530"
      },
      "source": [
        "# Check that gender is still roughly distributed equally\n",
        "sns.countplot(x='sex', data=eng_samples)\n",
        "plt.title('English samples: Count by country')\n",
        "plt.xticks(rotation=45)"
      ],
      "execution_count": 15,
      "outputs": [
        {
          "output_type": "execute_result",
          "data": {
            "text/plain": [
              "(array([0, 1]), <a list of 2 Text major ticklabel objects>)"
            ]
          },
          "metadata": {
            "tags": []
          },
          "execution_count": 15
        },
        {
          "output_type": "display_data",
          "data": {
            "image/png": "[encoded data removed]",
            "text/plain": [
              "<Figure size 432x288 with 1 Axes>"
            ]
          },
          "metadata": {
            "tags": [],
            "needs_background": "light"
          }
        }
      ]
    },
    {
      "cell_type": "markdown",
      "metadata": {
        "id": "bs0VB7yMW40-"
      },
      "source": [
        "## Split English files into training, validation and testing sets"
      ]
    },
    {
      "cell_type": "code",
      "metadata": {
        "id": "enLD__sWW4Zz"
      },
      "source": [
        "eng_data = eng_samples[['filename','sex']]\n",
        "x_train_names, x_test_names, y_train, y_test = train_test_split(\n",
        "    eng_data['filename'], eng_data['sex'], test_size=0.25, random_state=38)"
      ],
      "execution_count": 16,
      "outputs": []
    },
    {
      "cell_type": "code",
      "metadata": {
        "id": "e4aHTk_1Yjgb"
      },
      "source": [
        "x_train_names, x_val_names, y_train, y_val = train_test_split(\n",
        "    x_train_names, y_train, test_size = 0.25, random_state=38)"
      ],
      "execution_count": 17,
      "outputs": []
    },
    {
      "cell_type": "code",
      "metadata": {
        "colab": {
          "base_uri": "https://localhost:8080/"
        },
        "id": "5AnSNG0oYWME",
        "outputId": "78977edc-2be7-4672-af46-0cc306df2825"
      },
      "source": [
        "print(\"Number of training files: \", x_train_names.shape)\n",
        "print(\"Number of training files: \", x_val_names.shape)\n",
        "print(\"Number of testing files: \", x_test_names.shape)"
      ],
      "execution_count": 18,
      "outputs": [
        {
          "output_type": "stream",
          "text": [
            "Number of training files:  (56,)\n",
            "Number of training files:  (19,)\n",
            "Number of testing files:  (25,)\n"
          ],
          "name": "stdout"
        }
      ]
    },
    {
      "cell_type": "markdown",
      "metadata": {
        "id": "aNThCt60YcoK"
      },
      "source": [
        "## Process English audio files and store in appropriate files"
      ]
    },
    {
      "cell_type": "code",
      "metadata": {
        "id": "6x5hugQMZS1N"
      },
      "source": [
        "# Check if training data has been segmented. If not, segment each audio file.\n",
        "train_file_list = os.listdir('data/lang10/train/english')\n",
        "\n",
        "for i in range(len(x_train_names)):\n",
        "  # get a filename\n",
        "  filename = x_train_names.iloc[i]\n",
        "  # Check to see if the filename has already been segmented\n",
        "  # if any(file.startswith(filename) for file in os.listdir('data/gender/train')):\n",
        "  if any(file.startswith(filename) for file in train_file_list):\n",
        "    pass\n",
        "  else: \n",
        "    augment.Augment.segment_audio(x_train_names.iloc[i], y_train.iloc[i], split='train/english', clf=CLF)\n",
        "    print('{} segmented'.format(filename))"
      ],
      "execution_count": 19,
      "outputs": []
    },
    {
      "cell_type": "code",
      "metadata": {
        "id": "93Ze_jvnZWmU"
      },
      "source": [
        "# Check if training data has been segmented. If not, segment each audio file.\n",
        "val_file_list = os.listdir('data/lang10/validation/english')\n",
        "\n",
        "for i in range(len(x_val_names)):\n",
        "  # get a filename\n",
        "  filename = x_val_names.iloc[i]\n",
        "  # Check to see if the filename has already been segmented\n",
        "  # if any(file.startswith(filename) for file in os.listdir('data/gender/train')):\n",
        "  if any(file.startswith(filename) for file in val_file_list):\n",
        "    pass\n",
        "  else: \n",
        "    augment.Augment.segment_audio(x_val_names.iloc[i], y_val.iloc[i], split='validation/english', clf=CLF)\n",
        "    print('{} segmented'.format(filename))"
      ],
      "execution_count": 20,
      "outputs": []
    },
    {
      "cell_type": "code",
      "metadata": {
        "id": "kXX-UY-YZU-E"
      },
      "source": [
        "# Check if testing data has been segmented. If not, segment each audio file.\n",
        "test_file_list = os.listdir('data/lang10/test/test_data')\n",
        "for i in range(len(x_test_names)):\n",
        "  filename = x_test_names.iloc[i]\n",
        "  # if any(file.startswith(filename) for file in os.listdir('data/gender/test')):\n",
        "  if any(file.startswith(filename) for file in test_file_list):\n",
        "    pass\n",
        "  else: \n",
        "    augment.Augment.segment_audio(x_test_names.iloc[i], y_test.iloc[i], split='test/test_data', clf=CLF)\n",
        "    print('{} segmented'.format(filename))"
      ],
      "execution_count": 21,
      "outputs": []
    },
    {
      "cell_type": "markdown",
      "metadata": {
        "id": "hI22HC6vObfA"
      },
      "source": [
        "# Process top 10 languages (after English)."
      ]
    },
    {
      "cell_type": "markdown",
      "metadata": {
        "id": "5z7rf-GfkwIj"
      },
      "source": [
        "## Find the top 10 languages and extract from database"
      ]
    },
    {
      "cell_type": "code",
      "metadata": {
        "id": "2hb--a9pNLmz",
        "colab": {
          "base_uri": "https://localhost:8080/"
        },
        "outputId": "40b4a1b1-f671-4ecb-d0e6-f3a045559122"
      },
      "source": [
        "lang_counts = meta.native_language.value_counts().head(11)\n",
        "lang_counts"
      ],
      "execution_count": 22,
      "outputs": [
        {
          "output_type": "execute_result",
          "data": {
            "text/plain": [
              "english       579\n",
              "spanish       162\n",
              "arabic        102\n",
              "mandarin       65\n",
              "french         63\n",
              "korean         52\n",
              "portuguese     48\n",
              "russian        48\n",
              "dutch          47\n",
              "turkish        37\n",
              "german         36\n",
              "Name: native_language, dtype: int64"
            ]
          },
          "metadata": {
            "tags": []
          },
          "execution_count": 22
        }
      ]
    },
    {
      "cell_type": "code",
      "metadata": {
        "id": "iNYZ3ePiNWJy"
      },
      "source": [
        "lang_list = ['spanish', 'arabic', 'mandarin', 'french', 'korean', 'russian', \n",
        "             'portuguese', 'dutch', 'turkish', 'german']\n",
        "top_lang = meta.loc[meta.native_language.isin(lang_list)]"
      ],
      "execution_count": 23,
      "outputs": []
    },
    {
      "cell_type": "code",
      "metadata": {
        "id": "uy2_rDwuObAQ",
        "colab": {
          "base_uri": "https://localhost:8080/",
          "height": 235
        },
        "outputId": "4b770552-b189-4002-e9b5-2580036d4ce5"
      },
      "source": [
        "top_lang.head()"
      ],
      "execution_count": 24,
      "outputs": [
        {
          "output_type": "execute_result",
          "data": {
            "text/html": [
              "<div>\n",
              "<style scoped>\n",
              "    .dataframe tbody tr th:only-of-type {\n",
              "        vertical-align: middle;\n",
              "    }\n",
              "\n",
              "    .dataframe tbody tr th {\n",
              "        vertical-align: top;\n",
              "    }\n",
              "\n",
              "    .dataframe thead th {\n",
              "        text-align: right;\n",
              "    }\n",
              "</style>\n",
              "<table border=\"1\" class=\"dataframe\">\n",
              "  <thead>\n",
              "    <tr style=\"text-align: right;\">\n",
              "      <th></th>\n",
              "      <th>age</th>\n",
              "      <th>age_onset</th>\n",
              "      <th>birthplace</th>\n",
              "      <th>filename</th>\n",
              "      <th>native_language</th>\n",
              "      <th>sex</th>\n",
              "      <th>country</th>\n",
              "      <th>file_missing?</th>\n",
              "    </tr>\n",
              "    <tr>\n",
              "      <th>speakerid</th>\n",
              "      <th></th>\n",
              "      <th></th>\n",
              "      <th></th>\n",
              "      <th></th>\n",
              "      <th></th>\n",
              "      <th></th>\n",
              "      <th></th>\n",
              "      <th></th>\n",
              "    </tr>\n",
              "  </thead>\n",
              "  <tbody>\n",
              "    <tr>\n",
              "      <th>11</th>\n",
              "      <td>38.0</td>\n",
              "      <td>12.0</td>\n",
              "      <td>riyadh, saudi arabia</td>\n",
              "      <td>arabic1</td>\n",
              "      <td>arabic</td>\n",
              "      <td>female</td>\n",
              "      <td>saudi arabia</td>\n",
              "      <td>False</td>\n",
              "    </tr>\n",
              "    <tr>\n",
              "      <th>12</th>\n",
              "      <td>26.0</td>\n",
              "      <td>5.0</td>\n",
              "      <td>cairo, egypt</td>\n",
              "      <td>arabic10</td>\n",
              "      <td>arabic</td>\n",
              "      <td>male</td>\n",
              "      <td>egypt</td>\n",
              "      <td>False</td>\n",
              "    </tr>\n",
              "    <tr>\n",
              "      <th>13</th>\n",
              "      <td>30.0</td>\n",
              "      <td>14.0</td>\n",
              "      <td>monastir, tunisia</td>\n",
              "      <td>arabic11</td>\n",
              "      <td>arabic</td>\n",
              "      <td>female</td>\n",
              "      <td>tunisia</td>\n",
              "      <td>False</td>\n",
              "    </tr>\n",
              "    <tr>\n",
              "      <th>14</th>\n",
              "      <td>32.0</td>\n",
              "      <td>11.0</td>\n",
              "      <td>baghdad, iraq</td>\n",
              "      <td>arabic12</td>\n",
              "      <td>arabic</td>\n",
              "      <td>male</td>\n",
              "      <td>iraq</td>\n",
              "      <td>False</td>\n",
              "    </tr>\n",
              "    <tr>\n",
              "      <th>15</th>\n",
              "      <td>25.0</td>\n",
              "      <td>15.0</td>\n",
              "      <td>zabbougha, lebanon</td>\n",
              "      <td>arabic13</td>\n",
              "      <td>arabic</td>\n",
              "      <td>male</td>\n",
              "      <td>lebanon</td>\n",
              "      <td>False</td>\n",
              "    </tr>\n",
              "  </tbody>\n",
              "</table>\n",
              "</div>"
            ],
            "text/plain": [
              "            age  age_onset  ...       country file_missing?\n",
              "speakerid                   ...                            \n",
              "11         38.0       12.0  ...  saudi arabia         False\n",
              "12         26.0        5.0  ...         egypt         False\n",
              "13         30.0       14.0  ...       tunisia         False\n",
              "14         32.0       11.0  ...          iraq         False\n",
              "15         25.0       15.0  ...       lebanon         False\n",
              "\n",
              "[5 rows x 8 columns]"
            ]
          },
          "metadata": {
            "tags": []
          },
          "execution_count": 24
        }
      ]
    },
    {
      "cell_type": "markdown",
      "metadata": {
        "id": "Ng-DJHTocZvA"
      },
      "source": [
        "## Split the data by language"
      ]
    },
    {
      "cell_type": "code",
      "metadata": {
        "colab": {
          "base_uri": "https://localhost:8080/"
        },
        "id": "JZkR8NZ6diAS",
        "outputId": "a8279930-eaa0-4195-90d8-8c277b73cf6c"
      },
      "source": [
        "# Split Spanish data\n",
        "spanish = meta.loc[meta.native_language == 'spanish']\n",
        "spanish_train_names, spanish_test_names, spanish_y_train, spanish_y_test = train_test_split(\n",
        "    spanish['filename'], spanish['sex'], test_size=0.25, random_state=38)\n",
        "spanish_train_names, spanish_val_names, spanish_y_train, spanish_y_val = train_test_split(\n",
        "    spanish_train_names, spanish_y_train, test_size = 0.25, random_state=38)\n",
        "print(\"Number of training files: \", spanish_train_names.shape)\n",
        "print(\"Number of training files: \", spanish_val_names.shape)\n",
        "print(\"Number of testing files: \", spanish_test_names.shape)"
      ],
      "execution_count": 25,
      "outputs": [
        {
          "output_type": "stream",
          "text": [
            "Number of training files:  (90,)\n",
            "Number of training files:  (31,)\n",
            "Number of testing files:  (41,)\n"
          ],
          "name": "stdout"
        }
      ]
    },
    {
      "cell_type": "code",
      "metadata": {
        "colab": {
          "base_uri": "https://localhost:8080/"
        },
        "id": "FxlCbQ-2ech_",
        "outputId": "32913955-d357-4d55-ca59-d6c4a0612a0b"
      },
      "source": [
        "# Split Arabic data\n",
        "arabic = meta.loc[meta.native_language == 'arabic']\n",
        "arabic_train_names, arabic_test_names, arabic_y_train, arabic_y_test = train_test_split(\n",
        "    arabic['filename'], arabic['sex'], test_size=0.25, random_state=38)\n",
        "arabic_train_names, arabic_val_names, arabic_y_train, arabic_y_val = train_test_split(\n",
        "    arabic_train_names, arabic_y_train, test_size = 0.25, random_state=38)\n",
        "print(\"Number of training files: \", arabic_train_names.shape)\n",
        "print(\"Number of training files: \", arabic_val_names.shape)\n",
        "print(\"Number of testing files: \", arabic_test_names.shape)"
      ],
      "execution_count": 26,
      "outputs": [
        {
          "output_type": "stream",
          "text": [
            "Number of training files:  (57,)\n",
            "Number of training files:  (19,)\n",
            "Number of testing files:  (26,)\n"
          ],
          "name": "stdout"
        }
      ]
    },
    {
      "cell_type": "code",
      "metadata": {
        "colab": {
          "base_uri": "https://localhost:8080/"
        },
        "id": "_2Jny9F8eY1M",
        "outputId": "12b27b30-e189-46ec-f320-14b219012095"
      },
      "source": [
        "# Split Mandarin data\n",
        "mandarin = meta.loc[meta.native_language == 'mandarin']\n",
        "mandarin_train_names, mandarin_test_names, mandarin_y_train, mandarin_y_test = train_test_split(\n",
        "    mandarin['filename'], mandarin['sex'], test_size=0.25, random_state=38)\n",
        "mandarin_train_names, mandarin_val_names, mandarin_y_train, mandarin_y_val = train_test_split(\n",
        "    mandarin_train_names, mandarin_y_train, test_size = 0.25, random_state=38)\n",
        "print(\"Number of training files: \", mandarin_train_names.shape)\n",
        "print(\"Number of training files: \", mandarin_val_names.shape)\n",
        "print(\"Number of testing files: \", mandarin_test_names.shape)"
      ],
      "execution_count": 27,
      "outputs": [
        {
          "output_type": "stream",
          "text": [
            "Number of training files:  (36,)\n",
            "Number of training files:  (12,)\n",
            "Number of testing files:  (17,)\n"
          ],
          "name": "stdout"
        }
      ]
    },
    {
      "cell_type": "code",
      "metadata": {
        "colab": {
          "base_uri": "https://localhost:8080/"
        },
        "id": "KMaifZkJeZnw",
        "outputId": "85b6d3e7-61e3-41be-cabc-92e823d4d23e"
      },
      "source": [
        "# Split French data\n",
        "french = meta.loc[meta.native_language == 'french']\n",
        "french_train_names, french_test_names, french_y_train, french_y_test = train_test_split(\n",
        "    french['filename'], french['sex'], test_size=0.25, random_state=38)\n",
        "french_train_names, french_val_names, french_y_train, french_y_val = train_test_split(\n",
        "    french_train_names, french_y_train, test_size = 0.25, random_state=38)\n",
        "print(\"Number of training files: \", french_train_names.shape)\n",
        "print(\"Number of training files: \", french_val_names.shape)\n",
        "print(\"Number of testing files: \", french_test_names.shape)"
      ],
      "execution_count": 28,
      "outputs": [
        {
          "output_type": "stream",
          "text": [
            "Number of training files:  (35,)\n",
            "Number of training files:  (12,)\n",
            "Number of testing files:  (16,)\n"
          ],
          "name": "stdout"
        }
      ]
    },
    {
      "cell_type": "code",
      "metadata": {
        "colab": {
          "base_uri": "https://localhost:8080/"
        },
        "id": "Jj8PDCvveZXf",
        "outputId": "95e63d27-b0ab-44f4-e64e-89c9d6703ba9"
      },
      "source": [
        "# Split Korean data\n",
        "korean = meta.loc[meta.native_language == 'korean']\n",
        "korean_train_names, korean_test_names, korean_y_train, korean_y_test = train_test_split(\n",
        "    korean['filename'], korean['sex'], test_size=0.25, random_state=38)\n",
        "korean_train_names, korean_val_names, korean_y_train, korean_y_val = train_test_split(\n",
        "    korean_train_names, korean_y_train, test_size = 0.25, random_state=38)\n",
        "print(\"Number of training files: \", korean_train_names.shape)\n",
        "print(\"Number of training files: \", korean_val_names.shape)\n",
        "print(\"Number of testing files: \", korean_test_names.shape)"
      ],
      "execution_count": 29,
      "outputs": [
        {
          "output_type": "stream",
          "text": [
            "Number of training files:  (29,)\n",
            "Number of training files:  (10,)\n",
            "Number of testing files:  (13,)\n"
          ],
          "name": "stdout"
        }
      ]
    },
    {
      "cell_type": "code",
      "metadata": {
        "colab": {
          "base_uri": "https://localhost:8080/"
        },
        "id": "hojN42JEeYrW",
        "outputId": "96062e35-a9e1-4989-e2e5-e566ac69bbc7"
      },
      "source": [
        "# Split Russian data\n",
        "russian = meta.loc[meta.native_language == 'russian']\n",
        "russian_train_names, russian_test_names, russian_y_train, russian_y_test = train_test_split(\n",
        "    russian['filename'], russian['sex'], test_size=0.25, random_state=38)\n",
        "russian_train_names, russian_val_names, russian_y_train, russian_y_val = train_test_split(\n",
        "    russian_train_names, russian_y_train, test_size = 0.25, random_state=38)\n",
        "print(\"Number of training files: \", russian_train_names.shape)\n",
        "print(\"Number of training files: \", russian_val_names.shape)\n",
        "print(\"Number of testing files: \", russian_test_names.shape)"
      ],
      "execution_count": 30,
      "outputs": [
        {
          "output_type": "stream",
          "text": [
            "Number of training files:  (27,)\n",
            "Number of training files:  (9,)\n",
            "Number of testing files:  (12,)\n"
          ],
          "name": "stdout"
        }
      ]
    },
    {
      "cell_type": "code",
      "metadata": {
        "colab": {
          "base_uri": "https://localhost:8080/"
        },
        "id": "jDIT5pGugrh4",
        "outputId": "a6631415-5976-4943-bf3d-717cc4fbb74a"
      },
      "source": [
        "# Split Portuguese data\n",
        "portuguese = meta.loc[meta.native_language == 'portuguese']\n",
        "portuguese_train_names, portuguese_test_names, portuguese_y_train, portuguese_y_test = train_test_split(\n",
        "    portuguese['filename'], portuguese['sex'], test_size=0.25, random_state=38)\n",
        "portuguese_train_names, portuguese_val_names, portuguese_y_train, portuguese_y_val = train_test_split(\n",
        "    portuguese_train_names, portuguese_y_train, test_size = 0.25, random_state=38)\n",
        "print(\"Number of training files: \", portuguese_train_names.shape)\n",
        "print(\"Number of training files: \", portuguese_val_names.shape)\n",
        "print(\"Number of testing files: \", portuguese_test_names.shape)"
      ],
      "execution_count": 31,
      "outputs": [
        {
          "output_type": "stream",
          "text": [
            "Number of training files:  (27,)\n",
            "Number of training files:  (9,)\n",
            "Number of testing files:  (12,)\n"
          ],
          "name": "stdout"
        }
      ]
    },
    {
      "cell_type": "code",
      "metadata": {
        "colab": {
          "base_uri": "https://localhost:8080/"
        },
        "id": "Ghz1J3fhgsIV",
        "outputId": "168ebbad-31a8-4d86-d5cf-9e5d657b8f8b"
      },
      "source": [
        "# Split Dutch data\n",
        "dutch = meta.loc[meta.native_language == 'dutch']\n",
        "\n",
        "dutch_train_names, dutch_test_names, dutch_y_train, dutch_y_test = train_test_split(\n",
        "    dutch['filename'], dutch['sex'], test_size=0.25, random_state=38)\n",
        "dutch_train_names, dutch_val_names, dutch_y_train, dutch_y_val = train_test_split(\n",
        "    dutch_train_names, dutch_y_train, test_size = 0.25, random_state=38)\n",
        "print(\"Number of training files: \", dutch_train_names.shape)\n",
        "print(\"Number of training files: \", dutch_val_names.shape)\n",
        "print(\"Number of testing files: \", dutch_test_names.shape)"
      ],
      "execution_count": 32,
      "outputs": [
        {
          "output_type": "stream",
          "text": [
            "Number of training files:  (26,)\n",
            "Number of training files:  (9,)\n",
            "Number of testing files:  (12,)\n"
          ],
          "name": "stdout"
        }
      ]
    },
    {
      "cell_type": "code",
      "metadata": {
        "colab": {
          "base_uri": "https://localhost:8080/"
        },
        "id": "iZ8hTRengr9A",
        "outputId": "6522b64b-5a20-4e69-aede-64cdbfb1c3a7"
      },
      "source": [
        "# Split Turkish data\n",
        "turkish = meta.loc[meta.native_language == 'turkish']\n",
        "turkish_train_names, turkish_test_names, turkish_y_train, turkish_y_test = train_test_split(\n",
        "    turkish['filename'], turkish['sex'], test_size=0.25, random_state=38)\n",
        "turkish_train_names, turkish_val_names, turkish_y_train, turkish_y_val = train_test_split(\n",
        "    turkish_train_names, turkish_y_train, test_size = 0.25, random_state=38)\n",
        "print(\"Number of training files: \", turkish_train_names.shape)\n",
        "print(\"Number of training files: \", turkish_val_names.shape)\n",
        "print(\"Number of testing files: \", turkish_test_names.shape)"
      ],
      "execution_count": 33,
      "outputs": [
        {
          "output_type": "stream",
          "text": [
            "Number of training files:  (20,)\n",
            "Number of training files:  (7,)\n",
            "Number of testing files:  (10,)\n"
          ],
          "name": "stdout"
        }
      ]
    },
    {
      "cell_type": "code",
      "metadata": {
        "colab": {
          "base_uri": "https://localhost:8080/"
        },
        "id": "9e8KsvLsgrYF",
        "outputId": "c86c7ad5-4df8-45dc-a2e1-f772244e9998"
      },
      "source": [
        "# Split German data\n",
        "german = meta.loc[meta.native_language == 'german']\n",
        "german_train_names, german_test_names, german_y_train, german_y_test = train_test_split(\n",
        "    german['filename'], german['sex'], test_size=0.25, random_state=38)\n",
        "german_train_names, german_val_names, german_y_train, german_y_val = train_test_split(\n",
        "    german_train_names, german_y_train, test_size = 0.25, random_state=38)\n",
        "print(\"Number of training files: \", german_train_names.shape)\n",
        "print(\"Number of training files: \", german_val_names.shape)\n",
        "print(\"Number of testing files: \", german_test_names.shape)"
      ],
      "execution_count": 34,
      "outputs": [
        {
          "output_type": "stream",
          "text": [
            "Number of training files:  (20,)\n",
            "Number of training files:  (7,)\n",
            "Number of testing files:  (9,)\n"
          ],
          "name": "stdout"
        }
      ]
    },
    {
      "cell_type": "code",
      "metadata": {
        "id": "6U3rGHjTcKhV"
      },
      "source": [
        "train_list = [spanish_train_names, arabic_train_names, mandarin_train_names, french_train_names, korean_train_names, \n",
        "             russian_train_names, portuguese_train_names, dutch_train_names, turkish_train_names, german_train_names]\n",
        "\n",
        "y_train_list = [spanish_y_train, arabic_y_train, mandarin_y_train, french_y_train, korean_y_train, \n",
        "             russian_y_train, portuguese_y_train, dutch_y_train, turkish_y_train, german_y_train]\n",
        "\n",
        "for lang, train, y_train in zip(lang_list, train_list, y_train_list):\n",
        "  # Check if training data has been segmented. If not, segment each audio file.\n",
        "  train_file_list = os.listdir('data/lang10/train/{}'.format(lang))\n",
        "\n",
        "  for i in range(len(train)):\n",
        "    # get a filename\n",
        "    filename = train.iloc[i]\n",
        "    # Check to see if the filename has already been segmented\n",
        "    # if any(file.startswith(filename) for file in os.listdir('data/gender/train')):\n",
        "    if any(file.startswith(filename) for file in train_file_list):\n",
        "      pass\n",
        "    else: \n",
        "     augment.Augment.segment_audio(train.iloc[i], y_train.iloc[i], split='train/{}'.format(lang), clf=CLF)\n",
        "     #print('{} segmented'.format(filename))"
      ],
      "execution_count": 35,
      "outputs": []
    },
    {
      "cell_type": "code",
      "metadata": {
        "id": "ORHNPFOouPCN"
      },
      "source": [
        "val_list = [spanish_val_names, arabic_val_names, mandarin_val_names, french_val_names, korean_val_names, \n",
        "             russian_val_names, portuguese_val_names, dutch_val_names, turkish_val_names, german_val_names]\n",
        "\n",
        "y_val_list = [spanish_y_val, arabic_y_val, mandarin_y_val, french_y_val, korean_y_val, \n",
        "             russian_y_val, portuguese_y_val, dutch_y_val, turkish_y_val, german_y_val]\n",
        "\n",
        "for lang, val, y_val in zip(lang_list, val_list, y_val_list):\n",
        "  # Check if training data has been segmented. If not, segment each audio file.\n",
        "  val_file_list = os.listdir('data/lang10/validation/{}'.format(lang))\n",
        "\n",
        "  for i in range(len(val)):\n",
        "    # get a filename\n",
        "    filename = val.iloc[i]\n",
        "    # Check to see if the filename has already been segmented\n",
        "    # if any(file.startswith(filename) for file in os.listdir('data/gender/train')):\n",
        "    if any(file.startswith(filename) for file in val_file_list):\n",
        "      pass\n",
        "    else: \n",
        "     augment.Augment.segment_audio(val.iloc[i], y_val.iloc[i], split='validation/{}'.format(lang), clf=CLF)\n",
        "     #print('{} segmented'.format(filename))"
      ],
      "execution_count": 36,
      "outputs": []
    },
    {
      "cell_type": "code",
      "metadata": {
        "id": "WFhnr1JivNnw"
      },
      "source": [
        "test_list = [spanish_test_names, arabic_test_names, mandarin_test_names, french_test_names, korean_test_names, \n",
        "             russian_test_names, portuguese_test_names, dutch_test_names, turkish_test_names, german_test_names]\n",
        "\n",
        "y_test_list = [spanish_y_test, arabic_y_test, mandarin_y_test, french_y_test, korean_y_test, \n",
        "             russian_y_test, portuguese_y_test, dutch_y_test, turkish_y_test, german_y_test]\n",
        "\n",
        "for lang, test, y_test in zip(lang_list, test_list, y_test_list):\n",
        "  # Check if training data has been segmented. If not, segment each audio file.\n",
        "  test_file_list = os.listdir('data/lang10/test/test_data')\n",
        "\n",
        "  for i in range(len(test)):\n",
        "    # get a filename\n",
        "    filename = test.iloc[i]\n",
        "    # Check to see if the filename has already been segmented\n",
        "    # if any(file.startswith(filename) for file in os.listdir('data/gender/train')):\n",
        "    if any(file.startswith(filename) for file in test_file_list):\n",
        "      pass\n",
        "    else: \n",
        "     augment.Augment.segment_audio(test.iloc[i], y_test.iloc[i], split='test/test_data', clf=CLF)\n",
        "     #print('{} segmented'.format(filename))"
      ],
      "execution_count": 37,
      "outputs": []
    },
    {
      "cell_type": "markdown",
      "metadata": {
        "id": "3p82Lnmswkt8"
      },
      "source": [
        "## Add noise to training and validation files"
      ]
    },
    {
      "cell_type": "code",
      "metadata": {
        "id": "stki08cxw4MK"
      },
      "source": [
        "# Generate a list training filenames + segment index to input to add_noise() function\n",
        "train_dict = {}\n",
        "val_dict = {}\n",
        "\n",
        "for lang in lang_list:\n",
        "  train_dict[lang] = [x.split('o.wav')[0] for x in os.listdir('data/lang10/train/{}'.format(lang)) if x.endswith('o.wav')]\n",
        "  val_dict[lang] = [x.split('o.wav')[0] for x in os.listdir('data/lang10/validation/{}'.format(lang)) if x.endswith('o.wav')]"
      ],
      "execution_count": 38,
      "outputs": []
    },
    {
      "cell_type": "code",
      "metadata": {
        "id": "M3U451X4wjig"
      },
      "source": [
        "# Check if training data has been augmented with noise. If not, add noise to each segment.\n",
        "for key, val in train_dict.items():\n",
        "  # print(type(val))\n",
        "  noise_train_list = os.listdir('data/lang10/train/{}'.format(key))\n",
        "  for i in range(len(val)):\n",
        "    filename = val[i]\n",
        "  \n",
        "    if any((file.startswith(filename)& file.endswith('n.wav')) for file in noise_train_list):\n",
        "      pass\n",
        "    else: \n",
        "      augment.Augment.noisy_data(val[i], split='train/{}'.format(key), clf=CLF)\n",
        "      #print('{} augmented'.format(filename))"
      ],
      "execution_count": 39,
      "outputs": []
    },
    {
      "cell_type": "code",
      "metadata": {
        "id": "tLN5YlNuw4n0"
      },
      "source": [
        "# Check if validation data has been augmented with noise. If not, add noise to each segment.\n",
        "for key, val in val_dict.items():\n",
        "  noise_train_list = os.listdir('data/lang10/validation/{}'.format(key))\n",
        "  for i in range(len(val)):\n",
        "    filename = val[i]\n",
        "  \n",
        "    if any((file.startswith(filename)& file.endswith('n.wav')) for file in noise_train_list):\n",
        "      pass\n",
        "    else: \n",
        "      augment.Augment.noisy_data(val[i], split='validation/{}'.format(key), clf=CLF)\n",
        "      #print('{} augmented'.format(filename))"
      ],
      "execution_count": 40,
      "outputs": []
    },
    {
      "cell_type": "markdown",
      "metadata": {
        "id": "HbA2HHQulWYZ"
      },
      "source": [
        "# Create a data generator and generate datasets"
      ]
    },
    {
      "cell_type": "markdown",
      "metadata": {
        "id": "x9qy1QSq9y04"
      },
      "source": [
        "## Load the VGGish model\n",
        "Needs to be instantiated before dataset generation can be done."
      ]
    },
    {
      "cell_type": "code",
      "metadata": {
        "id": "ohD0F3OS5tXy"
      },
      "source": [
        "# Using a SavedModel from the TFHub in Keras\n",
        "# https://www.tensorflow.org/hub/tf2_saved_model\n",
        "# VGGish model, from https://tfhub.dev/google/vggish/1\n",
        "\n",
        "# Link to the model on TFHub\n",
        "hub_url = 'https://tfhub.dev/google/vggish/1'\n",
        "\n",
        "# Load the model as a Keras model\n",
        "vggish_model = hub.KerasLayer(hub_url)\n",
        "vggish_model.trainable = False"
      ],
      "execution_count": 41,
      "outputs": []
    },
    {
      "cell_type": "markdown",
      "metadata": {
        "id": "phDb5lqe9_HA"
      },
      "source": [
        "## Create lists of filenames and paths to feed the generators\n",
        "Following the example from https://keras.io/examples/audio/speaker_recognition_using_cnn/"
      ]
    },
    {
      "cell_type": "code",
      "metadata": {
        "colab": {
          "base_uri": "https://localhost:8080/"
        },
        "id": "nGXpQIKRCBEi",
        "outputId": "7dd0d924-621e-4986-b404-69d53c320a24"
      },
      "source": [
        "# Dataset generation from Keras.IO example\n",
        "# https://keras.io/examples/audio/speaker_recognition_using_cnn/\n",
        "\n",
        "from pathlib import Path\n",
        "# Get the list of audio file paths along with their corresponding labels\n",
        "DATASET_ROOT = \"data/lang10\"\n",
        "TRAIN_SUBFOLDER = \"train\"\n",
        "VAL_SUBFOLDER = \"validation\"\n",
        "TEST_SUBFOLDER = \"test/test_data\"\n",
        "\n",
        "DATASET_TRAIN_PATH = os.path.join(DATASET_ROOT, TRAIN_SUBFOLDER)\n",
        "DATASET_VAL_PATH = os.path.join(DATASET_ROOT, VAL_SUBFOLDER)\n",
        "DATASET_TEST_PATH = os.path.join(DATASET_ROOT, TEST_SUBFOLDER)\n",
        "\n",
        "SHUFFLE_SEED = 38\n",
        "SAMP_RATE = 16000\n",
        "\n",
        "class_names = os.listdir(DATASET_TRAIN_PATH)\n",
        "print(\"Our class names: {}\".format(class_names,))"
      ],
      "execution_count": 42,
      "outputs": [
        {
          "output_type": "stream",
          "text": [
            "Our class names: ['spanish', 'arabic', 'mandarin', 'french', 'korean', 'russian', 'portuguese', 'dutch', 'turkish', 'german', 'english']\n"
          ],
          "name": "stdout"
        }
      ]
    },
    {
      "cell_type": "code",
      "metadata": {
        "id": "Nc5m5KDor-A2",
        "colab": {
          "base_uri": "https://localhost:8080/"
        },
        "outputId": "7a3408ee-47a7-473b-e504-e0c254c266a8"
      },
      "source": [
        "# Process training data\n",
        "train_paths = []\n",
        "train_labels = []\n",
        "for label, name in enumerate(class_names):\n",
        "    print(\"Processing language {}\".format(name,))\n",
        "    dir_path = Path(DATASET_TRAIN_PATH) / name\n",
        "    language_sample_paths = [\n",
        "        os.path.join(dir_path, filepath)\n",
        "        for filepath in os.listdir(dir_path)\n",
        "        if filepath.endswith(\".wav\")\n",
        "    ]\n",
        "    train_paths += language_sample_paths\n",
        "    train_labels += [label] * len(language_sample_paths)\n",
        "\n",
        "print(\n",
        "    \"Found {} files belonging to {} classes.\".format(len(train_paths), len(class_names))\n",
        ")"
      ],
      "execution_count": 43,
      "outputs": [
        {
          "output_type": "stream",
          "text": [
            "Processing language spanish\n",
            "Processing language arabic\n",
            "Processing language mandarin\n",
            "Processing language french\n",
            "Processing language korean\n",
            "Processing language russian\n",
            "Processing language portuguese\n",
            "Processing language dutch\n",
            "Processing language turkish\n",
            "Processing language german\n",
            "Processing language english\n",
            "Found 1929 files belonging to 11 classes.\n"
          ],
          "name": "stdout"
        }
      ]
    },
    {
      "cell_type": "code",
      "metadata": {
        "colab": {
          "base_uri": "https://localhost:8080/"
        },
        "id": "Mwii0YwLSX5T",
        "outputId": "499b7a08-01cd-4d7b-8f33-b14564c44823"
      },
      "source": [
        "print(train_labels[:2*BATCH_SIZE])"
      ],
      "execution_count": 44,
      "outputs": [
        {
          "output_type": "stream",
          "text": [
            "[0, 0, 0, 0, 0, 0, 0, 0, 0, 0, 0, 0, 0, 0, 0, 0, 0, 0, 0, 0, 0, 0, 0, 0, 0, 0, 0, 0, 0, 0, 0, 0, 0, 0, 0, 0, 0, 0, 0, 0, 0, 0, 0, 0, 0, 0, 0, 0, 0, 0, 0, 0, 0, 0, 0, 0, 0, 0, 0, 0, 0, 0, 0, 0]\n"
          ],
          "name": "stdout"
        }
      ]
    },
    {
      "cell_type": "code",
      "metadata": {
        "colab": {
          "base_uri": "https://localhost:8080/"
        },
        "id": "78dym3_rDXaI",
        "outputId": "63499359-0ac2-41b7-ae89-82339b5a56af"
      },
      "source": [
        "# Process validation data\n",
        "validation_paths = []\n",
        "val_labels = []\n",
        "for label, name in enumerate(class_names):\n",
        "    print(\"Processing language {}\".format(name,))\n",
        "    dir_path = Path(DATASET_VAL_PATH) / name\n",
        "    language_sample_paths = [\n",
        "        os.path.join(dir_path, filepath)\n",
        "        for filepath in os.listdir(dir_path)\n",
        "        if filepath.endswith(\".wav\")\n",
        "    ]\n",
        "    validation_paths += language_sample_paths\n",
        "    val_labels += [label] * len(language_sample_paths)\n",
        "\n",
        "print(\n",
        "    \"Found {} files belonging to {} classes.\".format(len(validation_paths), len(class_names))\n",
        ")"
      ],
      "execution_count": 45,
      "outputs": [
        {
          "output_type": "stream",
          "text": [
            "Processing language spanish\n",
            "Processing language arabic\n",
            "Processing language mandarin\n",
            "Processing language french\n",
            "Processing language korean\n",
            "Processing language russian\n",
            "Processing language portuguese\n",
            "Processing language dutch\n",
            "Processing language turkish\n",
            "Processing language german\n",
            "Processing language english\n",
            "Found 652 files belonging to 11 classes.\n"
          ],
          "name": "stdout"
        }
      ]
    },
    {
      "cell_type": "code",
      "metadata": {
        "id": "EFWanBGxtiW8"
      },
      "source": [
        "# Process testing data\n",
        "testing_filenames = os.listdir(DATASET_TEST_PATH)\n",
        "testing_paths = []\n",
        "test_labels = []\n",
        "\n",
        "label_dict = {}\n",
        "for label, name in enumerate(class_names):\n",
        "  label_dict[name] = label\n",
        "\n",
        "for filename in testing_filenames:\n",
        "  filepath =  os.path.join(DATASET_TEST_PATH, filename)\n",
        "  testing_paths.append(filepath)\n",
        "  fname = filename.split('.')[0].rstrip('0123456789')\n",
        "  test_labels.append(label_dict[fname])"
      ],
      "execution_count": 100,
      "outputs": []
    },
    {
      "cell_type": "code",
      "metadata": {
        "id": "IEO_EI3fD4m7"
      },
      "source": [
        "# Shuffle the order of the traning and validation datasets and labels\n",
        "rng = np.random.RandomState(SHUFFLE_SEED)\n",
        "rng.shuffle(train_paths)\n",
        "rng = np.random.RandomState(SHUFFLE_SEED)\n",
        "rng.shuffle(train_labels)\n",
        "\n",
        "rng = np.random.RandomState(SHUFFLE_SEED)\n",
        "rng.shuffle(validation_paths)\n",
        "rng = np.random.RandomState(SHUFFLE_SEED)\n",
        "rng.shuffle(val_labels)\n",
        "\n",
        "rng = np.random.RandomState(SHUFFLE_SEED)\n",
        "rng.shuffle(testing_paths)\n",
        "rng = np.random.RandomState(SHUFFLE_SEED)\n",
        "rng.shuffle(test_labels)"
      ],
      "execution_count": 47,
      "outputs": []
    },
    {
      "cell_type": "markdown",
      "metadata": {
        "id": "hgmmbsTqluFe"
      },
      "source": [
        "## One-hot encode the labels."
      ]
    },
    {
      "cell_type": "code",
      "metadata": {
        "id": "pj0DAd_vtdpV",
        "colab": {
          "base_uri": "https://localhost:8080/"
        },
        "outputId": "0fc1a826-e5cf-4b45-b0d3-76216280a75b"
      },
      "source": [
        "train_onehot = tf.keras.backend.one_hot(train_labels, num_classes = len(class_names))\n",
        "val_onehot = tf.keras.backend.one_hot(val_labels, num_classes = len(class_names))\n",
        "test_onehot = tf.keras.backend.one_hot(test_labels, num_classes = len(class_names))\n",
        "\n",
        "print(type(train_onehot) )\n",
        "print(train_onehot.shape)\n",
        "print(train_onehot[0])"
      ],
      "execution_count": 48,
      "outputs": [
        {
          "output_type": "stream",
          "text": [
            "<class 'tensorflow.python.framework.ops.EagerTensor'>\n",
            "(1929, 11)\n",
            "tf.Tensor([1. 0. 0. 0. 0. 0. 0. 0. 0. 0. 0.], shape=(11,), dtype=float32)\n"
          ],
          "name": "stdout"
        }
      ]
    },
    {
      "cell_type": "markdown",
      "metadata": {
        "id": "wLNY7Lv7l_UD"
      },
      "source": [
        "## Get sample sizes and number of batches for each dataset"
      ]
    },
    {
      "cell_type": "code",
      "metadata": {
        "colab": {
          "base_uri": "https://localhost:8080/"
        },
        "id": "CkpHUMnj6UU9",
        "outputId": "80a0c6d3-663f-4c07-d3d5-b8e3b49c4a01"
      },
      "source": [
        "# Print sizes of data splits\n",
        "print(\"Number of training samples: \", len(train_paths))\n",
        "print(\"Number of validation samples: \", len(validation_paths))\n",
        "print(\"Number of testing samples: \", len(testing_paths))"
      ],
      "execution_count": 49,
      "outputs": [
        {
          "output_type": "stream",
          "text": [
            "Number of training samples:  1929\n",
            "Number of validation samples:  652\n",
            "Number of testing samples:  446\n"
          ],
          "name": "stdout"
        }
      ]
    },
    {
      "cell_type": "code",
      "metadata": {
        "colab": {
          "base_uri": "https://localhost:8080/"
        },
        "id": "35YWIPqd7BCK",
        "outputId": "0a1bbb1d-a3f3-416e-862b-e0088e9b6b39"
      },
      "source": [
        "# Calculate how many dataset batches to generate\n",
        "train_steps = np.int(np.ceil(len(train_paths)/BATCH_SIZE)) -1\n",
        "val_steps = np.int(np.ceil(len(validation_paths)/BATCH_SIZE))-1\n",
        "eval_steps = np.int(np.ceil(len(testing_paths)/BATCH_SIZE))-1\n",
        "\n",
        "print(\"training_steps_per_epoch = \", train_steps)\n",
        "print(\"validation_steps = \", val_steps)\n",
        "print(\"evaluation_steps = \", eval_steps)"
      ],
      "execution_count": 71,
      "outputs": [
        {
          "output_type": "stream",
          "text": [
            "training_steps_per_epoch =  60\n",
            "validation_steps =  20\n",
            "evaluation_steps =  13\n"
          ],
          "name": "stdout"
        }
      ]
    },
    {
      "cell_type": "markdown",
      "metadata": {
        "id": "b6C7mMUKtDwu"
      },
      "source": [
        "## Define dataset generator\n",
        "Then, run a small test dataset, to confirm input dimensions."
      ]
    },
    {
      "cell_type": "code",
      "metadata": {
        "id": "e_Luq-GPtDeS"
      },
      "source": [
        "def tf_data_generator(file_list, label_list, batch_size=32):\n",
        "    \"\"\" Create a dataset generator. \n",
        "    Iterate through a list of filenames and process in batches.\n",
        "    Extract audio features from vggish model.\n",
        "    WARNING: This generator forms an infinite loop, \n",
        "    so you need to specify how long to run the generator \n",
        "    before fitting and evaluating a model.\n",
        "\n",
        "    Arguments:\n",
        "    file_list - list of filenames to iterate\n",
        "    label_list - list of the labels associated with the files\n",
        "    batch_size - how many files to process at a time\n",
        "    \"\"\"\n",
        "    i = 1\n",
        "    shuff_seed = 42\n",
        "    while True: #infinite loop\n",
        "        if i*batch_size >= len(file_list):\n",
        "            i=1\n",
        "            rng = np.random.RandomState(shuff_seed)\n",
        "            rng.shuffle(file_list)\n",
        "            rng = np.random.RandomState(shuff_seed)\n",
        "            rng.shuffle(label_list)\n",
        "            shuff_seed += 1\n",
        "        else:\n",
        "            file_chunk = file_list[(i-1)*batch_size:i*batch_size]\n",
        "            labels = label_list[(i-1)*batch_size:i*batch_size, :]\n",
        "            data = []\n",
        "\n",
        "            for file in file_chunk:\n",
        "                # Read data\n",
        "                audio, sr = librosa.load(file, sr=16000)\n",
        "                # Apply transformations\n",
        "                embed = vggish_model(audio)\n",
        "                data.append(embed)\n",
        "                # Extract labels from filename\n",
        "\n",
        "            data = np.asarray(data)\n",
        "            labels = np.asarray(labels)\n",
        "\n",
        "            yield data, labels\n",
        "            i += 1"
      ],
      "execution_count": 54,
      "outputs": []
    },
    {
      "cell_type": "code",
      "metadata": {
        "id": "Gm1zl_dAuyFM"
      },
      "source": [
        "dataset_check = tf.data.Dataset.from_generator(tf_data_generator,\n",
        "                                         args = [train_paths[:2*BATCH_SIZE], train_onehot[:2*BATCH_SIZE], BATCH_SIZE],\n",
        "                                         output_types=(tf.float32, tf.float32),\n",
        "                                         output_shapes= ((None, 10, 128),(None,11)) )"
      ],
      "execution_count": 55,
      "outputs": []
    },
    {
      "cell_type": "code",
      "metadata": {
        "id": "4emugYzuu-Dc",
        "colab": {
          "base_uri": "https://localhost:8080/"
        },
        "outputId": "f884664b-b623-4f78-d6ca-86657edce8ce"
      },
      "source": [
        "# Check shape and size of dataset batches\n",
        "for data, labels in dataset_check.take(2):\n",
        "  print(data.shape)\n",
        "  print(labels.shape)"
      ],
      "execution_count": 56,
      "outputs": [
        {
          "output_type": "stream",
          "text": [
            "(32, 10, 128)\n",
            "(32, 11)\n",
            "(32, 10, 128)\n",
            "(32, 11)\n"
          ],
          "name": "stdout"
        }
      ]
    },
    {
      "cell_type": "markdown",
      "metadata": {
        "id": "Ad0LnejymVHJ"
      },
      "source": [
        "## Generate the datasets for the model"
      ]
    },
    {
      "cell_type": "code",
      "metadata": {
        "id": "tuQam7y2vF1U"
      },
      "source": [
        "train_dataset = tf.data.Dataset.from_generator(tf_data_generator, \n",
        "                                         args = [train_paths, train_onehot, BATCH_SIZE],\n",
        "                                         output_types=(tf.float32, tf.float32),\n",
        "                                         output_shapes= ((None, 10, 128),(None,11)) ) \n",
        "validation_dataset = tf.data.Dataset.from_generator(tf_data_generator, \n",
        "                                         args = [validation_paths, val_onehot, BATCH_SIZE],\n",
        "                                         output_types=(tf.float32, tf.float32),\n",
        "                                         output_shapes= ((None, 10, 128),(None,11)) )\n",
        "test_dataset = tf.data.Dataset.from_generator(tf_data_generator, \n",
        "                                         args = [testing_paths, test_onehot, BATCH_SIZE],\n",
        "                                         output_types=(tf.float32, tf.float32),\n",
        "                                         output_shapes= ((None, 10, 128),(None,11)) ) "
      ],
      "execution_count": 57,
      "outputs": []
    },
    {
      "cell_type": "markdown",
      "metadata": {
        "id": "g66DQhNW_YIn"
      },
      "source": [
        "# Model 1 - Two dense layers\n",
        "\n",
        "This is a simple, simple, two-layer model. \n",
        "\n",
        "I expect I will need to try  more complicated architectures if future models"
      ]
    },
    {
      "cell_type": "markdown",
      "metadata": {
        "id": "v9UICQSGm2hT"
      },
      "source": [
        "## Build the model"
      ]
    },
    {
      "cell_type": "code",
      "metadata": {
        "id": "dgMTKhyK_XxF"
      },
      "source": [
        "from keras.layers import Input, Flatten\n",
        "\n",
        "def create_model():\n",
        "  model = Sequential()\n",
        "  #Input shape (None, 10, 128)\n",
        "  model.add(Input(shape=(10, 128), batch_size=BATCH_SIZE )) \n",
        "  model.add(Dense(128, activation = 'relu' ) ) #, input_shape=(10, 128) ) )\n",
        "  model.add(Flatten()),\n",
        "  # Output\n",
        "  model.add(Dense(11, activation='softmax') )\n",
        "\n",
        "  model.compile(loss='categorical_crossentropy', optimizer='adam', metrics=['accuracy'])\n",
        "  return model\n",
        "\n",
        "lang_2dense = create_model()"
      ],
      "execution_count": 58,
      "outputs": []
    },
    {
      "cell_type": "markdown",
      "metadata": {
        "id": "PFJRKtRoc-A5"
      },
      "source": [
        "Add checkpoint callback to model"
      ]
    },
    {
      "cell_type": "code",
      "metadata": {
        "id": "yn7K3T8bdCx8"
      },
      "source": [
        "ckpt_path = 'model/lang10/checkpoints/lang_2dense.ckpt'\n",
        "ckpt_dir = os.path.dirname(ckpt_path)\n",
        "ckpt = tf.keras.callbacks.ModelCheckpoint(\n",
        "    filepath=ckpt_path,\n",
        "    save_weights_only=True,\n",
        "    monitor='val_accuracy',\n",
        "    mode='max',\n",
        "    save_best_only=True)"
      ],
      "execution_count": 59,
      "outputs": []
    },
    {
      "cell_type": "code",
      "metadata": {
        "id": "XyoJodP1_We0"
      },
      "source": [
        "# Add early stopping to train classifier model; default is 10 epochs\n",
        "from tensorflow.keras.callbacks import EarlyStopping\n",
        "early_stopping_monitor = EarlyStopping(patience=2)"
      ],
      "execution_count": 60,
      "outputs": []
    },
    {
      "cell_type": "markdown",
      "metadata": {
        "id": "L-VduLqEm61d"
      },
      "source": [
        "## Train the model"
      ]
    },
    {
      "cell_type": "code",
      "metadata": {
        "colab": {
          "base_uri": "https://localhost:8080/"
        },
        "id": "sTbPBpD6_pn0",
        "outputId": "53f3c1c3-9985-4764-ae97-58bb9e3c945f"
      },
      "source": [
        "# Fit the classifier\n",
        "if os.path.isdir('model/lang10/lang_2dense/'):\n",
        "  lang_2dense = tf.keras.models.load_model('model/lang10/lang_2dense')\n",
        "  hist_2df = pd.read_csv('model/lang10/lang_2dense.history.csv')\n",
        "else:\n",
        "  if os.path.isfile(ckpt_dir):\n",
        "    # Load model weights from the most recent checkpoint\n",
        "    latest = tf.train.latest_checkpoint(ckpt_dir)\n",
        "    genderClf_2layer.load_weights(latest)\n",
        "  hist_2dense = lang_2dense.fit(train_dataset, \n",
        "                        steps_per_epoch=train_steps, \n",
        "                        epochs=20, \n",
        "                        validation_data=validation_dataset, \n",
        "                        validation_steps = val_steps,\n",
        "                        callbacks=[early_stopping_monitor, ckpt]) #, \n",
        "                        #batch_size=BATCH_SIZE)"
      ],
      "execution_count": 72,
      "outputs": [
        {
          "output_type": "stream",
          "text": [
            "Epoch 1/20\n",
            "60/60 [==============================] - 1880s 31s/step - loss: 1.8285 - accuracy: 0.3656 - val_loss: 2.1722 - val_accuracy: 0.2875\n",
            "Epoch 2/20\n",
            "60/60 [==============================] - 924s 15s/step - loss: 1.6874 - accuracy: 0.4224 - val_loss: 2.2419 - val_accuracy: 0.2656\n",
            "Epoch 3/20\n",
            "60/60 [==============================] - 923s 15s/step - loss: 1.5600 - accuracy: 0.4745 - val_loss: 2.2912 - val_accuracy: 0.2625\n"
          ],
          "name": "stdout"
        }
      ]
    },
    {
      "cell_type": "code",
      "metadata": {
        "id": "mgzNVlNgAcQd",
        "colab": {
          "base_uri": "https://localhost:8080/"
        },
        "outputId": "2c0f2642-c1c6-4045-a74b-75339eb1a422"
      },
      "source": [
        "# Save the trained model and model history for use later\n",
        "lang_2dense.save('model/lang10/lang_2dense')\n",
        "\n",
        "hist_2dense_df = pd.DataFrame(hist_2dense.history) \n",
        "\n",
        "# save to csv: \n",
        "hist_csv_file = 'model/lang10/lang_2dense.history.csv'\n",
        "with open(hist_csv_file, mode='w') as f:\n",
        "    hist_2dense_df.to_csv(f)"
      ],
      "execution_count": 73,
      "outputs": [
        {
          "output_type": "stream",
          "text": [
            "WARNING:tensorflow:From /usr/local/lib/python3.6/dist-packages/tensorflow/python/training/tracking/tracking.py:111: Model.state_updates (from tensorflow.python.keras.engine.training) is deprecated and will be removed in a future version.\n",
            "Instructions for updating:\n",
            "This property should not be used in TensorFlow 2.0, as updates are applied automatically.\n"
          ],
          "name": "stdout"
        },
        {
          "output_type": "stream",
          "text": [
            "WARNING:tensorflow:From /usr/local/lib/python3.6/dist-packages/tensorflow/python/training/tracking/tracking.py:111: Model.state_updates (from tensorflow.python.keras.engine.training) is deprecated and will be removed in a future version.\n",
            "Instructions for updating:\n",
            "This property should not be used in TensorFlow 2.0, as updates are applied automatically.\n"
          ],
          "name": "stderr"
        },
        {
          "output_type": "stream",
          "text": [
            "WARNING:tensorflow:From /usr/local/lib/python3.6/dist-packages/tensorflow/python/training/tracking/tracking.py:111: Layer.updates (from tensorflow.python.keras.engine.base_layer) is deprecated and will be removed in a future version.\n",
            "Instructions for updating:\n",
            "This property should not be used in TensorFlow 2.0, as updates are applied automatically.\n"
          ],
          "name": "stdout"
        },
        {
          "output_type": "stream",
          "text": [
            "WARNING:tensorflow:From /usr/local/lib/python3.6/dist-packages/tensorflow/python/training/tracking/tracking.py:111: Layer.updates (from tensorflow.python.keras.engine.base_layer) is deprecated and will be removed in a future version.\n",
            "Instructions for updating:\n",
            "This property should not be used in TensorFlow 2.0, as updates are applied automatically.\n"
          ],
          "name": "stderr"
        },
        {
          "output_type": "stream",
          "text": [
            "INFO:tensorflow:Assets written to: model/lang10/lang_2dense/assets\n"
          ],
          "name": "stdout"
        },
        {
          "output_type": "stream",
          "text": [
            "INFO:tensorflow:Assets written to: model/lang10/lang_2dense/assets\n"
          ],
          "name": "stderr"
        }
      ]
    },
    {
      "cell_type": "markdown",
      "metadata": {
        "id": "wdPE3eWEAwJG"
      },
      "source": [
        "## Trained model summary information"
      ]
    },
    {
      "cell_type": "code",
      "metadata": {
        "colab": {
          "base_uri": "https://localhost:8080/"
        },
        "id": "CfsuMMaPAyfd",
        "outputId": "bd7cddb2-9026-4b7d-ec67-ac5aed6d0d1e"
      },
      "source": [
        "lang_2dense.summary()"
      ],
      "execution_count": 74,
      "outputs": [
        {
          "output_type": "stream",
          "text": [
            "Model: \"sequential_2\"\n",
            "_________________________________________________________________\n",
            "Layer (type)                 Output Shape              Param #   \n",
            "=================================================================\n",
            "dense_3 (Dense)              (32, 10, 128)             16512     \n",
            "_________________________________________________________________\n",
            "flatten_1 (Flatten)          (32, 1280)                0         \n",
            "_________________________________________________________________\n",
            "dense_4 (Dense)              (32, 11)                  14091     \n",
            "=================================================================\n",
            "Total params: 30,603\n",
            "Trainable params: 30,603\n",
            "Non-trainable params: 0\n",
            "_________________________________________________________________\n"
          ],
          "name": "stdout"
        }
      ]
    },
    {
      "cell_type": "code",
      "metadata": {
        "colab": {
          "base_uri": "https://localhost:8080/",
          "height": 142
        },
        "id": "swfomPxHxyHa",
        "outputId": "85ceda25-db9d-425e-a77d-4cb697d6604e"
      },
      "source": [
        "hist_2dense_df.head()"
      ],
      "execution_count": 76,
      "outputs": [
        {
          "output_type": "execute_result",
          "data": {
            "text/html": [
              "<div>\n",
              "<style scoped>\n",
              "    .dataframe tbody tr th:only-of-type {\n",
              "        vertical-align: middle;\n",
              "    }\n",
              "\n",
              "    .dataframe tbody tr th {\n",
              "        vertical-align: top;\n",
              "    }\n",
              "\n",
              "    .dataframe thead th {\n",
              "        text-align: right;\n",
              "    }\n",
              "</style>\n",
              "<table border=\"1\" class=\"dataframe\">\n",
              "  <thead>\n",
              "    <tr style=\"text-align: right;\">\n",
              "      <th></th>\n",
              "      <th>loss</th>\n",
              "      <th>accuracy</th>\n",
              "      <th>val_loss</th>\n",
              "      <th>val_accuracy</th>\n",
              "    </tr>\n",
              "  </thead>\n",
              "  <tbody>\n",
              "    <tr>\n",
              "      <th>0</th>\n",
              "      <td>1.828493</td>\n",
              "      <td>0.365625</td>\n",
              "      <td>2.172230</td>\n",
              "      <td>0.287500</td>\n",
              "    </tr>\n",
              "    <tr>\n",
              "      <th>1</th>\n",
              "      <td>1.687430</td>\n",
              "      <td>0.422396</td>\n",
              "      <td>2.241931</td>\n",
              "      <td>0.265625</td>\n",
              "    </tr>\n",
              "    <tr>\n",
              "      <th>2</th>\n",
              "      <td>1.560015</td>\n",
              "      <td>0.474479</td>\n",
              "      <td>2.291168</td>\n",
              "      <td>0.262500</td>\n",
              "    </tr>\n",
              "  </tbody>\n",
              "</table>\n",
              "</div>"
            ],
            "text/plain": [
              "       loss  accuracy  val_loss  val_accuracy\n",
              "0  1.828493  0.365625  2.172230      0.287500\n",
              "1  1.687430  0.422396  2.241931      0.265625\n",
              "2  1.560015  0.474479  2.291168      0.262500"
            ]
          },
          "metadata": {
            "tags": []
          },
          "execution_count": 76
        }
      ]
    },
    {
      "cell_type": "code",
      "metadata": {
        "id": "4o-Li_1MAzUW",
        "colab": {
          "base_uri": "https://localhost:8080/",
          "height": 295
        },
        "outputId": "9ab1b19d-0115-4274-df9c-28677645279c"
      },
      "source": [
        "plt.plot(hist_2dense_df['accuracy'])\n",
        "plt.plot(hist_2dense_df['val_accuracy'])\n",
        "plt.title('model accuracy')\n",
        "plt.ylabel('accuracy')\n",
        "plt.xlabel('epoch')\n",
        "plt.legend(['train', 'val'], loc='upper left')\n",
        "plt.show()"
      ],
      "execution_count": 77,
      "outputs": [
        {
          "output_type": "display_data",
          "data": {
            "image/png": "[encoded data removed]",
            "text/plain": [
              "<Figure size 432x288 with 1 Axes>"
            ]
          },
          "metadata": {
            "tags": [],
            "needs_background": "light"
          }
        }
      ]
    },
    {
      "cell_type": "code",
      "metadata": {
        "id": "6qv6QlKFA5UM",
        "colab": {
          "base_uri": "https://localhost:8080/",
          "height": 295
        },
        "outputId": "607b2851-3592-4448-fcaf-24a0d47df397"
      },
      "source": [
        "plt.plot(hist_2dense_df['loss'])\n",
        "plt.plot(hist_2dense_df['val_loss'])\n",
        "plt.title('model loss')\n",
        "plt.ylabel('loss')\n",
        "plt.xlabel('epoch')\n",
        "plt.legend(['train', 'val'], loc='upper left')\n",
        "plt.show()"
      ],
      "execution_count": 79,
      "outputs": [
        {
          "output_type": "display_data",
          "data": {
            "image/png": "[encoded data removed]",
            "text/plain": [
              "<Figure size 432x288 with 1 Axes>"
            ]
          },
          "metadata": {
            "tags": [],
            "needs_background": "light"
          }
        }
      ]
    },
    {
      "cell_type": "markdown",
      "metadata": {
        "id": "rP-Qhpm9BDlO"
      },
      "source": [
        "## Evaluate the trained classifier\n",
        "Based on the methods used fro the Gender classifier; probably need to be refined, but let's look for now."
      ]
    },
    {
      "cell_type": "code",
      "metadata": {
        "id": "ns36EM_4BVB5",
        "colab": {
          "base_uri": "https://localhost:8080/"
        },
        "outputId": "898cbee3-8530-4f5e-e99a-0e29e90d1eb6"
      },
      "source": [
        "# Evaluate on validation set\n",
        "val_loss, val_acc = lang_2dense.evaluate(validation_dataset, steps=val_steps)"
      ],
      "execution_count": 82,
      "outputs": [
        {
          "output_type": "stream",
          "text": [
            "20/20 [==============================] - 226s 11s/step - loss: 2.2912 - accuracy: 0.2625\n"
          ],
          "name": "stdout"
        }
      ]
    },
    {
      "cell_type": "code",
      "metadata": {
        "id": "X_79D7njByKs",
        "colab": {
          "base_uri": "https://localhost:8080/"
        },
        "outputId": "1601de44-6710-4584-c58e-e1e6465bc9ee"
      },
      "source": [
        "# Evaluate on testing set\n",
        "test_loss, test_acc = lang_2dense.evaluate(test_dataset, steps=eval_steps)"
      ],
      "execution_count": 103,
      "outputs": [
        {
          "output_type": "stream",
          "text": [
            "13/13 [==============================] - 309s 24s/step - loss: 2.3022 - accuracy: 0.2788\n"
          ],
          "name": "stdout"
        }
      ]
    },
    {
      "cell_type": "code",
      "metadata": {
        "id": "zgDWJX0DB02h",
        "colab": {
          "base_uri": "https://localhost:8080/"
        },
        "outputId": "3737ebed-15c6-4374-cc65-2c4b90a969e6"
      },
      "source": [
        "# Predict testing set\n",
        "y_pred = lang_2dense.predict(test_dataset, steps=eval_steps)\n",
        "print(y_pred.shape)"
      ],
      "execution_count": 105,
      "outputs": [
        {
          "output_type": "stream",
          "text": [
            "(416, 11)\n"
          ],
          "name": "stdout"
        }
      ]
    },
    {
      "cell_type": "code",
      "metadata": {
        "colab": {
          "base_uri": "https://localhost:8080/"
        },
        "id": "cPJQjdFCMqPl",
        "outputId": "e636628a-af99-4068-e567-fb1b3fd42c17"
      },
      "source": [
        "print(y_pred[:2])"
      ],
      "execution_count": 106,
      "outputs": [
        {
          "output_type": "stream",
          "text": [
            "[[0.302144   0.07569353 0.12864989 0.05772861 0.21268164 0.0655175\n",
            "  0.03848087 0.00257993 0.01838238 0.02807841 0.07006326]\n",
            " [0.19466875 0.2870137  0.03069916 0.09731199 0.10182784 0.10521518\n",
            "  0.03816797 0.02818938 0.01635243 0.00234271 0.09821089]]\n"
          ],
          "name": "stdout"
        }
      ]
    },
    {
      "cell_type": "code",
      "metadata": {
        "colab": {
          "base_uri": "https://localhost:8080/"
        },
        "id": "WglAgLVbMvt3",
        "outputId": "08fa0d2f-9ce4-4fe1-df09-854bf916a750"
      },
      "source": [
        "y_pred_ind = np.argmax(y_pred, axis=1)\n",
        "print(y_pred_ind[:2])"
      ],
      "execution_count": 107,
      "outputs": [
        {
          "output_type": "stream",
          "text": [
            "[0 1]\n"
          ],
          "name": "stdout"
        }
      ]
    },
    {
      "cell_type": "code",
      "metadata": {
        "id": "V2Wr_yHt0Kk6"
      },
      "source": [
        "# Probably need to reshape y_pred to format for classification report\n",
        "#y_pred = tf.squeeze(y_pred)\n",
        "#print(y_pred.shape)\n",
        "#print(y_pred[:10])"
      ],
      "execution_count": null,
      "outputs": []
    },
    {
      "cell_type": "code",
      "metadata": {
        "id": "67Zdnqm50TBY"
      },
      "source": [
        "# Get np.argmax from each prediction as label prediction"
      ],
      "execution_count": null,
      "outputs": []
    },
    {
      "cell_type": "code",
      "metadata": {
        "id": "1Gzmes4PEP8y"
      },
      "source": [
        "con_matrix = tf.math.confusion_matrix(test_labels[:y_pred.shape[0]], y_pred_ind)"
      ],
      "execution_count": 109,
      "outputs": []
    },
    {
      "cell_type": "code",
      "metadata": {
        "id": "MWlxZZRhEal4",
        "colab": {
          "base_uri": "https://localhost:8080/",
          "height": 282
        },
        "outputId": "a0a78f5f-a28d-496e-f46e-8a23f69c3e1a"
      },
      "source": [
        "sns.heatmap(con_matrix, annot = True, cmap='YlGnBu')"
      ],
      "execution_count": 112,
      "outputs": [
        {
          "output_type": "execute_result",
          "data": {
            "text/plain": [
              "<matplotlib.axes._subplots.AxesSubplot at 0x7f913c77b8d0>"
            ]
          },
          "metadata": {
            "tags": []
          },
          "execution_count": 112
        },
        {
          "output_type": "display_data",
          "data": {
            "image/png": "[encoded data removed]",
            "text/plain": [
              "<Figure size 432x288 with 2 Axes>"
            ]
          },
          "metadata": {
            "tags": [],
            "needs_background": "light"
          }
        }
      ]
    },
    {
      "cell_type": "markdown",
      "metadata": {
        "id": "VImrDpDQHMlY"
      },
      "source": [
        "# Model 2 - Three dense layers\n",
        "Relative to last model, add a dense layer. The hope is to increase accuracy while avoiding overfitting."
      ]
    },
    {
      "cell_type": "markdown",
      "metadata": {
        "id": "UNk7SXSdnYno"
      },
      "source": [
        "## Build the model"
      ]
    },
    {
      "cell_type": "code",
      "metadata": {
        "id": "xYFw4ebHHWWx"
      },
      "source": [
        "def layer3_model():\n",
        "  model = Sequential()\n",
        "  #Input shape (None, 10, 128)\n",
        "  model.add(Input(shape=(10, 128), batch_size=BATCH_SIZE )) \n",
        "  model.add(Dense(128, activation = 'relu' ) ) #, input_shape=(10, 128) ) )\n",
        "  model.add(Dense(64, activation = 'relu' ) )\n",
        "  model.add(Flatten()),\n",
        "  # Output\n",
        "  model.add(Dense(11, activation='softmax') )\n",
        "\n",
        "  model.compile(loss='categorical_crossentropy', optimizer='adam', metrics=['accuracy'])\n",
        "  return model\n",
        "\n",
        "lang_3dense = layer3_model()"
      ],
      "execution_count": 114,
      "outputs": []
    },
    {
      "cell_type": "code",
      "metadata": {
        "id": "bGPwTUZmHpx9"
      },
      "source": [
        "ckpt_path = 'model/lang10/checkpoints/lang_3dense.ckpt'\n",
        "ckpt_dir = os.path.dirname(ckpt_path)\n",
        "ckpt = tf.keras.callbacks.ModelCheckpoint(\n",
        "    filepath=ckpt_path,\n",
        "    save_weights_only=True,\n",
        "    monitor='val_accuracy',\n",
        "    mode='max',\n",
        "    save_best_only=True)"
      ],
      "execution_count": 115,
      "outputs": []
    },
    {
      "cell_type": "markdown",
      "metadata": {
        "id": "13R_7i73ncDK"
      },
      "source": [
        "## Train the model"
      ]
    },
    {
      "cell_type": "code",
      "metadata": {
        "colab": {
          "base_uri": "https://localhost:8080/"
        },
        "id": "5sAyIPxCHxxQ",
        "outputId": "7be275e2-fadd-4253-fa03-37ff57bccf6c"
      },
      "source": [
        "# Fit the classifier\n",
        "if os.path.isdir('model/lang10/lang_3dense/'):\n",
        "  lang_3dense = tf.keras.models.load_model('model/lang10/lang_3dense')\n",
        "  hist_3df = pd.read_csv('model/lang10/lang_3dense.history.csv')\n",
        "else:\n",
        "  if os.path.isfile(ckpt_dir):\n",
        "    # Load model weights from the most recent checkpoint\n",
        "    latest = tf.train.latest_checkpoint(ckpt_dir)\n",
        "    genderClf_3layer.load_weights(latest)\n",
        "  hist_3dense = lang_3dense.fit(train_dataset, \n",
        "                        steps_per_epoch=train_steps, \n",
        "                        epochs=20, \n",
        "                        validation_data=validation_dataset, \n",
        "                        validation_steps = val_steps,\n",
        "                        callbacks=[early_stopping_monitor, ckpt]) #, \n",
        "                        #batch_size=BATCH_SIZE)"
      ],
      "execution_count": 116,
      "outputs": [
        {
          "output_type": "stream",
          "text": [
            "Epoch 1/20\n",
            "60/60 [==============================] - 962s 16s/step - loss: 2.2184 - accuracy: 0.2557 - val_loss: 2.1894 - val_accuracy: 0.2562\n",
            "Epoch 2/20\n",
            "60/60 [==============================] - 956s 16s/step - loss: 2.0701 - accuracy: 0.2927 - val_loss: 2.1988 - val_accuracy: 0.2359\n",
            "Epoch 3/20\n",
            "60/60 [==============================] - 920s 15s/step - loss: 1.9119 - accuracy: 0.3292 - val_loss: 2.2392 - val_accuracy: 0.2656\n"
          ],
          "name": "stdout"
        }
      ]
    },
    {
      "cell_type": "code",
      "metadata": {
        "colab": {
          "base_uri": "https://localhost:8080/"
        },
        "id": "Tcd1XPyEItI8",
        "outputId": "30617590-6a9f-4f38-9ff7-39ba50aa157a"
      },
      "source": [
        "# Save the trained model and model history for use later\n",
        "lang_3dense.save('model/lang10/lang_3dense')\n",
        "\n",
        "hist_3dense_df = pd.DataFrame(hist_3dense.history) \n",
        "\n",
        "# save to csv: \n",
        "hist_csv_file = 'model/lang10/lang_3dense.history.csv'\n",
        "with open(hist_csv_file, mode='w') as f:\n",
        "    hist_3dense_df.to_csv(f)"
      ],
      "execution_count": 117,
      "outputs": [
        {
          "output_type": "stream",
          "text": [
            "INFO:tensorflow:Assets written to: model/lang10/lang_3dense/assets\n"
          ],
          "name": "stdout"
        },
        {
          "output_type": "stream",
          "text": [
            "INFO:tensorflow:Assets written to: model/lang10/lang_3dense/assets\n"
          ],
          "name": "stderr"
        }
      ]
    },
    {
      "cell_type": "markdown",
      "metadata": {
        "id": "G2KB7SV5nkLl"
      },
      "source": [
        "## Trained model summary"
      ]
    },
    {
      "cell_type": "code",
      "metadata": {
        "colab": {
          "base_uri": "https://localhost:8080/"
        },
        "id": "EZlg6l92I4vD",
        "outputId": "4798bbc3-00db-4a0b-f13a-b100962d4591"
      },
      "source": [
        "lang_3dense.summary()"
      ],
      "execution_count": 118,
      "outputs": [
        {
          "output_type": "stream",
          "text": [
            "Model: \"sequential_1\"\n",
            "_________________________________________________________________\n",
            "Layer (type)                 Output Shape              Param #   \n",
            "=================================================================\n",
            "dense_2 (Dense)              (32, 10, 128)             16512     \n",
            "_________________________________________________________________\n",
            "dense_3 (Dense)              (32, 10, 64)              8256      \n",
            "_________________________________________________________________\n",
            "flatten_1 (Flatten)          (32, 640)                 0         \n",
            "_________________________________________________________________\n",
            "dense_4 (Dense)              (32, 11)                  7051      \n",
            "=================================================================\n",
            "Total params: 31,819\n",
            "Trainable params: 31,819\n",
            "Non-trainable params: 0\n",
            "_________________________________________________________________\n"
          ],
          "name": "stdout"
        }
      ]
    },
    {
      "cell_type": "markdown",
      "metadata": {
        "id": "WVhmQtJUnnLw"
      },
      "source": [
        "## Evaluate the trained classifier"
      ]
    },
    {
      "cell_type": "code",
      "metadata": {
        "colab": {
          "base_uri": "https://localhost:8080/"
        },
        "id": "cVGMPhvLI-Un",
        "outputId": "da286231-fd09-4f2a-e2e2-8a44881c51b8"
      },
      "source": [
        "# Evaluate on validation set\n",
        "val_loss, val_acc = lang_3dense.evaluate(validation_dataset, steps=val_steps)"
      ],
      "execution_count": 119,
      "outputs": [
        {
          "output_type": "stream",
          "text": [
            "20/20 [==============================] - 221s 11s/step - loss: 2.2392 - accuracy: 0.2656\n"
          ],
          "name": "stdout"
        }
      ]
    },
    {
      "cell_type": "code",
      "metadata": {
        "colab": {
          "base_uri": "https://localhost:8080/"
        },
        "id": "P-aJQOKMJCEZ",
        "outputId": "601a4d59-db3a-4594-f27d-5c21c976433a"
      },
      "source": [
        "# Evaluate on testing set\n",
        "test_loss, test_acc = lang_3dense.evaluate(test_dataset, steps=eval_steps)"
      ],
      "execution_count": 120,
      "outputs": [
        {
          "output_type": "stream",
          "text": [
            "13/13 [==============================] - 139s 11s/step - loss: 2.2312 - accuracy: 0.2740\n"
          ],
          "name": "stdout"
        }
      ]
    },
    {
      "cell_type": "code",
      "metadata": {
        "colab": {
          "base_uri": "https://localhost:8080/"
        },
        "id": "oHwSNfPgJF2I",
        "outputId": "36e3bbfe-85bd-4a9d-a1a8-2de67a85ac60"
      },
      "source": [
        "# Predict testing set\n",
        "y_pred3 = lang_3dense.predict(test_dataset, steps=eval_steps)\n",
        "print(y_pred3.shape)"
      ],
      "execution_count": 121,
      "outputs": [
        {
          "output_type": "stream",
          "text": [
            "(416, 11)\n"
          ],
          "name": "stdout"
        }
      ]
    },
    {
      "cell_type": "code",
      "metadata": {
        "id": "bKr0va2Bhe-P"
      },
      "source": [
        "y_pred_ind3 = np.argmax(y_pred3)"
      ],
      "execution_count": 122,
      "outputs": []
    },
    {
      "cell_type": "code",
      "metadata": {
        "id": "_3Sk4eAChdIg"
      },
      "source": [
        "con_matrix3 = tf.math.confusion_matrix(test_labels[:y_pred3.shape[0]], y_pred_ind3)"
      ],
      "execution_count": 123,
      "outputs": []
    },
    {
      "cell_type": "code",
      "metadata": {
        "colab": {
          "base_uri": "https://localhost:8080/",
          "height": 282
        },
        "id": "79XtxltVhk3C",
        "outputId": "6dcc5434-29fb-4335-d7d4-9cfc8d4b43d3"
      },
      "source": [
        "sns.heatmap(con_matrix3, annot = True, cmap='YlGnBu')"
      ],
      "execution_count": 124,
      "outputs": [
        {
          "output_type": "execute_result",
          "data": {
            "text/plain": [
              "<matplotlib.axes._subplots.AxesSubplot at 0x7f913aa9ea58>"
            ]
          },
          "metadata": {
            "tags": []
          },
          "execution_count": 124
        },
        {
          "output_type": "display_data",
          "data": {
            "image/png": "[encoded data removed]",
            "text/plain": [
              "<Figure size 432x288 with 2 Axes>"
            ]
          },
          "metadata": {
            "tags": [],
            "needs_background": "light"
          }
        }
      ]
    },
    {
      "cell_type": "markdown",
      "metadata": {
        "id": "Ig4hH547nvtM"
      },
      "source": [
        "# Model 3 - 3 dense layers, with dropout\n",
        "\n",
        "A dropout layer has been added after the first dense layer, in an attempt to avoid overfitting."
      ]
    },
    {
      "cell_type": "markdown",
      "metadata": {
        "id": "4Fjnt8DmoA4t"
      },
      "source": [
        "## Build the model"
      ]
    },
    {
      "cell_type": "code",
      "metadata": {
        "id": "pmZ6guyvJOMR"
      },
      "source": [
        "from keras.layers import Dropout\n",
        "def layer3_drop():\n",
        "  model = Sequential()\n",
        "  #Input shape (None, 10, 128)\n",
        "  model.add(Input(shape=(10, 128), batch_size=BATCH_SIZE )) \n",
        "  model.add(Dense(128, activation = 'relu' ) ) #, input_shape=(10, 128) ) )\n",
        "  model.add(Dense(.5) )\n",
        "  model.add(Dense(64, activation = 'relu' ) ) #, input_shape=(10, 128) ) )\n",
        "  model.add(Flatten()),\n",
        "  # Output\n",
        "  model.add(Dense(11, activation='softmax') )\n",
        "\n",
        "  model.compile(loss='categorical_crossentropy', optimizer='adam', metrics=['accuracy'])\n",
        "  return model\n",
        "\n",
        "lang_3dense_drop = layer3_drop()"
      ],
      "execution_count": 125,
      "outputs": []
    },
    {
      "cell_type": "code",
      "metadata": {
        "id": "O_6mBqMqiXkF"
      },
      "source": [
        "ckpt_path = 'model/lang10/checkpoints/lang_3dense_drop.ckpt'\n",
        "ckpt_dir = os.path.dirname(ckpt_path)\n",
        "ckpt = tf.keras.callbacks.ModelCheckpoint(\n",
        "    filepath=ckpt_path,\n",
        "    save_weights_only=True,\n",
        "    monitor='val_accuracy',\n",
        "    mode='max',\n",
        "    save_best_only=True)"
      ],
      "execution_count": 126,
      "outputs": []
    },
    {
      "cell_type": "markdown",
      "metadata": {
        "id": "J8QvBXvfoDbS"
      },
      "source": [
        "## Train the model"
      ]
    },
    {
      "cell_type": "code",
      "metadata": {
        "colab": {
          "base_uri": "https://localhost:8080/"
        },
        "id": "GfhupD05ihMq",
        "outputId": "0b13ea0e-6086-4886-e8a5-a31c8dbf7427"
      },
      "source": [
        "# Fit the classifier\n",
        "if os.path.isdir('model/lang10/lang_3dense_drop/'):\n",
        "  lang_3dense_drop = tf.keras.models.load_model('model/lang10/lang_3dense_drop')\n",
        "  hist_3drop_df = pd.read_csv('model/lang10/lang_3dense_drop.history.csv')\n",
        "else:\n",
        "  if os.path.isfile(ckpt_dir):\n",
        "    # Load model weights from the most recent checkpoint\n",
        "    latest = tf.train.latest_checkpoint(ckpt_dir)\n",
        "    lang_3dense_drop.load_weights(latest)\n",
        "  hist_3drop = lang_3dense_drop.fit(train_dataset, \n",
        "                        steps_per_epoch=train_steps, \n",
        "                        epochs=20, \n",
        "                        validation_data=validation_dataset, \n",
        "                        validation_steps = val_steps,\n",
        "                        callbacks=[early_stopping_monitor, ckpt]) #, \n",
        "                        #batch_size=BATCH_SIZE)"
      ],
      "execution_count": null,
      "outputs": [
        {
          "output_type": "stream",
          "text": [
            "Epoch 1/20\n"
          ],
          "name": "stdout"
        }
      ]
    },
    {
      "cell_type": "code",
      "metadata": {
        "id": "TNHU-BmOi07K"
      },
      "source": [
        "# Save the trained model and model history for use later\n",
        "lang_3dense_drop.save('model/lang10/lang_3dense_drop')\n",
        "\n",
        "hist_3drop_df = pd.DataFrame(hist_3drop.history) \n",
        "\n",
        "# save to csv: \n",
        "hist_csv_file = 'model/lang10/lang_3dense_drop.history.csv'\n",
        "with open(hist_csv_file, mode='w') as f:\n",
        "    hist_3dense_df.to_csv(f)"
      ],
      "execution_count": null,
      "outputs": []
    },
    {
      "cell_type": "markdown",
      "metadata": {
        "id": "v8tESaxfoG4s"
      },
      "source": [
        "## Trained model summary info"
      ]
    },
    {
      "cell_type": "code",
      "metadata": {
        "id": "ROHA8bcujFpx"
      },
      "source": [
        "lang_3dense_drop.summary()"
      ],
      "execution_count": null,
      "outputs": []
    },
    {
      "cell_type": "markdown",
      "metadata": {
        "id": "bFFwmmYjoJ0Y"
      },
      "source": [
        "## Evaluate the trained model."
      ]
    },
    {
      "cell_type": "markdown",
      "metadata": {
        "id": "ACcJtkg_IZ0T"
      },
      "source": [
        "# Other model building steps:\n",
        "- Add drop out layers\n",
        "- Add more dense layers\n",
        "\n",
        "\n",
        "What is a good accuracy rate for multi-class classification?\n",
        "\n"
      ]
    },
    {
      "cell_type": "markdown",
      "metadata": {
        "id": "gcHsgwmOsdoI"
      },
      "source": [
        "# Generator code\n",
        "Can't get it working "
      ]
    },
    {
      "cell_type": "code",
      "metadata": {
        "id": "bNZHEX5r_qjf"
      },
      "source": [
        "# https://keras.io/examples/audio/speaker_recognition_using_cnn/\n",
        "\n",
        "# Dataset generation from Keras.IO example\n",
        "\n",
        "# Dataset generation - Original functions\n",
        "def paths_and_labels_to_dataset(audio_paths, labels):\n",
        "    \"\"\"Constructs a dataset of audios and labels.\"\"\"\n",
        "    path_ds = tf.data.Dataset.from_tensor_slices(audio_paths)\n",
        "    audio_ds = path_ds.map(lambda x: path_to_audio(x))\n",
        "    label_ds = tf.data.Dataset.from_tensor_slices(labels)\n",
        "    return tf.data.Dataset.zip((audio_ds, label_ds))\n",
        "\n",
        "def path_to_audio(path):\n",
        "    \"\"\"Reads and decodes an audio file.\"\"\"\n",
        "    audio = tf.io.read_file(path)\n",
        "    audio, _ = tf.audio.decode_wav(audio, 1, SAMP_RATE)\n",
        "    return audio\n",
        "\n",
        "# Modified functions, to include vggish model\n",
        "def vggish_and_labels_to_dataset(audio_paths, labels):\n",
        "    \"\"\"Constructs a dataset of audios and labels.\"\"\"\n",
        "    path_ds = tf.data.Dataset.from_tensor_slices(audio_paths)\n",
        "    audio_ds = path_ds.map(lambda x: tf_get_embed(x))\n",
        "    print(\"Element_spec: \", audio_ds.element_spec)\n",
        "    label_ds = tf.data.Dataset.from_tensor_slices(labels)\n",
        "    return tf.data.Dataset.zip((audio_ds, label_ds))\n",
        "\n",
        "def vggish_path_to_audio(path):\n",
        "    \"\"\"Reads and decodes an audio file.\"\"\"\n",
        "    file_path = path.numpy()\n",
        "    #print(\"file_path: \",bytes.decode(file_path)) #,type(bytes.decode(file_path))\n",
        "    audio, sr = librosa.load(file_path, sr=SAMP_RATE)\n",
        "    embed = vggish_model(audio)\n",
        "#    print(\"Embed: \", embed.shape)\n",
        "#    embed_tensor = tf.convert_to_tensor(embed, dtype=tf.float32, dtype_hint=None, name=None)\n",
        "#    print(\"Tensor: \", embed_tensor.shape, type(embed_tensor))\n",
        "    return embed\n",
        "\n",
        "def tf_get_embed(path):\n",
        "  embed_tensor = tf.py_function(vggish_path_to_audio, [path], [tf.float32])\n",
        "  print(\"Tensor 1: \",  type(embed_tensor), len(embed_tensor))\n",
        "#  print(embed_tensor.shape)\n",
        "  final_tensor = tf.convert_to_tensor(embed_tensor, dtype=tf.float32, dtype_hint=None, name=None)\n",
        "  print(\"Tensor 2: \",  type(final_tensor), final_tensor.shape)\n",
        "  return final_tensor"
      ],
      "execution_count": null,
      "outputs": []
    },
    {
      "cell_type": "code",
      "metadata": {
        "id": "P6j69McTEcMs",
        "colab": {
          "base_uri": "https://localhost:8080/"
        },
        "outputId": "d304fe27-aacf-421b-c847-ff8aabb37eda"
      },
      "source": [
        "# Create dataset\n",
        "audio_train_ds = paths_and_labels_to_dataset(audio_paths, labels)\n",
        "audio_train_ds = audio_train_ds.shuffle(buffer_size=BATCH_SIZE * 8, seed=SHUFFLE_SEED).batch(\n",
        "    BATCH_SIZE\n",
        ")\n",
        "\n",
        "embed_train_ds = vggish_and_labels_to_dataset(audio_paths, labels)\n",
        "train_ds = embed_train_ds.shuffle(buffer_size=BATCH_SIZE * 8, seed=SHUFFLE_SEED).batch(\n",
        "    BATCH_SIZE\n",
        ")\n",
        "\n",
        "#valid_ds = paths_and_labels_to_dataset(validation_paths, val_labels)\n",
        "valid_ds = vggish_and_labels_to_dataset(validation_paths, val_labels)\n",
        "valid_ds = valid_ds.shuffle(buffer_size=32 * 8, seed=SHUFFLE_SEED).batch(32)"
      ],
      "execution_count": null,
      "outputs": [
        {
          "output_type": "stream",
          "text": [
            "Tensor 1:  <class 'list'> 1\n",
            "Tensor 2:  <class 'tensorflow.python.framework.ops.Tensor'> <unknown>\n",
            "Element_spec:  TensorSpec(shape=<unknown>, dtype=tf.float32, name=None)\n",
            "Tensor 1:  <class 'list'> 1\n",
            "Tensor 2:  <class 'tensorflow.python.framework.ops.Tensor'> <unknown>\n",
            "Element_spec:  TensorSpec(shape=<unknown>, dtype=tf.float32, name=None)\n"
          ],
          "name": "stdout"
        }
      ]
    }
  ]
}